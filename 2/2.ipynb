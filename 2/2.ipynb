{
 "cells": [
  {
   "cell_type": "markdown",
   "metadata": {},
   "source": [
    "# 第二课 词向量\n",
    "\n",
    "第二课学习目标\n",
    "- 学习词向量的概念\n",
    "- 用Skip-thought模型训练词向量\n",
    "- 学习使用PyTorch dataset和dataloader\n",
    "- 学习定义PyTorch模型\n",
    "- 学习torch.nn中常见的Module\n",
    "    - Embedding\n",
    "- 学习常见的PyTorch operations\n",
    "    - bmm\n",
    "    - logsigmoid\n",
    "- 保存和读取PyTorch模型\n",
    "\n",
    "在这一份notebook中，我们会（尽可能）尝试复现论文[Distributed Representations of Words and Phrases and their Compositionality](http://papers.nips.cc/paper/5021-distributed-representations-of-words-and-phrases-and-their-compositionality.pdf)中训练词向量的方法. \n",
    "\n",
    "我们会实现[Skip-gram](https://blog.csdn.net/u010665216/article/details/78721354)模型，并且使用论文中noice contrastive sampling的目标函数。\n",
    "\n",
    "![skip_gram](skip_gram.jpg)\n",
    "\n",
    "这篇论文有很多模型实现的细节，这些细节对于词向量的好坏至关重要。我们虽然无法完全复现论文中的实验结果，主要是由于计算资源等各种细节原因，但是我们还是可以大致展示如何训练词向量。\n",
    "\n",
    "以下是一些我们没有实现的细节\n",
    "- subsampling：参考论文section 2.3"
   ]
  },
  {
   "cell_type": "markdown",
   "metadata": {},
   "source": [
    "## 调用PyTorch常用的包"
   ]
  },
  {
   "cell_type": "code",
   "execution_count": 1,
   "metadata": {},
   "outputs": [],
   "source": [
    "#基本上所有torch脚本都需要用到\n",
    "import torch\n",
    "import torch.nn as nn\n",
    "import torch.nn.functional as F\n",
    "import torch.utils.data as tud #Pytorch读取训练集需要用到torch.utils.data类"
   ]
  },
  {
   "cell_type": "markdown",
   "metadata": {},
   "source": [
    "torch.nn中大多数layer在torch.nn.funtional中都有一个与之对应的函数。  \n",
    "二者的[区别](https://blog.csdn.net/hawkcici160/article/details/80140059)在于：  \n",
    "- torch. nn.Module中实现layer的都是一个特殊的类 会自动提取可学习的参数  \n",
    "- nn.functional中的函数，更像是纯函数，由def function( )定义，只是进行简单的 数学运算而已。functional中的函数是一个确定的不变的运算公式"
   ]
  },
  {
   "cell_type": "markdown",
   "metadata": {},
   "source": [
    "## 调用其他需要的包"
   ]
  },
  {
   "cell_type": "code",
   "execution_count": 2,
   "metadata": {},
   "outputs": [],
   "source": [
    "from collections import Counter\n",
    "import numpy as np\n",
    "import random\n",
    "import math\n",
    "\n",
    "import pandas as pd\n",
    "import scipy\n",
    "import sklearn\n",
    "from sklearn.metrics.pairwise import cosine_similarity"
   ]
  },
  {
   "cell_type": "markdown",
   "metadata": {},
   "source": [
    "## 其他初始设置"
   ]
  },
  {
   "cell_type": "code",
   "execution_count": 14,
   "metadata": {},
   "outputs": [],
   "source": [
    "#调用gpu\n",
    "USE_CUDA=torch.cuda.is_available()\n",
    "\n",
    "#为保证实验结果可以浮现，将各种random seed固定到一个特定的值\n",
    "random.seed(1)\n",
    "np.random.seed(1)\n",
    "torch.manual_seed(1)\n",
    "if USE_CUDA:\n",
    "    torch.cuda.manual_seed(1)\n",
    "    \n",
    "#设定一些hyper parameters\n",
    "C=3 #nearby words threshold 指定周围3个单词进行预测\n",
    "K=100 #number of negative samples 负样本随机采样数量；每一个正样本对应K个负样本\n",
    "NUM_EPOCHS=2 #The num of epochs of training 迭代轮数\n",
    "MAX_VOCAB_SIZE=30000 #the vocabulary size 词汇表大小\n",
    "BATCH_SIZE=128\n",
    "LEARNING_RATE=0.2 #the initial learning rate\n",
    "EMBEDDING_SIZE=100 #词向量维度\n",
    "\n",
    "#tokenize函数 将文本转化为一个个单词\n",
    "def word_tokenize(text):\n",
    "    return text.split()"
   ]
  },
  {
   "cell_type": "markdown",
   "metadata": {},
   "source": [
    "## 数据预处理及相关操作\n",
    "- 从文本文件中读取所有的文字，通过这些文本创建一个vocabulary\n",
    "- 由于单词数量可能太大，我们只选取最常见的MAX_VOCAB_SIZE个单词\n",
    "- 我们添加一个UNK单词表示除MAX_VOCAB_SIZE个单词外其他所有不常见的单词\n",
    "- 我们需要记录单词到index的mapping，以及index到单词的mapping，单词的count，单词的(normalized) frequency，以及单词总数。"
   ]
  },
  {
   "cell_type": "code",
   "execution_count": 22,
   "metadata": {
    "scrolled": true
   },
   "outputs": [
    {
     "data": {
      "text/plain": [
       "30000"
      ]
     },
     "execution_count": 22,
     "metadata": {},
     "output_type": "execute_result"
    }
   ],
   "source": [
    "#读取文件\n",
    "with open('./text8/text8.train.txt','r') as fi:\n",
    "    text=fi.read()\n",
    "    \n",
    "# len(text)\n",
    "\n",
    "#分词\n",
    "#str.lower()将str中大写转化为小写\n",
    "text=[w for w in word_tokenize(text.lower())]\n",
    "\n",
    "#将出现频率最高的MAX_VOCAB_SIZE-1个单词取出来，以字典的形式存储(包含每个单词出现次数)\n",
    "#-1留给UNK单词\n",
    "#collection.Counter(text): 计算每个元素出现个数 返回counter对象\n",
    "#Counter(text).most_common(N): 找到text中出现最多的前N个元素\n",
    "#https://zhuanlan.zhihu.com/p/350899229\n",
    "vocab=dict(Counter(text).most_common(MAX_VOCAB_SIZE-1))\n",
    "#将UNK单词添加进vocab\n",
    "#UNK出现次数=总单词出现次数-常见单词出现次数\n",
    "#dic.values() 返回字典中所有值所构成的对象\n",
    "vocab['<unk>']=len(text)-np.sum(list(vocab.values()))\n",
    "\n",
    "#从vocab中取出所有单词\n",
    "idx_to_word=[word for word in vocab.keys()]\n",
    "\n",
    "#以字典的形式取得单词及其对应的索引\n",
    "#enumerate: 接收一个可遍历的数据对象['a','b','c'] 返回索引与对象的组合[(0,'a'),(1,'b'),(2,'c')]\n",
    "#索引值与单词出现次数相反，最常见单词索引为0。\n",
    "word_to_idx={word:i for i,word in enumerate(idx_to_word)}\n",
    "\n",
    "# list(word_to_idx.items())[:100]\n",
    "\n",
    "#计算每个单词频率 负采样时需要使用\n",
    "#获得所有单词出现的次数\n",
    "word_counts=np.array([count for count in vocab.values()], dtype=np.float32)\n",
    "#计算所有单词的频率\n",
    "word_freqs=word_counts/np.sum(word_counts)\n",
    "#论文Distributed Representations of Word...中频率取了3/4次方\n",
    "word_freqs=word_freqs**(3./4.)\n",
    "#重新normalize 重新计算所有单词频率\n",
    "word_freqs=word_freqs/np.sum(word_freqs)\n",
    "\n",
    "#检查单词数为MAX_VOCAB_SIZE\n",
    "VOCAB_SIZE=len(idx_to_word)\n",
    "VOCAB_SIZE"
   ]
  },
  {
   "cell_type": "markdown",
   "metadata": {},
   "source": [
    "## 实现Dataloader\n",
    "\n",
    "一个dataloader需要以下内容：\n",
    "\n",
    "- 把所有text编码成数字，然后用subsampling预处理这些文字。\n",
    "- 保存vocabulary，单词count，normalized word frequency\n",
    "- 每个iteration sample一个中心词\n",
    "- 根据当前的中心词返回context单词\n",
    "- 根据中心词sample一些negative单词\n",
    "- 返回单词的counts\n",
    "\n",
    "这里有一个好的tutorial介绍如何使用[PyTorch dataloader](https://pytorch.org/tutorials/beginner/data_loading_tutorial.html).\n",
    "为了使用dataloader，我们需要定义以下两个function:\n",
    "\n",
    "- ```__len__``` function需要返回整个数据集中有多少个item\n",
    "- ```__get__``` 根据给定的index返回一个item\n",
    "\n",
    "有了dataloader之后，我们可以轻松随机打乱整个数据集，拿到一个batch的数据等等。"
   ]
  },
  {
   "cell_type": "code",
   "execution_count": null,
   "metadata": {},
   "outputs": [],
   "source": []
  }
 ],
 "metadata": {
  "kernelspec": {
   "display_name": "venv_pytorch",
   "language": "python",
   "name": "venv_pytorch"
  },
  "language_info": {
   "codemirror_mode": {
    "name": "ipython",
    "version": 3
   },
   "file_extension": ".py",
   "mimetype": "text/x-python",
   "name": "python",
   "nbconvert_exporter": "python",
   "pygments_lexer": "ipython3",
   "version": "3.7.7"
  }
 },
 "nbformat": 4,
 "nbformat_minor": 4
}
