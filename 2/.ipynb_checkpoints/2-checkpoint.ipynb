{
 "cells": [
  {
   "cell_type": "markdown",
   "metadata": {},
   "source": [
    "# 第二课 词向量\n",
    "\n",
    "第二课学习目标\n",
    "- 学习词向量的概念\n",
    "- 用Skip-thought模型训练词向量\n",
    "- 学习使用PyTorch dataset和dataloader\n",
    "- 学习定义PyTorch模型\n",
    "- 学习torch.nn中常见的Module\n",
    "    - Embedding\n",
    "- 学习常见的PyTorch operations\n",
    "    - bmm\n",
    "    - logsigmoid\n",
    "- 保存和读取PyTorch模型\n",
    "\n",
    "在这一份notebook中，我们会（尽可能）尝试复现论文[Distributed Representations of Words and Phrases and their Compositionality](http://papers.nips.cc/paper/5021-distributed-representations-of-words-and-phrases-and-their-compositionality.pdf)中训练词向量的方法. \n",
    "\n",
    "我们会实现[Skip-gram](https://blog.csdn.net/u010665216/article/details/78721354)模型，并且使用论文中noice contrastive sampling的目标函数。\n",
    "\n",
    "![skip_gram](skip_gram.jpg)\n",
    "\n",
    "这篇论文有很多模型实现的细节，这些细节对于词向量的好坏至关重要。我们虽然无法完全复现论文中的实验结果，主要是由于计算资源等各种细节原因，但是我们还是可以大致展示如何训练词向量。\n",
    "\n",
    "以下是一些我们没有实现的细节\n",
    "- subsampling：参考论文section 2.3"
   ]
  },
  {
   "cell_type": "markdown",
   "metadata": {},
   "source": [
    "## 调用PyTorch常用的包"
   ]
  },
  {
   "cell_type": "code",
   "execution_count": 2,
   "metadata": {},
   "outputs": [],
   "source": [
    "#基本上所有torch脚本都需要用到\n",
    "import torch\n",
    "import torch.nn as nn\n",
    "import torch.nn.functional as F\n",
    "import torch.utils.data as tud #Pytorch读取训练集需要用到torch.utils.data类"
   ]
  },
  {
   "cell_type": "markdown",
   "metadata": {},
   "source": [
    "torch.nn中大多数layer在torch.nn.funtional中都有一个与之对应的函数。  \n",
    "二者的[区别](https://blog.csdn.net/hawkcici160/article/details/80140059)在于：  \n",
    "- torch. nn.Module中实现layer的都是一个特殊的类 会自动提取可学习的参数  \n",
    "- nn.functional中的函数，更像是纯函数，由def function( )定义，只是进行简单的 数学运算而已。functional中的函数是一个确定的不变的运算公式"
   ]
  },
  {
   "cell_type": "markdown",
   "metadata": {},
   "source": [
    "## 调用其他需要的包"
   ]
  },
  {
   "cell_type": "code",
   "execution_count": 3,
   "metadata": {},
   "outputs": [],
   "source": [
    "from collections import Counter\n",
    "import numpy as np\n",
    "import random\n",
    "import math\n",
    "\n",
    "import pandas as pd\n",
    "import scipy\n",
    "import sklearn\n",
    "from sklearn.metrics.pairwise import cosine_similarity"
   ]
  },
  {
   "cell_type": "markdown",
   "metadata": {},
   "source": [
    "## 其他初始设置"
   ]
  },
  {
   "cell_type": "code",
   "execution_count": 4,
   "metadata": {},
   "outputs": [],
   "source": [
    "#调用gpu\n",
    "USE_CUDA=torch.cuda.is_available()\n",
    "\n",
    "#为保证实验结果可以浮现，将各种random seed固定到一个特定的值\n",
    "random.seed(1)\n",
    "np.random.seed(1)\n",
    "torch.manual_seed(1)\n",
    "if USE_CUDA:\n",
    "    torch.cuda.manual_seed(1)\n",
    "    \n",
    "#设定一些hyper parameters\n",
    "C=3 #nearby words threshold 指定前后3个单词进行预测\n",
    "K=100 #number of negative samples 负样本随机采样数量；每一个正样本对应K个负样本\n",
    "NUM_EPOCHS=2 #The num of epochs of training 迭代轮数\n",
    "MAX_VOCAB_SIZE=30000 #the vocabulary size 词汇表大小\n",
    "BATCH_SIZE=128\n",
    "LEARNING_RATE=0.2 #the initial learning rate\n",
    "EMBEDDING_SIZE=100 #词向量维度\n",
    "\n",
    "#tokenize函数 将文本转化为一个个单词\n",
    "def word_tokenize(text):\n",
    "    return text.split()"
   ]
  },
  {
   "cell_type": "markdown",
   "metadata": {},
   "source": [
    "## 数据预处理及相关操作\n",
    "- 从文本文件中读取所有的文字，通过这些文本创建一个vocabulary\n",
    "- 由于单词数量可能太大，我们只选取最常见的MAX_VOCAB_SIZE个单词\n",
    "- 我们添加一个UNK单词表示除MAX_VOCAB_SIZE个单词外其他所有不常见的单词\n",
    "- 我们需要记录单词到index的mapping，以及index到单词的mapping，单词的count，单词的(normalized) frequency，以及单词总数。"
   ]
  },
  {
   "cell_type": "code",
   "execution_count": 5,
   "metadata": {
    "scrolled": true
   },
   "outputs": [
    {
     "data": {
      "text/plain": [
       "30000"
      ]
     },
     "execution_count": 5,
     "metadata": {},
     "output_type": "execute_result"
    }
   ],
   "source": [
    "#读取文件\n",
    "with open('./text8/text8.train.txt','r') as fi:\n",
    "    text=fi.read()\n",
    "    \n",
    "# len(text)\n",
    "\n",
    "#分词\n",
    "#str.lower()将str中大写转化为小写\n",
    "text=[w for w in word_tokenize(text.lower())]\n",
    "\n",
    "#将出现频率最高的MAX_VOCAB_SIZE-1个单词取出来，以字典的形式存储(包含每个单词出现次数)\n",
    "#-1留给UNK单词\n",
    "#collection.Counter(text): 计算每个元素出现个数 返回counter对象\n",
    "#Counter(text).most_common(N): 找到text中出现最多的前N个元素\n",
    "#https://zhuanlan.zhihu.com/p/350899229\n",
    "vocab=dict(Counter(text).most_common(MAX_VOCAB_SIZE-1))\n",
    "#将UNK单词添加进vocab\n",
    "#UNK出现次数=总单词出现次数-常见单词出现次数\n",
    "#dic.values() 返回字典中所有值所构成的对象\n",
    "vocab['<unk>']=len(text)-np.sum(list(vocab.values()))\n",
    "\n",
    "#从vocab中取出所有单词\n",
    "idx_to_word=[word for word in vocab.keys()]\n",
    "\n",
    "#以字典的形式取得单词及其对应的索引\n",
    "#enumerate: 接收一个可遍历的数据对象['a','b','c'] 返回索引与对象的组合[(0,'a'),(1,'b'),(2,'c')]\n",
    "#索引值与单词出现次数相反，最常见单词索引为0。\n",
    "word_to_idx={word:i for i,word in enumerate(idx_to_word)}\n",
    "\n",
    "# list(word_to_idx.items())[:100]\n",
    "\n",
    "#计算每个单词频率 负采样时需要使用\n",
    "#获得所有单词出现的次数\n",
    "word_counts=np.array([count for count in vocab.values()], dtype=np.float32)\n",
    "#计算所有单词的频率\n",
    "word_freqs=word_counts/np.sum(word_counts)\n",
    "#论文Distributed Representations of Word...中频率取了3/4次方\n",
    "word_freqs=word_freqs**(3./4.)\n",
    "#重新normalize 重新计算所有单词频率 类似softmax\n",
    "word_freqs=word_freqs/np.sum(word_freqs)\n",
    "\n",
    "#检查单词数为MAX_VOCAB_SIZE\n",
    "VOCAB_SIZE=len(idx_to_word)\n",
    "VOCAB_SIZE"
   ]
  },
  {
   "cell_type": "markdown",
   "metadata": {},
   "source": [
    "## 实现Dataloader\n",
    "\n",
    "一个dataloader需要以下内容：\n",
    "\n",
    "- 把所有text编码成数字，然后用subsampling预处理这些文字。\n",
    "- 保存vocabulary，单词count，normalized word frequency\n",
    "- 每个iteration sample一个中心词\n",
    "- 根据当前的中心词返回context单词\n",
    "- 根据中心词sample一些negative单词\n",
    "- 返回单词的counts\n",
    "\n",
    "这里有一个好的tutorial介绍如何使用[PyTorch dataloader](https://pytorch.org/tutorials/beginner/data_loading_tutorial.html).\n",
    "为了使用dataloader，我们需要定义以下两个function:\n",
    "\n",
    "- ```__len__``` function需要返回整个数据集中有多少个item\n",
    "- ```__get__``` 根据给定的index返回一个item\n",
    "\n",
    "有了dataloader之后，我们可以轻松随机打乱整个数据集，拿到一个batch的数据等等。"
   ]
  },
  {
   "cell_type": "code",
   "execution_count": 18,
   "metadata": {},
   "outputs": [],
   "source": [
    "class WordEmbeddingDataset(tud.Dataset):\n",
    "    def __init__(self, text, word_to_idx, idx_to_word, word_freqs, word_counts):\n",
    "        #初始化模型\n",
    "        #super(WordEmbeddingDataset, self).__init__()\n",
    "        super().__init__()\n",
    "        \n",
    "        #顺序存储每个在text中word的word_to_idx中的索引(序号)，\n",
    "        #如果word不在word_to_idx中（属于unk）则存储unk在word_to_idx中对应的序号\n",
    "        self.text_encoded=[word_to_idx.get(word,word_to_idx['<unk>']) for word in text]\n",
    "        #转化为int型LongTensor\n",
    "        self.text_encoded=torch.LongTensor(self.text_encoded)\n",
    "        \n",
    "        #将输入的参数初始化为torch tensor\n",
    "        # self.word_to_idx=torch.Tensor(word_to_idx)\n",
    "        # self.idx_to_word=torch.Tensor(idx_to_word)\n",
    "        self.word_to_idx=word_to_idx\n",
    "        self.idx_to_word=idx_to_word\n",
    "        self.word_freqs=torch.Tensor(word_freqs)\n",
    "        self.word_counts=torch.Tensor(word_counts)\n",
    "        \n",
    "    \n",
    "    #数据集一共有多少个item\n",
    "    def __len__(self):\n",
    "        return len(self.tesxt_encoded)\n",
    "    \n",
    "    #提供一个index 返回一串训练数据\n",
    "    def __getitem__(self, idx):\n",
    "        ##中心词 \n",
    "        #center_word=self.text_encoded[idx]\n",
    "        ##print(center_word)\n",
    "        ##中心词索引\n",
    "        ##这里__getitem__函数是个迭代器，idx代表了所有的单词索引。\n",
    "        \n",
    "        #pos_indices = list(range(idx-C, idx)) + list(range(idx+1, idx+C+1))\n",
    "        ##周围词索引的索引，比如idx=0时。pos_indices = [-3, -2, -1, 1, 2, 3] \n",
    "        ##老师讲这里的时候，我不是特别明白\n",
    "        \n",
    "        #pos_indices = [i%len(self.text_encoded) for i in pos_indices]\n",
    "        ##range(idx+1, idx+C+1)超出词汇总数时，需要特别处理，取余数\n",
    "        \n",
    "        #pos_words = self.text_encoded[pos_indices]\n",
    "        ##周围词索引，就是希望出现的正例单词\n",
    "        ##print(pos_words)\n",
    "        \n",
    "        #neg_words = torch.multinomial(self.word_freqs, K * pos_words.shape[0], True)\n",
    "        ##负例采样单词索引，torch.multinomial作用是对self.word_freqs做K * pos_words.shape[0]次取值，输出的是self.word_freqs对应的下标。\n",
    "        ##取样方式采用有放回的采样，并且self.word_freqs数值越大，取样概率越大。\n",
    "        ##每个正确的单词采样K个，pos_words.shape[0]是正确单词数量\n",
    "        ##print(neg_words)\n",
    "        #\n",
    "        #return center_word, pos_words, neg_words\n",
    "        \n",
    "        #中心词***\n",
    "        center_word=self.text_encoded[idx]\n",
    "        \n",
    "        #周围词\n",
    "        pos_indices=list(range(idx-C))+list(range(idx+1,idx+1+C))"
   ]
  },
  {
   "cell_type": "code",
   "execution_count": 41,
   "metadata": {},
   "outputs": [
    {
     "name": "stdout",
     "output_type": "stream",
     "text": [
      "tensor([ 4813,  3139,    11,  ...,    50, 29885,   393])\n",
      "15304686\n",
      "[4813, 3139, 11, 5, 194, 1, 3015, 46, 59, 155, 127, 741, 461, 10485, 133, 0, 25752, 1, 0, 108, 833, 2, 0, 16267, 29999, 1, 0, 152, 833, 3493, 0, 194, 10, 186, 59, 4, 5, 10620, 213, 6, 1332, 102, 437, 19, 59, 2764, 355, 6, 3625, 0, 709, 1, 364, 26, 40, 37, 53, 527, 97, 11, 5, 1398, 2929, 18, 562, 691, 6644, 0, 252, 4813, 10, 1043, 27, 0, 316, 247, 29999, 2964, 789, 189, 4813, 11, 5, 201, 569, 10, 0, 1107, 19, 2581, 25, 8819, 2, 273, 31, 4089, 140, 58, 25, 6494]\n",
      "<class 'int'>\n",
      "[(4813, 303), (3139, 505), (11, 119348), (5, 293387), (194, 6533), (1, 537144), (3015, 531), (46, 25760), (59, 20455), (155, 7640), (127, 9129), (741, 2054), (461, 3111), (10485, 106), (133, 8694), (0, 959616), (25752, 25), (108, 10582), (833, 1862), (2, 376233), (16267, 54), (29999, 617240), (152, 7750), (3493, 442), (10, 166132), (186, 6664), (4, 335477), (10620, 104), (213, 5793), (6, 285950), (1332, 1203), (102, 10796), (437, 3216), (19, 99419), (2764, 581), (355, 3822), (3625, 423), (709, 2147), (364, 3745), (26, 66521), (40, 34244), (37, 40020), (53, 22950), (527, 2795), (97, 11199), (1398, 1157), (2929, 549), (18, 100994), (562, 2614), (691, 2192), (6644, 200), (252, 5066), (1043, 1533), (27, 65835), (316, 4197), (247, 5152), (2964, 542), (789, 1933), (189, 6641), (201, 6277), (569, 2598), (1107, 1449), (2581, 631), (25, 69591), (8819, 135), (273, 4687), (31, 55837), (4089, 368), (140, 8386), (58, 20628), (6494, 206), (4195, 357), (153, 7750), (32, 53314), (1128, 1424), (441, 3198), (344, 3914), (1794, 916), (4682, 313), (6645, 200), (7542, 168), (1756, 932), (567, 2603), (94, 11578), (11304, 95), (52, 23025), (89, 12697), (263, 4791), (36, 40095), (5966, 231), (4733, 309), (21915, 33), (28, 62715), (41, 32181), (315, 4205), (25163, 26), (517, 2846), (259, 4842), (1178, 1362), (1576, 1026)]\n"
     ]
    }
   ],
   "source": [
    "dataset=WordEmbeddingDataset(text, word_to_idx, idx_to_word, word_freqs, word_counts)\n",
    "# dte=dataset.text_encoded\n",
    "# print(dte)\n",
    "# print(len(dte))\n",
    "# dtet=dte.tolist()\n",
    "# print(dtet[:100])\n",
    "# print(type(dtet[0]))\n",
    "# # print(dict(Counter(dtet)))\n",
    "# print([(k,v) for i, (k, v) in enumerate(dict(Counter(dtet)).items()) if i <100])"
   ]
  }
 ],
 "metadata": {
  "kernelspec": {
   "display_name": "venv_pytorch",
   "language": "python",
   "name": "venv_pytorch"
  },
  "language_info": {
   "codemirror_mode": {
    "name": "ipython",
    "version": 3
   },
   "file_extension": ".py",
   "mimetype": "text/x-python",
   "name": "python",
   "nbconvert_exporter": "python",
   "pygments_lexer": "ipython3",
   "version": "3.7.7"
  }
 },
 "nbformat": 4,
 "nbformat_minor": 4
}
