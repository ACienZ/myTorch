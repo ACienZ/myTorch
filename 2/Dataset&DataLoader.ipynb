{
 "cells": [
  {
   "cell_type": "markdown",
   "metadata": {},
   "source": [
    "# Dataset & DataLoader"
   ]
  },
  {
   "cell_type": "markdown",
   "metadata": {},
   "source": [
    "**https://blog.csdn.net/qq_36653505/article/details/83351808**"
   ]
  },
  {
   "cell_type": "markdown",
   "metadata": {},
   "source": [
    "读取数据 预处理数据"
   ]
  },
  {
   "cell_type": "markdown",
   "metadata": {},
   "source": [
    "## 1.两者区别\n",
    "\n",
    "### torch.utils.data.Dataset\n",
    "用于自定义数据集方法的抽象类\n",
    "可以自己定义数据类继承这个抽象类\n",
    "只需要定义__len__和__getitem__两个方法即可\n",
    "\n",
    "### torch.utils.data.DataLoader\n",
    "- 通过继承Dataset这个抽象类，我们可以定义需要的数据类。但通过迭代的方式来取得每个数据，很难实现batch，shuffle，或者多线程读取数据\n",
    "可以通过torch.utils.data.DataLoader类来定义一个新的迭代器\n",
    "将自定义的数据读取接口的输出/PyTorch已有的数据读取接口的输入按照batch size封装成Tensor\n",
    "后续再包装成Bariable即可作为模型输入"
   ]
  },
  {
   "cell_type": "markdown",
   "metadata": {},
   "source": [
    "## 2.Dataset和DataLoader两个类中用到的魔法方法\n",
    "**\\_\\_len\\_\\_(self)**  **\\_\\_getitem\\_\\_(self)**  **\\_\\_iter\\_\\_(self)**  \n",
    "- \\_\\_len\\_\\_(self) 定义当被len()函数调用时的行为(返回容器中元素的个数)\n",
    "- \\_\\_getitem\\_\\_(self) 定义获取容器中指定元素的行为，相当于self[key],即允许类对象有索引操作\n",
    "- \\_\\_iter\\_\\_(self) 定义迭代容器中的元素时的行为"
   ]
  },
  {
   "cell_type": "markdown",
   "metadata": {},
   "source": [
    "## 2.1魔法方法 \\_\\_len\\_\\_() & \\_\\_getitem\\_\\_()的使用\n",
    "\\_\\_len\\_\\_() & \\_\\_getitem\\_\\_()可以用于定制容器类型数据(像序列类型（如列表、元组和字符串）或映射类型（如字典）都属于容器类型数据)\n",
    "- 如果容器不可变 只需要定义\\_\\_len\\_\\_()和\\_\\_getitem\\_\\_()这两个魔法方法\n",
    "- 如果容器可变 除了\\_\\_len\\_\\_()和\\_\\_getitem\\_\\_()这两个魔法方法，还需要定义\\_\\_setitem\\_\\_()和\\_\\_delitem\\_\\_()两个方法  \n",
    "\n",
    "e.g.: 编写一个不可变自定义列表，记录列表中每个元素被访问次数"
   ]
  },
  {
   "cell_type": "code",
   "execution_count": 2,
   "metadata": {},
   "outputs": [
    {
     "name": "stdout",
     "output_type": "stream",
     "text": [
      "3\n",
      "4\n",
      "11\n",
      "{0: 0, 1: 2, 2: 0, 3: 0, 4: 0}\n",
      "{0: 0, 1: 1, 2: 0, 3: 1, 4: 0}\n"
     ]
    }
   ],
   "source": [
    "class CountList:\n",
    "    def __init__(self, *args):\n",
    "        #存储列表具体值\n",
    "        self.values = [x for x in args]\n",
    "        #纪律列表中元素访问次数，初始值为0\n",
    "        #dict.fromkeys(seq,value)用于创建一个新字典，以序列seq中元素为新字典的键，value为字典键的初始值\n",
    "        self.count={}.fromkeys(range(len(self.values)),0)\n",
    "    #类被len()函数调用时的行为\n",
    "    def __len__(self):\n",
    "        return len(self.values)\n",
    "    #当类进行索引时进行的操作\n",
    "    def __getitem__(self, key):\n",
    "        self.count[key]+=1\n",
    "        return self.values[key]\n",
    "    \n",
    "#实例化类\n",
    "c1=CountList(1,3,5,7,9)\n",
    "c2=CountLIst(2,4,6,8,10)\n",
    "\n",
    "#调用\n",
    "print(c1[1])\n",
    "print(c2[1])\n",
    "print(c1[1]+c2[3])\n",
    "print(c1.count)\n",
    "print(c2.count)"
   ]
  },
  {
   "cell_type": "markdown",
   "metadata": {},
   "source": [
    "## 2.2魔法方法__iter__()的使用\n",
    "在Python中构造迭代器时，需要定义\\_\\_iter\\_\\_()方法\n",
    "提供迭代方法的容器称为**迭代器**(序列(列表、元组、字符串)、字典)\n",
    "实现迭代器的魔法方法有两个：\n",
    "- \\_\\_iter\\_\\_()  \n",
    "这个方法实际上是返回迭代器本身\n",
    "- \\_\\_next\\_\\_()  \n",
    "该方法决定了迭代规则  \\\n",
    "\n",
    "e.g.: 定义斐波那契数列类，其实例每次顺序返回斐波那契数列的元素"
   ]
  },
  {
   "cell_type": "code",
   "execution_count": 3,
   "metadata": {
    "scrolled": true
   },
   "outputs": [
    {
     "name": "stdout",
     "output_type": "stream",
     "text": [
      "1\n",
      "1\n",
      "2\n",
      "3\n",
      "5\n",
      "8\n",
      "13\n"
     ]
    }
   ],
   "source": [
    "class Fibs:\n",
    "    def __init__(self, n=20):\n",
    "        self.a=0\n",
    "        self.b=1\n",
    "        self.n=n\n",
    "    \n",
    "    def __iter__(self):\n",
    "        return self\n",
    "    \n",
    "    def __next__(self):\n",
    "        self.a,self.b=self.b,self.a+self.b\n",
    "        if self.a>self.n:\n",
    "            raise StopIteration\n",
    "        return self.a\n",
    "\n",
    "#实例化\n",
    "fib=Fibs()\n",
    "\n",
    "#调用\n",
    "for i in fib:\n",
    "    print(i)"
   ]
  },
  {
   "cell_type": "markdown",
   "metadata": {},
   "source": [
    "## Dataset类\n",
    "\n",
    "一个用来表示数据集的抽象类，其他所有的数据集都应该是这个类的子类，并且需要重写\\_\\_len\\_\\_和\\_\\_getitem\\_\\_。\n",
    "\n",
    "- 源码  "
   ]
  },
  {
   "cell_type": "code",
   "execution_count": 4,
   "metadata": {},
   "outputs": [],
   "source": [
    "class Dataset(object):  \n",
    "    \"\"\"An abstract class representing a Dataset.  \n",
    "\n",
    "    All other datasets should subclass it. All subclasses should override  \n",
    "    ``__len__``, that provides the size of the dataset, and ``__getitem__``,  \n",
    "    supporting integer indexing in range from 0 to len(self) exclusive.  \n",
    "    \"\"\"\n",
    "\n",
    "    def __getitem__(self, index):  \n",
    "        raise NotImplementedError  \n",
    "\n",
    "    def __len__(self):  \n",
    "        raise NotImplementedError  \n",
    "\n",
    "    def __add__(self, other):  \n",
    "        return ConcatDataset([self, other])  "
   ]
  },
  {
   "cell_type": "markdown",
   "metadata": {},
   "source": [
    "## DataLoader类  \n",
    "- "
   ]
  }
 ],
 "metadata": {
  "kernelspec": {
   "display_name": "venv_pytorch",
   "language": "python",
   "name": "venv_pytorch"
  },
  "language_info": {
   "codemirror_mode": {
    "name": "ipython",
    "version": 3
   },
   "file_extension": ".py",
   "mimetype": "text/x-python",
   "name": "python",
   "nbconvert_exporter": "python",
   "pygments_lexer": "ipython3",
   "version": "3.7.7"
  }
 },
 "nbformat": 4,
 "nbformat_minor": 4
}
