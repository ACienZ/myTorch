{
 "cells": [
  {
   "cell_type": "markdown",
   "metadata": {},
   "source": [
    "# PyTorch  "
   ]
  },
  {
   "cell_type": "markdown",
   "metadata": {},
   "source": [
    "## Tensor"
   ]
  },
  {
   "cell_type": "code",
   "execution_count": 2,
   "metadata": {},
   "outputs": [],
   "source": [
    "import torch"
   ]
  },
  {
   "cell_type": "code",
   "execution_count": 3,
   "metadata": {},
   "outputs": [
    {
     "data": {
      "text/plain": [
       "tensor([[9.2755e-39, 1.0561e-38, 7.5306e-39],\n",
       "        [8.7245e-39, 6.1531e-39, 4.2246e-39],\n",
       "        [1.0286e-38, 1.0653e-38, 1.0194e-38],\n",
       "        [8.4490e-39, 1.0469e-38, 9.3674e-39],\n",
       "        [9.9184e-39, 8.7245e-39, 9.2755e-39]])"
      ]
     },
     "execution_count": 3,
     "metadata": {},
     "output_type": "execute_result"
    }
   ],
   "source": [
    "x=torch.empty(5,3)\n",
    "x"
   ]
  },
  {
   "cell_type": "code",
   "execution_count": 4,
   "metadata": {},
   "outputs": [
    {
     "data": {
      "text/plain": [
       "tensor([[0.2208, 0.7601, 0.6669],\n",
       "        [0.8047, 0.7985, 0.3774],\n",
       "        [0.3620, 0.7943, 0.2164],\n",
       "        [0.3425, 0.6234, 0.8683],\n",
       "        [0.9174, 0.0396, 0.5050]])"
      ]
     },
     "execution_count": 4,
     "metadata": {},
     "output_type": "execute_result"
    }
   ],
   "source": [
    "x=torch.rand(5,3)\n",
    "x"
   ]
  },
  {
   "cell_type": "code",
   "execution_count": 5,
   "metadata": {},
   "outputs": [
    {
     "data": {
      "text/plain": [
       "tensor([[0., 0., 0.],\n",
       "        [0., 0., 0.],\n",
       "        [0., 0., 0.],\n",
       "        [0., 0., 0.],\n",
       "        [0., 0., 0.]])"
      ]
     },
     "execution_count": 5,
     "metadata": {},
     "output_type": "execute_result"
    }
   ],
   "source": [
    "x=torch.zeros(5,3)\n",
    "x"
   ]
  },
  {
   "cell_type": "code",
   "execution_count": 10,
   "metadata": {},
   "outputs": [
    {
     "data": {
      "text/plain": [
       "tensor([[0, 0, 0],\n",
       "        [0, 0, 0],\n",
       "        [0, 0, 0],\n",
       "        [0, 0, 0],\n",
       "        [0, 0, 0]])"
      ]
     },
     "execution_count": 10,
     "metadata": {},
     "output_type": "execute_result"
    }
   ],
   "source": [
    "x=torch.zeros(5,3,dtype=torch.long)\n",
    "x"
   ]
  },
  {
   "cell_type": "code",
   "execution_count": 11,
   "metadata": {},
   "outputs": [
    {
     "data": {
      "text/plain": [
       "tensor([[0, 0, 0],\n",
       "        [0, 0, 0],\n",
       "        [0, 0, 0],\n",
       "        [0, 0, 0],\n",
       "        [0, 0, 0]])"
      ]
     },
     "execution_count": 11,
     "metadata": {},
     "output_type": "execute_result"
    }
   ],
   "source": [
    "x=torch.zeros(5,3).long()\n",
    "x"
   ]
  },
  {
   "cell_type": "code",
   "execution_count": 12,
   "metadata": {},
   "outputs": [
    {
     "data": {
      "text/plain": [
       "tensor([5.5000, 3.0000])"
      ]
     },
     "execution_count": 12,
     "metadata": {},
     "output_type": "execute_result"
    }
   ],
   "source": [
    "x=torch.tensor([5.5,3])\n",
    "x"
   ]
  },
  {
   "cell_type": "code",
   "execution_count": 13,
   "metadata": {},
   "outputs": [
    {
     "data": {
      "text/plain": [
       "tensor([[1., 1., 1.],\n",
       "        [1., 1., 1.],\n",
       "        [1., 1., 1.],\n",
       "        [1., 1., 1.],\n",
       "        [1., 1., 1.]])"
      ]
     },
     "execution_count": 13,
     "metadata": {},
     "output_type": "execute_result"
    }
   ],
   "source": [
    "x=x.new_ones(5,3)\n",
    "x"
   ]
  },
  {
   "cell_type": "code",
   "execution_count": 14,
   "metadata": {},
   "outputs": [
    {
     "data": {
      "text/plain": [
       "tensor([[1., 1., 1.],\n",
       "        [1., 1., 1.],\n",
       "        [1., 1., 1.],\n",
       "        [1., 1., 1.],\n",
       "        [1., 1., 1.]], dtype=torch.float64)"
      ]
     },
     "execution_count": 14,
     "metadata": {},
     "output_type": "execute_result"
    }
   ],
   "source": [
    "x=x.new_ones(5,3,dtype=torch.double)\n",
    "x"
   ]
  },
  {
   "cell_type": "code",
   "execution_count": 15,
   "metadata": {},
   "outputs": [
    {
     "data": {
      "text/plain": [
       "tensor([[ 1.4480, -0.7826,  0.7219],\n",
       "        [ 0.9393, -0.0549, -0.0789],\n",
       "        [ 1.8989,  1.0364,  0.5109],\n",
       "        [-0.8122, -0.7583, -0.3266],\n",
       "        [-0.1731,  0.5951, -0.4782]])"
      ]
     },
     "execution_count": 15,
     "metadata": {},
     "output_type": "execute_result"
    }
   ],
   "source": [
    "x=torch.randn_like(x,dtype=torch.float)\n",
    "x"
   ]
  },
  {
   "cell_type": "code",
   "execution_count": 18,
   "metadata": {},
   "outputs": [
    {
     "data": {
      "text/plain": [
       "torch.Size([5, 3])"
      ]
     },
     "execution_count": 18,
     "metadata": {},
     "output_type": "execute_result"
    }
   ],
   "source": [
    "x.shape"
   ]
  },
  {
   "cell_type": "code",
   "execution_count": 20,
   "metadata": {},
   "outputs": [
    {
     "data": {
      "text/plain": [
       "torch.Size([5, 3])"
      ]
     },
     "execution_count": 20,
     "metadata": {},
     "output_type": "execute_result"
    }
   ],
   "source": [
    "x.size()"
   ]
  },
  {
   "cell_type": "markdown",
   "metadata": {},
   "source": [
    "## Operations"
   ]
  },
  {
   "cell_type": "code",
   "execution_count": 22,
   "metadata": {},
   "outputs": [
    {
     "data": {
      "text/plain": [
       "tensor([[0.3114, 0.6448, 0.4469],\n",
       "        [0.9463, 0.5817, 0.4637],\n",
       "        [0.5784, 0.3324, 0.3888],\n",
       "        [0.3791, 0.9662, 0.4335],\n",
       "        [0.4680, 0.0426, 0.9858]])"
      ]
     },
     "execution_count": 22,
     "metadata": {},
     "output_type": "execute_result"
    }
   ],
   "source": [
    "y=torch.rand(5,3)\n",
    "y"
   ]
  },
  {
   "cell_type": "code",
   "execution_count": 23,
   "metadata": {},
   "outputs": [
    {
     "data": {
      "text/plain": [
       "tensor([[ 1.4480, -0.7826,  0.7219],\n",
       "        [ 0.9393, -0.0549, -0.0789],\n",
       "        [ 1.8989,  1.0364,  0.5109],\n",
       "        [-0.8122, -0.7583, -0.3266],\n",
       "        [-0.1731,  0.5951, -0.4782]])"
      ]
     },
     "execution_count": 23,
     "metadata": {},
     "output_type": "execute_result"
    }
   ],
   "source": [
    "x"
   ]
  },
  {
   "cell_type": "code",
   "execution_count": 24,
   "metadata": {},
   "outputs": [
    {
     "data": {
      "text/plain": [
       "tensor([[ 1.7595, -0.1378,  1.1688],\n",
       "        [ 1.8855,  0.5267,  0.3848],\n",
       "        [ 2.4773,  1.3688,  0.8997],\n",
       "        [-0.4331,  0.2079,  0.1069],\n",
       "        [ 0.2949,  0.6377,  0.5076]])"
      ]
     },
     "execution_count": 24,
     "metadata": {},
     "output_type": "execute_result"
    }
   ],
   "source": [
    "x+y"
   ]
  },
  {
   "cell_type": "code",
   "execution_count": 25,
   "metadata": {},
   "outputs": [
    {
     "data": {
      "text/plain": [
       "tensor([[ 1.7595, -0.1378,  1.1688],\n",
       "        [ 1.8855,  0.5267,  0.3848],\n",
       "        [ 2.4773,  1.3688,  0.8997],\n",
       "        [-0.4331,  0.2079,  0.1069],\n",
       "        [ 0.2949,  0.6377,  0.5076]])"
      ]
     },
     "execution_count": 25,
     "metadata": {},
     "output_type": "execute_result"
    }
   ],
   "source": [
    "torch.add(x,y)"
   ]
  },
  {
   "cell_type": "code",
   "execution_count": 26,
   "metadata": {},
   "outputs": [
    {
     "data": {
      "text/plain": [
       "tensor([[ 1.7595, -0.1378,  1.1688],\n",
       "        [ 1.8855,  0.5267,  0.3848],\n",
       "        [ 2.4773,  1.3688,  0.8997],\n",
       "        [-0.4331,  0.2079,  0.1069],\n",
       "        [ 0.2949,  0.6377,  0.5076]])"
      ]
     },
     "execution_count": 26,
     "metadata": {},
     "output_type": "execute_result"
    }
   ],
   "source": [
    "result=torch.empty(5,3)\n",
    "torch.add(x,y,out=result)\n",
    "result"
   ]
  },
  {
   "cell_type": "code",
   "execution_count": 28,
   "metadata": {},
   "outputs": [
    {
     "data": {
      "text/plain": [
       "tensor([[ 1.7595, -0.1378,  1.1688],\n",
       "        [ 1.8855,  0.5267,  0.3848],\n",
       "        [ 2.4773,  1.3688,  0.8997],\n",
       "        [-0.4331,  0.2079,  0.1069],\n",
       "        [ 0.2949,  0.6377,  0.5076]])"
      ]
     },
     "execution_count": 28,
     "metadata": {},
     "output_type": "execute_result"
    }
   ],
   "source": [
    "result=x+y\n",
    "result"
   ]
  },
  {
   "cell_type": "markdown",
   "metadata": {},
   "source": [
    "### in-place"
   ]
  },
  {
   "cell_type": "code",
   "execution_count": 29,
   "metadata": {},
   "outputs": [
    {
     "data": {
      "text/plain": [
       "tensor([[ 1.7595, -0.1378,  1.1688],\n",
       "        [ 1.8855,  0.5267,  0.3848],\n",
       "        [ 2.4773,  1.3688,  0.8997],\n",
       "        [-0.4331,  0.2079,  0.1069],\n",
       "        [ 0.2949,  0.6377,  0.5076]])"
      ]
     },
     "execution_count": 29,
     "metadata": {},
     "output_type": "execute_result"
    }
   ],
   "source": [
    "y.add_(x)\n",
    "y"
   ]
  },
  {
   "cell_type": "code",
   "execution_count": 31,
   "metadata": {},
   "outputs": [
    {
     "data": {
      "text/plain": [
       "tensor([[-0.7826,  0.7219],\n",
       "        [-0.0549, -0.0789],\n",
       "        [ 1.0364,  0.5109],\n",
       "        [-0.7583, -0.3266],\n",
       "        [ 0.5951, -0.4782]])"
      ]
     },
     "execution_count": 31,
     "metadata": {},
     "output_type": "execute_result"
    }
   ],
   "source": [
    "x[:,1:]"
   ]
  },
  {
   "cell_type": "markdown",
   "metadata": {},
   "source": [
    "### resizing"
   ]
  },
  {
   "cell_type": "code",
   "execution_count": 34,
   "metadata": {},
   "outputs": [
    {
     "name": "stdout",
     "output_type": "stream",
     "text": [
      "tensor([[0.5963, 0.4531, 0.4895, 0.3420],\n",
      "        [0.2500, 0.1919, 0.2045, 0.7810],\n",
      "        [0.2526, 0.9666, 0.5129, 0.2281],\n",
      "        [0.0399, 0.0234, 0.6676, 0.4813]])\n",
      "tensor([0.5963, 0.4531, 0.4895, 0.3420, 0.2500, 0.1919, 0.2045, 0.7810, 0.2526,\n",
      "        0.9666, 0.5129, 0.2281, 0.0399, 0.0234, 0.6676, 0.4813])\n",
      "tensor([[0.5963, 0.4531, 0.4895, 0.3420, 0.2500, 0.1919, 0.2045, 0.7810],\n",
      "        [0.2526, 0.9666, 0.5129, 0.2281, 0.0399, 0.0234, 0.6676, 0.4813]])\n",
      "tensor([[0.5963, 0.4531, 0.4895, 0.3420, 0.2500, 0.1919, 0.2045, 0.7810],\n",
      "        [0.2526, 0.9666, 0.5129, 0.2281, 0.0399, 0.0234, 0.6676, 0.4813]])\n"
     ]
    }
   ],
   "source": [
    "x=torch.rand(4,4)\n",
    "print(x)\n",
    "y=x.view(16)\n",
    "print(y)\n",
    "z=x.view(2,8)\n",
    "print(z)\n",
    "t=x.view(2,-1)\n",
    "print(t)"
   ]
  },
  {
   "cell_type": "markdown",
   "metadata": {},
   "source": [
    "### 只有一个元素的tensor，使用.item()方法可以把里面的value变成Python数值。"
   ]
  },
  {
   "cell_type": "code",
   "execution_count": 35,
   "metadata": {},
   "outputs": [
    {
     "data": {
      "text/plain": [
       "tensor([0.5938])"
      ]
     },
     "execution_count": 35,
     "metadata": {},
     "output_type": "execute_result"
    }
   ],
   "source": [
    "x=torch.rand(1)\n",
    "x"
   ]
  },
  {
   "cell_type": "code",
   "execution_count": 37,
   "metadata": {},
   "outputs": [
    {
     "data": {
      "text/plain": [
       "['T',\n",
       " '__abs__',\n",
       " '__add__',\n",
       " '__and__',\n",
       " '__array__',\n",
       " '__array_priority__',\n",
       " '__array_wrap__',\n",
       " '__bool__',\n",
       " '__class__',\n",
       " '__contains__',\n",
       " '__deepcopy__',\n",
       " '__delattr__',\n",
       " '__delitem__',\n",
       " '__dict__',\n",
       " '__dir__',\n",
       " '__div__',\n",
       " '__doc__',\n",
       " '__eq__',\n",
       " '__float__',\n",
       " '__floordiv__',\n",
       " '__format__',\n",
       " '__ge__',\n",
       " '__getattribute__',\n",
       " '__getitem__',\n",
       " '__gt__',\n",
       " '__hash__',\n",
       " '__iadd__',\n",
       " '__iand__',\n",
       " '__idiv__',\n",
       " '__ilshift__',\n",
       " '__imul__',\n",
       " '__index__',\n",
       " '__init__',\n",
       " '__init_subclass__',\n",
       " '__int__',\n",
       " '__invert__',\n",
       " '__ior__',\n",
       " '__ipow__',\n",
       " '__irshift__',\n",
       " '__isub__',\n",
       " '__iter__',\n",
       " '__itruediv__',\n",
       " '__ixor__',\n",
       " '__le__',\n",
       " '__len__',\n",
       " '__long__',\n",
       " '__lshift__',\n",
       " '__lt__',\n",
       " '__matmul__',\n",
       " '__mod__',\n",
       " '__module__',\n",
       " '__mul__',\n",
       " '__ne__',\n",
       " '__neg__',\n",
       " '__new__',\n",
       " '__nonzero__',\n",
       " '__or__',\n",
       " '__pow__',\n",
       " '__radd__',\n",
       " '__rdiv__',\n",
       " '__reduce__',\n",
       " '__reduce_ex__',\n",
       " '__repr__',\n",
       " '__reversed__',\n",
       " '__rfloordiv__',\n",
       " '__rmul__',\n",
       " '__rpow__',\n",
       " '__rshift__',\n",
       " '__rsub__',\n",
       " '__rtruediv__',\n",
       " '__setattr__',\n",
       " '__setitem__',\n",
       " '__setstate__',\n",
       " '__sizeof__',\n",
       " '__str__',\n",
       " '__sub__',\n",
       " '__subclasshook__',\n",
       " '__truediv__',\n",
       " '__weakref__',\n",
       " '__xor__',\n",
       " '_backward_hooks',\n",
       " '_base',\n",
       " '_cdata',\n",
       " '_coalesced_',\n",
       " '_dimI',\n",
       " '_dimV',\n",
       " '_grad',\n",
       " '_grad_fn',\n",
       " '_indices',\n",
       " '_is_view',\n",
       " '_make_subclass',\n",
       " '_nnz',\n",
       " '_update_names',\n",
       " '_values',\n",
       " '_version',\n",
       " 'abs',\n",
       " 'abs_',\n",
       " 'acos',\n",
       " 'acos_',\n",
       " 'add',\n",
       " 'add_',\n",
       " 'addbmm',\n",
       " 'addbmm_',\n",
       " 'addcdiv',\n",
       " 'addcdiv_',\n",
       " 'addcmul',\n",
       " 'addcmul_',\n",
       " 'addmm',\n",
       " 'addmm_',\n",
       " 'addmv',\n",
       " 'addmv_',\n",
       " 'addr',\n",
       " 'addr_',\n",
       " 'align_as',\n",
       " 'align_to',\n",
       " 'all',\n",
       " 'allclose',\n",
       " 'angle',\n",
       " 'any',\n",
       " 'apply_',\n",
       " 'argmax',\n",
       " 'argmin',\n",
       " 'argsort',\n",
       " 'as_strided',\n",
       " 'as_strided_',\n",
       " 'asin',\n",
       " 'asin_',\n",
       " 'atan',\n",
       " 'atan2',\n",
       " 'atan2_',\n",
       " 'atan_',\n",
       " 'backward',\n",
       " 'baddbmm',\n",
       " 'baddbmm_',\n",
       " 'bernoulli',\n",
       " 'bernoulli_',\n",
       " 'bfloat16',\n",
       " 'bincount',\n",
       " 'bitwise_and',\n",
       " 'bitwise_and_',\n",
       " 'bitwise_not',\n",
       " 'bitwise_not_',\n",
       " 'bitwise_or',\n",
       " 'bitwise_or_',\n",
       " 'bitwise_xor',\n",
       " 'bitwise_xor_',\n",
       " 'bmm',\n",
       " 'bool',\n",
       " 'byte',\n",
       " 'cauchy_',\n",
       " 'ceil',\n",
       " 'ceil_',\n",
       " 'char',\n",
       " 'cholesky',\n",
       " 'cholesky_inverse',\n",
       " 'cholesky_solve',\n",
       " 'chunk',\n",
       " 'clamp',\n",
       " 'clamp_',\n",
       " 'clamp_max',\n",
       " 'clamp_max_',\n",
       " 'clamp_min',\n",
       " 'clamp_min_',\n",
       " 'clone',\n",
       " 'coalesce',\n",
       " 'conj',\n",
       " 'contiguous',\n",
       " 'copy_',\n",
       " 'cos',\n",
       " 'cos_',\n",
       " 'cosh',\n",
       " 'cosh_',\n",
       " 'cpu',\n",
       " 'cross',\n",
       " 'cuda',\n",
       " 'cummax',\n",
       " 'cummin',\n",
       " 'cumprod',\n",
       " 'cumsum',\n",
       " 'data',\n",
       " 'data_ptr',\n",
       " 'dense_dim',\n",
       " 'dequantize',\n",
       " 'det',\n",
       " 'detach',\n",
       " 'detach_',\n",
       " 'device',\n",
       " 'diag',\n",
       " 'diag_embed',\n",
       " 'diagflat',\n",
       " 'diagonal',\n",
       " 'digamma',\n",
       " 'digamma_',\n",
       " 'dim',\n",
       " 'dist',\n",
       " 'div',\n",
       " 'div_',\n",
       " 'dot',\n",
       " 'double',\n",
       " 'dtype',\n",
       " 'eig',\n",
       " 'element_size',\n",
       " 'eq',\n",
       " 'eq_',\n",
       " 'equal',\n",
       " 'erf',\n",
       " 'erf_',\n",
       " 'erfc',\n",
       " 'erfc_',\n",
       " 'erfinv',\n",
       " 'erfinv_',\n",
       " 'exp',\n",
       " 'exp_',\n",
       " 'expand',\n",
       " 'expand_as',\n",
       " 'expm1',\n",
       " 'expm1_',\n",
       " 'exponential_',\n",
       " 'fft',\n",
       " 'fill_',\n",
       " 'fill_diagonal_',\n",
       " 'flatten',\n",
       " 'flip',\n",
       " 'float',\n",
       " 'floor',\n",
       " 'floor_',\n",
       " 'floor_divide',\n",
       " 'floor_divide_',\n",
       " 'fmod',\n",
       " 'fmod_',\n",
       " 'frac',\n",
       " 'frac_',\n",
       " 'gather',\n",
       " 'ge',\n",
       " 'ge_',\n",
       " 'geometric_',\n",
       " 'geqrf',\n",
       " 'ger',\n",
       " 'get_device',\n",
       " 'grad',\n",
       " 'grad_fn',\n",
       " 'gt',\n",
       " 'gt_',\n",
       " 'half',\n",
       " 'hardshrink',\n",
       " 'has_names',\n",
       " 'histc',\n",
       " 'ifft',\n",
       " 'index_add',\n",
       " 'index_add_',\n",
       " 'index_copy',\n",
       " 'index_copy_',\n",
       " 'index_fill',\n",
       " 'index_fill_',\n",
       " 'index_put',\n",
       " 'index_put_',\n",
       " 'index_select',\n",
       " 'indices',\n",
       " 'int',\n",
       " 'int_repr',\n",
       " 'inverse',\n",
       " 'irfft',\n",
       " 'is_coalesced',\n",
       " 'is_complex',\n",
       " 'is_contiguous',\n",
       " 'is_cuda',\n",
       " 'is_distributed',\n",
       " 'is_floating_point',\n",
       " 'is_leaf',\n",
       " 'is_mkldnn',\n",
       " 'is_nonzero',\n",
       " 'is_pinned',\n",
       " 'is_quantized',\n",
       " 'is_same_size',\n",
       " 'is_set_to',\n",
       " 'is_shared',\n",
       " 'is_signed',\n",
       " 'is_sparse',\n",
       " 'isclose',\n",
       " 'item',\n",
       " 'kthvalue',\n",
       " 'layout',\n",
       " 'le',\n",
       " 'le_',\n",
       " 'lerp',\n",
       " 'lerp_',\n",
       " 'lgamma',\n",
       " 'lgamma_',\n",
       " 'log',\n",
       " 'log10',\n",
       " 'log10_',\n",
       " 'log1p',\n",
       " 'log1p_',\n",
       " 'log2',\n",
       " 'log2_',\n",
       " 'log_',\n",
       " 'log_normal_',\n",
       " 'log_softmax',\n",
       " 'logdet',\n",
       " 'logical_and',\n",
       " 'logical_and_',\n",
       " 'logical_not',\n",
       " 'logical_not_',\n",
       " 'logical_or',\n",
       " 'logical_or_',\n",
       " 'logical_xor',\n",
       " 'logical_xor_',\n",
       " 'logsumexp',\n",
       " 'long',\n",
       " 'lstsq',\n",
       " 'lt',\n",
       " 'lt_',\n",
       " 'lu',\n",
       " 'lu_solve',\n",
       " 'map2_',\n",
       " 'map_',\n",
       " 'masked_fill',\n",
       " 'masked_fill_',\n",
       " 'masked_scatter',\n",
       " 'masked_scatter_',\n",
       " 'masked_select',\n",
       " 'matmul',\n",
       " 'matrix_power',\n",
       " 'max',\n",
       " 'mean',\n",
       " 'median',\n",
       " 'min',\n",
       " 'mm',\n",
       " 'mode',\n",
       " 'mul',\n",
       " 'mul_',\n",
       " 'multinomial',\n",
       " 'mv',\n",
       " 'mvlgamma',\n",
       " 'mvlgamma_',\n",
       " 'name',\n",
       " 'names',\n",
       " 'narrow',\n",
       " 'narrow_copy',\n",
       " 'ndim',\n",
       " 'ndimension',\n",
       " 'ne',\n",
       " 'ne_',\n",
       " 'neg',\n",
       " 'neg_',\n",
       " 'nelement',\n",
       " 'new',\n",
       " 'new_empty',\n",
       " 'new_full',\n",
       " 'new_ones',\n",
       " 'new_tensor',\n",
       " 'new_zeros',\n",
       " 'nonzero',\n",
       " 'norm',\n",
       " 'normal_',\n",
       " 'numel',\n",
       " 'numpy',\n",
       " 'orgqr',\n",
       " 'ormqr',\n",
       " 'output_nr',\n",
       " 'permute',\n",
       " 'pin_memory',\n",
       " 'pinverse',\n",
       " 'polygamma',\n",
       " 'polygamma_',\n",
       " 'pow',\n",
       " 'pow_',\n",
       " 'prelu',\n",
       " 'prod',\n",
       " 'put_',\n",
       " 'q_per_channel_axis',\n",
       " 'q_per_channel_scales',\n",
       " 'q_per_channel_zero_points',\n",
       " 'q_scale',\n",
       " 'q_zero_point',\n",
       " 'qr',\n",
       " 'qscheme',\n",
       " 'random_',\n",
       " 'reciprocal',\n",
       " 'reciprocal_',\n",
       " 'record_stream',\n",
       " 'refine_names',\n",
       " 'register_hook',\n",
       " 'reinforce',\n",
       " 'relu',\n",
       " 'relu_',\n",
       " 'remainder',\n",
       " 'remainder_',\n",
       " 'rename',\n",
       " 'rename_',\n",
       " 'renorm',\n",
       " 'renorm_',\n",
       " 'repeat',\n",
       " 'repeat_interleave',\n",
       " 'requires_grad',\n",
       " 'requires_grad_',\n",
       " 'reshape',\n",
       " 'reshape_as',\n",
       " 'resize',\n",
       " 'resize_',\n",
       " 'resize_as',\n",
       " 'resize_as_',\n",
       " 'retain_grad',\n",
       " 'rfft',\n",
       " 'roll',\n",
       " 'rot90',\n",
       " 'round',\n",
       " 'round_',\n",
       " 'rsqrt',\n",
       " 'rsqrt_',\n",
       " 'scatter',\n",
       " 'scatter_',\n",
       " 'scatter_add',\n",
       " 'scatter_add_',\n",
       " 'select',\n",
       " 'set_',\n",
       " 'shape',\n",
       " 'share_memory_',\n",
       " 'short',\n",
       " 'sigmoid',\n",
       " 'sigmoid_',\n",
       " 'sign',\n",
       " 'sign_',\n",
       " 'sin',\n",
       " 'sin_',\n",
       " 'sinh',\n",
       " 'sinh_',\n",
       " 'size',\n",
       " 'slogdet',\n",
       " 'smm',\n",
       " 'softmax',\n",
       " 'solve',\n",
       " 'sort',\n",
       " 'sparse_dim',\n",
       " 'sparse_mask',\n",
       " 'sparse_resize_',\n",
       " 'sparse_resize_and_clear_',\n",
       " 'split',\n",
       " 'split_with_sizes',\n",
       " 'sqrt',\n",
       " 'sqrt_',\n",
       " 'square',\n",
       " 'square_',\n",
       " 'squeeze',\n",
       " 'squeeze_',\n",
       " 'sspaddmm',\n",
       " 'std',\n",
       " 'stft',\n",
       " 'storage',\n",
       " 'storage_offset',\n",
       " 'storage_type',\n",
       " 'stride',\n",
       " 'sub',\n",
       " 'sub_',\n",
       " 'sum',\n",
       " 'sum_to_size',\n",
       " 'svd',\n",
       " 'symeig',\n",
       " 't',\n",
       " 't_',\n",
       " 'take',\n",
       " 'tan',\n",
       " 'tan_',\n",
       " 'tanh',\n",
       " 'tanh_',\n",
       " 'to',\n",
       " 'to_dense',\n",
       " 'to_mkldnn',\n",
       " 'to_sparse',\n",
       " 'tolist',\n",
       " 'topk',\n",
       " 'trace',\n",
       " 'transpose',\n",
       " 'transpose_',\n",
       " 'triangular_solve',\n",
       " 'tril',\n",
       " 'tril_',\n",
       " 'triu',\n",
       " 'triu_',\n",
       " 'true_divide',\n",
       " 'true_divide_',\n",
       " 'trunc',\n",
       " 'trunc_',\n",
       " 'type',\n",
       " 'type_as',\n",
       " 'unbind',\n",
       " 'unflatten',\n",
       " 'unfold',\n",
       " 'uniform_',\n",
       " 'unique',\n",
       " 'unique_consecutive',\n",
       " 'unsqueeze',\n",
       " 'unsqueeze_',\n",
       " 'values',\n",
       " 'var',\n",
       " 'view',\n",
       " 'view_as',\n",
       " 'where',\n",
       " 'zero_']"
      ]
     },
     "execution_count": 37,
     "metadata": {},
     "output_type": "execute_result"
    }
   ],
   "source": [
    "dir(x)\n",
    "#data\n",
    "#grad\n",
    "#grad_fn"
   ]
  },
  {
   "cell_type": "code",
   "execution_count": 38,
   "metadata": {},
   "outputs": [
    {
     "name": "stdout",
     "output_type": "stream",
     "text": [
      "tensor([0.5938])\n",
      "None\n"
     ]
    }
   ],
   "source": [
    "print(x.data)\n",
    "print(x.grad)"
   ]
  },
  {
   "cell_type": "code",
   "execution_count": 41,
   "metadata": {},
   "outputs": [
    {
     "data": {
      "text/plain": [
       "0.5937507748603821"
      ]
     },
     "execution_count": 41,
     "metadata": {},
     "output_type": "execute_result"
    }
   ],
   "source": [
    "x.item()"
   ]
  },
  {
   "cell_type": "code",
   "execution_count": 42,
   "metadata": {},
   "outputs": [
    {
     "data": {
      "text/plain": [
       "tensor([[0.5963, 0.2526],\n",
       "        [0.4531, 0.9666],\n",
       "        [0.4895, 0.5129],\n",
       "        [0.3420, 0.2281],\n",
       "        [0.2500, 0.0399],\n",
       "        [0.1919, 0.0234],\n",
       "        [0.2045, 0.6676],\n",
       "        [0.7810, 0.4813]])"
      ]
     },
     "execution_count": 42,
     "metadata": {},
     "output_type": "execute_result"
    }
   ],
   "source": [
    "z.transpose(1,0)"
   ]
  },
  {
   "cell_type": "markdown",
   "metadata": {},
   "source": [
    "### 更多阅读\n",
    "\n",
    "各种Tensor operations, 包括transposing, indexing, slicing, mathematical operations, linear algebra, random numbers在 <https://pytorch.org/docs/torch>."
   ]
  },
  {
   "cell_type": "markdown",
   "metadata": {},
   "source": [
    "## Numpy与Tensor之间转化"
   ]
  },
  {
   "cell_type": "markdown",
   "metadata": {},
   "source": [
    "### Tensor->Numpy"
   ]
  },
  {
   "cell_type": "code",
   "execution_count": 44,
   "metadata": {},
   "outputs": [
    {
     "data": {
      "text/plain": [
       "tensor([1., 1., 1., 1., 1.])"
      ]
     },
     "execution_count": 44,
     "metadata": {},
     "output_type": "execute_result"
    }
   ],
   "source": [
    "a=torch.ones(5)\n",
    "a"
   ]
  },
  {
   "cell_type": "code",
   "execution_count": 48,
   "metadata": {},
   "outputs": [
    {
     "data": {
      "text/plain": [
       "array([1., 2., 1., 1., 1.], dtype=float32)"
      ]
     },
     "execution_count": 48,
     "metadata": {},
     "output_type": "execute_result"
    }
   ],
   "source": [
    "b=a.numpy()\n",
    "b"
   ]
  },
  {
   "cell_type": "markdown",
   "metadata": {},
   "source": [
    "注意：a，b共享内存空间"
   ]
  },
  {
   "cell_type": "code",
   "execution_count": 46,
   "metadata": {},
   "outputs": [
    {
     "data": {
      "text/plain": [
       "array([1., 2., 1., 1., 1.], dtype=float32)"
      ]
     },
     "execution_count": 46,
     "metadata": {},
     "output_type": "execute_result"
    }
   ],
   "source": [
    "b[1]=2\n",
    "b"
   ]
  },
  {
   "cell_type": "code",
   "execution_count": 47,
   "metadata": {},
   "outputs": [
    {
     "data": {
      "text/plain": [
       "tensor([1., 2., 1., 1., 1.])"
      ]
     },
     "execution_count": 47,
     "metadata": {},
     "output_type": "execute_result"
    }
   ],
   "source": [
    "a"
   ]
  },
  {
   "cell_type": "markdown",
   "metadata": {},
   "source": [
    "### Numpy->Tensor"
   ]
  },
  {
   "cell_type": "code",
   "execution_count": 63,
   "metadata": {},
   "outputs": [
    {
     "data": {
      "text/plain": [
       "tensor([1., 1., 1., 1., 1.], dtype=torch.float64)"
      ]
     },
     "execution_count": 63,
     "metadata": {},
     "output_type": "execute_result"
    }
   ],
   "source": [
    "import numpy as np\n",
    "a=np.ones(5)\n",
    "b=torch.from_numpy(a)\n",
    "b"
   ]
  },
  {
   "cell_type": "markdown",
   "metadata": {},
   "source": [
    "注意：a，b共享内存空间"
   ]
  },
  {
   "cell_type": "code",
   "execution_count": 64,
   "metadata": {},
   "outputs": [
    {
     "data": {
      "text/plain": [
       "array([1., 2., 1., 1., 1.])"
      ]
     },
     "execution_count": 64,
     "metadata": {},
     "output_type": "execute_result"
    }
   ],
   "source": [
    "a[1]=2\n",
    "a"
   ]
  },
  {
   "cell_type": "code",
   "execution_count": 65,
   "metadata": {},
   "outputs": [
    {
     "data": {
      "text/plain": [
       "tensor([1., 2., 1., 1., 1.], dtype=torch.float64)"
      ]
     },
     "execution_count": 65,
     "metadata": {},
     "output_type": "execute_result"
    }
   ],
   "source": [
    "b"
   ]
  },
  {
   "cell_type": "code",
   "execution_count": 67,
   "metadata": {},
   "outputs": [
    {
     "data": {
      "text/plain": [
       "array([3., 4., 3., 3., 3.])"
      ]
     },
     "execution_count": 67,
     "metadata": {},
     "output_type": "execute_result"
    }
   ],
   "source": [
    "a=a+1\n",
    "a"
   ]
  },
  {
   "cell_type": "code",
   "execution_count": 68,
   "metadata": {},
   "outputs": [
    {
     "data": {
      "text/plain": [
       "tensor([1., 2., 1., 1., 1.], dtype=torch.float64)"
      ]
     },
     "execution_count": 68,
     "metadata": {},
     "output_type": "execute_result"
    }
   ],
   "source": [
    "b"
   ]
  },
  {
   "cell_type": "markdown",
   "metadata": {},
   "source": [
    "## CUDA Tensors"
   ]
  },
  {
   "cell_type": "code",
   "execution_count": 70,
   "metadata": {},
   "outputs": [
    {
     "data": {
      "text/plain": [
       "True"
      ]
     },
     "execution_count": 70,
     "metadata": {},
     "output_type": "execute_result"
    }
   ],
   "source": [
    "torch.cuda.is_available()"
   ]
  },
  {
   "cell_type": "code",
   "execution_count": 72,
   "metadata": {},
   "outputs": [
    {
     "data": {
      "text/plain": [
       "tensor([1.], device='cuda:0')"
      ]
     },
     "execution_count": 72,
     "metadata": {},
     "output_type": "execute_result"
    }
   ],
   "source": [
    "device=torch.device('cuda')\n",
    "y=torch.ones_like(x,device=device)\n",
    "y"
   ]
  },
  {
   "cell_type": "code",
   "execution_count": 74,
   "metadata": {},
   "outputs": [
    {
     "name": "stdout",
     "output_type": "stream",
     "text": [
      "tensor([1.5938], device='cuda:0')\n",
      "tensor([1.5938])\n",
      "tensor([1.5938], dtype=torch.float64)\n"
     ]
    }
   ],
   "source": [
    "x=x.to(device)\n",
    "z=x+y\n",
    "print(z)\n",
    "print(z.to('cpu'))\n",
    "print(z.to('cpu',torch.double))"
   ]
  },
  {
   "cell_type": "markdown",
   "metadata": {},
   "source": [
    "gpu中数据不能直接转化为numpy数据 需要先转到cpu中  \n",
    "numpy数据在cpu上操作"
   ]
  },
  {
   "cell_type": "code",
   "execution_count": 84,
   "metadata": {},
   "outputs": [
    {
     "name": "stdout",
     "output_type": "stream",
     "text": [
      "[[0.6269689  0.5623227  0.01049137]\n",
      " [0.7307416  0.43149674 0.69761956]\n",
      " [0.6553753  0.51908356 0.6943256 ]\n",
      " [0.01653855 0.5959171  0.47122547]\n",
      " [0.09330803 0.39578336 0.5964598 ]]\n",
      "<class 'numpy.ndarray'>\n"
     ]
    }
   ],
   "source": [
    "q=torch.rand(5,3,device=device)\n",
    "q\n",
    "c=q.to('cpu').data.numpy()\n",
    "# q.cpu().data.numpy()\n",
    "print(c)\n",
    "print(type(c))"
   ]
  },
  {
   "cell_type": "markdown",
   "metadata": {},
   "source": [
    "将模型搬入gpu"
   ]
  },
  {
   "cell_type": "code",
   "execution_count": null,
   "metadata": {},
   "outputs": [],
   "source": [
    "model=model.cuda()"
   ]
  },
  {
   "cell_type": "markdown",
   "metadata": {},
   "source": [
    "## 用numpy实现两层神经网络"
   ]
  },
  {
   "cell_type": "markdown",
   "metadata": {},
   "source": [
    "一个全连接ReLU神经网络，一个隐含层，没有bias  \n",
    "- $h=W_1X$  \n",
    "- $a=max(0,h)$\n",
    "- $y_{hat}=W_2a$\n",
    "\n",
    "完全使用numpy计算前向神经网络，loss和backpropagation  \n",
    "- forward pass  \n",
    "- loss  \n",
    "- backward pass  "
   ]
  },
  {
   "cell_type": "code",
   "execution_count": 2,
   "metadata": {},
   "outputs": [
    {
     "name": "stdout",
     "output_type": "stream",
     "text": [
      "0 28581267.347675964\n",
      "1 26157225.289634436\n",
      "2 26766717.128268205\n",
      "3 26616693.095043615\n",
      "4 23539180.65749626\n",
      "5 17630489.99775575\n",
      "6 11351313.207464835\n",
      "7 6555585.465408297\n",
      "8 3683570.7470515165\n",
      "9 2153854.9231364327\n",
      "10 1370473.394580257\n",
      "11 957659.6883527983\n",
      "12 725374.0028188875\n",
      "13 581502.7412870566\n",
      "14 483442.7035153256\n",
      "15 411059.0036252707\n",
      "16 354562.84584334353\n",
      "17 308760.06014819886\n",
      "18 270638.6688958766\n",
      "19 238365.49267967854\n",
      "20 210864.5071995287\n",
      "21 187245.84117754304\n",
      "22 166872.4326093053\n",
      "23 149191.61494642287\n",
      "24 133803.6186520156\n",
      "25 120312.66442224673\n",
      "26 108451.70334311938\n",
      "27 97960.84142487257\n",
      "28 88653.56550178188\n",
      "29 80377.06012278402\n",
      "30 72999.83634682346\n",
      "31 66417.09808202472\n",
      "32 60518.21201248113\n",
      "33 55217.508177085096\n",
      "34 50459.64199242194\n",
      "35 46174.39200965996\n",
      "36 42310.563177503354\n",
      "37 38818.70847183845\n",
      "38 35656.110934301774\n",
      "39 32789.55355319227\n",
      "40 30185.053858554194\n",
      "41 27818.985805035\n",
      "42 25666.73429186296\n",
      "43 23708.602968331306\n",
      "44 21922.34446411695\n",
      "45 20289.91824721428\n",
      "46 18795.78317201486\n",
      "47 17427.587704743975\n",
      "48 16172.292206473456\n",
      "49 15020.941569688155\n",
      "50 13962.309197446299\n",
      "51 12989.513658334294\n",
      "52 12093.818699710011\n",
      "53 11269.639654778519\n",
      "54 10509.375102483453\n",
      "55 9806.549972161767\n",
      "56 9157.053527604065\n",
      "57 8556.41390169915\n",
      "58 8000.138333151599\n",
      "59 7484.602827872331\n",
      "60 7006.820803561586\n",
      "61 6563.381462265726\n",
      "62 6151.604301733538\n",
      "63 5769.26336137482\n",
      "64 5413.383502169228\n",
      "65 5082.363541967876\n",
      "66 4774.277902493976\n",
      "67 4487.204532755441\n",
      "68 4220.016712910677\n",
      "69 3970.736069075164\n",
      "70 3738.048900310789\n",
      "71 3520.752657214263\n",
      "72 3317.7460868777093\n",
      "73 3127.9878815535503\n",
      "74 2950.3113390463345\n",
      "75 2784.030791102493\n",
      "76 2628.311828752666\n",
      "77 2482.4251829584373\n",
      "78 2345.567257031794\n",
      "79 2217.1849153487974\n",
      "80 2096.716060367088\n",
      "81 1983.643321792316\n",
      "82 1877.4237113950444\n",
      "83 1777.5678768650714\n",
      "84 1683.6154429308103\n",
      "85 1595.2623584892885\n",
      "86 1512.0801259810737\n",
      "87 1433.7361052985295\n",
      "88 1359.9252028094647\n",
      "89 1290.3594990710967\n",
      "90 1224.8294165858042\n",
      "91 1163.005004130308\n",
      "92 1104.7281894108055\n",
      "93 1049.661898244217\n",
      "94 997.6551440690433\n",
      "95 948.4916613447804\n",
      "96 902.0343941700196\n",
      "97 858.1011971304652\n",
      "98 816.5718662317643\n",
      "99 777.2454145248707\n",
      "100 740.0236845600732\n",
      "101 704.7915153938164\n",
      "102 671.4359433971574\n",
      "103 639.7947353267846\n",
      "104 609.8133870014303\n",
      "105 581.373248199789\n",
      "106 554.3965196727986\n",
      "107 528.7993540970377\n",
      "108 504.50226592056174\n",
      "109 481.4390965091037\n",
      "110 459.5374590819479\n",
      "111 438.75358374801687\n",
      "112 418.9904622930013\n",
      "113 400.1913290307322\n",
      "114 382.3193688319485\n",
      "115 365.31854766782845\n",
      "116 349.1552351268459\n",
      "117 333.7735995818156\n",
      "118 319.1255211419005\n",
      "119 305.18194936890984\n",
      "120 291.9064471821936\n",
      "121 279.2658659640331\n",
      "122 267.21077382567273\n",
      "123 255.72171419152545\n",
      "124 244.76881202936502\n",
      "125 234.3250911341409\n",
      "126 224.3650154344447\n",
      "127 214.86370489489016\n",
      "128 205.80465635995506\n",
      "129 197.15883404516032\n",
      "130 188.90430394935998\n",
      "131 181.0234611155718\n",
      "132 173.4925738148613\n",
      "133 166.30485062536633\n",
      "134 159.43899664479332\n",
      "135 152.87888665064494\n",
      "136 146.60950293961224\n",
      "137 140.6207183159387\n",
      "138 134.89051972840383\n",
      "139 129.41100877105225\n",
      "140 124.17631998799294\n",
      "141 119.16692833671215\n",
      "142 114.3750302353316\n",
      "143 109.7872608430265\n",
      "144 105.39612400038091\n",
      "145 101.19242667874514\n",
      "146 97.17034969195282\n",
      "147 93.31763440850872\n",
      "148 89.62699278528287\n",
      "149 86.09370172760148\n",
      "150 82.70780028581487\n",
      "151 79.46207349985006\n",
      "152 76.3514207964604\n",
      "153 73.36984051332075\n",
      "154 70.51236373141543\n",
      "155 67.7748739424294\n",
      "156 65.14760882237347\n",
      "157 62.62755504745559\n",
      "158 60.21238194563131\n",
      "159 57.89685595809343\n",
      "160 55.67242051173036\n",
      "161 53.53824974132564\n",
      "162 51.49097720231549\n",
      "163 49.526901306605566\n",
      "164 47.64292175936386\n",
      "165 45.83304019325139\n",
      "166 44.095540100994576\n",
      "167 42.427849687714364\n",
      "168 40.828272943684894\n",
      "169 39.28955471574099\n",
      "170 37.81134373337936\n",
      "171 36.39167133069438\n",
      "172 35.02775069224622\n",
      "173 33.71800450187349\n",
      "174 32.45884791533773\n",
      "175 31.248710270056453\n",
      "176 30.085858793578737\n",
      "177 28.969019282451374\n",
      "178 27.894666475894276\n",
      "179 26.861603350262968\n",
      "180 25.868544003357265\n",
      "181 24.914171488125497\n",
      "182 23.996302517239396\n",
      "183 23.113263222388092\n",
      "184 22.263959215384325\n",
      "185 21.446982829024375\n",
      "186 20.661838744191552\n",
      "187 19.906301230750994\n",
      "188 19.178874933107465\n",
      "189 18.479028495698262\n",
      "190 17.80564446273721\n",
      "191 17.157762455155094\n",
      "192 16.53448901376425\n",
      "193 15.93436916868287\n",
      "194 15.357049651776686\n",
      "195 14.80166314538996\n",
      "196 14.266726717106224\n",
      "197 13.751515386663787\n",
      "198 13.255504468684265\n",
      "199 12.777865862230826\n",
      "200 12.317968487910221\n",
      "201 11.875547113139843\n",
      "202 11.449126468534306\n",
      "203 11.038458810996222\n",
      "204 10.643508417606704\n",
      "205 10.262780152526432\n",
      "206 9.895864460266257\n",
      "207 9.542522835122504\n",
      "208 9.202226652346464\n",
      "209 8.874237121568427\n",
      "210 8.558408706086178\n",
      "211 8.254038635077354\n",
      "212 7.960671865844338\n",
      "213 7.678485108470664\n",
      "214 7.406105550482251\n",
      "215 7.143619269798917\n",
      "216 6.8907105632042995\n",
      "217 6.6469259903384685\n",
      "218 6.411983471996942\n",
      "219 6.1855724101299625\n",
      "220 5.967436046742819\n",
      "221 5.757276564007611\n",
      "222 5.554739687581959\n",
      "223 5.359233079343905\n",
      "224 5.170755489414223\n",
      "225 4.989070924954847\n",
      "226 4.813876971015178\n",
      "227 4.644942925707998\n",
      "228 4.482093333610355\n",
      "229 4.325193697483182\n",
      "230 4.173936087945343\n",
      "231 4.027926613430289\n",
      "232 3.8871493642952957\n",
      "233 3.751332293254441\n",
      "234 3.6203652956409424\n",
      "235 3.4940516173261544\n",
      "236 3.3722794251913486\n",
      "237 3.254816752769648\n",
      "238 3.141612252659078\n",
      "239 3.032375596846438\n",
      "240 2.926919419204543\n",
      "241 2.825203336079552\n",
      "242 2.727066210251571\n",
      "243 2.632399617312336\n",
      "244 2.541075132298502\n",
      "245 2.4529630173867165\n",
      "246 2.367985277541381\n",
      "247 2.286068509060465\n",
      "248 2.2069477329737843\n",
      "249 2.1306253220661144\n",
      "250 2.056987733051053\n",
      "251 1.9859262828802917\n",
      "252 1.9173253201344762\n",
      "253 1.851130746556945\n",
      "254 1.7872622310950081\n",
      "255 1.7256802582949353\n",
      "256 1.6662213970263082\n",
      "257 1.608811044136425\n",
      "258 1.5534306321120668\n",
      "259 1.4999662365264257\n",
      "260 1.448352807244564\n",
      "261 1.3985620517468893\n",
      "262 1.3504846406527085\n",
      "263 1.3041063696011554\n",
      "264 1.2593988307700197\n",
      "265 1.2161666841367476\n",
      "266 1.174432001737302\n",
      "267 1.1341451128236208\n",
      "268 1.0952850030196983\n",
      "269 1.057747438237231\n",
      "270 1.021506210565546\n",
      "271 0.9865226780687089\n",
      "272 0.9527931933286077\n",
      "273 0.920204623849225\n",
      "274 0.8887282451456947\n",
      "275 0.8583409596730992\n",
      "276 0.829000879156101\n",
      "277 0.8006804519775588\n",
      "278 0.7733603580416444\n",
      "279 0.746963113873105\n",
      "280 0.721478109856906\n",
      "281 0.6968869780551312\n",
      "282 0.6731167615351549\n",
      "283 0.6501679594923935\n",
      "284 0.6280067731238996\n",
      "285 0.6066078750529831\n",
      "286 0.5859457252501019\n",
      "287 0.5660000348435331\n",
      "288 0.5467354767392952\n",
      "289 0.528156394785571\n",
      "290 0.5101914377239696\n",
      "291 0.49284489525944153\n",
      "292 0.4760951587228711\n",
      "293 0.459916534655379\n",
      "294 0.4442888419562904\n",
      "295 0.42919565058067394\n",
      "296 0.41461973749437137\n",
      "297 0.4005607092578936\n",
      "298 0.3869752382966789\n",
      "299 0.3738428142668488\n",
      "300 0.36115977276331784\n",
      "301 0.348911291707951\n",
      "302 0.3370810978788662\n",
      "303 0.32565473645569765\n",
      "304 0.3146172020533297\n",
      "305 0.3039653780998277\n",
      "306 0.29368940065021454\n",
      "307 0.28374569683838785\n",
      "308 0.2741386302841121\n",
      "309 0.26486065830130845\n",
      "310 0.255897151713752\n",
      "311 0.24723835868179517\n",
      "312 0.23887498048094163\n",
      "313 0.23079776921486866\n",
      "314 0.2230048526863001\n",
      "315 0.21546706370492824\n",
      "316 0.20818851446646686\n",
      "317 0.20115605180567087\n",
      "318 0.19436036707551993\n",
      "319 0.1877964882708441\n",
      "320 0.18145686699360508\n",
      "321 0.1753329362997207\n",
      "322 0.169420540071\n",
      "323 0.16370685364574214\n",
      "324 0.1581826668268477\n",
      "325 0.15284877114296547\n",
      "326 0.14769447345774006\n",
      "327 0.14271354776038878\n",
      "328 0.13790168114739187\n",
      "329 0.13325345809763903\n",
      "330 0.12876646927590196\n",
      "331 0.12443052296118552\n",
      "332 0.12023810386033375\n",
      "333 0.1161884200876798\n",
      "334 0.11227616758763623\n",
      "335 0.10849838028103766\n",
      "336 0.1048451379540791\n",
      "337 0.1013159340290507\n",
      "338 0.09790718379413342\n",
      "339 0.09461609411241717\n",
      "340 0.0914324649219136\n",
      "341 0.08835668431414609\n",
      "342 0.08538479847614563\n",
      "343 0.0825129189134696\n",
      "344 0.07973900782176699\n",
      "345 0.0770587587643543\n",
      "346 0.07446927201308083\n",
      "347 0.07196965127925424\n",
      "348 0.06955103323654621\n",
      "349 0.06721532553735429\n",
      "350 0.06495726683273148\n",
      "351 0.06277491761053092\n",
      "352 0.060666234054478026\n",
      "353 0.058629172322214165\n",
      "354 0.05666169588393126\n",
      "355 0.05476141594434061\n",
      "356 0.05292383795611724\n",
      "357 0.05114726804557567\n",
      "358 0.04943090133545565\n",
      "359 0.04777205372418988\n",
      "360 0.046169398464263225\n",
      "361 0.044620415928363535\n",
      "362 0.04312395367808014\n",
      "363 0.04168021623064991\n",
      "364 0.04028331701726545\n",
      "365 0.03893234275770277\n",
      "366 0.037626876272536254\n"
     ]
    },
    {
     "name": "stdout",
     "output_type": "stream",
     "text": [
      "367 0.03636566884216462\n",
      "368 0.03514649983679061\n",
      "369 0.033968420953920136\n",
      "370 0.0328299130010825\n",
      "371 0.03173081247641821\n",
      "372 0.03066874624370678\n",
      "373 0.02964131490780721\n",
      "374 0.02864850473199637\n",
      "375 0.027688936505678108\n",
      "376 0.026761679840536085\n",
      "377 0.025865834289965896\n",
      "378 0.024999672895027844\n",
      "379 0.02416288608768344\n",
      "380 0.023354963242688116\n",
      "381 0.02257333417520137\n",
      "382 0.021817860656612596\n",
      "383 0.02108758972304491\n",
      "384 0.02038188520142814\n",
      "385 0.019699915964829742\n",
      "386 0.019040668629334172\n",
      "387 0.01840376065062823\n",
      "388 0.017788922004457815\n",
      "389 0.017193902702522208\n",
      "390 0.016618961771948593\n",
      "391 0.016063577401173874\n",
      "392 0.01552647685925099\n",
      "393 0.015007253554904402\n",
      "394 0.01450554183908189\n",
      "395 0.014020543530261751\n",
      "396 0.01355238519953171\n",
      "397 0.013099445851403484\n",
      "398 0.012661596821031722\n",
      "399 0.012238473930224283\n",
      "400 0.011829578527569998\n",
      "401 0.011434271822209137\n",
      "402 0.011052176317810074\n",
      "403 0.010682961789186629\n",
      "404 0.010326456659484017\n",
      "405 0.009981657551630729\n",
      "406 0.009648321865344447\n",
      "407 0.009326042969526778\n",
      "408 0.00901461676477147\n",
      "409 0.008713640484296101\n",
      "410 0.0084226105406666\n",
      "411 0.008141328876033464\n",
      "412 0.007869715416349218\n",
      "413 0.00760716966768139\n",
      "414 0.007353184901771028\n",
      "415 0.007107732619038734\n",
      "416 0.0068704346490952774\n",
      "417 0.006641147557605221\n",
      "418 0.006419557631453243\n",
      "419 0.006205365090923804\n",
      "420 0.0059983901734774765\n",
      "421 0.005798454135228447\n",
      "422 0.005605006291838997\n",
      "423 0.005417968367174579\n",
      "424 0.00523719618042026\n",
      "425 0.005062456957946215\n",
      "426 0.00489361784246492\n",
      "427 0.0047304455477434944\n",
      "428 0.004572676127894329\n",
      "429 0.004420368620668392\n",
      "430 0.00427291791149164\n",
      "431 0.004130416028748019\n",
      "432 0.003992668269909162\n",
      "433 0.0038595351024255193\n",
      "434 0.0037309084150692296\n",
      "435 0.003606503067416873\n",
      "436 0.003486316940486245\n",
      "437 0.003370228036880019\n",
      "438 0.0032578953876279924\n",
      "439 0.0031492759308830737\n",
      "440 0.0030442879219265925\n",
      "441 0.002942827631032978\n",
      "442 0.0028447429874336365\n",
      "443 0.0027499341059259042\n",
      "444 0.002658285621887836\n",
      "445 0.002569825518350018\n",
      "446 0.002484229513675088\n",
      "447 0.002401437268418174\n",
      "448 0.002321445623037233\n",
      "449 0.002244110241789643\n",
      "450 0.002169335017014652\n",
      "451 0.0020970684786834693\n",
      "452 0.0020272020396629527\n",
      "453 0.0019597248592951675\n",
      "454 0.001894507859888895\n",
      "455 0.0018314029876178612\n",
      "456 0.0017704155858555982\n",
      "457 0.001711444564584708\n",
      "458 0.001654440791062403\n",
      "459 0.0015993317024642186\n",
      "460 0.001546064353173483\n",
      "461 0.001494610847796307\n",
      "462 0.001444919626374073\n",
      "463 0.0013968356122815097\n",
      "464 0.0013503191067244112\n",
      "465 0.00130535629617756\n",
      "466 0.0012619031172889767\n",
      "467 0.0012198847211553968\n",
      "468 0.0011792720196099258\n",
      "469 0.0011400148594301444\n",
      "470 0.001102114450889238\n",
      "471 0.0010654524128215748\n",
      "472 0.0010299855137963988\n",
      "473 0.0009956987932955674\n",
      "474 0.0009625542826841843\n",
      "475 0.0009305134729560112\n",
      "476 0.0008995594467575254\n",
      "477 0.0008696306871570121\n",
      "478 0.0008407133248639777\n",
      "479 0.0008127567579167598\n",
      "480 0.0007857161681669913\n",
      "481 0.0007595740551615544\n",
      "482 0.0007342987353128927\n",
      "483 0.0007098657627477136\n",
      "484 0.0006862465440184666\n",
      "485 0.0006634108248081338\n",
      "486 0.0006413562261659119\n",
      "487 0.0006200387504392173\n",
      "488 0.0005994158980982389\n",
      "489 0.0005794755064636563\n",
      "490 0.0005601960236108999\n",
      "491 0.0005415752338319808\n",
      "492 0.0005235614270355429\n",
      "493 0.0005061441505852448\n",
      "494 0.0004893090245140172\n",
      "495 0.00047305921388295926\n",
      "496 0.00045732846408187667\n",
      "497 0.0004421248432244474\n",
      "498 0.0004274209307280326\n",
      "499 0.0004132075887826663\n"
     ]
    }
   ],
   "source": [
    "import numpy as np\n",
    "#N: 输入个数\n",
    "#D_in：维度\n",
    "#H：hidden layer维度\n",
    "#D_out：输出维度\n",
    "N, D_in, H, D_out=64,1000,100,10\n",
    "\n",
    "#随机创建训练数据\n",
    "x=np.random.randn(N,D_in)\n",
    "y=np.random.randn(N,D_out)\n",
    "\n",
    "w1=np.random.randn(D_in,H)\n",
    "w2=np.random.randn(H,D_out)\n",
    "\n",
    "learning_rate=1e-6\n",
    "\n",
    "for it in range(500):\n",
    "    #Forward pass\n",
    "    h=x.dot(w1) #N*H\n",
    "    h_relu=np.maximum(h,0) #N*H\n",
    "    y_pred=h_relu.dot(w2) #N*D_out\n",
    "    \n",
    "    #compute loss\n",
    "    loss=np.square(y_pred-y).sum()\n",
    "    print(it,loss)\n",
    "    \n",
    "    #Backward pass\n",
    "    # compute the gradient\n",
    "    grad_y_pred=2.0*(y_pred-y)\n",
    "    grad_w2=h_relu.T.dot(grad_y_pred)\n",
    "    grad_h_relu=grad_y_pred.dot(w2.T)\n",
    "    grad_h=grad_h_relu.copy()\n",
    "    grad_h[h<0]=0\n",
    "    grad_w1=x.T.dot(grad_h)\n",
    "    \n",
    "    #update weights of w1 and w2\n",
    "    w1-=learning_rate*grad_w1\n",
    "    w2-=learning_rate*grad_w2"
   ]
  },
  {
   "cell_type": "code",
   "execution_count": 3,
   "metadata": {},
   "outputs": [
    {
     "data": {
      "text/plain": [
       "array([[-1.67639582,  1.25217825, -0.60135276, ..., -0.4412069 ,\n",
       "        -0.35452615,  0.2197139 ],\n",
       "       [ 0.06625453,  0.54070371,  1.25250183, ...,  0.51630559,\n",
       "         1.20338577, -1.48871205],\n",
       "       [-1.54077675,  1.0707647 ,  0.75501128, ...,  0.65498974,\n",
       "         0.28898787, -1.07734203],\n",
       "       ...,\n",
       "       [-0.99134977, -0.56304054,  0.14872042, ..., -0.92661933,\n",
       "         0.27830645,  0.21977346],\n",
       "       [ 1.85353027,  0.5738337 , -1.29384605, ..., -1.05398031,\n",
       "        -0.11650791,  1.19444727],\n",
       "       [-0.21841011, -0.29410019, -0.71439535, ..., -0.07449753,\n",
       "         0.30309238, -0.14423705]])"
      ]
     },
     "execution_count": 3,
     "metadata": {},
     "output_type": "execute_result"
    }
   ],
   "source": [
    "x"
   ]
  },
  {
   "cell_type": "code",
   "execution_count": 4,
   "metadata": {},
   "outputs": [
    {
     "data": {
      "text/plain": [
       "array([[-8.60766177e-01, -8.86470958e-01,  1.03308178e+00,\n",
       "        -1.08563093e-01, -4.14974203e-01, -1.00509168e-01,\n",
       "         1.36899844e+00,  1.19529636e+00,  2.99192649e-01,\n",
       "        -3.07891831e-02],\n",
       "       [-2.11761400e-01, -6.59501742e-01, -4.28059777e-01,\n",
       "        -2.56061634e-01,  3.56032507e-01, -2.95386217e-02,\n",
       "        -1.00634839e-01,  6.02322006e-01, -2.77272714e-01,\n",
       "        -3.08387591e-01],\n",
       "       [ 1.00287415e+00,  1.06992479e+00, -5.91485599e-01,\n",
       "         2.21634915e-01, -6.81475964e-01,  7.54946478e-01,\n",
       "         6.08821634e-01, -5.05601089e-01, -6.27126450e-01,\n",
       "         1.98147047e-01],\n",
       "       [-7.75919297e-01, -4.63583744e-01,  4.47321036e-01,\n",
       "        -1.21222661e+00,  7.30995637e-02,  7.18899556e-02,\n",
       "        -6.27546367e-01, -4.37633338e-01, -3.69211714e-03,\n",
       "         9.59152184e-01],\n",
       "       [ 6.34407486e-01,  9.16470027e-01, -1.93625806e+00,\n",
       "        -2.97501459e-01, -1.93330659e+00, -6.71659706e-01,\n",
       "         3.60789974e-01,  1.07678629e+00, -1.77787163e+00,\n",
       "         5.80547034e-02],\n",
       "       [-3.72702924e-01,  2.01826113e-01, -3.17047385e-01,\n",
       "        -8.21137445e-01, -4.70927980e-01,  1.73552424e+00,\n",
       "         1.49332925e+00, -6.32566111e-01,  1.29135015e+00,\n",
       "        -1.97043401e-01],\n",
       "       [-2.21104727e+00,  1.15940417e-01,  8.46078561e-01,\n",
       "         1.08276584e+00, -4.53519742e-01, -5.86455752e-01,\n",
       "         6.18064283e-01, -6.88722735e-01, -5.20811676e-01,\n",
       "         4.25763926e-01],\n",
       "       [ 8.91790438e-01,  6.96054955e-01, -6.13325905e-02,\n",
       "        -1.00063926e+00, -2.40503408e-01,  2.38026750e-01,\n",
       "         7.00844947e-01,  1.79886797e+00,  1.48315786e-01,\n",
       "         2.28742997e-01],\n",
       "       [-9.00574124e-01,  1.66500662e-01, -1.11146063e+00,\n",
       "         1.42315968e+00,  9.76879668e-01,  8.12961091e-01,\n",
       "        -1.05537652e+00, -1.21571125e-01, -7.38480102e-01,\n",
       "        -6.65378510e-01],\n",
       "       [ 3.52893973e-01,  3.57941768e-01, -3.66908138e-01,\n",
       "         1.11273381e+00, -5.79218878e-01,  4.18665492e-01,\n",
       "         6.04101566e-01, -4.40421280e-01,  3.27824045e-01,\n",
       "        -1.55882563e-01],\n",
       "       [ 6.33214040e-01, -1.12289766e+00,  7.50948628e-01,\n",
       "         1.06879059e-01,  7.50275816e-01, -4.09624778e-01,\n",
       "         1.75960558e-01,  2.03302444e-01,  1.41255700e+00,\n",
       "        -3.26333552e-01],\n",
       "       [ 2.46350933e-01, -4.24848015e-01, -1.44950642e-02,\n",
       "        -1.09560472e+00, -2.19380766e-01, -3.38843449e-01,\n",
       "        -3.89785917e-01, -7.07019762e-01, -1.73516056e+00,\n",
       "        -6.56683750e-02],\n",
       "       [-8.10957711e-01,  2.78803022e-01,  1.35658935e+00,\n",
       "        -7.31424580e-02, -1.59310648e+00,  2.31379892e-01,\n",
       "        -1.68136214e+00, -8.66380444e-01, -4.58635813e-01,\n",
       "        -2.49341399e-01],\n",
       "       [-2.05799910e-01, -1.26343371e+00, -1.82929468e+00,\n",
       "        -1.27322546e+00, -1.12994147e+00, -3.71639009e-02,\n",
       "         3.18528100e-02,  5.88071807e-01,  5.00374684e-01,\n",
       "         6.91133891e-01],\n",
       "       [-1.48968025e+00, -1.64793375e+00,  3.22992589e-01,\n",
       "         1.17921524e-01, -1.22899842e+00,  7.35594898e-01,\n",
       "         9.44456029e-01,  9.03490817e-01,  4.55483731e-01,\n",
       "         1.92013484e+00],\n",
       "       [ 6.62898343e-01, -3.42567265e-01, -4.71104855e-01,\n",
       "        -6.77657156e-02,  1.35533183e+00,  9.19873854e-02,\n",
       "        -1.24407633e-01, -2.29253941e+00, -2.08474153e+00,\n",
       "        -4.58655254e-01],\n",
       "       [ 1.34555539e+00,  1.05729708e+00,  1.70932502e+00,\n",
       "         9.45103887e-01,  5.13773706e-01, -8.59181987e-01,\n",
       "         5.74854591e-02, -1.68339343e+00,  2.40220148e+00,\n",
       "         4.01032745e-01],\n",
       "       [ 3.45880856e-01,  1.30568523e+00,  3.95192798e-02,\n",
       "         9.92953533e-01, -5.85574125e-01,  9.89939586e-01,\n",
       "        -2.63689449e-01, -1.24676817e+00, -2.65504650e-01,\n",
       "        -1.00133834e-01],\n",
       "       [-3.94702393e-02,  1.29249575e+00, -3.34680800e-01,\n",
       "         1.32089315e+00,  1.26663130e+00, -1.63496850e-01,\n",
       "        -7.58899475e-01,  6.71914907e-01,  1.53497999e-01,\n",
       "         9.34642884e-01],\n",
       "       [-9.84250012e-01,  2.34046120e-01, -1.36538138e+00,\n",
       "        -8.25436889e-01, -4.46551846e-01, -2.00772305e-01,\n",
       "         6.94162135e-01, -1.09114043e+00, -3.54140325e-01,\n",
       "        -1.93398737e-01],\n",
       "       [-3.05813729e-02, -6.36151964e-01,  4.25268383e-01,\n",
       "         4.57364667e-01,  8.13793969e-01,  3.18355340e-02,\n",
       "         6.05622682e-01,  1.97471033e-02, -8.29835240e-02,\n",
       "         8.09869214e-01],\n",
       "       [-7.97678875e-01, -1.33322543e-01, -4.80840030e-01,\n",
       "        -7.66895018e-01,  6.01717853e-01,  9.53265827e-01,\n",
       "        -7.77591216e-01, -4.90329145e-01,  8.10445188e-01,\n",
       "        -1.02849699e+00],\n",
       "       [ 5.33060021e-01, -1.68275991e+00, -3.38798187e-01,\n",
       "         1.00693172e+00, -3.05032868e-01,  3.77365497e-01,\n",
       "        -7.71823291e-01,  1.05106963e-01,  9.22812134e-02,\n",
       "        -3.72521783e-01],\n",
       "       [ 3.50524188e-01,  1.82206381e+00,  7.48267860e-01,\n",
       "        -1.03198264e+00, -6.71226571e-01,  1.31213419e-02,\n",
       "        -5.76785844e-02, -1.14218682e+00,  1.15157602e+00,\n",
       "         1.50217524e-01],\n",
       "       [ 5.38832972e-01, -1.45564785e+00, -6.88701556e-01,\n",
       "        -2.18759306e+00, -1.34165613e+00, -1.95312956e+00,\n",
       "         4.71547252e-01,  2.17305692e-01, -7.05160914e-01,\n",
       "        -6.01714156e-01],\n",
       "       [-7.85226183e-01, -1.13936380e-01, -5.20225524e-01,\n",
       "         8.82379856e-01, -7.80854895e-01, -2.39419319e-01,\n",
       "         1.23611929e+00, -9.57008062e-01, -2.76801528e+00,\n",
       "        -8.88848362e-01],\n",
       "       [-3.25092449e-01,  4.70383087e-01,  4.91983688e-01,\n",
       "        -1.94448891e+00, -3.44897300e-01,  2.34032858e+00,\n",
       "        -2.02644972e-01, -4.83209708e-01,  2.05628366e+00,\n",
       "         4.03545360e-01],\n",
       "       [-1.19839999e+00, -7.40397932e-01,  3.44826939e-01,\n",
       "        -4.99495960e-01,  3.96214531e-01, -8.25164683e-01,\n",
       "        -2.28339023e+00,  4.35172558e-01,  7.31043605e-01,\n",
       "         3.16750906e-01],\n",
       "       [ 3.07124591e-01,  3.24792590e-01,  8.05628337e-01,\n",
       "        -1.98768798e-03,  2.15415019e-01, -9.16498445e-01,\n",
       "         8.23722523e-02,  2.83497488e-01,  1.09354622e+00,\n",
       "         4.94261972e-01],\n",
       "       [ 7.24303425e-01,  7.47861529e-01, -1.09422688e-01,\n",
       "        -8.33150796e-01, -3.10356225e-01,  1.26011471e+00,\n",
       "        -4.41247260e-01, -3.14203029e-01,  9.81343883e-01,\n",
       "         6.61578038e-01],\n",
       "       [-3.26505100e-01, -8.06396905e-01,  1.71203403e+00,\n",
       "        -6.20296732e-01,  1.72346942e-01, -5.52705048e-01,\n",
       "         8.09184268e-01,  4.31014533e-01, -1.84612059e-01,\n",
       "         5.60255740e-02],\n",
       "       [-4.86092850e-02, -1.84248419e+00, -2.85840870e-01,\n",
       "         3.44982025e-01,  1.37368032e+00,  8.87127862e-01,\n",
       "         1.15877240e+00,  1.52671996e+00,  4.95330626e-01,\n",
       "         2.31131761e-01],\n",
       "       [-1.33538074e+00, -4.01603053e-01, -2.29064261e+00,\n",
       "         1.01608990e+00,  6.83280551e-01,  5.12241267e-02,\n",
       "        -9.20528309e-01,  5.74955169e-01, -1.21103255e+00,\n",
       "         1.14743405e+00],\n",
       "       [ 9.39023460e-01,  3.73990545e-01, -2.90244780e-01,\n",
       "        -9.70428091e-02, -1.45720266e+00,  4.40020738e-01,\n",
       "        -1.44183011e-01,  1.40765703e-01,  6.73468742e-01,\n",
       "        -1.06769825e+00],\n",
       "       [ 2.91263406e-02, -4.50063723e-01, -1.00696510e+00,\n",
       "         4.84429296e-01, -7.57732671e-01, -8.60363845e-02,\n",
       "        -2.65267261e-01, -1.31392454e-01,  6.66615414e-01,\n",
       "        -1.19509384e+00],\n",
       "       [-1.73060506e+00, -1.66768481e-01,  3.19620416e-01,\n",
       "         6.67151876e-01, -2.49383037e+00, -1.22237684e-01,\n",
       "        -1.79911677e+00, -3.24522014e-01,  4.92881343e-01,\n",
       "         7.48182386e-01],\n",
       "       [ 1.26477127e-01,  5.14069672e-01,  1.95826642e+00,\n",
       "         1.01071376e+00,  4.79888818e-01, -2.84796793e-01,\n",
       "        -1.17571279e+00, -4.95070814e-01,  8.08067890e-01,\n",
       "        -4.27271218e-01],\n",
       "       [-9.77077537e-01, -3.10889912e-01,  7.73888396e-01,\n",
       "         3.92860793e-01,  2.49927574e-01, -9.52643141e-01,\n",
       "        -6.10378115e-01, -2.29134123e+00,  1.43424844e-01,\n",
       "        -4.90274703e-01],\n",
       "       [-7.42228919e-01,  3.12739196e-01, -1.05280220e+00,\n",
       "         3.10202728e-01,  7.97465614e-01,  8.19285353e-01,\n",
       "        -9.60604282e-01, -1.93069867e-01,  3.85001348e-01,\n",
       "         1.49604713e+00],\n",
       "       [-4.91310952e-01, -1.26346904e+00, -8.29430198e-01,\n",
       "        -1.08147820e+00, -1.23597681e-01, -5.41235436e-01,\n",
       "        -3.02230051e-01, -3.40335409e-01,  2.88330105e-01,\n",
       "        -5.28378469e-01],\n",
       "       [-2.37559474e-01,  5.68568585e-01, -1.83728102e-01,\n",
       "        -4.92241452e-01, -1.98415468e+00,  1.26248308e-01,\n",
       "         1.14163315e-01,  1.19858495e+00,  1.49742577e-01,\n",
       "         3.35787471e-01],\n",
       "       [ 5.81090345e-01, -4.40227198e-01, -1.27060338e+00,\n",
       "        -9.58386982e-02, -1.56986261e-01, -1.84333121e+00,\n",
       "         1.07850070e+00, -1.16968827e+00, -1.32037549e-01,\n",
       "         1.77988371e+00],\n",
       "       [ 1.55734109e+00,  9.03011510e-01,  4.87770742e-01,\n",
       "         2.45172517e-01,  7.90008910e-01, -1.60029487e+00,\n",
       "        -4.17828821e-01, -4.37356657e-01,  1.42005924e+00,\n",
       "         2.02185119e+00],\n",
       "       [ 1.30152441e+00,  4.36209752e-01,  5.12402987e-01,\n",
       "         1.59801728e+00, -4.53931177e-01,  1.00571583e+00,\n",
       "        -5.72786920e-01, -7.55356483e-01, -5.30627966e-01,\n",
       "         6.19551277e-01],\n",
       "       [-7.98858217e-01,  2.68595767e-01,  7.18149105e-01,\n",
       "         1.46316912e-01, -3.36290705e-01, -1.71042892e+00,\n",
       "        -1.35240255e+00,  7.07627441e-01,  1.07253810e-01,\n",
       "         1.06296283e+00],\n",
       "       [-6.79410761e-01,  7.25847151e-01,  1.31279243e+00,\n",
       "         5.76362278e-01,  9.40961627e-01, -5.09846798e-01,\n",
       "        -8.30072932e-02,  5.16589642e-01, -6.69989885e-01,\n",
       "         1.46257498e-01],\n",
       "       [ 5.92569533e-01,  6.56918497e-01,  5.14237305e-01,\n",
       "        -8.74738002e-01, -1.92716824e-01, -1.57406714e-01,\n",
       "        -3.58723491e-01,  2.63803157e-01, -2.67988252e-01,\n",
       "         4.82058193e-01],\n",
       "       [ 1.49241043e-01, -1.09098378e+00, -3.21085104e-01,\n",
       "        -5.22017532e-01, -2.35306700e+00, -2.18278788e-01,\n",
       "        -1.38351954e+00, -8.50383100e-02,  2.34054449e-01,\n",
       "        -1.84297768e-01],\n",
       "       [-1.14842024e+00,  1.16584391e+00, -4.96818253e-01,\n",
       "         5.85798286e-01,  3.62254322e-01,  2.04159346e-01,\n",
       "         1.40644944e-01,  9.81115944e-01, -1.15684786e-04,\n",
       "        -2.02607683e+00],\n",
       "       [ 4.95904386e-01, -1.48865339e+00, -8.64860517e-01,\n",
       "        -7.27762387e-01, -3.41088892e-01,  1.72299991e+00,\n",
       "         1.66199405e+00,  6.73457925e-01, -8.99639750e-01,\n",
       "         9.46633739e-02],\n",
       "       [ 4.45973175e-01,  7.43897362e-01, -2.59560350e+00,\n",
       "         5.81089081e-01,  1.06039316e+00, -4.97456942e-01,\n",
       "        -5.67207498e-01, -1.37752542e+00, -1.72853519e+00,\n",
       "        -6.69148600e-01],\n",
       "       [-9.79835172e-02,  2.10540721e-01, -1.33212699e+00,\n",
       "        -1.73271265e+00, -1.99589085e+00,  9.02022390e-01,\n",
       "        -3.22513191e-01, -1.16212346e+00, -1.78648924e-01,\n",
       "         1.23082715e+00],\n",
       "       [ 1.04343048e+00, -4.21951900e-02,  9.39676100e-01,\n",
       "        -6.65159272e-01,  9.72073775e-01,  3.97227509e-01,\n",
       "        -9.18289121e-01,  1.37875391e+00, -1.03874306e+00,\n",
       "         8.87907772e-01],\n",
       "       [ 3.90899436e-01, -7.54572174e-01,  8.91051869e-01,\n",
       "        -1.62115288e+00, -4.93470845e-01, -1.54189125e-01,\n",
       "        -8.29911483e-02,  1.27797017e+00, -9.71907538e-01,\n",
       "         2.22398237e+00],\n",
       "       [ 9.57003591e-01, -5.75730832e-01,  8.92613241e-01,\n",
       "         1.93881182e+00,  3.84948742e-01, -1.87175728e-01,\n",
       "        -2.38432317e+00,  8.18023133e-01, -2.55751240e+00,\n",
       "         1.27439348e+00],\n",
       "       [-3.56595111e-01, -1.19259229e+00,  1.21620976e-01,\n",
       "         1.11957441e+00, -6.73669252e-01,  7.72261671e-01,\n",
       "         4.73615520e-02, -1.06181428e+00,  7.33317957e-01,\n",
       "        -1.27396181e+00],\n",
       "       [-5.00650296e-02, -2.58000963e-01,  6.12667806e-01,\n",
       "        -1.05561706e+00, -8.47038245e-01,  7.76596805e-01,\n",
       "        -7.70244695e-02,  1.60657976e+00, -2.40579023e-01,\n",
       "         6.35376691e-01],\n",
       "       [ 1.64973852e+00, -8.49828654e-01,  4.00734003e-01,\n",
       "         1.10099632e+00,  1.23260344e+00,  1.24233243e+00,\n",
       "         6.00313299e-01, -1.50776679e+00, -5.01391022e-01,\n",
       "        -1.01725982e+00],\n",
       "       [ 2.54983195e-01,  7.31419371e-01,  9.29756026e-01,\n",
       "        -2.08661894e-01,  1.05979188e+00, -2.25979979e-01,\n",
       "         1.13912855e+00,  4.15353980e-01, -4.38301199e-01,\n",
       "         7.11991198e-01],\n",
       "       [ 7.89629795e-01,  4.31713990e-01, -4.54654157e-02,\n",
       "        -1.07981051e-01,  1.23391191e+00, -1.14004316e+00,\n",
       "        -1.26953615e-01,  1.04663788e-02,  1.00974069e+00,\n",
       "         4.39702869e-01],\n",
       "       [ 8.22532328e-01, -1.65699045e+00,  3.97803626e-01,\n",
       "         3.41594282e-01, -2.61761713e-01, -1.30886867e+00,\n",
       "        -8.28428092e-02, -5.65346989e-01, -4.50114828e-01,\n",
       "         2.05018091e+00],\n",
       "       [ 3.66926690e-01,  6.06372790e-02, -1.99962648e-01,\n",
       "        -3.09507335e-01,  1.11723544e+00, -1.15788671e+00,\n",
       "         1.74256341e-01, -1.08128258e+00,  1.12101996e+00,\n",
       "        -1.41575284e+00],\n",
       "       [-3.57110930e-01,  3.77059256e-01, -1.49092201e+00,\n",
       "         5.60456049e-02,  4.17584633e-01,  4.93917041e-01,\n",
       "        -1.38499022e+00,  6.79634023e-02,  3.65224535e-01,\n",
       "        -6.81470534e-01],\n",
       "       [-8.63698788e-01,  3.29881249e-01, -1.61728497e+00,\n",
       "         1.74483103e+00, -1.47009327e+00,  6.16924636e-01,\n",
       "         1.27606892e+00,  2.01168386e-01, -4.57138782e-02,\n",
       "         7.49143223e-01]])"
      ]
     },
     "execution_count": 4,
     "metadata": {},
     "output_type": "execute_result"
    }
   ],
   "source": [
    "y"
   ]
  },
  {
   "cell_type": "code",
   "execution_count": 6,
   "metadata": {},
   "outputs": [
    {
     "data": {
      "text/plain": [
       "array([[-8.60732327e-01, -8.86333218e-01,  1.03355246e+00,\n",
       "        -1.08926356e-01, -4.15155131e-01, -1.00432177e-01,\n",
       "         1.36928201e+00,  1.19454918e+00,  2.99698868e-01,\n",
       "        -3.08508089e-02],\n",
       "       [-2.11930369e-01, -6.59428538e-01, -4.28378393e-01,\n",
       "        -2.55839529e-01,  3.56450947e-01, -2.95812279e-02,\n",
       "        -1.00829638e-01,  6.03042219e-01, -2.77603660e-01,\n",
       "        -3.08472486e-01],\n",
       "       [ 1.00316849e+00,  1.06988701e+00, -5.90657735e-01,\n",
       "         2.20898341e-01, -6.82206074e-01,  7.54974414e-01,\n",
       "         6.09511854e-01, -5.07919329e-01, -6.25931259e-01,\n",
       "         1.98108522e-01],\n",
       "       [-7.76076194e-01, -4.63623721e-01,  4.46677773e-01,\n",
       "        -1.21182739e+00,  7.33216995e-02,  7.17386556e-02,\n",
       "        -6.27987859e-01, -4.36599350e-01, -4.56488779e-03,\n",
       "         9.59085447e-01],\n",
       "       [ 6.34917023e-01,  9.16614858e-01, -1.93523231e+00,\n",
       "        -2.98279954e-01, -1.93408696e+00, -6.71563490e-01,\n",
       "         3.61524598e-01,  1.07491370e+00, -1.77694675e+00,\n",
       "         5.80050454e-02],\n",
       "       [-3.71768642e-01,  2.01916043e-01, -3.14666392e-01,\n",
       "        -8.22789905e-01, -4.71819154e-01,  1.73665602e+00,\n",
       "         1.49495243e+00, -6.36493947e-01,  1.29298055e+00,\n",
       "        -1.96976679e-01],\n",
       "       [-2.21092206e+00,  1.15840029e-01,  8.46491693e-01,\n",
       "         1.08259170e+00, -4.53735757e-01, -5.86406940e-01,\n",
       "         6.18379607e-01, -6.89370884e-01, -5.20405455e-01,\n",
       "         4.25736730e-01],\n",
       "       [ 8.91877214e-01,  6.95970816e-01, -6.11335770e-02,\n",
       "        -1.00072343e+00, -2.40611574e-01,  2.38009662e-01,\n",
       "         7.00981675e-01,  1.79845255e+00,  1.48494625e-01,\n",
       "         2.28612612e-01],\n",
       "       [-9.00479005e-01,  1.66641611e-01, -1.11121745e+00,\n",
       "         1.42287065e+00,  9.76436892e-01,  8.13042831e-01,\n",
       "        -1.05531235e+00, -1.22163327e-01, -7.38378003e-01,\n",
       "        -6.65366249e-01],\n",
       "       [ 3.52884924e-01,  3.57996276e-01, -3.66496002e-01,\n",
       "         1.11252941e+00, -5.79394741e-01,  4.18585421e-01,\n",
       "         6.04295114e-01, -4.41052315e-01,  3.28232359e-01,\n",
       "        -1.55945201e-01],\n",
       "       [ 6.33228636e-01, -1.12302032e+00,  7.50581024e-01,\n",
       "         1.07189201e-01,  7.50502890e-01, -4.09685953e-01,\n",
       "         1.75748224e-01,  2.03825977e-01,  1.41235337e+00,\n",
       "        -3.26373283e-01],\n",
       "       [ 2.46225176e-01, -4.24764249e-01, -1.51317767e-02,\n",
       "        -1.09529956e+00, -2.18924521e-01, -3.38841106e-01,\n",
       "        -3.90274567e-01, -7.05933923e-01, -1.73579979e+00,\n",
       "        -6.55653033e-02],\n",
       "       [-8.10902317e-01,  2.78672094e-01,  1.35762541e+00,\n",
       "        -7.38774479e-02, -1.59394058e+00,  2.31252686e-01,\n",
       "        -1.68075378e+00, -8.68027133e-01, -4.57611594e-01,\n",
       "        -2.49662254e-01],\n",
       "       [-2.05718094e-01, -1.26350792e+00, -1.82904539e+00,\n",
       "        -1.27345080e+00, -1.13024244e+00, -3.70972299e-02,\n",
       "         3.20818099e-02,  5.87497162e-01,  5.00606102e-01,\n",
       "         6.91137772e-01],\n",
       "       [-1.48933661e+00, -1.64783950e+00,  3.24048826e-01,\n",
       "         1.17196518e-01, -1.22946856e+00,  7.35644739e-01,\n",
       "         9.45334572e-01,  9.01516304e-01,  4.56367184e-01,\n",
       "         1.92026348e+00],\n",
       "       [ 6.63857630e-01, -3.42872618e-01, -4.68903989e-01,\n",
       "        -6.96268847e-02,  1.35456884e+00,  9.22109975e-02,\n",
       "        -1.22528261e-01, -2.29689296e+00, -2.08147349e+00,\n",
       "        -4.57910460e-01],\n",
       "       [ 1.34583278e+00,  1.05756804e+00,  1.71101003e+00,\n",
       "         9.43766963e-01,  5.12890232e-01, -8.59174951e-01,\n",
       "         5.86028834e-02, -1.68657316e+00,  2.40437870e+00,\n",
       "         4.00963888e-01],\n",
       "       [ 3.45676493e-01,  1.30571351e+00,  3.93240507e-02,\n",
       "         9.93148752e-01, -5.85286761e-01,  9.89878550e-01,\n",
       "        -2.63795746e-01, -1.24613590e+00, -2.65743591e-01,\n",
       "        -1.00223246e-01],\n",
       "       [-3.94811114e-02,  1.29262445e+00, -3.35471919e-01,\n",
       "         1.32142945e+00,  1.26703014e+00, -1.63673317e-01,\n",
       "        -7.59630585e-01,  6.73068844e-01,  1.52729009e-01,\n",
       "         9.34713217e-01],\n",
       "       [-9.84471419e-01,  2.34134631e-01, -1.36553589e+00,\n",
       "        -8.25278440e-01, -4.46518313e-01, -2.00831618e-01,\n",
       "         6.94042527e-01, -1.09063915e+00, -3.54344739e-01,\n",
       "        -1.93385101e-01],\n",
       "       [-3.12226387e-02, -6.36271129e-01,  4.24174959e-01,\n",
       "         4.58193889e-01,  8.14480473e-01,  3.14660179e-02,\n",
       "         6.04908620e-01,  2.19587709e-02, -8.41029753e-02,\n",
       "         8.09877879e-01],\n",
       "       [-7.98186783e-01, -1.33360043e-01, -4.81919173e-01,\n",
       "        -7.66370389e-01,  6.02008624e-01,  9.53465040e-01,\n",
       "        -7.78482474e-01, -4.88324062e-01,  8.09334205e-01,\n",
       "        -1.02821482e+00],\n",
       "       [ 5.33252946e-01, -1.68297216e+00, -3.38184454e-01,\n",
       "         1.00666951e+00, -3.05278861e-01,  3.77338844e-01,\n",
       "        -7.71436028e-01,  1.04135054e-01,  9.30121723e-02,\n",
       "        -3.72563340e-01],\n",
       "       [ 3.51352909e-01,  1.82210412e+00,  7.49729881e-01,\n",
       "        -1.03318704e+00, -6.72803021e-01,  1.30140408e-02,\n",
       "        -5.68124716e-02, -1.14519105e+00,  1.15301898e+00,\n",
       "         1.50530260e-01],\n",
       "       [ 5.38785839e-01, -1.45603219e+00, -6.89883343e-01,\n",
       "        -2.18665962e+00, -1.34074043e+00, -1.95331685e+00,\n",
       "         4.71021924e-01,  2.19448977e-01, -7.06394428e-01,\n",
       "        -6.01968054e-01],\n",
       "       [-7.85201144e-01, -1.13897538e-01, -5.19975317e-01,\n",
       "         8.82155811e-01, -7.80975236e-01, -2.39218093e-01,\n",
       "         1.23618071e+00, -9.57255690e-01, -2.76798632e+00,\n",
       "        -8.88800936e-01],\n",
       "       [-3.25101671e-01,  4.70356871e-01,  4.91975520e-01,\n",
       "        -1.94432119e+00, -3.44863325e-01,  2.34027664e+00,\n",
       "        -2.02654182e-01, -4.83061079e-01,  2.05627614e+00,\n",
       "         4.03510157e-01],\n",
       "       [-1.19870810e+00, -7.40449978e-01,  3.44101111e-01,\n",
       "        -4.99164883e-01,  3.96538545e-01, -8.25194897e-01,\n",
       "        -2.28385916e+00,  4.36156684e-01,  7.30351334e-01,\n",
       "         3.16827254e-01],\n",
       "       [ 3.07158993e-01,  3.24794814e-01,  8.05854404e-01,\n",
       "        -2.16490275e-03,  2.15275358e-01, -9.16510074e-01,\n",
       "         8.25480292e-02,  2.83119486e-01,  1.09388900e+00,\n",
       "         4.94281232e-01],\n",
       "       [ 7.24234870e-01,  7.47928291e-01, -1.09756361e-01,\n",
       "        -8.33029345e-01, -3.10090431e-01,  1.26011185e+00,\n",
       "        -4.41369196e-01, -3.13810901e-01,  9.81272702e-01,\n",
       "         6.61611173e-01],\n",
       "       [-3.26364058e-01, -8.06490642e-01,  1.71294591e+00,\n",
       "        -6.20928107e-01,  1.72083378e-01, -5.52476365e-01,\n",
       "         8.09792040e-01,  4.29661918e-01, -1.83842286e-01,\n",
       "         5.60883185e-02],\n",
       "       [-4.87158299e-02, -1.84253051e+00, -2.86078249e-01,\n",
       "         3.45233765e-01,  1.37375451e+00,  8.86975857e-01,\n",
       "         1.15858338e+00,  1.52713497e+00,  4.95167477e-01,\n",
       "         2.30914728e-01],\n",
       "       [-1.33537034e+00, -4.01826646e-01, -2.29066087e+00,\n",
       "         1.01619875e+00,  6.83293085e-01,  5.13109746e-02,\n",
       "        -9.20447630e-01,  5.75019192e-01, -1.21098380e+00,\n",
       "         1.14740930e+00],\n",
       "       [ 9.39527156e-01,  3.73311548e-01, -2.88256092e-01,\n",
       "        -9.83336604e-02, -1.45796863e+00,  4.40647110e-01,\n",
       "        -1.42543754e-01,  1.37927320e-01,  6.75532042e-01,\n",
       "        -1.06772379e+00],\n",
       "       [ 2.90520832e-02, -4.50025859e-01, -1.00706713e+00,\n",
       "         4.84473108e-01, -7.57779583e-01, -8.61426714e-02,\n",
       "        -2.65475789e-01, -1.31276178e-01,  6.66540449e-01,\n",
       "        -1.19504101e+00],\n",
       "       [-1.73050297e+00, -1.66562438e-01,  3.20212530e-01,\n",
       "         6.66735899e-01, -2.49408323e+00, -1.21976220e-01,\n",
       "        -1.79860259e+00, -3.25391823e-01,  4.93385298e-01,\n",
       "         7.48153667e-01],\n",
       "       [ 1.26638479e-01,  5.14029741e-01,  1.95870666e+00,\n",
       "         1.01045549e+00,  4.79696244e-01, -2.84701848e-01,\n",
       "        -1.17538607e+00, -4.95767607e-01,  8.08443201e-01,\n",
       "        -4.27273655e-01],\n",
       "       [-9.77168488e-01, -3.10894298e-01,  7.73465764e-01,\n",
       "         3.93165350e-01,  2.50180390e-01, -9.52743350e-01,\n",
       "        -6.10583527e-01, -2.29072668e+00,  1.43057620e-01,\n",
       "        -4.90330041e-01],\n",
       "       [-7.41978504e-01,  3.12651366e-01, -1.05238563e+00,\n",
       "         3.09962774e-01,  7.97262769e-01,  8.19218506e-01,\n",
       "        -9.60295401e-01, -1.93901125e-01,  3.85585307e-01,\n",
       "         1.49602929e+00],\n",
       "       [-4.91595661e-01, -1.26340238e+00, -8.29881193e-01,\n",
       "        -1.08129440e+00, -1.23358938e-01, -5.41324526e-01,\n",
       "        -3.02552438e-01, -3.39549499e-01,  2.87900829e-01,\n",
       "        -5.28210525e-01],\n",
       "       [-2.37670496e-01,  5.68643034e-01, -1.83970277e-01,\n",
       "        -4.92017690e-01, -1.98399549e+00,  1.26266476e-01,\n",
       "         1.14021118e-01,  1.19910629e+00,  1.49387619e-01,\n",
       "         3.35833409e-01],\n",
       "       [ 5.81069447e-01, -4.40144701e-01, -1.27049291e+00,\n",
       "        -9.59070041e-02, -1.57082493e-01, -1.84333707e+00,\n",
       "         1.07848793e+00, -1.16972295e+00, -1.32095286e-01,\n",
       "         1.77986634e+00],\n",
       "       [ 1.55733488e+00,  9.02964659e-01,  4.87585464e-01,\n",
       "         2.45335608e-01,  7.90030036e-01, -1.60040149e+00,\n",
       "        -4.18041099e-01, -4.36994751e-01,  1.41981784e+00,\n",
       "         2.02186979e+00],\n",
       "       [ 1.30142907e+00,  4.36255749e-01,  5.11668176e-01,\n",
       "         1.59846501e+00, -4.53806033e-01,  1.00553947e+00,\n",
       "        -5.73441997e-01, -7.54504111e-01, -5.31415488e-01,\n",
       "         6.19708499e-01],\n",
       "       [-7.98902044e-01,  2.68637763e-01,  7.17321068e-01,\n",
       "         1.46936304e-01, -3.35965328e-01, -1.71074517e+00,\n",
       "        -1.35301332e+00,  7.08853588e-01,  1.06458009e-01,\n",
       "         1.06302743e+00],\n",
       "       [-6.79325132e-01,  7.25823362e-01,  1.31272215e+00,\n",
       "         5.76388092e-01,  9.41032916e-01, -5.09862264e-01,\n",
       "        -8.30121152e-02,  5.16577968e-01, -6.69963314e-01,\n",
       "         1.46266241e-01],\n",
       "       [ 5.92471167e-01,  6.56822774e-01,  5.13752503e-01,\n",
       "        -8.74465095e-01, -1.92227417e-01, -1.57326550e-01,\n",
       "        -3.58977854e-01,  2.64693154e-01, -2.68356030e-01,\n",
       "         4.82110741e-01],\n",
       "       [ 1.49130928e-01, -1.09090909e+00, -3.21242493e-01,\n",
       "        -5.21979989e-01, -2.35303609e+00, -2.18380474e-01,\n",
       "        -1.38369494e+00, -8.46777704e-02,  2.33668229e-01,\n",
       "        -1.84274613e-01],\n",
       "       [-1.14858999e+00,  1.16595381e+00, -4.97386898e-01,\n",
       "         5.86191330e-01,  3.62579914e-01,  2.04002855e-01,\n",
       "         1.40191995e-01,  9.82177310e-01, -5.70465972e-04,\n",
       "        -2.02605967e+00],\n",
       "       [ 4.96166335e-01, -1.48869410e+00, -8.63986807e-01,\n",
       "        -7.28352695e-01, -3.41493521e-01,  1.72312602e+00,\n",
       "         1.66239668e+00,  6.72040613e-01, -8.98912869e-01,\n",
       "         9.43691119e-02],\n",
       "       [ 4.45877044e-01,  7.43885340e-01, -2.59572751e+00,\n",
       "         5.81156408e-01,  1.06043088e+00, -4.97389704e-01,\n",
       "        -5.67291271e-01, -1.37727156e+00, -1.72872339e+00,\n",
       "        -6.69119434e-01],\n",
       "       [-9.74271327e-02,  2.09932460e-01, -1.33034635e+00,\n",
       "        -1.73343173e+00, -1.99623650e+00,  9.02138979e-01,\n",
       "        -3.21000860e-01, -1.16552577e+00, -1.75979404e-01,\n",
       "         1.23076617e+00],\n",
       "       [ 1.04329191e+00, -4.20378801e-02,  9.38976411e-01,\n",
       "        -6.64607762e-01,  9.72406034e-01,  3.97082824e-01,\n",
       "        -9.18658127e-01,  1.38000697e+00, -1.03936885e+00,\n",
       "         8.87884260e-01],\n",
       "       [ 3.90519476e-01, -7.54748482e-01,  8.90226396e-01,\n",
       "        -1.62045593e+00, -4.92710949e-01, -1.54123497e-01,\n",
       "        -8.35622357e-02,  1.27958148e+00, -9.72697038e-01,\n",
       "         2.22386756e+00],\n",
       "       [ 9.56954050e-01, -5.75807047e-01,  8.92253366e-01,\n",
       "         1.93908239e+00,  3.85098591e-01, -1.87332482e-01,\n",
       "        -2.38450575e+00,  8.18586891e-01, -2.55774935e+00,\n",
       "         1.27431915e+00],\n",
       "       [-3.57983639e-01, -1.19143730e+00,  1.18859515e-01,\n",
       "         1.12167009e+00, -6.72633837e-01,  7.72656429e-01,\n",
       "         4.48987346e-02, -1.05579057e+00,  7.28814758e-01,\n",
       "        -1.27428682e+00],\n",
       "       [-5.03992830e-02, -2.58043980e-01,  6.11893751e-01,\n",
       "        -1.05510307e+00, -8.46494012e-01,  7.76723650e-01,\n",
       "        -7.74796353e-02,  1.60812707e+00, -2.41739864e-01,\n",
       "         6.35326682e-01],\n",
       "       [ 1.64907168e+00, -8.49352312e-01,  3.99336823e-01,\n",
       "         1.10186678e+00,  1.23300054e+00,  1.24246703e+00,\n",
       "         5.99490761e-01, -1.50524236e+00, -5.02978865e-01,\n",
       "        -1.01740708e+00],\n",
       "       [ 2.54820297e-01,  7.31489127e-01,  9.29434619e-01,\n",
       "        -2.08514360e-01,  1.05988657e+00, -2.26096300e-01,\n",
       "         1.13884011e+00,  4.15988969e-01, -4.38635030e-01,\n",
       "         7.11996773e-01],\n",
       "       [ 7.89622696e-01,  4.31728103e-01, -4.57400214e-02,\n",
       "        -1.07721398e-01,  1.23413045e+00, -1.14006593e+00,\n",
       "        -1.27096221e-01,  1.10012104e-02,  1.00940617e+00,\n",
       "         4.39711639e-01],\n",
       "       [ 8.22772327e-01, -1.65708951e+00,  3.98224503e-01,\n",
       "         3.41192018e-01, -2.61945160e-01, -1.30879226e+00,\n",
       "        -8.24200169e-02, -5.66350819e-01, -4.49475955e-01,\n",
       "         2.05016664e+00],\n",
       "       [ 3.67212047e-01,  6.06623904e-02, -1.99304975e-01,\n",
       "        -3.09977097e-01,  1.11665649e+00, -1.15778078e+00,\n",
       "         1.74684449e-01, -1.08244244e+00,  1.12167332e+00,\n",
       "        -1.41575228e+00],\n",
       "       [-3.57418987e-01,  3.77296217e-01, -1.49201756e+00,\n",
       "         5.67739589e-02,  4.17874076e-01,  4.93325028e-01,\n",
       "        -1.38593867e+00,  6.94541093e-02,  3.64359904e-01,\n",
       "        -6.81331153e-01],\n",
       "       [-8.63936776e-01,  3.29696510e-01, -1.61835200e+00,\n",
       "         1.74568951e+00, -1.46921825e+00,  6.16725872e-01,\n",
       "         1.27521718e+00,  2.03201696e-01, -4.66148735e-02,\n",
       "         7.49351597e-01]])"
      ]
     },
     "execution_count": 6,
     "metadata": {},
     "output_type": "execute_result"
    }
   ],
   "source": [
    "h=x.dot(w1) #N*H\n",
    "h_relu=np.maximum(h,0) #N*H\n",
    "y_pred=h_relu.dot(w2) #N*D_out\n",
    "y_pred"
   ]
  },
  {
   "cell_type": "code",
   "execution_count": 7,
   "metadata": {},
   "outputs": [
    {
     "data": {
      "text/plain": [
       "array([[ 3.38499028e-05,  1.37740801e-04,  4.70679752e-04,\n",
       "        -3.63262791e-04, -1.80927891e-04,  7.69906025e-05,\n",
       "         2.83570226e-04, -7.47182995e-04,  5.06218875e-04,\n",
       "        -6.16257952e-05],\n",
       "       [-1.68968589e-04,  7.32039385e-05, -3.18615871e-04,\n",
       "         2.22104835e-04,  4.18439616e-04, -4.26062006e-05,\n",
       "        -1.94799035e-04,  7.20213433e-04, -3.30945851e-04,\n",
       "        -8.48953631e-05],\n",
       "       [ 2.94335643e-04, -3.77852726e-05,  8.27864142e-04,\n",
       "        -7.36574703e-04, -7.30110421e-04,  2.79357712e-05,\n",
       "         6.90220157e-04, -2.31823996e-03,  1.19519142e-03,\n",
       "        -3.85254735e-05],\n",
       "       [-1.56897675e-04, -3.99773334e-05, -6.43262542e-04,\n",
       "         3.99213187e-04,  2.22135775e-04, -1.51299982e-04,\n",
       "        -4.41492376e-04,  1.03398790e-03, -8.72770652e-04,\n",
       "        -6.67377744e-05],\n",
       "       [ 5.09536411e-04,  1.44831726e-04,  1.02575214e-03,\n",
       "        -7.78495068e-04, -7.80364692e-04,  9.62160062e-05,\n",
       "         7.34623702e-04, -1.87258876e-03,  9.24875045e-04,\n",
       "        -4.96580446e-05],\n",
       "       [ 9.34282234e-04,  8.99301620e-05,  2.38099332e-03,\n",
       "        -1.65246032e-03, -8.91173490e-04,  1.13178347e-03,\n",
       "         1.62317974e-03, -3.92783608e-03,  1.63039616e-03,\n",
       "         6.67222395e-05],\n",
       "       [ 1.25210405e-04, -1.00388675e-04,  4.13131808e-04,\n",
       "        -1.74136072e-04, -2.16015315e-04,  4.88119679e-05,\n",
       "         3.15323558e-04, -6.48149311e-04,  4.06221476e-04,\n",
       "        -2.71958078e-05],\n",
       "       [ 8.67758691e-05, -8.41388909e-05,  1.99013534e-04,\n",
       "        -8.41673940e-05, -1.08165604e-04, -1.70883978e-05,\n",
       "         1.36728020e-04, -4.15420375e-04,  1.78839121e-04,\n",
       "        -1.30384741e-04],\n",
       "       [ 9.51183251e-05,  1.40949097e-04,  2.43181100e-04,\n",
       "        -2.89026169e-04, -4.42776160e-04,  8.17406580e-05,\n",
       "         6.41693087e-05, -5.92201445e-04,  1.02099259e-04,\n",
       "         1.22605582e-05],\n",
       "       [-9.04906637e-06,  5.45078992e-05,  4.12135601e-04,\n",
       "        -2.04395790e-04, -1.75862983e-04, -8.00715750e-05,\n",
       "         1.93548509e-04, -6.31035509e-04,  4.08314124e-04,\n",
       "        -6.26372000e-05],\n",
       "       [ 1.45961983e-05, -1.22664040e-04, -3.67604541e-04,\n",
       "         3.10141415e-04,  2.27074129e-04, -6.11750397e-05,\n",
       "        -2.12333895e-04,  5.23532885e-04, -2.03629831e-04,\n",
       "        -3.97303619e-05],\n",
       "       [-1.25757207e-04,  8.37657242e-05, -6.36712562e-04,\n",
       "         3.05160393e-04,  4.56244554e-04,  2.34258376e-06,\n",
       "        -4.88649210e-04,  1.08583920e-03, -6.39236742e-04,\n",
       "         1.03071707e-04],\n",
       "       [ 5.53944828e-05, -1.30927928e-04,  1.03605560e-03,\n",
       "        -7.34989867e-04, -8.34101638e-04, -1.27206076e-04,\n",
       "         6.08357102e-04, -1.64668836e-03,  1.02421901e-03,\n",
       "        -3.20854755e-04],\n",
       "       [ 8.18162710e-05, -7.42025505e-05,  2.49286833e-04,\n",
       "        -2.25339311e-04, -3.00971667e-04,  6.66710283e-05,\n",
       "         2.28999912e-04, -5.74644744e-04,  2.31417496e-04,\n",
       "         3.88102064e-06],\n",
       "       [ 3.43641776e-04,  9.42466753e-05,  1.05623689e-03,\n",
       "        -7.25006478e-04, -4.70139185e-04,  4.98409861e-05,\n",
       "         8.78543608e-04, -1.97451297e-03,  8.83452986e-04,\n",
       "         1.28637700e-04],\n",
       "       [ 9.59287206e-04, -3.05352467e-04,  2.20086572e-03,\n",
       "        -1.86116911e-03, -7.62988853e-04,  2.23612053e-04,\n",
       "         1.87937241e-03, -4.35354852e-03,  3.26804340e-03,\n",
       "         7.44794740e-04],\n",
       "       [ 2.77391649e-04,  2.70957439e-04,  1.68500766e-03,\n",
       "        -1.33692371e-03, -8.83474161e-04,  7.03611591e-06,\n",
       "         1.11742430e-03, -3.17973022e-03,  2.17721485e-03,\n",
       "        -6.88567447e-05],\n",
       "       [-2.04363038e-04,  2.82800213e-05, -1.95229175e-04,\n",
       "         1.95218805e-04,  2.87363648e-04, -6.10355243e-05,\n",
       "        -1.06297121e-04,  6.32271039e-04, -2.38941085e-04,\n",
       "        -8.94123760e-05],\n",
       "       [-1.08721033e-05,  1.28696821e-04, -7.91118934e-04,\n",
       "         5.36302139e-04,  3.98830142e-04, -1.76467204e-04,\n",
       "        -7.31110127e-04,  1.15393676e-03, -7.68989958e-04,\n",
       "         7.03329199e-05],\n",
       "       [-2.21407263e-04,  8.85118556e-05, -1.54516681e-04,\n",
       "         1.58449093e-04,  3.35328852e-05, -5.93122935e-05,\n",
       "        -1.19607222e-04,  5.01280603e-04, -2.04413927e-04,\n",
       "         1.36353940e-05],\n",
       "       [-6.41265793e-04, -1.19165058e-04, -1.09342399e-03,\n",
       "         8.29221488e-04,  6.86504308e-04, -3.69516124e-04,\n",
       "        -7.14062814e-04,  2.21166767e-03, -1.11945123e-03,\n",
       "         8.66504280e-06],\n",
       "       [-5.07908049e-04, -3.74995341e-05, -1.07914315e-03,\n",
       "         5.24628695e-04,  2.90771406e-04,  1.99213023e-04,\n",
       "        -8.91257506e-04,  2.00508359e-03, -1.11098260e-03,\n",
       "         2.82176144e-04],\n",
       "       [ 1.92925152e-04, -2.12249026e-04,  6.13733328e-04,\n",
       "        -2.62210127e-04, -2.45992999e-04, -2.66521845e-05,\n",
       "         3.87263029e-04, -9.71909000e-04,  7.30958889e-04,\n",
       "        -4.15564538e-05],\n",
       "       [ 8.28721265e-04,  4.03147608e-05,  1.46202087e-03,\n",
       "        -1.20440633e-03, -1.57645017e-03, -1.07301068e-04,\n",
       "         8.66112845e-04, -3.00423451e-03,  1.44295469e-03,\n",
       "         3.12735953e-04],\n",
       "       [-4.71330059e-05, -3.84338362e-04, -1.18178696e-03,\n",
       "         9.33441571e-04,  9.15697218e-04, -1.87290877e-04,\n",
       "        -5.25327926e-04,  2.14328461e-03, -1.23351372e-03,\n",
       "        -2.53898863e-04],\n",
       "       [ 2.50390565e-05,  3.88415318e-05,  2.50207423e-04,\n",
       "        -2.24045531e-04, -1.20341528e-04,  2.01226571e-04,\n",
       "         6.14188580e-05, -2.47627480e-04,  2.89529869e-05,\n",
       "         4.74256877e-05],\n",
       "       [-9.22151975e-06, -2.62162547e-05, -8.16755519e-06,\n",
       "         1.67720315e-04,  3.39756075e-05, -5.19358900e-05,\n",
       "        -9.21029424e-06,  1.48629034e-04, -7.51306054e-06,\n",
       "        -3.52030961e-05],\n",
       "       [-3.08114351e-04, -5.20462412e-05, -7.25828229e-04,\n",
       "         3.31077931e-04,  3.24014453e-04, -3.02144218e-05,\n",
       "        -4.68935700e-04,  9.84125598e-04, -6.92271147e-04,\n",
       "         7.63485517e-05],\n",
       "       [ 3.44018920e-05,  2.22378072e-06,  2.26067272e-04,\n",
       "        -1.77214764e-04, -1.39661336e-04, -1.16290942e-05,\n",
       "         1.75776888e-04, -3.78002604e-04,  3.42777084e-04,\n",
       "         1.92597523e-05],\n",
       "       [-6.85547965e-05,  6.67623786e-05, -3.33672957e-04,\n",
       "         1.21451100e-04,  2.65794093e-04, -2.86370242e-06,\n",
       "        -1.21936693e-04,  3.92128440e-04, -7.11804759e-05,\n",
       "         3.31343769e-05],\n",
       "       [ 1.41041810e-04, -9.37369759e-05,  9.11880590e-04,\n",
       "        -6.31375054e-04, -2.63563978e-04,  2.28683625e-04,\n",
       "         6.07771601e-04, -1.35261513e-03,  7.69772508e-04,\n",
       "         6.27445153e-05],\n",
       "       [-1.06544976e-04, -4.63210118e-05, -2.37379611e-04,\n",
       "         2.51739656e-04,  7.41850233e-05, -1.52005356e-04,\n",
       "        -1.89026944e-04,  4.15010604e-04, -1.63149218e-04,\n",
       "        -2.17033450e-04],\n",
       "       [ 1.03931186e-05, -2.23592787e-04, -1.82671163e-05,\n",
       "         1.08850835e-04,  1.25338719e-05,  8.68478961e-05,\n",
       "         8.06788103e-05,  6.40237042e-05,  4.87534276e-05,\n",
       "        -2.47433987e-05],\n",
       "       [ 5.03695939e-04, -6.78997445e-04,  1.98868814e-03,\n",
       "        -1.29085126e-03, -7.65970635e-04,  6.26371959e-04,\n",
       "         1.63925680e-03, -2.83838317e-03,  2.06329998e-03,\n",
       "        -2.55340193e-05],\n",
       "       [-7.42573987e-05,  3.78639224e-05, -1.02031983e-04,\n",
       "         4.38122233e-05, -4.69122318e-05, -1.06286911e-04,\n",
       "        -2.08527312e-04,  1.16276092e-04, -7.49656022e-05,\n",
       "         5.28352367e-05],\n",
       "       [ 1.02098283e-04,  2.06042896e-04,  5.92113880e-04,\n",
       "        -4.15977394e-04, -2.52854827e-04,  2.61464219e-04,\n",
       "         5.14177310e-04, -8.69808723e-04,  5.03955442e-04,\n",
       "        -2.87191050e-05],\n",
       "       [ 1.61351502e-04, -3.99311456e-05,  4.40240348e-04,\n",
       "        -2.58279368e-04, -1.92574443e-04,  9.49449387e-05,\n",
       "         3.26724457e-04, -6.96792095e-04,  3.75310683e-04,\n",
       "        -2.43757845e-06],\n",
       "       [-9.09509587e-05, -4.38624225e-06, -4.22631915e-04,\n",
       "         3.04556887e-04,  2.52816434e-04, -1.00209036e-04,\n",
       "        -2.05412056e-04,  6.14549122e-04, -3.67223640e-04,\n",
       "        -5.53375731e-05],\n",
       "       [ 2.50415308e-04, -8.78300703e-05,  4.16572356e-04,\n",
       "        -2.39954066e-04, -2.02845507e-04, -6.68464395e-05,\n",
       "         3.08880381e-04, -8.31257561e-04,  5.83958807e-04,\n",
       "        -1.78411928e-05],\n",
       "       [-2.84709569e-04,  6.66643543e-05, -4.50995023e-04,\n",
       "         1.83801351e-04,  2.38742809e-04, -8.90905380e-05,\n",
       "        -3.22387274e-04,  7.85909997e-04, -4.29275743e-04,\n",
       "         1.67944350e-04],\n",
       "       [-1.11021504e-04,  7.44491362e-05, -2.42174621e-04,\n",
       "         2.23761602e-04,  1.59186112e-04,  1.81675852e-05,\n",
       "        -1.42197454e-04,  5.21339318e-04, -3.54958194e-04,\n",
       "         4.59380079e-05],\n",
       "       [-2.08976183e-05,  8.24965880e-05,  1.10468671e-04,\n",
       "        -6.83058813e-05, -9.62321378e-05, -5.85619973e-06,\n",
       "        -1.27665673e-05, -3.46811253e-05, -5.77379130e-05,\n",
       "        -1.73697937e-05],\n",
       "       [-6.21220371e-06, -4.68513678e-05, -1.85278085e-04,\n",
       "         1.63091242e-04,  2.11265909e-05, -1.06616757e-04,\n",
       "        -2.12278156e-04,  3.61905481e-04, -2.41396957e-04,\n",
       "         1.86002620e-05],\n",
       "       [-9.53437628e-05,  4.59975264e-05, -7.34810891e-04,\n",
       "         4.47731208e-04,  1.25143235e-04, -1.76363711e-04,\n",
       "        -6.55076596e-04,  8.52371570e-04, -7.87521219e-04,\n",
       "         1.57222763e-04],\n",
       "       [-4.38274064e-05,  4.19964821e-05, -8.28036742e-04,\n",
       "         6.19391931e-04,  3.25376985e-04, -3.16254244e-04,\n",
       "        -6.10764166e-04,  1.22614669e-03, -7.95801522e-04,\n",
       "         6.46021732e-05],\n",
       "       [ 8.56285903e-05, -2.37894927e-05, -7.02747850e-05,\n",
       "         2.58132867e-05,  7.12897333e-05, -1.54657487e-05,\n",
       "        -4.82204194e-06, -1.16749389e-05,  2.65709850e-05,\n",
       "         8.74298852e-06],\n",
       "       [-9.83665563e-05, -9.57225958e-05, -4.84801709e-04,\n",
       "         2.72906795e-04,  4.89407835e-04,  8.01644688e-05,\n",
       "        -2.54363005e-04,  8.89996554e-04, -3.67778415e-04,\n",
       "         5.25482666e-05],\n",
       "       [-1.10115617e-04,  7.46923958e-05, -1.57388355e-04,\n",
       "         3.75437558e-05,  3.09048553e-05, -1.01685692e-04,\n",
       "        -1.75405242e-04,  3.60539539e-04, -3.86220368e-04,\n",
       "         2.31548958e-05],\n",
       "       [-1.69753014e-04,  1.09901291e-04, -5.68644222e-04,\n",
       "         3.93044211e-04,  3.25591787e-04, -1.56490642e-04,\n",
       "        -4.52949630e-04,  1.06136566e-03, -4.54781186e-04,\n",
       "         1.71578200e-05],\n",
       "       [ 2.61949044e-04, -4.07088695e-05,  8.73710288e-04,\n",
       "        -5.90307253e-04, -4.04629078e-04,  1.26101407e-04,\n",
       "         4.02627605e-04, -1.41731217e-03,  7.26880413e-04,\n",
       "        -2.94261967e-04],\n",
       "       [-9.61306556e-05, -1.20225357e-05, -1.24015700e-04,\n",
       "         6.73267112e-05,  3.77178207e-05,  6.72378973e-05,\n",
       "        -8.37736915e-05,  2.53861488e-04, -1.88205932e-04,\n",
       "         2.91655187e-05],\n",
       "       [ 5.56384534e-04, -6.08261234e-04,  1.78063414e-03,\n",
       "        -7.19085848e-04, -3.45643464e-04,  1.16589185e-04,\n",
       "         1.51233100e-03, -3.40231600e-03,  2.66952011e-03,\n",
       "        -6.09787482e-05],\n",
       "       [-1.38572872e-04,  1.57309913e-04, -6.99688758e-04,\n",
       "         5.51510153e-04,  3.32259538e-04, -1.44685120e-04,\n",
       "        -3.69006807e-04,  1.25306227e-03, -6.25792967e-04,\n",
       "        -2.35123992e-05],\n",
       "       [-3.79960149e-04, -1.76307829e-04, -8.25473019e-04,\n",
       "         6.96949882e-04,  7.59896554e-04,  6.56282358e-05,\n",
       "        -5.71087412e-04,  1.61130988e-03, -7.89500485e-04,\n",
       "        -1.14801629e-04],\n",
       "       [-4.95414389e-05, -7.62142561e-05, -3.59875685e-04,\n",
       "         2.70571132e-04,  1.49848677e-04, -1.56753751e-04,\n",
       "        -1.82585121e-04,  5.63757942e-04, -2.36951043e-04,\n",
       "        -7.43352593e-05],\n",
       "       [-1.38852773e-03,  1.15499563e-03, -2.76146106e-03,\n",
       "         2.09568024e-03,  1.03541544e-03,  3.94757155e-04,\n",
       "        -2.46281742e-03,  6.02370600e-03, -4.50319877e-03,\n",
       "        -3.25002466e-04],\n",
       "       [-3.34253422e-04, -4.30170237e-05, -7.74054836e-04,\n",
       "         5.13998479e-04,  5.44232480e-04,  1.26845055e-04,\n",
       "        -4.55165840e-04,  1.54731337e-03, -1.16084128e-03,\n",
       "        -5.00084010e-05],\n",
       "       [-6.66840585e-04,  4.76342020e-04, -1.39717955e-03,\n",
       "         8.70462171e-04,  3.97107495e-04,  1.34605634e-04,\n",
       "        -8.22537880e-04,  2.52443096e-03, -1.58784320e-03,\n",
       "        -1.47254084e-04],\n",
       "       [-1.62898082e-04,  6.97558986e-05, -3.21407031e-04,\n",
       "         1.47533412e-04,  9.46948296e-05, -1.16321462e-04,\n",
       "        -2.88442417e-04,  6.34989263e-04, -3.33831208e-04,\n",
       "         5.57459811e-06],\n",
       "       [-7.09897919e-06,  1.41132875e-05, -2.74605656e-04,\n",
       "         2.59652627e-04,  2.18545814e-04, -2.27638425e-05,\n",
       "        -1.42606255e-04,  5.34831569e-04, -3.34521653e-04,\n",
       "         8.77005659e-06],\n",
       "       [ 2.39998978e-04, -9.90607650e-05,  4.20876831e-04,\n",
       "        -4.02264561e-04, -1.83447147e-04,  7.64120695e-05,\n",
       "         4.22792360e-04, -1.00382936e-03,  6.38873037e-04,\n",
       "        -1.42734846e-05],\n",
       "       [ 2.85356582e-04,  2.51113447e-05,  6.57672981e-04,\n",
       "        -4.69761443e-04, -5.78954909e-04,  1.05934925e-04,\n",
       "         4.28107805e-04, -1.15985721e-03,  6.53357485e-04,\n",
       "         5.61920416e-07],\n",
       "       [-3.08056896e-04,  2.36960949e-04, -1.09555322e-03,\n",
       "         7.28353983e-04,  2.89443081e-04, -5.92012316e-04,\n",
       "        -9.48453265e-04,  1.49070700e-03, -8.64630390e-04,\n",
       "         1.39380668e-04],\n",
       "       [-2.37988376e-04, -1.84738414e-04, -1.06703598e-03,\n",
       "         8.58475172e-04,  8.75025566e-04, -1.98763322e-04,\n",
       "        -8.51742102e-04,  2.03330976e-03, -9.00995305e-04,\n",
       "         2.08373909e-04]])"
      ]
     },
     "execution_count": 7,
     "metadata": {},
     "output_type": "execute_result"
    }
   ],
   "source": [
    "y_pred-y"
   ]
  },
  {
   "cell_type": "code",
   "execution_count": null,
   "metadata": {},
   "outputs": [],
   "source": []
  }
 ],
 "metadata": {
  "kernelspec": {
   "display_name": "venv_pytorch",
   "language": "python",
   "name": "venv_pytorch"
  },
  "language_info": {
   "codemirror_mode": {
    "name": "ipython",
    "version": 3
   },
   "file_extension": ".py",
   "mimetype": "text/x-python",
   "name": "python",
   "nbconvert_exporter": "python",
   "pygments_lexer": "ipython3",
   "version": "3.7.7"
  }
 },
 "nbformat": 4,
 "nbformat_minor": 4
}
