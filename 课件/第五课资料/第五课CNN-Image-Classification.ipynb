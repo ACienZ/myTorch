{
 "cells": [
  {
   "cell_type": "code",
   "execution_count": 1,
   "metadata": {},
   "outputs": [
    {
     "name": "stdout",
     "output_type": "stream",
     "text": [
      "PyTorch Version:  1.0.0\n"
     ]
    }
   ],
   "source": [
    "import torch\n",
    "import torch.nn as nn\n",
    "import torch.nn.functional as F\n",
    "import torch.optim as optim\n",
    "from torchvision import datasets, transforms\n",
    "print(\"PyTorch Version: \",torch.__version__)"
   ]
  },
  {
   "cell_type": "markdown",
   "metadata": {},
   "source": [
    "首先我们定义一个基于ConvNet的简单神经网络"
   ]
  },
  {
   "cell_type": "code",
   "execution_count": 4,
   "metadata": {
    "collapsed": true
   },
   "outputs": [],
   "source": [
    "class Net(nn.Module):\n",
    "    def __init__(self):\n",
    "        super(Net, self).__init__()\n",
    "        self.conv1 = nn.Conv2d(1, 20, 5, 1)\n",
    "        self.conv2 = nn.Conv2d(20, 50, 5, 1)\n",
    "        self.fc1 = nn.Linear(4*4*50, 500)\n",
    "        self.fc2 = nn.Linear(500, 10)\n",
    "\n",
    "    def forward(self, x):\n",
    "        x = F.relu(self.conv1(x))\n",
    "        x = F.max_pool2d(x, 2, 2)\n",
    "        x = F.relu(self.conv2(x))\n",
    "        x = F.max_pool2d(x, 2, 2)\n",
    "        x = x.view(-1, 4*4*50)\n",
    "        x = F.relu(self.fc1(x))\n",
    "        x = self.fc2(x)\n",
    "        return F.log_softmax(x, dim=1)"
   ]
  },
  {
   "cell_type": "markdown",
   "metadata": {},
   "source": [
    "NLL loss的定义\n",
    "\n",
    "$\\ell(x, y) = L = \\{l_1,\\dots,l_N\\}^\\top, \\quad\n",
    "        l_n = - w_{y_n} x_{n,y_n}, \\quad\n",
    "        w_{c} = \\text{weight}[c] \\cdot \\mathbb{1}\\{c \\not= \\text{ignore\\_index}\\}$"
   ]
  },
  {
   "cell_type": "code",
   "execution_count": 7,
   "metadata": {
    "collapsed": true
   },
   "outputs": [],
   "source": [
    "def train(model, device, train_loader, optimizer, epoch, log_interval=100):\n",
    "    model.train()\n",
    "    for batch_idx, (data, target) in enumerate(train_loader):\n",
    "        data, target = data.to(device), target.to(device)\n",
    "        optimizer.zero_grad()\n",
    "        output = model(data)\n",
    "        loss = F.nll_loss(output, target)\n",
    "        loss.backward()\n",
    "        optimizer.step()\n",
    "        if batch_idx % log_interval == 0:\n",
    "            print(\"Train Epoch: {} [{}/{} ({:0f}%)]\\tLoss: {:.6f}\".format(\n",
    "                epoch, batch_idx * len(data), len(train_loader.dataset), \n",
    "                100. * batch_idx / len(train_loader), loss.item()\n",
    "            ))"
   ]
  },
  {
   "cell_type": "code",
   "execution_count": 8,
   "metadata": {
    "collapsed": true
   },
   "outputs": [],
   "source": [
    "def test(model, device, test_loader):\n",
    "    model.eval()\n",
    "    test_loss = 0\n",
    "    correct = 0\n",
    "    with torch.no_grad():\n",
    "        for data, target in test_loader:\n",
    "            data, target = data.to(device), target.to(device)\n",
    "            output = model(data)\n",
    "            test_loss += F.nll_loss(output, target, reduction='sum').item() # sum up batch loss\n",
    "            pred = output.argmax(dim=1, keepdim=True) # get the index of the max log-probability\n",
    "            correct += pred.eq(target.view_as(pred)).sum().item()\n",
    "\n",
    "    test_loss /= len(test_loader.dataset)\n",
    "\n",
    "    print('\\nTest set: Average loss: {:.4f}, Accuracy: {}/{} ({:.0f}%)\\n'.format(\n",
    "        test_loss, correct, len(test_loader.dataset),\n",
    "        100. * correct / len(test_loader.dataset)))"
   ]
  },
  {
   "cell_type": "code",
   "execution_count": 13,
   "metadata": {},
   "outputs": [
    {
     "name": "stdout",
     "output_type": "stream",
     "text": [
      "Train Epoch: 1 [0/60000 (0.000000%)]\tLoss: 2.297938\n",
      "Train Epoch: 1 [3200/60000 (5.333333%)]\tLoss: 0.567845\n",
      "Train Epoch: 1 [6400/60000 (10.666667%)]\tLoss: 0.206370\n",
      "Train Epoch: 1 [9600/60000 (16.000000%)]\tLoss: 0.094653\n",
      "Train Epoch: 1 [12800/60000 (21.333333%)]\tLoss: 0.180530\n",
      "Train Epoch: 1 [16000/60000 (26.666667%)]\tLoss: 0.041645\n",
      "Train Epoch: 1 [19200/60000 (32.000000%)]\tLoss: 0.135092\n",
      "Train Epoch: 1 [22400/60000 (37.333333%)]\tLoss: 0.054001\n",
      "Train Epoch: 1 [25600/60000 (42.666667%)]\tLoss: 0.111863\n",
      "Train Epoch: 1 [28800/60000 (48.000000%)]\tLoss: 0.059039\n",
      "Train Epoch: 1 [32000/60000 (53.333333%)]\tLoss: 0.089227\n",
      "Train Epoch: 1 [35200/60000 (58.666667%)]\tLoss: 0.186015\n",
      "Train Epoch: 1 [38400/60000 (64.000000%)]\tLoss: 0.093208\n",
      "Train Epoch: 1 [41600/60000 (69.333333%)]\tLoss: 0.077090\n",
      "Train Epoch: 1 [44800/60000 (74.666667%)]\tLoss: 0.038075\n",
      "Train Epoch: 1 [48000/60000 (80.000000%)]\tLoss: 0.036247\n",
      "Train Epoch: 1 [51200/60000 (85.333333%)]\tLoss: 0.052358\n",
      "Train Epoch: 1 [54400/60000 (90.666667%)]\tLoss: 0.013201\n",
      "Train Epoch: 1 [57600/60000 (96.000000%)]\tLoss: 0.036660\n",
      "\n",
      "Test set: Average loss: 0.0644, Accuracy: 9802/10000 (98%)\n",
      "\n",
      "Train Epoch: 2 [0/60000 (0.000000%)]\tLoss: 0.054402\n",
      "Train Epoch: 2 [3200/60000 (5.333333%)]\tLoss: 0.032239\n",
      "Train Epoch: 2 [6400/60000 (10.666667%)]\tLoss: 0.092350\n",
      "Train Epoch: 2 [9600/60000 (16.000000%)]\tLoss: 0.058544\n",
      "Train Epoch: 2 [12800/60000 (21.333333%)]\tLoss: 0.029762\n",
      "Train Epoch: 2 [16000/60000 (26.666667%)]\tLoss: 0.012521\n",
      "Train Epoch: 2 [19200/60000 (32.000000%)]\tLoss: 0.101891\n",
      "Train Epoch: 2 [22400/60000 (37.333333%)]\tLoss: 0.127773\n",
      "Train Epoch: 2 [25600/60000 (42.666667%)]\tLoss: 0.009259\n",
      "Train Epoch: 2 [28800/60000 (48.000000%)]\tLoss: 0.013482\n",
      "Train Epoch: 2 [32000/60000 (53.333333%)]\tLoss: 0.039676\n",
      "Train Epoch: 2 [35200/60000 (58.666667%)]\tLoss: 0.016707\n",
      "Train Epoch: 2 [38400/60000 (64.000000%)]\tLoss: 0.168691\n",
      "Train Epoch: 2 [41600/60000 (69.333333%)]\tLoss: 0.056318\n",
      "Train Epoch: 2 [44800/60000 (74.666667%)]\tLoss: 0.008174\n",
      "Train Epoch: 2 [48000/60000 (80.000000%)]\tLoss: 0.075149\n",
      "Train Epoch: 2 [51200/60000 (85.333333%)]\tLoss: 0.205798\n",
      "Train Epoch: 2 [54400/60000 (90.666667%)]\tLoss: 0.019762\n",
      "Train Epoch: 2 [57600/60000 (96.000000%)]\tLoss: 0.012056\n",
      "\n",
      "Test set: Average loss: 0.0464, Accuracy: 9850/10000 (98%)\n",
      "\n"
     ]
    }
   ],
   "source": [
    "torch.manual_seed(53113)\n",
    "\n",
    "use_cuda = torch.cuda.is_available()\n",
    "device = torch.device(\"cuda\" if use_cuda else \"cpu\")\n",
    "batch_size = test_batch_size = 32\n",
    "kwargs = {'num_workers': 1, 'pin_memory': True} if use_cuda else {}\n",
    "train_loader = torch.utils.data.DataLoader(\n",
    "    datasets.MNIST('./mnist_data', train=True, download=True,\n",
    "                   transform=transforms.Compose([\n",
    "                       transforms.ToTensor(),\n",
    "                       transforms.Normalize((0.1307,), (0.3081,))\n",
    "                   ])),\n",
    "    batch_size=batch_size, shuffle=True, **kwargs)\n",
    "test_loader = torch.utils.data.DataLoader(\n",
    "    datasets.MNIST('./mnist_data', train=False, transform=transforms.Compose([\n",
    "                       transforms.ToTensor(),\n",
    "                       transforms.Normalize((0.1307,), (0.3081,))\n",
    "                   ])),\n",
    "    batch_size=test_batch_size, shuffle=True, **kwargs)\n",
    "\n",
    "\n",
    "lr = 0.01\n",
    "momentum = 0.5\n",
    "model = Net().to(device)\n",
    "optimizer = optim.SGD(model.parameters(), lr=lr, momentum=momentum)\n",
    "\n",
    "epochs = 2\n",
    "for epoch in range(1, epochs + 1):\n",
    "    train(model, device, train_loader, optimizer, epoch)\n",
    "    test(model, device, test_loader)\n",
    "\n",
    "save_model = True\n",
    "if (save_model):\n",
    "    torch.save(model.state_dict(),\"mnist_cnn.pt\")"
   ]
  },
  {
   "cell_type": "code",
   "execution_count": 15,
   "metadata": {
    "scrolled": true
   },
   "outputs": [
    {
     "name": "stdout",
     "output_type": "stream",
     "text": [
      "Downloading http://fashion-mnist.s3-website.eu-central-1.amazonaws.com/train-images-idx3-ubyte.gz\n",
      "Downloading http://fashion-mnist.s3-website.eu-central-1.amazonaws.com/train-labels-idx1-ubyte.gz\n",
      "Downloading http://fashion-mnist.s3-website.eu-central-1.amazonaws.com/t10k-images-idx3-ubyte.gz\n",
      "Downloading http://fashion-mnist.s3-website.eu-central-1.amazonaws.com/t10k-labels-idx1-ubyte.gz\n",
      "Processing...\n",
      "Done!\n",
      "Train Epoch: 1 [0/60000 (0.000000%)]\tLoss: 2.279603\n",
      "Train Epoch: 1 [3200/60000 (5.333333%)]\tLoss: 0.962251\n",
      "Train Epoch: 1 [6400/60000 (10.666667%)]\tLoss: 1.019635\n",
      "Train Epoch: 1 [9600/60000 (16.000000%)]\tLoss: 0.544330\n",
      "Train Epoch: 1 [12800/60000 (21.333333%)]\tLoss: 0.629807\n",
      "Train Epoch: 1 [16000/60000 (26.666667%)]\tLoss: 0.514437\n",
      "Train Epoch: 1 [19200/60000 (32.000000%)]\tLoss: 0.555741\n",
      "Train Epoch: 1 [22400/60000 (37.333333%)]\tLoss: 0.528186\n",
      "Train Epoch: 1 [25600/60000 (42.666667%)]\tLoss: 0.656440\n",
      "Train Epoch: 1 [28800/60000 (48.000000%)]\tLoss: 0.294654\n",
      "Train Epoch: 1 [32000/60000 (53.333333%)]\tLoss: 0.293626\n",
      "Train Epoch: 1 [35200/60000 (58.666667%)]\tLoss: 0.227645\n",
      "Train Epoch: 1 [38400/60000 (64.000000%)]\tLoss: 0.473842\n",
      "Train Epoch: 1 [41600/60000 (69.333333%)]\tLoss: 0.724678\n",
      "Train Epoch: 1 [44800/60000 (74.666667%)]\tLoss: 0.519580\n",
      "Train Epoch: 1 [48000/60000 (80.000000%)]\tLoss: 0.465854\n",
      "Train Epoch: 1 [51200/60000 (85.333333%)]\tLoss: 0.378200\n",
      "Train Epoch: 1 [54400/60000 (90.666667%)]\tLoss: 0.503832\n",
      "Train Epoch: 1 [57600/60000 (96.000000%)]\tLoss: 0.616502\n",
      "\n",
      "Test set: Average loss: 0.4365, Accuracy: 8425/10000 (84%)\n",
      "\n",
      "Train Epoch: 2 [0/60000 (0.000000%)]\tLoss: 0.385171\n",
      "Train Epoch: 2 [3200/60000 (5.333333%)]\tLoss: 0.329045\n",
      "Train Epoch: 2 [6400/60000 (10.666667%)]\tLoss: 0.308792\n",
      "Train Epoch: 2 [9600/60000 (16.000000%)]\tLoss: 0.360471\n",
      "Train Epoch: 2 [12800/60000 (21.333333%)]\tLoss: 0.445865\n",
      "Train Epoch: 2 [16000/60000 (26.666667%)]\tLoss: 0.357145\n",
      "Train Epoch: 2 [19200/60000 (32.000000%)]\tLoss: 0.376523\n",
      "Train Epoch: 2 [22400/60000 (37.333333%)]\tLoss: 0.389735\n",
      "Train Epoch: 2 [25600/60000 (42.666667%)]\tLoss: 0.308655\n",
      "Train Epoch: 2 [28800/60000 (48.000000%)]\tLoss: 0.352300\n",
      "Train Epoch: 2 [32000/60000 (53.333333%)]\tLoss: 0.499613\n",
      "Train Epoch: 2 [35200/60000 (58.666667%)]\tLoss: 0.282398\n",
      "Train Epoch: 2 [38400/60000 (64.000000%)]\tLoss: 0.330232\n",
      "Train Epoch: 2 [41600/60000 (69.333333%)]\tLoss: 0.430427\n",
      "Train Epoch: 2 [44800/60000 (74.666667%)]\tLoss: 0.406084\n",
      "Train Epoch: 2 [48000/60000 (80.000000%)]\tLoss: 0.443538\n",
      "Train Epoch: 2 [51200/60000 (85.333333%)]\tLoss: 0.348947\n",
      "Train Epoch: 2 [54400/60000 (90.666667%)]\tLoss: 0.424920\n",
      "Train Epoch: 2 [57600/60000 (96.000000%)]\tLoss: 0.231494\n",
      "\n",
      "Test set: Average loss: 0.3742, Accuracy: 8652/10000 (87%)\n",
      "\n"
     ]
    }
   ],
   "source": [
    "torch.manual_seed(53113)\n",
    "\n",
    "use_cuda = torch.cuda.is_available()\n",
    "device = torch.device(\"cuda\" if use_cuda else \"cpu\")\n",
    "batch_size = test_batch_size = 32\n",
    "kwargs = {'num_workers': 1, 'pin_memory': True} if use_cuda else {}\n",
    "train_loader = torch.utils.data.DataLoader(\n",
    "    datasets.FashionMNIST('./fashion_mnist_data', train=True, download=True,\n",
    "                   transform=transforms.Compose([\n",
    "                       transforms.ToTensor(),\n",
    "                       transforms.Normalize((0.1307,), (0.3081,))\n",
    "                   ])),\n",
    "    batch_size=batch_size, shuffle=True, **kwargs)\n",
    "test_loader = torch.utils.data.DataLoader(\n",
    "    datasets.FashionMNIST('./fashion_mnist_data', train=False, transform=transforms.Compose([\n",
    "                       transforms.ToTensor(),\n",
    "                       transforms.Normalize((0.1307,), (0.3081,))\n",
    "                   ])),\n",
    "    batch_size=test_batch_size, shuffle=True, **kwargs)\n",
    "\n",
    "\n",
    "lr = 0.01\n",
    "momentum = 0.5\n",
    "model = Net().to(device)\n",
    "optimizer = optim.SGD(model.parameters(), lr=lr, momentum=momentum)\n",
    "\n",
    "epochs = 2\n",
    "for epoch in range(1, epochs + 1):\n",
    "    train(model, device, train_loader, optimizer, epoch)\n",
    "    test(model, device, test_loader)\n",
    "\n",
    "save_model = True\n",
    "if (save_model):\n",
    "    torch.save(model.state_dict(),\"fashion_mnist_cnn.pt\")"
   ]
  },
  {
   "cell_type": "markdown",
   "metadata": {},
   "source": [
    "# CNN模型的迁移学习"
   ]
  },
  {
   "cell_type": "markdown",
   "metadata": {},
   "source": [
    "- 很多时候当我们需要训练一个新的图像分类任务，我们不会完全从一个随机的模型开始训练，而是利用_预训练_的模型来加速训练的过程。我们经常使用在`ImageNet`上的预训练模型。\n",
    "- 这是一种transfer learning的方法。我们常用以下两种方法做迁移学习。\n",
    "    - fine tuning: 从一个预训练模型开始，我们改变一些模型的架构，然后继续训练整个模型的参数。\n",
    "    - feature extraction: 我们不再改变与训练模型的参数，而是只更新我们改变过的部分模型参数。我们之所以叫它feature extraction是因为我们把预训练的CNN模型当做一个特征提取模型，利用提取出来的特征做来完成我们的训练任务。\n",
    "    \n",
    "以下是构建和训练迁移学习模型的基本步骤：\n",
    "- 初始化预训练模型\n",
    "- 把最后一层的输出层改变成我们想要分的类别总数\n",
    "- 定义一个optimizer来更新参数\n",
    "- 模型训练"
   ]
  },
  {
   "cell_type": "code",
   "execution_count": 2,
   "metadata": {},
   "outputs": [
    {
     "name": "stdout",
     "output_type": "stream",
     "text": [
      "Torchvision Version:  0.2.0\n"
     ]
    }
   ],
   "source": [
    "import numpy as np\n",
    "import torchvision\n",
    "from torchvision import datasets, transforms, models\n",
    "\n",
    "import matplotlib.pyplot as plt\n",
    "import time\n",
    "import os\n",
    "import copy\n",
    "print(\"Torchvision Version: \",torchvision.__version__)"
   ]
  },
  {
   "cell_type": "markdown",
   "metadata": {},
   "source": [
    "数据\n",
    "------\n",
    "\n",
    "我们会使用*hymenoptera_data*数据集，[下载](https://download.pytorch.org/tutorial/hymenoptera_data.zip).\n",
    "\n",
    "这个数据集包括两类图片, **bees** 和 **ants**, 这些数据都被处理成了可以使用`ImageFolder <https://pytorch.org/docs/stable/torchvision/datasets.html#torchvision.datasets.ImageFolder>`来读取的格式。我们只需要把``data_dir``设置成数据的根目录，然后把``model_name``设置成我们想要使用的与训练模型：\n",
    "::\n",
    "   [resnet, alexnet, vgg, squeezenet, densenet, inception]\n",
    "\n",
    "其他的参数有：\n",
    "- ``num_classes``表示数据集分类的类别数\n",
    "- ``batch_size``\n",
    "- ``num_epochs``\n",
    "- ``feature_extract``表示我们训练的时候使用fine tuning还是feature extraction方法。如果``feature_extract = False``，整个模型都会被同时更新。如果``feature_extract = True``，只有模型的最后一层被更新。"
   ]
  },
  {
   "cell_type": "code",
   "execution_count": 3,
   "metadata": {
    "collapsed": true
   },
   "outputs": [],
   "source": [
    "# Top level data directory. Here we assume the format of the directory conforms \n",
    "#   to the ImageFolder structure\n",
    "data_dir = \"./hymenoptera_data\"\n",
    "# Models to choose from [resnet, alexnet, vgg, squeezenet, densenet, inception]\n",
    "model_name = \"resnet\"\n",
    "# Number of classes in the dataset\n",
    "num_classes = 2\n",
    "# Batch size for training (change depending on how much memory you have)\n",
    "batch_size = 32\n",
    "# Number of epochs to train for \n",
    "num_epochs = 15\n",
    "# Flag for feature extracting. When False, we finetune the whole model, \n",
    "#   when True we only update the reshaped layer params\n",
    "feature_extract = True"
   ]
  },
  {
   "cell_type": "code",
   "execution_count": 5,
   "metadata": {
    "collapsed": true
   },
   "outputs": [],
   "source": [
    "def train_model(model, dataloaders, criterion, optimizer, num_epochs=5):\n",
    "    since = time.time()\n",
    "    val_acc_history = []\n",
    "    best_model_wts = copy.deepcopy(model.state_dict())\n",
    "    best_acc = 0.\n",
    "    for epoch in range(num_epochs):\n",
    "        print(\"Epoch {}/{}\".format(epoch, num_epochs-1))\n",
    "        print(\"-\"*10)\n",
    "        \n",
    "        for phase in [\"train\", \"val\"]:\n",
    "            running_loss = 0.\n",
    "            running_corrects = 0.\n",
    "            if phase == \"train\":\n",
    "                model.train()\n",
    "            else: \n",
    "                model.eval()\n",
    "            \n",
    "            for inputs, labels in dataloaders[phase]:\n",
    "                inputs = inputs.to(device)\n",
    "                labels = labels.to(device)\n",
    "                \n",
    "                with torch.autograd.set_grad_enabled(phase==\"train\"):\n",
    "                    outputs = model(inputs)\n",
    "                    loss = criterion(outputs, labels)\n",
    "                    \n",
    "                _, preds = torch.max(outputs, 1)\n",
    "                if phase == \"train\":\n",
    "                    optimizer.zero_grad()\n",
    "                    loss.backward()\n",
    "                    optimizer.step()\n",
    "                    \n",
    "                running_loss += loss.item() * inputs.size(0)\n",
    "                running_corrects += torch.sum(preds.view(-1) == labels.view(-1)).item()\n",
    "            \n",
    "            epoch_loss = running_loss / len(dataloaders[phase].dataset)\n",
    "            epoch_acc = running_corrects / len(dataloaders[phase].dataset)\n",
    "       \n",
    "            print(\"{} Loss: {} Acc: {}\".format(phase, epoch_loss, epoch_acc))\n",
    "            if phase == \"val\" and epoch_acc > best_acc:\n",
    "                best_acc = epoch_acc\n",
    "                best_model_wts = copy.deepcopy(model.state_dict())\n",
    "            if phase == \"val\":\n",
    "                val_acc_history.append(epoch_acc)\n",
    "            \n",
    "        print()\n",
    "    \n",
    "    time_elapsed = time.time() - since\n",
    "    print(\"Training compete in {}m {}s\".format(time_elapsed // 60, time_elapsed % 60))\n",
    "    print(\"Best val Acc: {}\".format(best_acc))\n",
    "    \n",
    "    model.load_state_dict(best_model_wts)\n",
    "    return model, val_acc_history"
   ]
  },
  {
   "cell_type": "code",
   "execution_count": 121,
   "metadata": {
    "collapsed": true
   },
   "outputs": [],
   "source": [
    "# it = iter(dataloaders_dict[\"train\"])\n",
    "# inputs, labels = next(it)\n",
    "# for inputs, labels in dataloaders_dict[\"train\"]:\n",
    "#     print(labels.size())"
   ]
  },
  {
   "cell_type": "code",
   "execution_count": 6,
   "metadata": {
    "collapsed": true
   },
   "outputs": [],
   "source": [
    "def set_parameter_requires_grad(model, feature_extracting):\n",
    "    if feature_extracting:\n",
    "        for param in model.parameters():\n",
    "            param.requires_grad = False"
   ]
  },
  {
   "cell_type": "code",
   "execution_count": 7,
   "metadata": {
    "scrolled": true
   },
   "outputs": [
    {
     "name": "stdout",
     "output_type": "stream",
     "text": [
      "ResNet(\n",
      "  (conv1): Conv2d(3, 64, kernel_size=(7, 7), stride=(2, 2), padding=(3, 3), bias=False)\n",
      "  (bn1): BatchNorm2d(64, eps=1e-05, momentum=0.1, affine=True, track_running_stats=True)\n",
      "  (relu): ReLU(inplace)\n",
      "  (maxpool): MaxPool2d(kernel_size=3, stride=2, padding=1, dilation=1, ceil_mode=False)\n",
      "  (layer1): Sequential(\n",
      "    (0): BasicBlock(\n",
      "      (conv1): Conv2d(64, 64, kernel_size=(3, 3), stride=(1, 1), padding=(1, 1), bias=False)\n",
      "      (bn1): BatchNorm2d(64, eps=1e-05, momentum=0.1, affine=True, track_running_stats=True)\n",
      "      (relu): ReLU(inplace)\n",
      "      (conv2): Conv2d(64, 64, kernel_size=(3, 3), stride=(1, 1), padding=(1, 1), bias=False)\n",
      "      (bn2): BatchNorm2d(64, eps=1e-05, momentum=0.1, affine=True, track_running_stats=True)\n",
      "    )\n",
      "    (1): BasicBlock(\n",
      "      (conv1): Conv2d(64, 64, kernel_size=(3, 3), stride=(1, 1), padding=(1, 1), bias=False)\n",
      "      (bn1): BatchNorm2d(64, eps=1e-05, momentum=0.1, affine=True, track_running_stats=True)\n",
      "      (relu): ReLU(inplace)\n",
      "      (conv2): Conv2d(64, 64, kernel_size=(3, 3), stride=(1, 1), padding=(1, 1), bias=False)\n",
      "      (bn2): BatchNorm2d(64, eps=1e-05, momentum=0.1, affine=True, track_running_stats=True)\n",
      "    )\n",
      "  )\n",
      "  (layer2): Sequential(\n",
      "    (0): BasicBlock(\n",
      "      (conv1): Conv2d(64, 128, kernel_size=(3, 3), stride=(2, 2), padding=(1, 1), bias=False)\n",
      "      (bn1): BatchNorm2d(128, eps=1e-05, momentum=0.1, affine=True, track_running_stats=True)\n",
      "      (relu): ReLU(inplace)\n",
      "      (conv2): Conv2d(128, 128, kernel_size=(3, 3), stride=(1, 1), padding=(1, 1), bias=False)\n",
      "      (bn2): BatchNorm2d(128, eps=1e-05, momentum=0.1, affine=True, track_running_stats=True)\n",
      "      (downsample): Sequential(\n",
      "        (0): Conv2d(64, 128, kernel_size=(1, 1), stride=(2, 2), bias=False)\n",
      "        (1): BatchNorm2d(128, eps=1e-05, momentum=0.1, affine=True, track_running_stats=True)\n",
      "      )\n",
      "    )\n",
      "    (1): BasicBlock(\n",
      "      (conv1): Conv2d(128, 128, kernel_size=(3, 3), stride=(1, 1), padding=(1, 1), bias=False)\n",
      "      (bn1): BatchNorm2d(128, eps=1e-05, momentum=0.1, affine=True, track_running_stats=True)\n",
      "      (relu): ReLU(inplace)\n",
      "      (conv2): Conv2d(128, 128, kernel_size=(3, 3), stride=(1, 1), padding=(1, 1), bias=False)\n",
      "      (bn2): BatchNorm2d(128, eps=1e-05, momentum=0.1, affine=True, track_running_stats=True)\n",
      "    )\n",
      "  )\n",
      "  (layer3): Sequential(\n",
      "    (0): BasicBlock(\n",
      "      (conv1): Conv2d(128, 256, kernel_size=(3, 3), stride=(2, 2), padding=(1, 1), bias=False)\n",
      "      (bn1): BatchNorm2d(256, eps=1e-05, momentum=0.1, affine=True, track_running_stats=True)\n",
      "      (relu): ReLU(inplace)\n",
      "      (conv2): Conv2d(256, 256, kernel_size=(3, 3), stride=(1, 1), padding=(1, 1), bias=False)\n",
      "      (bn2): BatchNorm2d(256, eps=1e-05, momentum=0.1, affine=True, track_running_stats=True)\n",
      "      (downsample): Sequential(\n",
      "        (0): Conv2d(128, 256, kernel_size=(1, 1), stride=(2, 2), bias=False)\n",
      "        (1): BatchNorm2d(256, eps=1e-05, momentum=0.1, affine=True, track_running_stats=True)\n",
      "      )\n",
      "    )\n",
      "    (1): BasicBlock(\n",
      "      (conv1): Conv2d(256, 256, kernel_size=(3, 3), stride=(1, 1), padding=(1, 1), bias=False)\n",
      "      (bn1): BatchNorm2d(256, eps=1e-05, momentum=0.1, affine=True, track_running_stats=True)\n",
      "      (relu): ReLU(inplace)\n",
      "      (conv2): Conv2d(256, 256, kernel_size=(3, 3), stride=(1, 1), padding=(1, 1), bias=False)\n",
      "      (bn2): BatchNorm2d(256, eps=1e-05, momentum=0.1, affine=True, track_running_stats=True)\n",
      "    )\n",
      "  )\n",
      "  (layer4): Sequential(\n",
      "    (0): BasicBlock(\n",
      "      (conv1): Conv2d(256, 512, kernel_size=(3, 3), stride=(2, 2), padding=(1, 1), bias=False)\n",
      "      (bn1): BatchNorm2d(512, eps=1e-05, momentum=0.1, affine=True, track_running_stats=True)\n",
      "      (relu): ReLU(inplace)\n",
      "      (conv2): Conv2d(512, 512, kernel_size=(3, 3), stride=(1, 1), padding=(1, 1), bias=False)\n",
      "      (bn2): BatchNorm2d(512, eps=1e-05, momentum=0.1, affine=True, track_running_stats=True)\n",
      "      (downsample): Sequential(\n",
      "        (0): Conv2d(256, 512, kernel_size=(1, 1), stride=(2, 2), bias=False)\n",
      "        (1): BatchNorm2d(512, eps=1e-05, momentum=0.1, affine=True, track_running_stats=True)\n",
      "      )\n",
      "    )\n",
      "    (1): BasicBlock(\n",
      "      (conv1): Conv2d(512, 512, kernel_size=(3, 3), stride=(1, 1), padding=(1, 1), bias=False)\n",
      "      (bn1): BatchNorm2d(512, eps=1e-05, momentum=0.1, affine=True, track_running_stats=True)\n",
      "      (relu): ReLU(inplace)\n",
      "      (conv2): Conv2d(512, 512, kernel_size=(3, 3), stride=(1, 1), padding=(1, 1), bias=False)\n",
      "      (bn2): BatchNorm2d(512, eps=1e-05, momentum=0.1, affine=True, track_running_stats=True)\n",
      "    )\n",
      "  )\n",
      "  (avgpool): AvgPool2d(kernel_size=7, stride=1, padding=0)\n",
      "  (fc): Linear(in_features=512, out_features=2, bias=True)\n",
      ")\n"
     ]
    }
   ],
   "source": [
    "def initialize_model(model_name, num_classes, feature_extract, use_pretrained=True):\n",
    "    if model_name == \"resnet\":\n",
    "        model_ft = models.resnet18(pretrained=use_pretrained)\n",
    "        set_parameter_requires_grad(model_ft, feature_extract)\n",
    "        num_ftrs = model_ft.fc.in_features\n",
    "        model_ft.fc = nn.Linear(num_ftrs, num_classes)\n",
    "        input_size = 224\n",
    "        \n",
    "    return model_ft, input_size\n",
    "model_ft, input_size = initialize_model(model_name, num_classes, feature_extract, use_pretrained=True)\n",
    "print(model_ft)"
   ]
  },
  {
   "cell_type": "markdown",
   "metadata": {},
   "source": [
    "读入数据\n",
    "---------\n",
    "\n",
    "现在我们知道了模型输入的size，我们就可以把数据预处理成相应的格式。\n"
   ]
  },
  {
   "cell_type": "code",
   "execution_count": null,
   "metadata": {
    "collapsed": true
   },
   "outputs": [],
   "source": [
    "all_imgs = datasets.ImageFolder(os.path.join(data_dir, \"train\"), transforms.Compose([\n",
    "        transforms.RandomResizedCrop(input_size),\n",
    "        transforms.RandomHorizontalFlip(),\n",
    "        transforms.ToTensor(),\n",
    "    ]))\n",
    "loader = torch.utils.data.DataLoader(all_imgs, batch_size=batch_size, shuffle=True, num_workers=4)"
   ]
  },
  {
   "cell_type": "code",
   "execution_count": null,
   "metadata": {
    "collapsed": true
   },
   "outputs": [],
   "source": [
    "img = next(iter(loader))[0]"
   ]
  },
  {
   "cell_type": "code",
   "execution_count": null,
   "metadata": {
    "collapsed": true
   },
   "outputs": [],
   "source": [
    "unloader = transforms.ToPILImage()  # reconvert into PIL image\n",
    "\n",
    "plt.ion()\n",
    "\n",
    "def imshow(tensor, title=None):\n",
    "    image = tensor.cpu().clone()  # we clone the tensor to not do changes on it\n",
    "    image = image.squeeze(0)      # remove the fake batch dimension\n",
    "    image = unloader(image)\n",
    "    plt.imshow(image)\n",
    "    if title is not None:\n",
    "        plt.title(title)\n",
    "    plt.pause(0.001) # pause a bit so that plots are updated\n",
    "\n",
    "\n",
    "plt.figure()\n",
    "imshow(img[31], title='Image')\n"
   ]
  },
  {
   "cell_type": "code",
   "execution_count": 8,
   "metadata": {},
   "outputs": [
    {
     "name": "stdout",
     "output_type": "stream",
     "text": [
      "Initializing Datasets and Dataloaders...\n"
     ]
    }
   ],
   "source": [
    "data_transforms = {\n",
    "    \"train\": transforms.Compose([\n",
    "        transforms.RandomResizedCrop(input_size),\n",
    "        transforms.RandomHorizontalFlip(),\n",
    "        transforms.ToTensor(),\n",
    "        transforms.Normalize([0.485, 0.456, 0.406], [0.229, 0.224, 0.225])\n",
    "    ]),\n",
    "    \"val\": transforms.Compose([\n",
    "        transforms.Resize(input_size),\n",
    "        transforms.CenterCrop(input_size),\n",
    "        transforms.ToTensor(),\n",
    "        transforms.Normalize([0.485, 0.456, 0.406], [0.229, 0.224, 0.225])\n",
    "    ]),\n",
    "}\n",
    "\n",
    "print(\"Initializing Datasets and Dataloaders...\")\n",
    "\n",
    "# Create training and validation datasets\n",
    "image_datasets = {x: datasets.ImageFolder(os.path.join(data_dir, x), data_transforms[x]) for x in ['train', 'val']}\n",
    "# Create training and validation dataloaders\n",
    "dataloaders_dict = {x: torch.utils.data.DataLoader(image_datasets[x], batch_size=batch_size, shuffle=True, num_workers=4) for x in ['train', 'val']}\n",
    "\n",
    "# Detect if we have a GPU available\n",
    "device = torch.device(\"cuda:0\" if torch.cuda.is_available() else \"cpu\")"
   ]
  },
  {
   "cell_type": "code",
   "execution_count": 127,
   "metadata": {},
   "outputs": [
    {
     "name": "stdout",
     "output_type": "stream",
     "text": [
      "Params to learn:\n",
      "\t fc.weight\n",
      "\t fc.bias\n"
     ]
    }
   ],
   "source": [
    "# Send the model to GPU\n",
    "model_ft = model_ft.to(device)\n",
    "\n",
    "# Gather the parameters to be optimized/updated in this run. If we are\n",
    "#  finetuning we will be updating all parameters. However, if we are \n",
    "#  doing feature extract method, we will only update the parameters\n",
    "#  that we have just initialized, i.e. the parameters with requires_grad\n",
    "#  is True.\n",
    "params_to_update = model_ft.parameters()\n",
    "print(\"Params to learn:\")\n",
    "if feature_extract:\n",
    "    params_to_update = []\n",
    "    for name,param in model_ft.named_parameters():\n",
    "        if param.requires_grad == True:\n",
    "            params_to_update.append(param)\n",
    "            print(\"\\t\",name)\n",
    "else:\n",
    "    for name,param in model_ft.named_parameters():\n",
    "        if param.requires_grad == True:\n",
    "            print(\"\\t\",name)\n",
    "\n",
    "# Observe that all parameters are being optimized\n",
    "optimizer_ft = optim.SGD(params_to_update, lr=0.001, momentum=0.9)"
   ]
  },
  {
   "cell_type": "code",
   "execution_count": 133,
   "metadata": {},
   "outputs": [
    {
     "name": "stdout",
     "output_type": "stream",
     "text": [
      "Epoch 0/14\n",
      "----------\n",
      "train Loss: 0.2623850886450439 Acc: 0.8975409836065574\n",
      "val Loss: 0.22199168762350394 Acc: 0.9215686274509803\n",
      "\n",
      "Epoch 1/14\n",
      "----------\n",
      "train Loss: 0.20775875546893136 Acc: 0.9262295081967213\n",
      "val Loss: 0.21329789413930544 Acc: 0.9215686274509803\n",
      "\n",
      "Epoch 2/14\n",
      "----------\n",
      "train Loss: 0.24463887243974405 Acc: 0.9098360655737705\n",
      "val Loss: 0.2308054333613589 Acc: 0.9215686274509803\n",
      "\n",
      "Epoch 3/14\n",
      "----------\n",
      "train Loss: 0.2108444703406975 Acc: 0.930327868852459\n",
      "val Loss: 0.20637644174831365 Acc: 0.954248366013072\n",
      "\n",
      "Epoch 4/14\n",
      "----------\n",
      "train Loss: 0.22102872954040279 Acc: 0.9221311475409836\n",
      "val Loss: 0.19902625017695957 Acc: 0.9281045751633987\n",
      "\n",
      "Epoch 5/14\n",
      "----------\n",
      "train Loss: 0.22044393127081824 Acc: 0.9221311475409836\n",
      "val Loss: 0.2212505256818011 Acc: 0.9281045751633987\n",
      "\n",
      "Epoch 6/14\n",
      "----------\n",
      "train Loss: 0.1636357441788814 Acc: 0.9467213114754098\n",
      "val Loss: 0.1969745449380937 Acc: 0.934640522875817\n",
      "\n",
      "Epoch 7/14\n",
      "----------\n",
      "train Loss: 0.1707800094221459 Acc: 0.9385245901639344\n",
      "val Loss: 0.20569930824578977 Acc: 0.934640522875817\n",
      "\n",
      "Epoch 8/14\n",
      "----------\n",
      "train Loss: 0.18224841185280535 Acc: 0.9344262295081968\n",
      "val Loss: 0.192565394480244 Acc: 0.9411764705882353\n",
      "\n",
      "Epoch 9/14\n",
      "----------\n",
      "train Loss: 0.17762072372143387 Acc: 0.9385245901639344\n",
      "val Loss: 0.19549715163466197 Acc: 0.9411764705882353\n",
      "\n",
      "Epoch 10/14\n",
      "----------\n",
      "train Loss: 0.19314993575948183 Acc: 0.9180327868852459\n",
      "val Loss: 0.2000840900380627 Acc: 0.934640522875817\n",
      "\n",
      "Epoch 11/14\n",
      "----------\n",
      "train Loss: 0.21551114418467537 Acc: 0.9057377049180327\n",
      "val Loss: 0.18960770005299374 Acc: 0.934640522875817\n",
      "\n",
      "Epoch 12/14\n",
      "----------\n",
      "train Loss: 0.1847396502729322 Acc: 0.9426229508196722\n",
      "val Loss: 0.1871058808432685 Acc: 0.9411764705882353\n",
      "\n",
      "Epoch 13/14\n",
      "----------\n",
      "train Loss: 0.17342406132670699 Acc: 0.9508196721311475\n",
      "val Loss: 0.20636656588199093 Acc: 0.9215686274509803\n",
      "\n",
      "Epoch 14/14\n",
      "----------\n",
      "train Loss: 0.16013679030488748 Acc: 0.9508196721311475\n",
      "val Loss: 0.18491691759988374 Acc: 0.9411764705882353\n",
      "\n",
      "Training compete in 0.0m 14.700076580047607s\n",
      "Best val Acc: 0.954248366013072\n"
     ]
    }
   ],
   "source": [
    "# Setup the loss fxn\n",
    "criterion = nn.CrossEntropyLoss()\n",
    "\n",
    "# Train and evaluate\n",
    "model_ft, ohist = train_model(model_ft, dataloaders_dict, criterion, optimizer_ft, num_epochs=num_epochs)"
   ]
  },
  {
   "cell_type": "code",
   "execution_count": 130,
   "metadata": {},
   "outputs": [
    {
     "name": "stdout",
     "output_type": "stream",
     "text": [
      "Epoch 0/14\n",
      "----------\n",
      "train Loss: 0.7185551504619786 Acc: 0.4426229508196721\n",
      "val Loss: 0.6956208067781785 Acc: 0.45751633986928103\n",
      "\n",
      "Epoch 1/14\n",
      "----------\n",
      "train Loss: 0.6852761008700387 Acc: 0.5778688524590164\n",
      "val Loss: 0.6626271987273022 Acc: 0.6601307189542484\n",
      "\n",
      "Epoch 2/14\n",
      "----------\n",
      "train Loss: 0.6603062289660094 Acc: 0.5942622950819673\n",
      "val Loss: 0.6489538297154545 Acc: 0.5816993464052288\n",
      "\n",
      "Epoch 3/14\n",
      "----------\n",
      "train Loss: 0.6203305486772881 Acc: 0.639344262295082\n",
      "val Loss: 0.6013184107986151 Acc: 0.673202614379085\n",
      "\n",
      "Epoch 4/14\n",
      "----------\n",
      "train Loss: 0.5989709232674271 Acc: 0.6680327868852459\n",
      "val Loss: 0.5929347966231552 Acc: 0.6993464052287581\n",
      "\n",
      "Epoch 5/14\n",
      "----------\n",
      "train Loss: 0.5821619336722327 Acc: 0.6557377049180327\n",
      "val Loss: 0.5804777059679717 Acc: 0.6928104575163399\n",
      "\n",
      "Epoch 6/14\n",
      "----------\n",
      "train Loss: 0.6114685896967278 Acc: 0.6270491803278688\n",
      "val Loss: 0.5674225290616354 Acc: 0.7189542483660131\n",
      "\n",
      "Epoch 7/14\n",
      "----------\n",
      "train Loss: 0.5681056575696977 Acc: 0.6680327868852459\n",
      "val Loss: 0.5602688086188696 Acc: 0.7189542483660131\n",
      "\n",
      "Epoch 8/14\n",
      "----------\n",
      "train Loss: 0.5701596453541615 Acc: 0.7090163934426229\n",
      "val Loss: 0.5554519264526616 Acc: 0.7450980392156863\n",
      "\n",
      "Epoch 9/14\n",
      "----------\n",
      "train Loss: 0.5476810380083615 Acc: 0.7254098360655737\n",
      "val Loss: 0.5805927063125411 Acc: 0.7189542483660131\n",
      "\n",
      "Epoch 10/14\n",
      "----------\n",
      "train Loss: 0.5508710468401674 Acc: 0.6926229508196722\n",
      "val Loss: 0.5859468777974447 Acc: 0.7058823529411765\n",
      "\n",
      "Epoch 11/14\n",
      "----------\n",
      "train Loss: 0.5344281519045595 Acc: 0.7172131147540983\n",
      "val Loss: 0.5640550851821899 Acc: 0.7058823529411765\n",
      "\n",
      "Epoch 12/14\n",
      "----------\n",
      "train Loss: 0.5125471890949812 Acc: 0.7295081967213115\n",
      "val Loss: 0.5665123891207128 Acc: 0.7058823529411765\n",
      "\n",
      "Epoch 13/14\n",
      "----------\n",
      "train Loss: 0.496260079204059 Acc: 0.7254098360655737\n",
      "val Loss: 0.5820710787586137 Acc: 0.7058823529411765\n",
      "\n",
      "Epoch 14/14\n",
      "----------\n",
      "train Loss: 0.49067981907578767 Acc: 0.7704918032786885\n",
      "val Loss: 0.5722863315756804 Acc: 0.7058823529411765\n",
      "\n",
      "Training compete in 0.0m 18.418847799301147s\n",
      "Best val Acc: 0.7450980392156863\n"
     ]
    }
   ],
   "source": [
    "# Initialize the non-pretrained version of the model used for this run\n",
    "scratch_model,_ = initialize_model(model_name, num_classes, feature_extract=False, use_pretrained=False)\n",
    "scratch_model = scratch_model.to(device)\n",
    "scratch_optimizer = optim.SGD(scratch_model.parameters(), lr=0.001, momentum=0.9)\n",
    "scratch_criterion = nn.CrossEntropyLoss()\n",
    "_,scratch_hist = train_model(scratch_model, dataloaders_dict, scratch_criterion, scratch_optimizer, num_epochs=num_epochs)\n"
   ]
  },
  {
   "cell_type": "code",
   "execution_count": 134,
   "metadata": {},
   "outputs": [
    {
     "data": {
      "image/png": "[encoded data removed]",
      "text/plain": [
       "<Figure size 432x288 with 1 Axes>"
      ]
     },
     "metadata": {},
     "output_type": "display_data"
    }
   ],
   "source": [
    "\n",
    "# Plot the training curves of validation accuracy vs. number \n",
    "#  of training epochs for the transfer learning method and\n",
    "#  the model trained from scratch\n",
    "# ohist = []\n",
    "# shist = []\n",
    "\n",
    "# ohist = [h.cpu().numpy() for h in ohist]\n",
    "# shist = [h.cpu().numpy() for h in scratch_hist]\n",
    "\n",
    "plt.title(\"Validation Accuracy vs. Number of Training Epochs\")\n",
    "plt.xlabel(\"Training Epochs\")\n",
    "plt.ylabel(\"Validation Accuracy\")\n",
    "plt.plot(range(1,num_epochs+1),ohist,label=\"Pretrained\")\n",
    "plt.plot(range(1,num_epochs+1),scratch_hist,label=\"Scratch\")\n",
    "plt.ylim((0,1.))\n",
    "plt.xticks(np.arange(1, num_epochs+1, 1.0))\n",
    "plt.legend()\n",
    "plt.show()"
   ]
  }
 ],
 "metadata": {
  "kernelspec": {
   "display_name": "Python 3",
   "language": "python",
   "name": "python3"
  },
  "language_info": {
   "codemirror_mode": {
    "name": "ipython",
    "version": 3
   },
   "file_extension": ".py",
   "mimetype": "text/x-python",
   "name": "python",
   "nbconvert_exporter": "python",
   "pygments_lexer": "ipython3",
   "version": "3.6.4"
  }
 },
 "nbformat": 4,
 "nbformat_minor": 2
}
