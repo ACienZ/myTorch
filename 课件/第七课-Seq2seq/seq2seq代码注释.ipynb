{
 "cells": [
  {
   "cell_type": "markdown",
   "metadata": {
    "colab_type": "text",
    "id": "XHpdbe4NcoNl"
   },
   "source": [
    "# Seq2Seq, Attention\n",
    "\n",
    "褚则伟 zeweichu@gmail.com\n",
    "\n",
    "在这份notebook当中，我们会(尽可能)复现Luong的attention模型\n",
    "\n",
    "由于我们的数据集非常小，只有一万多个句子的训练数据，所以训练出来的模型效果并不好。如果大家想训练一个好一点的模型，可以参考下面的资料。"
   ]
  },
  {
   "cell_type": "markdown",
   "metadata": {
    "colab_type": "text",
    "id": "5RqjiiwJcoNm"
   },
   "source": [
    "## 更多阅读\n",
    "\n",
    "#### 课件\n",
    "- [cs224d](http://cs224d.stanford.edu/lectures/CS224d-Lecture15.pdf)\n",
    "\n",
    "\n",
    "#### 论文\n",
    "- [Learning Phrase Representations using RNN Encoder-Decoder for Statistical Machine Translation](https://arxiv.org/abs/1406.1078)\n",
    "- [Effective Approaches to Attention-based Neural Machine Translation](https://arxiv.org/abs/1508.04025?context=cs)\n",
    "- [Neural Machine Translation by Jointly Learning to Align and Translate](https://arxiv.org/abs/1406.1078)\n",
    "\n",
    "\n",
    "#### PyTorch代码\n",
    "- [seq2seq-tutorial](https://github.com/spro/practical-pytorch/blob/master/seq2seq-translation/seq2seq-translation.ipynb)\n",
    "- [Tutorial from Ben Trevett](https://github.com/bentrevett/pytorch-seq2seq)\n",
    "- [IBM seq2seq](https://github.com/IBM/pytorch-seq2seq)\n",
    "- [OpenNMT-py](https://github.com/OpenNMT/OpenNMT-py)\n",
    "\n",
    "\n",
    "#### 更多关于Machine Translation\n",
    "- [Beam Search](https://www.coursera.org/lecture/nlp-sequence-models/beam-search-4EtHZ)\n",
    "- Pointer network 文本摘要\n",
    "- Copy Mechanism 文本摘要\n",
    "- Converage Loss \n",
    "- ConvSeq2Seq\n",
    "- Transformer\n",
    "- Tensor2Tensor\n",
    "\n",
    "#### TODO\n",
    "- 建议同学尝试对中文进行分词\n",
    "\n",
    "#### NER\n",
    "- https://github.com/allenai/allennlp/tree/master/allennlp\n"
   ]
  },
  {
   "cell_type": "code",
   "execution_count": 137,
   "metadata": {
    "colab": {},
    "colab_type": "code",
    "id": "QTPmv1ERcoNn"
   },
   "outputs": [],
   "source": [
    "import os\n",
    "import sys\n",
    "import math\n",
    "from collections import Counter #计数器\n",
    "import numpy as np\n",
    "import random\n",
    "\n",
    "import torch\n",
    "import torch.nn as nn\n",
    "import torch.nn.functional as F\n",
    "\n",
    "import nltk"
   ]
  },
  {
   "cell_type": "markdown",
   "metadata": {
    "colab_type": "text",
    "id": "ON3mZkKWcoNq"
   },
   "source": [
    "读入中英文数据\n",
    "- 英文我们使用nltk的word tokenizer来分词，并且使用小写字母\n",
    "- 中文我们直接使用单个汉字作为基本单元"
   ]
  },
  {
   "cell_type": "code",
   "execution_count": 138,
   "metadata": {
    "colab": {},
    "colab_type": "code",
    "id": "uMyTGTsPcoNr"
   },
   "outputs": [],
   "source": [
    "def load_data(in_file):\n",
    "    cn = []\n",
    "    en = []\n",
    "    num_examples = 0\n",
    "    with open(in_file, 'r') as f:\n",
    "        for line in f:\n",
    "            #print(line) #Anyone can do that.\t任何人都可以做到。\n",
    "            line = line.strip().split(\"\\t\") #分词后用逗号隔开\n",
    "            #print(line) #['Anyone can do that.', '任何人都可以做到。']\n",
    "            en.append([\"BOS\"] + nltk.word_tokenize(line[0].lower()) + [\"EOS\"])\n",
    "            #BOS:beginning of sequence EOS:end of\n",
    "            # split chinese sentence into characters\n",
    "            cn.append([\"BOS\"] + [c for c in line[1]] + [\"EOS\"])\n",
    "            #中文一个一个字分词，可以尝试用分词器分词\n",
    "    return en, cn\n",
    "\n",
    "train_file = \"nmt/en-cn/train.txt\"\n",
    "dev_file = \"nmt/en-cn/dev.txt\"\n",
    "train_en, train_cn = load_data(train_file)\n",
    "dev_en, dev_cn = load_data(dev_file)"
   ]
  },
  {
   "cell_type": "code",
   "execution_count": 0,
   "metadata": {
    "colab": {
     "base_uri": "https://localhost:8080/",
     "height": 54
    },
    "colab_type": "code",
    "id": "0Yd2oM5OgmuQ",
    "outputId": "84466bbd-0c7e-41a6-a056-f706e50833b3"
   },
   "outputs": [
    {
     "name": "stdout",
     "output_type": "stream",
     "text": [
      "[['BOS', 'anyone', 'can', 'do', 'that', '.', 'EOS'], ['BOS', 'how', 'about', 'another', 'piece', 'of', 'cake', '?', 'EOS'], ['BOS', 'she', 'married', 'him', '.', 'EOS'], ['BOS', 'i', 'do', \"n't\", 'like', 'learning', 'irregular', 'verbs', '.', 'EOS'], ['BOS', 'it', \"'s\", 'a', 'whole', 'new', 'ball', 'game', 'for', 'me', '.', 'EOS'], ['BOS', 'he', \"'s\", 'sleeping', 'like', 'a', 'baby', '.', 'EOS'], ['BOS', 'he', 'can', 'play', 'both', 'tennis', 'and', 'baseball', '.', 'EOS'], ['BOS', 'we', 'should', 'cancel', 'the', 'hike', '.', 'EOS'], ['BOS', 'he', 'is', 'good', 'at', 'dealing', 'with', 'children', '.', 'EOS'], ['BOS', 'she', 'will', 'do', 'her', 'best', 'to', 'be', 'here', 'on', 'time', '.', 'EOS']]\n"
     ]
    }
   ],
   "source": [
    "print(train_en[:10])\n"
   ]
  },
  {
   "cell_type": "code",
   "execution_count": 0,
   "metadata": {
    "colab": {
     "base_uri": "https://localhost:8080/",
     "height": 54
    },
    "colab_type": "code",
    "id": "pUcyBMV5m-Ep",
    "outputId": "b03f5040-f3ef-4d1e-8768-b7947779e62c"
   },
   "outputs": [
    {
     "name": "stdout",
     "output_type": "stream",
     "text": [
      "[['BOS', '任', '何', '人', '都', '可', '以', '做', '到', '。', 'EOS'], ['BOS', '要', '不', '要', '再', '來', '一', '塊', '蛋', '糕', '？', 'EOS'], ['BOS', '她', '嫁', '给', '了', '他', '。', 'EOS'], ['BOS', '我', '不', '喜', '欢', '学', '习', '不', '规', '则', '动', '词', '。', 'EOS'], ['BOS', '這', '對', '我', '來', '說', '是', '個', '全', '新', '的', '球', '類', '遊', '戲', '。', 'EOS'], ['BOS', '他', '正', '睡', '着', '，', '像', '个', '婴', '儿', '一', '样', '。', 'EOS'], ['BOS', '他', '既', '会', '打', '网', '球', '，', '又', '会', '打', '棒', '球', '。', 'EOS'], ['BOS', '我', '們', '應', '該', '取', '消', '這', '次', '遠', '足', '。', 'EOS'], ['BOS', '他', '擅', '長', '應', '付', '小', '孩', '子', '。', 'EOS'], ['BOS', '她', '会', '尽', '量', '按', '时', '赶', '来', '的', '。', 'EOS']]\n"
     ]
    }
   ],
   "source": [
    "print(train_cn[:10])"
   ]
  },
  {
   "cell_type": "code",
   "execution_count": 0,
   "metadata": {
    "colab": {},
    "colab_type": "code",
    "id": "uR0e5peXgen8"
   },
   "outputs": [],
   "source": []
  },
  {
   "cell_type": "markdown",
   "metadata": {
    "colab_type": "text",
    "id": "_ixbHdLqcoNu"
   },
   "source": [
    "构建单词表"
   ]
  },
  {
   "cell_type": "code",
   "execution_count": 139,
   "metadata": {
    "colab": {
     "base_uri": "https://localhost:8080/",
     "height": 52
    },
    "colab_type": "code",
    "id": "AneLf_O8coNv",
    "outputId": "52d5e2ac-d09a-44cd-d8d8-8a7897b17b5d"
   },
   "outputs": [
    {
     "name": "stdout",
     "output_type": "stream",
     "text": [
      "5491\n",
      "3193\n"
     ]
    }
   ],
   "source": [
    "UNK_IDX = 0\n",
    "PAD_IDX = 1\n",
    "def build_dict(sentences, max_words=50000):\n",
    "    word_count = Counter()\n",
    "    for sentence in sentences:\n",
    "        for s in sentence:\n",
    "            word_count[s] += 1  #word_count这里应该是个字典\n",
    "    ls = word_count.most_common(max_words) \n",
    "    #按每个单词数量排序前50000个,这个数字自己定的，不重复单词数没有50000\n",
    "    print(len(ls)) #train_en：5491\n",
    "    total_words = len(ls) + 2\n",
    "    #加的2是留给\"unk\"和\"pad\"\n",
    "    #ls = [('BOS', 14533), ('EOS', 14533), ('.', 12521), ('i', 4045), .......\n",
    "    word_dict = {w[0]: index+2 for index, w in enumerate(ls)}\n",
    "    #加的2是留给\"unk\"和\"pad\",转换成字典格式。\n",
    "    word_dict[\"UNK\"] = UNK_IDX\n",
    "    word_dict[\"PAD\"] = PAD_IDX\n",
    "    return word_dict, total_words\n",
    "\n",
    "en_dict, en_total_words = build_dict(train_en)\n",
    "cn_dict, cn_total_words = build_dict(train_cn)\n",
    "inv_en_dict = {v: k for k, v in en_dict.items()}\n",
    "#en_dict.items()把字典转换成可迭代对象，取出键值，并调换键值的位置。\n",
    "inv_cn_dict = {v: k for k, v in cn_dict.items()}"
   ]
  },
  {
   "cell_type": "code",
   "execution_count": 0,
   "metadata": {
    "colab": {
     "base_uri": "https://localhost:8080/",
     "height": 72
    },
    "colab_type": "code",
    "id": "2GyNIK_skLlS",
    "outputId": "f45126c1-867e-4fbb-b149-431d0f31902b",
    "scrolled": true
   },
   "outputs": [
    {
     "name": "stdout",
     "output_type": "stream",
     "text": [
      "{'BOS': 2, 'EOS': 3, '.': 4, 'i': 5, 'the': 6, 'to': 7, 'you': 8, 'a': 9, 'is': 10, '?': 11, 'he': 12, \"n't\": 13, 'do': 14, 'in': 15, 'it': 16, 'of': 17, 'tom': 18, 'she': 19, \"'s\": 20, 'my': 21, 'have': 22, 'me': 23, ',': 24, 'this': 25, 'for': 26, 'was': 27, 'that': 28, 'we': 29, 'are': 30, 'what': 31, 'your': 32, 'on': 33, 'at': 34, 'his': 35, 'like': 36, 'not': 37, 'with': 38, 'be': 39, 'her': 40, 'did': 41, \"'m\": 42, 'can': 43, 'there': 44, 'go': 45, 'him': 46, 'will': 47, 'has': 48, 'and': 49, 'very': 50, 'they': 51, 'how': 52, 'know': 53, 'want': 54, 'as': 55, \"'ll\": 56, 'up': 57, 'please': 58, 'here': 59, 'time': 60, 'all': 61, 'from': 62, 'had': 63, 'an': 64, 'by': 65, 'good': 66, 'should': 67, 'would': 68, 'about': 69, 'does': 70, 'no': 71, 'come': 72, 'get': 73, 'out': 74, 'mary': 75, 'am': 76, 'english': 77, 'ca': 78, \"'ve\": 79, 'when': 80, 'think': 81, 'school': 82, 'been': 83, 'got': 84, 'could': 85, 'were': 86, 'where': 87, 'if': 88, 'take': 89, \"'re\": 90, 'let': 91, 'going': 92, 'made': 93, 'book': 94, 'now': 95, 'car': 96, 'see': 97, 'some': 98, 'us': 99, 'father': 100, 'last': 101, 'one': 102, 'day': 103, 'than': 104, 'so': 105, 'home': 106, 'work': 107, 'who': 108, \"'d\": 109, 'help': 110, 'just': 111, 'tomorrow': 112, 'need': 113, 'why': 114, 'much': 115, 'any': 116, 'every': 117, 'our': 118, 'yesterday': 119, 'always': 120, 'but': 121, 'more': 122, 'went': 123, 'better': 124, 'many': 125, '!': 126, 'money': 127, 'too': 128, 'today': 129, 'really': 130, 'room': 131, 'people': 132, 'house': 133, 'two': 134, 'long': 135, 'must': 136, 'tell': 137, 'new': 138, 'speak': 139, 'mother': 140, 'make': 141, 'back': 142, 'may': 143, 'gave': 144, 'old': 145, 'right': 146, 'never': 147, 'say': 148, 'lot': 149, 'something': 150, 'anything': 151, 'man': 152, 'night': 153, 'give': 154, 'years': 155, 'next': 156, 'children': 157, 'after': 158, 'eat': 159, 'well': 160, 'before': 161, 'play': 162, 'put': 163, 'or': 164, 'into': 165, 'three': 166, 'asked': 167, 'look': 168, 'little': 169, '``': 170, \"''\": 171, 'off': 172, 'morning': 173, 'said': 174, 'over': 175, 'late': 176, 'letter': 177, 'hard': 178, 'down': 179, 'took': 180, 'keep': 181, 'train': 182, 'stay': 183, 'japan': 184, 'love': 185, 'still': 186, 'told': 187, 'their': 188, 'dog': 189, 'soon': 190, 'brother': 191, 'only': 192, 'year': 193, 'way': 194, 'study': 195, 'came': 196, 'often': 197, 'leave': 198, 'used': 199, 'bus': 200, 'around': 201, 'them': 202, 'call': 203, 'away': 204, 'bought': 205, 'read': 206, 'french': 207, 'nothing': 208, 'beautiful': 209, 'door': 210, 'wish': 211, 'friends': 212, 'ten': 213, 'water': 214, 'boy': 215, 'left': 216, 'party': 217, 'again': 218, 'first': 219, 'week': 220, 'big': 221, 'station': 222, 'teacher': 223, 'job': 224, 'married': 225, 'afraid': 226, 'likes': 227, 'best': 228, 'problem': 229, 'these': 230, 'japanese': 231, 'name': 232, 'reading': 233, 'plan': 234, 'sister': 235, 'buy': 236, 'other': 237, 'believe': 238, 'heard': 239, 'understand': 240, 'found': 241, 'tennis': 242, 'cold': 243, 'which': 244, 'happy': 245, 'doing': 246, 'live': 247, 'books': 248, 'friend': 249, 'doctor': 250, 'life': 251, 'talk': 252, 'playing': 253, 'wait': 254, 'rain': 255, 'because': 256, 'wanted': 257, 'ask': 258, 'busy': 259, 'feel': 260, 'watch': 261, 'wo': 262, 'coffee': 263, 'lost': 264, 'wants': 265, 'turn': 266, 'enough': 267, 'drink': 268, 'wrong': 269, 'open': 270, 'looks': 271, 'looking': 272, 'remember': 273, 'finished': 274, 'find': 275, 'while': 276, 'seen': 277, \"o'clock\": 278, 'already': 279, 'use': 280, 'meeting': 281, 'swim': 282, 'saw': 283, 'hear': 284, 'answer': 285, 'easy': 286, 'ago': 287, 'without': 288, 'girl': 289, 'care': 290, 'early': 291, 'once': 292, 'try': 293, 'same': 294, 'dinner': 295, 'weather': 296, 'done': 297, 'tired': 298, 'bed': 299, 'everyone': 300, 'sure': 301, 'ever': 302, 'five': 303, 'someone': 304, 'days': 305, 'sunday': 306, 'arrived': 307, 'young': 308, 'drive': 309, 'mind': 310, 'nice': 311, 'yourself': 312, 'stop': 313, 'homework': 314, 'hope': 315, 'walk': 316, 'everything': 317, 'show': 318, 'river': 319, 'lives': 320, 'eating': 321, 'able': 322, 'yet': 323, 'london': 324, 'tonight': 325, 'parents': 326, 'boston': 327, 'anyone': 328, 'getting': 329, 'sorry': 330, 'being': 331, 'goes': 332, 'person': 333, 'write': 334, 'almost': 335, 'coming': 336, 'knows': 337, 'another': 338, 'truth': 339, 'matter': 340, 'those': 341, 'music': 342, 'interesting': 343, 'things': 344, 'happened': 345, 'tv': 346, 'park': 347, 'difficult': 348, 'lived': 349, 'food': 350, 'fire': 351, 'thought': 352, 'six': 353, 'place': 354, 'uncle': 355, 'few': 356, 'true': 357, 'shoes': 358, 'piano': 359, 'baby': 360, 'hot': 361, 'alone': 362, 'month': 363, 'lunch': 364, 'son': 365, 'bad': 366, 'hours': 367, 'minutes': 368, 'bicycle': 369, 'meet': 370, 'child': 371, 'sick': 372, 'accident': 373, 'high': 374, 'times': 375, 'great': 376, 'important': 377, 'table': 378, 'idea': 379, 'world': 380, 'working': 381, 'makes': 382, 'desk': 383, 'mine': 384, 'comes': 385, 'camera': 386, 'snow': 387, 'class': 388, 'sometimes': 389, 'under': 390, 'studying': 391, 'student': 392, 'himself': 393, 'question': 394, 'students': 395, 'usually': 396, 'agree': 397, 'family': 398, 'breakfast': 399, 'police': 400, 'looked': 401, 'become': 402, 'swimming': 403, 'far': 404, 'questions': 405, 'dress': 406, 'flowers': 407, 'city': 408, 'since': 409, 'tokyo': 410, 'until': 411, 'most': 412, 'picture': 413, 'thank': 414, 'sleep': 415, 'eyes': 416, 'country': 417, 'quite': 418, 'advice': 419, 'baseball': 420, 'large': 421, 'office': 422, 'met': 423, 'everybody': 424, 'pay': 425, 'kind': 426, 'free': 427, 'between': 428, 'caught': 429, 'even': 430, 'afternoon': 431, 'radio': 432, 'such': 433, 'thing': 434, 'having': 435, 'america': 436, 'living': 437, 'says': 438, 'daughter': 439, 'angry': 440, 'learn': 441, 'fun': 442, 'window': 443, 'near': 444, 'pretty': 445, 'each': 446, 'garden': 447, 'street': 448, 'change': 449, 'red': 450, 'woman': 451, 'tall': 452, 'short': 453, 'evening': 454, 'hair': 455, 'seems': 456, 'hand': 457, 'language': 458, 'dollars': 459, 'called': 460, 'story': 461, 'waiting': 462, 'abroad': 463, 'broke': 464, 'bring': 465, 'cat': 466, 'visit': 467, 'business': 468, 'word': 469, 'hotel': 470, 'game': 471, 'both': 472, 'news': 473, 'milk': 474, 'run': 475, 'smoking': 476, 'health': 477, 'own': 478, 'wrote': 479, 'apple': 480, 'older': 481, 'lend': 482, 'bit': 483, 'pen': 484, 'myself': 485, 'decided': 486, 'hour': 487, 'dictionary': 488, 'fish': 489, 'fell': 490, 'light': 491, 'point': 492, 'died': 493, 'hospital': 494, 'through': 495, 'sense': 496, 'tea': 497, 'speaking': 498, 'then': 499, 'miss': 500, 'phone': 501, 'happen': 502, 'across': 503, 'pictures': 504, 'opinion': 505, 'hurry': 506, 'talking': 507, 'nobody': 508, 'gets': 509, 'watching': 510, 'hands': 511, 'wife': 512, 'yours': 513, 'pass': 514, 'apples': 515, 'longer': 516, 'dark': 517, 'ran': 518, 'kept': 519, 'whether': 520, 'full': 521, 'knew': 522, 'summer': 523, 'telephone': 524, 'studied': 525, 'else': 526, 'strong': 527, 'trip': 528, 'trouble': 529, 'others': 530, 'ready': 531, 'wonder': 532, 'takes': 533, 'box': 534, 'small': 535, 'tree': 536, 'worked': 537, 'stayed': 538, 'present': 539, 'tried': 540, 'seeing': 541, 'helped': 542, 'together': 543, 'mistake': 544, 'later': 545, 'chinese': 546, 'listen': 547, 'kyoto': 548, 'library': 549, 'age': 550, 'chance': 551, 'dangerous': 552, 'quit': 553, 'stand': 554, 'computer': 555, 'quiet': 556, 'medicine': 557, 'four': 558, 'clean': 559, 'poor': 560, 'mt': 561, 'several': 562, 'speaks': 563, 'soccer': 564, 'sing': 565, 'yen': 566, 'feeling': 567, 'wearing': 568, 'born': 569, 'began': 570, 'loves': 571, 'listening': 572, 'might': 573, 'lake': 574, 'herself': 575, 'birthday': 576, 'juice': 577, 'umbrella': 578, 'hat': 579, 'number': 580, 'cook': 581, 'death': 582, 'easily': 583, 'success': 584, 'start': 585, 'taking': 586, 'taxi': 587, 'wash': 588, 'pencil': 589, 'college': 590, 'mistakes': 591, 'raining': 592, 'lie': 593, 'spent': 594, 'enjoyed': 595, 'wine': 596, 'became': 597, 'enjoy': 598, 'plays': 599, 'weight': 600, 'sundays': 601, 'paris': 602, 'airport': 603, 'glasses': 604, 'movie': 605, 'bank': 606, 'against': 607, 'saying': 608, 'famous': 609, 'song': 610, 'along': 611, 'catch': 612, 'american': 613, 'fuji': 614, 'mountain': 615, 'written': 616, 'fast': 617, 'visited': 618, 'driving': 619, 'sky': 620, 'dogs': 621, 'worth': 622, 'test': 623, 'felt': 624, 'started': 625, 'air': 626, 'deal': 627, 'turned': 628, 'interested': 629, 'send': 630, 'during': 631, 'guitar': 632, 'hokkaido': 633, 'close': 634, 'talked': 635, 'seven': 636, 'played': 637, 'grandfather': 638, 'town': 639, 'favorite': 640, 'company': 641, 'learning': 642, 'running': 643, 'bag': 644, 'driver': 645, 'making': 646, 'plane': 647, 'none': 648, 'aunt': 649, 'front': 650, 'eaten': 651, 'mean': 652, 'earlier': 653, 'sit': 654, 'address': 655, 'behind': 656, 'university': 657, 'begin': 658, 'rather': 659, 'rich': 660, 'hurt': 661, 'black': 662, 'worry': 663, 'clothes': 664, 'staying': 665, 'hit': 666, 'vacation': 667, 'cake': 668, 'cooking': 669, 'dead': 670, 'end': 671, 'stupid': 672, 'bird': 673, 'arm': 674, 'stopped': 675, 'grow': 676, 'travel': 677, 'forgot': 678, 'either': 679, 'movies': 680, 'christmas': 681, 'law': 682, 'paper': 683, 'forget': 684, 'accept': 685, 'cost': 686, 'york': 687, 'weekend': 688, 'possible': 689, 'wear': 690, 'outside': 691, 'glad': 692, 'wonderful': 693, 'horse': 694, 'wall': 695, 'offer': 696, 'floor': 697, 'spoken': 698, 'heavy': 699, 'asleep': 700, 'building': 701, 'concert': 702, 'speech': 703, 'brought': 704, 'younger': 705, 'foreign': 706, 'invited': 707, 'check': 708, 'maybe': 709, 'newspaper': 710, 'worse': 711, 'proud': 712, 'passed': 713, 'blue': 714, 'eight': 715, 'seat': 716, 'information': 717, 'monday': 718, 'australia': 719, 'languages': 720, 'writing': 721, 'finish': 722, 'walked': 723, 'store': 724, 'white': 725, 'worried': 726, 'dream': 727, 'quickly': 728, 'cry': 729, 'won': 730, 'follow': 731, 'europe': 732, 'attend': 733, 'fine': 734, 'coat': 735, 'carry': 736, 'exam': 737, 'smoke': 738, 'cut': 739, 'exactly': 740, 'ought': 741, 'expect': 742, 'storm': 743, 'missed': 744, 'half': 745, 'changed': 746, 'kitchen': 747, 'proposal': 748, 'salt': 749, 'forward': 750, 'ticket': 751, 'walking': 752, 'men': 753, 'safe': 754, 'touch': 755, 'winter': 756, 'anybody': 757, 'arrive': 758, 'road': 759, 'pick': 760, 'club': 761, 'absent': 762, 'break': 763, 'set': 764, 'team': 765, 'canada': 766, 'trust': 767, 'gone': 768, 'shut': 769, 'guys': 770, 'key': 771, 'rest': 772, 'problems': 773, 'move': 774, 'harder': 775, 'bread': 776, 'side': 777, 'prefer': 778, 'facebook': 779, 'paid': 780, 'waited': 781, 'sent': 782, 'till': 783, 'luck': 784, 'whole': 785, 'sleeping': 786, 'hungry': 787, 'war': 788, 'taken': 789, 'novel': 790, 'useful': 791, 'fishing': 792, 'church': 793, 'thanks': 794, 'surprised': 795, 'anymore': 796, 'guy': 797, 'lock': 798, 'animals': 799, 'glass': 800, 'careful': 801, 'traffic': 802, 'noon': 803, 'boys': 804, 'fruit': 805, 'noise': 806, 'sentence': 807, 'capital': 808, 'popular': 809, 'brothers': 810, 'slowly': 811, 'wake': 812, 'eye': 813, 'built': 814, 'taller': 815, 'crying': 816, 'serious': 817, 'months': 818, 'choose': 819, 'seem': 820, 'missing': 821, 'sat': 822, 'france': 823, 'secret': 824, 'order': 825, 'husband': 826, 'drunk': 827, 'known': 828, 'second': 829, 'solve': 830, 'flower': 831, 'thousand': 832, 'hold': 833, 'recently': 834, 'bike': 835, 'broken': 836, 'whatever': 837, 'beer': 838, 'television': 839, 'china': 840, 'works': 841, 'lose': 842, 'purpose': 843, '10': 844, 'rude': 845, 'probably': 846, 'face': 847, 'paint': 848, 'somewhere': 849, 'gas': 850, 'impossible': 851, 'win': 852, 'happens': 853, 'bill': 854, 'guess': 855, 'thinking': 856, 'alive': 857, 'sight': 858, 'boring': 859, 'grew': 860, 'leaving': 861, 'bath': 862, 'sitting': 863, 'nine': 864, 'boss': 865, 'case': 866, 'grandmother': 867, 'dance': 868, 'whose': 869, 'filled': 870, 'twice': 871, 'studies': 872, 'ball': 873, 'succeed': 874, 'closed': 875, 'learned': 876, 'license': 877, 'eggs': 878, 'population': 879, 'promise': 880, 'sun': 881, 'strange': 882, 'difference': 883, 'answered': 884, 'cup': 885, 'singing': 886, 'golf': 887, 'showed': 888, 'ended': 889, 'words': 890, 'museum': 891, 'borrow': 892, 'honest': 893, 'satisfied': 894, 'afford': 895, 'beach': 896, 'foot': 897, 'planning': 898, 'part': 899, 'date': 900, 'owe': 901, 'clear': 902, 'restaurant': 903, 'meal': 904, 'corner': 905, 'post': 906, 'plenty': 907, 'pretended': 908, 'flying': 909, 'above': 910, 'future': 911, 'sign': 912, 'relax': 913, 'anywhere': 914, 'injured': 915, 'furniture': 916, 'ill': 917, 'least': 918, 'warm': 919, 'leaves': 920, 'pizza': 921, 'stolen': 922, 'ate': 923, 'public': 924, 'chair': 925, 'account': 926, 'telling': 927, 'cats': 928, 'dishes': 929, 'supper': 930, 'taught': 931, 'tie': 932, 'belong': 933, 'expensive': 934, 'nearest': 935, 'mathematics': 936, 'dad': 937, 'exist': 938, 'pale': 939, 'native': 940, 'common': 941, 'control': 942, 'clock': 943, 'returned': 944, 'bottle': 945, 'oranges': 946, 'report': 947, 'cancer': 948, 'graduated': 949, 'head': 950, 'color': 951, 'loved': 952, 'different': 953, 'charge': 954, 'obey': 955, 'couple': 956, 'shoulder': 957, 'finally': 958, 'understood': 959, 'yes': 960, 'talks': 961, 'meat': 962, 'wedding': 963, 'jacket': 964, 'return': 965, 'birds': 966, 'hate': 967, 'shopping': 968, 'choice': 969, 'suit': 970, 'excellent': 971, 'attention': 972, 'past': 973, 'sisters': 974, 'ashamed': 975, 'crazy': 976, 'player': 977, 'bridge': 978, 'covered': 979, 'thirty': 980, 'needs': 981, 'history': 982, 'moment': 983, 'elected': 984, 'decide': 985, 'list': 986, 'ride': 987, 'arrested': 988, 'reason': 989, 'ordered': 990, 'lady': 991, 'accustomed': 992, 'scared': 993, 'policeman': 994, 'picnic': 995, 'prize': 996, 'supposed': 997, 'count': 998, 'laughed': 999, 'somebody': 1000, 'gift': 1001, 'shop': 1002, 'cards': 1003, 'hardly': 1004, 'cause': 1005, 'carefully': 1006, 'except': 1007, 'special': 1008, 'waste': 1009, 'climbed': 1010, 'wallet': 1011, 'pain': 1012, 'smiled': 1013, 'failed': 1014, 'size': 1015, 'held': 1016, 'blame': 1017, 'earth': 1018, 'fever': 1019, 'managed': 1020, 'cross': 1021, 'progress': 1022, 'certainly': 1023, 'factory': 1024, 'knife': 1025, 'picked': 1026, 'fall': 1027, 'passengers': 1028, 'wet': 1029, 'german': 1030, 'excuse': 1031, 'green': 1032, 'neighborhood': 1033, 'nurse': 1034, 'fifty': 1035, 'patient': 1036, 'suitcase': 1037, 'cried': 1038, 'mouth': 1039, 'president': 1040, 'girlfriend': 1041, 'dropped': 1042, 'begins': 1043, 'actually': 1044, 'spend': 1045, 'ship': 1046, 'meaning': 1047, 'countries': 1048, 'price': 1049, 'discovered': 1050, 'boat': 1051, 'standing': 1052, 'allowed': 1053, 'killed': 1054, 'sushi': 1055, 'eats': 1056, 'apologize': 1057, 'situation': 1058, 'map': 1059, 'supermarket': 1060, 'marry': 1061, 'clearly': 1062, 'rains': 1063, 'minute': 1064, 'voice': 1065, 'osaka': 1066, 'wood': 1067, 'trying': 1068, 'painted': 1069, 'fence': 1070, 'its': 1071, 'explanation': 1072, 'enter': 1073, 'washed': 1074, 'saturday': 1075, 'drank': 1076, 'piece': 1077, 'type': 1078, 'spoke': 1079, 'speaker': 1080, 'liked': 1081, 'shirt': 1082, 'stomach': 1083, 'roses': 1084, 'orange': 1085, 'agreed': 1086, 'sad': 1087, 'tears': 1088, 'zoo': 1089, 'states': 1090, 'pressure': 1091, 'express': 1092, 'soup': 1093, 'healthy': 1094, 'smile': 1095, 'treated': 1096, 'carried': 1097, 'threw': 1098, 'stone': 1099, 'legs': 1100, 'sea': 1101, 'walks': 1102, 'keeps': 1103, 'conversation': 1104, 'delicious': 1105, 'united': 1106, 'danger': 1107, 'explain': 1108, 'giving': 1109, 'surprise': 1110, 'england': 1111, 'kobe': 1112, 'nearly': 1113, 'likely': 1114, 'lots': 1115, 'watched': 1116, 'consider': 1117, 'wondered': 1118, 'mad': 1119, 'inside': 1120, 'crowd': 1121, 'million': 1122, 'patience': 1123, 'italy': 1124, 'trees': 1125, 'necessary': 1126, 'round': 1127, 'share': 1128, 'germany': 1129, 'village': 1130, 'laugh': 1131, 'fear': 1132, 'completely': 1133, 'moved': 1134, 'dressed': 1135, 'given': 1136, 'translate': 1137, 'fresh': 1138, 'fact': 1139, 'headache': 1140, 'hundred': 1141, 'kill': 1142, 'spring': 1143, 'exercise': 1144, 'wherever': 1145, 'absolutely': 1146, 'earthquake': 1147, 'women': 1148, 'private': 1149, 'experience': 1150, 'refused': 1151, 'also': 1152, 'pair': 1153, 'loud': 1154, 'drives': 1155, 'oil': 1156, 'button': 1157, 'low': 1158, 'feelings': 1159, 'truck': 1160, 'fox': 1161, '3': 1162, 'reach': 1163, 'received': 1164, 'ice': 1165, 'larger': 1166, 'rent': 1167, 'memory': 1168, 'trains': 1169, 'real': 1170, 'asking': 1171, '5': 1172, 'rome': 1173, 'course': 1174, 'stamp': 1175, 'butter': 1176, 'moon': 1177, 'less': 1178, 'india': 1179, 'throw': 1180, 'interest': 1181, 'perhaps': 1182, 'prices': 1183, 'wind': 1184, 'tongue': 1185, 'regular': 1186, 'rice': 1187, 'sold': 1188, 'beauty': 1189, 'birth': 1190, 'theory': 1191, 'reservation': 1192, 'single': 1193, 'hey': 1194, 'girls': 1195, 'suppose': 1196, 'violin': 1197, 'blood': 1198, 'cash': 1199, 'lonely': 1200, 'sports': 1201, 'opened': 1202, 'runs': 1203, 'depends': 1204, 'teeth': 1205, 'sweater': 1206, 'wears': 1207, 'rope': 1208, 'traveled': 1209, 'fluent': 1210, 'temperature': 1211, 'football': 1212, 'author': 1213, 'familiar': 1214, 'responsible': 1215, 'message': 1216, 'borrowed': 1217, 'shower': 1218, 'drinking': 1219, 'cookies': 1220, 'king': 1221, 'snowing': 1222, 'certain': 1223, 'heart': 1224, 'woke': 1225, 'subject': 1226, 'step': 1227, 'stamps': 1228, 'smart': 1229, 'rules': 1230, 'teaching': 1231, 'area': 1232, 'beginning': 1233, 'fail': 1234, 'concerned': 1235, 'doll': 1236, 'sang': 1237, 'songs': 1238, 'hobby': 1239, 'blind': 1240, 'vegetables': 1241, 'costs': 1242, 'amazed': 1243, 'invented': 1244, 'electricity': 1245, 'gold': 1246, 'gun': 1247, 'sooner': 1248, 'shall': 1249, 'followed': 1250, 'season': 1251, 'compared': 1252, 'shelf': 1253, 'joke': 1254, 'ears': 1255, 'ok': 1256, 'wore': 1257, 'mistook': 1258, 'mail': 1259, 'sell': 1260, 'salary': 1261, 'dare': 1262, 'line': 1263, '20': 1264, 'guilty': 1265, 'fly': 1266, 'earned': 1267, 'chocolate': 1268, 'cream': 1269, 'provide': 1270, 'nature': 1271, 'hurts': 1272, 'passport': 1273, 'poured': 1274, 'continued': 1275, 'theater': 1276, 'farm': 1277, 'novels': 1278, 'deep': 1279, 'fault': 1280, 'fashion': 1281, 'resign': 1282, 'board': 1283, 'losing': 1284, 'amount': 1285, 'chess': 1286, 'neither': 1287, 'nor': 1288, 'eleven': 1289, 'wounded': 1290, 'captain': 1291, 'noticed': 1292, 'behavior': 1293, 'bear': 1294, 'unhappy': 1295, 'climb': 1296, 'respect': 1297, 'pleasure': 1298, 'buses': 1299, 'major': 1300, 'daughters': 1301, 'cd': 1302, 'tastes': 1303, 'worker': 1304, 'admit': 1305, 'grade': 1306, 'serve': 1307, \"'\": 1308, 'sweet': 1309, 'complete': 1310, 'breath': 1311, 'die': 1312, 'crossed': 1313, 'dentist': 1314, 'curious': 1315, 'caused': 1316, 'cottage': 1317, 'goodbye': 1318, 'happening': 1319, '10,000': 1320, 'promises': 1321, '30': 1322, 'socks': 1323, 'value': 1324, 'opportunity': 1325, 'italian': 1326, 'smell': 1327, 'hill': 1328, 'century': 1329, 'aware': 1330, 'asia': 1331, 'reached': 1332, 'drinks': 1333, 'stands': 1334, 'stars': 1335, 'escape': 1336, 'apartment': 1337, 'africa': 1338, 'fool': 1339, 'applied': 1340, 'though': 1341, 'occasionally': 1342, 'stranger': 1343, 'soldiers': 1344, 'harvard': 1345, 'luggage': 1346, 'accused': 1347, 'kids': 1348, 'houses': 1349, 'card': 1350, 'bedroom': 1351, 'save': 1352, 'bell': 1353, 'cooked': 1354, 'system': 1355, 'depend': 1356, 'introduced': 1357, 'funny': 1358, 'lights': 1359, 'due': 1360, 'album': 1361, 'twenty': 1362, 'granted': 1363, 'correct': 1364, 'helps': 1365, 'plans': 1366, 'sale': 1367, 'weeks': 1368, 'forest': 1369, 'iron': 1370, 'advised': 1371, 'comfortable': 1372, 'hunger': 1373, 'science': 1374, 'math': 1375, 'toys': 1376, 'bite': 1377, 'appears': 1378, 'themselves': 1379, 'stops': 1380, 'hole': 1381, 'expecting': 1382, 'teach': 1383, 'delayed': 1384, 'stealing': 1385, 'traveling': 1386, 'terrible': 1387, 'fight': 1388, 'acquainted': 1389, 'art': 1390, 'willing': 1391, 'ghosts': 1392, 'jokes': 1393, 'accepted': 1394, 'empty': 1395, 'rained': 1396, 'twelve': 1397, 'succeeded': 1398, 'lately': 1399, 'stole': 1400, 'committee': 1401, 'suits': 1402, 'drop': 1403, 'difficulty': 1404, 'counting': 1405, 'slept': 1406, 'marriage': 1407, 'needed': 1408, 'fluently': 1409, 'per': 1410, 'roof': 1411, 'artificial': 1412, 'teaches': 1413, 'straight': 1414, 'rescued': 1415, 'skirt': 1416, 'intention': 1417, 'seats': 1418, 'teachers': 1419, 'egg': 1420, 'seriously': 1421, 'menu': 1422, 'stick': 1423, 'greeted': 1424, 'belongs': 1425, 'neighbors': 1426, 'shout': 1427, 'quick': 1428, 'apart': 1429, 'thirsty': 1430, 'pity': 1431, 'hawaii': 1432, 'cars': 1433, 'solved': 1434, 'gives': 1435, 'argument': 1436, 'louder': 1437, 'skiing': 1438, 'believes': 1439, 'bench': 1440, 'thanked': 1441, 'act': 1442, 'percent': 1443, 'enemies': 1444, 'examination': 1445, 'immediately': 1446, 'eyesight': 1447, 'checked': 1448, '50': 1449, 'generally': 1450, 'basket': 1451, 'decision': 1452, 'join': 1453, 'duty': 1454, 'contract': 1455, 'hearing': 1456, 'discount': 1457, 'sudden': 1458, 'attended': 1459, 'stories': 1460, 'practice': 1461, 'warned': 1462, 'below': 1463, 'support': 1464, 'cab': 1465, 'rock': 1466, 'flood': 1467, 'expected': 1468, 'clouds': 1469, 'idiot': 1470, 'pianist': 1471, 'anxious': 1472, 'vase': 1473, 'cleared': 1474, 'pronounce': 1475, 'meters': 1476, 'remained': 1477, 'sharp': 1478, '’': 1479, 'prefers': 1480, 'audience': 1481, 'actress': 1482, 'keys': 1483, 'manners': 1484, 'brave': 1485, 'peace': 1486, 'struck': 1487, 'means': 1488, 'grab': 1489, 'chairman': 1490, 'someday': 1491, 'hung': 1492, 'rid': 1493, 'handed': 1494, 'divorced': 1495, 'intend': 1496, 'happiness': 1497, 'chicago': 1498, 'deepest': 1499, 'humor': 1500, 'successful': 1501, 'burglar': 1502, 'machine': 1503, 'largest': 1504, 'ring': 1505, 'scenery': 1506, 'snowed': 1507, 'fill': 1508, 'bucket': 1509, 'regret': 1510, 'skin': 1511, 'boyfriend': 1512, 'rang': 1513, 'admission': 1514, 'worst': 1515, 'classmates': 1516, 'thousands': 1517, 'education': 1518, 'tore': 1519, 'dirty': 1520, 'magazines': 1521, '6': 1522, 'turns': 1523, 'view': 1524, 'improved': 1525, 'group': 1526, 'department': 1527, 'illness': 1528, 'slight': 1529, 'prepared': 1530, 'enemy': 1531, 'shape': 1532, 'god': 1533, 'fed': 1534, 'sounds': 1535, 'behave': 1536, 'downtown': 1537, 'promised': 1538, 'strike': 1539, 'games': 1540, 'fair': 1541, 'race': 1542, 'letters': 1543, 'poet': 1544, 'hall': 1545, 'positive': 1546, 'animal': 1547, '%': 1548, 'woods': 1549, 'shake': 1550, 'dust': 1551, 'chicken': 1552, 'appointment': 1553, 'subway': 1554, 'thief': 1555, 'burned': 1556, 'rule': 1557, 'distinguish': 1558, 'airplane': 1559, 'ear': 1560, 'materials': 1561, 'badly': 1562, 'polite': 1563, 'model': 1564, 'finding': 1565, 'photo': 1566, 'grows': 1567, 'friday': 1568, 'discussing': 1569, 'repaired': 1570, 'calling': 1571, 'third': 1572, 'although': 1573, 'winning': 1574, 'allow': 1575, 'island': 1576, 'engineer': 1577, 'whichever': 1578, 'government': 1579, 'programmer': 1580, 'joking': 1581, 'freezes': 1582, 'saved': 1583, 'ideas': 1584, 'silent': 1585, 'push': 1586, 'buying': 1587, 'cheese': 1588, 'industry': 1589, 'matters': 1590, 'shot': 1591, 'spanish': 1592, 'target': 1593, 'cover': 1594, 'wishes': 1595, 'attacked': 1596, 'horses': 1597, 'sauce': 1598, 'locked': 1599, 'package': 1600, 'classroom': 1601, 'mom': 1602, 'curtain': 1603, 'punctual': 1604, 'climate': 1605, 'appreciate': 1606, 'alert': 1607, 'position': 1608, 'operation': 1609, 'distance': 1610, 'seemed': 1611, 'deleted': 1612, 'perfectly': 1613, 'ringing': 1614, 'prevented': 1615, 'draw': 1616, 'recent': 1617, 'beside': 1618, 'forced': 1619, 'mood': 1620, 'hid': 1621, 'founded': 1622, 'workers': 1623, 'majored': 1624, 'april': 1625, 'cradle': 1626, 'beef': 1627, 'match': 1628, 'lying': 1629, 'gladly': 1630, 'siblings': 1631, 'rose': 1632, 'carpet': 1633, 'facts': 1634, 'heat': 1635, 'mondays': 1636, 'innocent': 1637, 'politics': 1638, 'experiment': 1639, 'russian': 1640, 'tower': 1641, 'unable': 1642, 'skip': 1643, 'retired': 1644, 'settled': 1645, 'invitation': 1646, 'discussed': 1647, 'principal': 1648, 'sofa': 1649, 'names': 1650, 'tallest': 1651, 'classes': 1652, 'appetite': 1653, 'introduce': 1654, 'friendly': 1655, 'examined': 1656, 'saturdays': 1657, 'deceive': 1658, 'east': 1659, 'grass': 1660, 'dresses': 1661, 'lies': 1662, 'preparing': 1663, 'drama': 1664, 'protect': 1665, 'latest': 1666, 'appear': 1667, 'diamond': 1668, 'frightened': 1669, 'cloud': 1670, 'silver': 1671, 'mayor': 1672, 'shorter': 1673, 'gotten': 1674, 'pie': 1675, 'starts': 1676, 'speed': 1677, 'personality': 1678, 'whenever': 1679, 'flag': 1680, 'fat': 1681, 'scientist': 1682, 'apology': 1683, 'purse': 1684, 'imagination': 1685, 'rare': 1686, 'knowledge': 1687, 'extremely': 1688, 'grateful': 1689, 'fairly': 1690, 'frog': 1691, 'add': 1692, 'jobs': 1693, 'moving': 1694, 'ceremony': 1695, 'sound': 1696, 't': 1697, 'scotland': 1698, 'september': 1699, 'pleasant': 1700, 'faces': 1701, 'project': 1702, 'stood': 1703, 'cousin': 1704, '7:00': 1705, 'handsome': 1706, 'congratulations': 1707, 'space': 1708, 'zero': 1709, 'pond': 1710, 'crashed': 1711, 'backed': 1712, 'miles': 1713, 'pollution': 1714, 'named': 1715, 'ground': 1716, 'kindness': 1717, 'murder': 1718, 'temper': 1719, 'page': 1720, 'credit': 1721, 'exhausted': 1722, 'hates': 1723, 'lift': 1724, 'realize': 1725, 'meant': 1726, 'february': 1727, 'south': 1728, 'schedule': 1729, 'hoped': 1730, 'assistant': 1731, 'appeared': 1732, 'magazine': 1733, 'incident': 1734, 'castle': 1735, 'middle': 1736, 'example': 1737, 'attitude': 1738, 'visiting': 1739, 'graduate': 1740, 'wreck': 1741, 'shook': 1742, 'similar': 1743, 'dirt': 1744, 'thinks': 1745, 'discuss': 1746, 'slow': 1747, 'basketball': 1748, 'fit': 1749, 'crowded': 1750, 'disappointed': 1751, 'toward': 1752, 'ink': 1753, 'knocked': 1754, 'laughing': 1755, 'sleepy': 1756, 'cloudy': 1757, 'tight': 1758, 'bound': 1759, 'raw': 1760, 'repair': 1761, 'raised': 1762, 'admire': 1763, 'courage': 1764, 'collecting': 1765, 'slightest': 1766, 'arguing': 1767, 'jail': 1768, 'unfortunately': 1769, 'extra': 1770, 'forever': 1771, 'wealth': 1772, 'contact': 1773, 'fond': 1774, 'dozen': 1775, 'suddenly': 1776, 'advantage': 1777, 'advance': 1778, 'international': 1779, 'october': 1780, 'rooms': 1781, 'sydney': 1782, 'hiding': 1783, 'oh': 1784, 'envy': 1785, 'jazz': 1786, 'easier': 1787, 'security': 1788, 'energy': 1789, 'prison': 1790, 'article': 1791, 'shy': 1792, 'solution': 1793, 'refuse': 1794, 'listened': 1795, 'cds': 1796, 'fifth': 1797, 'risk': 1798, 'smaller': 1799, 'singer': 1800, 'build': 1801, 'avoid': 1802, 'russia': 1803, 'lawyer': 1804, '7': 1805, 'poem': 1806, 'entire': 1807, 'cheap': 1808, 'dozens': 1809, 'dating': 1810, 'lasted': 1811, 'typhoon': 1812, 'result': 1813, 'tickets': 1814, 'dancing': 1815, 'film': 1816, 'served': 1817, 'opinions': 1818, 'monkey': 1819, 'jumped': 1820, 'according': 1821, 'objected': 1822, 'cities': 1823, 'clothing': 1824, 'notebook': 1825, 'brown': 1826, 'switzerland': 1827, 'economy': 1828, 'relatives': 1829, 'boxes': 1830, 'volleyball': 1831, 'secretary': 1832, 'sandwich': 1833, 'plain': 1834, 'intelligent': 1835, 'sales': 1836, 'usual': 1837, 'lincoln': 1838, 'entered': 1839, 'toilet': 1840, 'colds': 1841, 'bags': 1842, '$': 1843, 'fixed': 1844, 'electric': 1845, 'members': 1846, 'tuesday': 1847, 'jogging': 1848, 'growing': 1849, 'medical': 1850, 'freedom': 1851, 'center': 1852, 'located': 1853, 'thin': 1854, 'seldom': 1855, 'continue': 1856, 'fee': 1857, 'feet': 1858, 'market': 1859, 'form': 1860, 'among': 1861, 'stare': 1862, 'complaining': 1863, 'complex': 1864, 'available': 1865, 'disturb': 1866, 'downstairs': 1867, 'understands': 1868, 'registered': 1869, 'lied': 1870, 'consult': 1871, 'objection': 1872, 'disappeared': 1873, 'twin': 1874, 'quality': 1875, 'pull': 1876, 'simple': 1877, 'flows': 1878, 'lightning': 1879, 'degrees': 1880, 'hello': 1881, 'hi': 1882, 'genius': 1883, 'resembles': 1884, 'britain': 1885, 'habit': 1886, 'convinced': 1887, 'stairs': 1888, 'minister': 1889, 'rarely': 1890, '2:30': 1891, 'throne': 1892, 'hang': 1893, 'hide': 1894, 'drove': 1895, 'housework': 1896, 'beijing': 1897, 'level': 1898, 'cell': 1899, 'divided': 1900, 'hamburgers': 1901, 'flight': 1902, 'ocean': 1903, 'slipped': 1904, 'permission': 1905, 'numb': 1906, 'optimist': 1907, 'obvious': 1908, 'lung': 1909, 'cough': 1910, 'rotten': 1911, 'guests': 1912, 'awful': 1913, 'affairs': 1914, 'engaged': 1915, 'complaints': 1916, 'taste': 1917, 'concentrate': 1918, 'watering': 1919, 'computers': 1920, 'burst': 1921, 'recover': 1922, 'suggested': 1923, 'row': 1924, 'shell': 1925, 'profession': 1926, 'starting': 1927, 'breathe': 1928, 'deeply': 1929, 'schools': 1930, 'envelope': 1931, 'entering': 1932, 'mat': 1933, 'anytime': 1934, 'snake': 1935, 'blast': 1936, 'forgotten': 1937, 'slip': 1938, 'pool': 1939, 'tooth': 1940, 'chemistry': 1941, 'offered': 1942, 'handkerchief': 1943, 'spends': 1944, 'kinds': 1945, 'part-time': 1946, 'arriving': 1947, 'subjects': 1948, 'total': 1949, 'suburbs': 1950, 'actions': 1951, 'currently': 1952, 'eighty': 1953, 'bush': 1954, 'onions': 1955, 'indispensable': 1956, 'writer': 1957, 'treat': 1958, 'salad': 1959, 'cruel': 1960, 'recognized': 1961, 'considered': 1962, 'opportunities': 1963, 'sugar': 1964, 'bookstore': 1965, 'survive': 1966, 'hugged': 1967, 'plastic': 1968, 'dish': 1969, 'natural': 1970, 'trousers': 1971, 'shinjuku': 1972, 'directly': 1973, 'haunted': 1974, 'lent': 1975, 'lecture': 1976, 'writes': 1977, 'fortune': 1978, 'boil': 1979, 'social': 1980, 'basic': 1981, 'mistaken': 1982, 'firm': 1983, 'frequently': 1984, 'youngest': 1985, 'average': 1986, 'height': 1987, 'dislike': 1988, 'searched': 1989, 'bloom': 1990, '8:30': 1991, 'earns': 1992, 'snakes': 1993, 'track': 1994, 'effect': 1995, 'suggest': 1996, 'lay': 1997, 'register': 1998, 'pregnant': 1999, 'knocking': 2000, 'ambulance': 2001, 'biology': 2002, 'hers': 2003, 'leg': 2004, 'criticized': 2005, 'august': 2006, 'yards': 2007, 'heated': 2008, 'discussion': 2009, '9': 2010, 'retire': 2011, 'democracy': 2012, 'papers': 2013, 'regrets': 2014, 'throat': 2015, 'advertising': 2016, 'columbus': 2017, '40,000': 2018, 'professor': 2019, 'unlucky': 2020, 'sides': 2021, 'honesty': 2022, 'garage': 2023, 'master': 2024, 'planted': 2025, 'yard': 2026, 'note': 2027, 'darker': 2028, 'dying': 2029, 'june': 2030, '10th': 2031, 'regularly': 2032, 'suitable': 2033, 'safety': 2034, 'meetings': 2035, 'reasonable': 2036, 'stuff': 2037, 'task': 2038, 'jeans': 2039, 'delay': 2040, 'journey': 2041, 'determined': 2042, 'cigarette': 2043, 'fingers': 2044, 'definitely': 2045, 'buried': 2046, 'rudeness': 2047, 'sits': 2048, 'differently': 2049, 'favor': 2050, 'failure': 2051, 'divide': 2052, 'copy': 2053, 'swam': 2054, 'disasters': 2055, 'announced': 2056, 'mud': 2057, 'prime': 2058, 'sensitive': 2059, 'rumor': 2060, 'philosophy': 2061, 'wished': 2062, 'vague': 2063, 'consideration': 2064, 'lending': 2065, 'nervous': 2066, 'brakes': 2067, 'mailing': 2068, 'diet': 2069, 'skating': 2070, 'cameras': 2071, 'sir': 2072, 'holding': 2073, '500': 2074, 'variety': 2075, 'towns': 2076, 'pocket': 2077, 'kid': 2078, 'drowned': 2079, 'hopes': 2080, 'extent': 2081, 'knowing': 2082, 'doctors': 2083, 'knee': 2084, 'tourist': 2085, 'climbing': 2086, 'planet': 2087, 'supply': 2088, 'responsibility': 2089, 'sells': 2090, 'confused': 2091, 'romantic': 2092, 'foreigner': 2093, 'recognize': 2094, 'exams': 2095, 'eighteen': 2096, 'overslept': 2097, 'alarm': 2098, 'motorcycle': 2099, 'dining': 2100, 'convenient': 2101, 'chairs': 2102, 'silence': 2103, 'vision': 2104, 'roll': 2105, 'spilled': 2106, 'main': 2107, 'candles': 2108, 'bet': 2109, 'pounds': 2110, 'carelessness': 2111, 'requires': 2112, 'explained': 2113, 'attempted': 2114, 'handle': 2115, 'aliens': 2116, 'spending': 2117, 'flew': 2118, 'west': 2119, 'spoon': 2120, 'cloth': 2121, 'blessed': 2122, 'aimed': 2123, 'riding': 2124, 'exciting': 2125, 'photograph': 2126, 'huge': 2127, 'pushed': 2128, 'frankly': 2129, 'member': 2130, 'foreigners': 2131, 'dependent': 2132, 'upstairs': 2133, 'loan': 2134, 'entrance': 2135, 'lesson': 2136, 'brings': 2137, 'adopt': 2138, 'tied': 2139, 'gazed': 2140, 'hire': 2141, 'meals': 2142, 'canceled': 2143, 'steadily': 2144, 'referring': 2145, 'edison': 2146, 'bright': 2147, 'nagoya': 2148, 'earthquakes': 2149, 'landing': 2150, 'sixteen': 2151, 'gentleman': 2152, 'greater': 2153, 'seventeen': 2154, 'rush': 2155, 'following': 2156, 'washes': 2157, 'star': 2158, 'washing': 2159, 'beyond': 2160, 'postponed': 2161, 'double': 2162, 'barber': 2163, 'intelligence': 2164, 'communicate': 2165, 'skirts': 2166, 'relationship': 2167, 'resting': 2168, 'grabbed': 2169, 'fiction': 2170, 'effort': 2171, 'cares': 2172, 'fastest': 2173, 'further': 2174, 'scolded': 2175, 'whale': 2176, 'worrying': 2177, 'rainy': 2178, 'watches': 2179, 'heavier': 2180, 'eight-thirty': 2181, 'swept': 2182, 'yellow': 2183, 'loudly': 2184, 'zealand': 2185, 'properly': 2186, '1972': 2187, 'punished': 2188, 'spare': 2189, 'armed': 2190, 'programs': 2191, 'dawn': 2192, 'program': 2193, 'feels': 2194, 'waiter': 2195, 'earn': 2196, 'shakespeare': 2197, 'recommend': 2198, 'temple': 2199, 'faster': 2200, 'goods': 2201, 'privacy': 2202, 'active': 2203, 'dessert': 2204, 'urgent': 2205, 'monkeys': 2206, 'canadian': 2207, 'ourselves': 2208, 'welcome': 2209, 'convince': 2210, 'buildings': 2211, 'tenth': 2212, 'lead': 2213, 'expert': 2214, 'places': 2215, 'haircut': 2216, 'expectations': 2217, 'embarrassed': 2218, 'notice': 2219, 'prince': 2220, 'fully': 2221, 'associate': 2222, 'flies': 2223, 'stuck': 2224, 'policy': 2225, 'selling': 2226, 'reminds': 2227, 'paying': 2228, 'wise': 2229, 'allergic': 2230, 'july': 2231, 'reads': 2232, 'gate': 2233, 'blew': 2234, 'oldest': 2235, 'circle': 2236, 'nose': 2237, 'shame': 2238, 'overtime': 2239, 'metal': 2240, 'lazy': 2241, 'ceiling': 2242, 'truly': 2243, 'toy': 2244, 'records': 2245, 'unless': 2246, 'within': 2247, 'calm': 2248, 'owes': 2249, 'reasons': 2250, 'politician': 2251, 'believed': 2252, 'lacking': 2253, 'sons': 2254, 'judge': 2255, 'puzzled': 2256, 'personal': 2257, 'banks': 2258, 'presence': 2259, 'bother': 2260, 'thames': 2261, 'kite': 2262, 'grades': 2263, 'doubt': 2264, 'mirror': 2265, 'perfect': 2266, 'fashions': 2267, 'bored': 2268, 'kick': 2269, 'kissed': 2270, 'drunken': 2271, 'emergency': 2272, 'hometown': 2273, 'band': 2274, 'competed': 2275, 'directions': 2276, 'heights': 2277, 'upset': 2278, 'ignored': 2279, 'insisted': 2280, 'bargain': 2281, 'brush': 2282, 'grapes': 2283, 'cleaned': 2284, 'insurance': 2285, 'participated': 2286, 'published': 2287, 'series': 2288, 'excited': 2289, 'nonsense': 2290, 'unexpected': 2291, 'escaped': 2292, 'conditions': 2293, 'affected': 2294, 'request': 2295, 'victory': 2296, 'instead': 2297, 'cafeteria': 2298, 'composition': 2299, 'typical': 2300, 'repeat': 2301, 'tomatoes': 2302, 'extended': 2303, 'helping': 2304, 'john': 2305, 'anger': 2306, 'contain': 2307, 'festival': 2308, 'admitted': 2309, 'meets': 2310, 'laughs': 2311, 'amazing': 2312, 'hakone': 2313, 'nation': 2314, 'gained': 2315, 'holiday': 2316, 'section': 2317, 'shooting': 2318, 'moonlight': 2319, 'blamed': 2320, 'teams': 2321, 'sport': 2322, 'jealous': 2323, 'humid': 2324, 'chat': 2325, 'loss': 2326, 'catches': 2327, 'north': 2328, 'practicing': 2329, 'strawberries': 2330, 'criminal': 2331, 'wild': 2332, 'photos': 2333, 'style': 2334, 'becomes': 2335, 'tends': 2336, 'false': 2337, 'waist': 2338, 'cancel': 2339, 'recovered': 2340, 'quotes': 2341, 'mommy': 2342, 'opposed': 2343, 'irresistible': 2344, 'heartless': 2345, 'calls': 2346, 'stake': 2347, 'misunderstanding': 2348, 'hunter': 2349, 'vodka': 2350, 'adult': 2351, 'unlikely': 2352, 'safely': 2353, 'expenses': 2354, 'digital': 2355, 'charles': 2356, 'argued': 2357, 'aside': 2358, 'orbit': 2359, 'switch': 2360, 'starving': 2361, 'gambling': 2362, 'cows': 2363, 'erased': 2364, 'tape': 2365, 'treatment': 2366, 'twenties': 2367, 'hollywood': 2368, 'biggest': 2369, 'squeezed': 2370, 'cooperation': 2371, 'prohibited': 2372, 'drowning': 2373, 'interfere': 2374, 'barking': 2375, 'letting': 2376, 'hunting': 2377, 'agency': 2378, 'executive': 2379, 'trade': 2380, 'turkey': 2381, 'stock': 2382, 'snack': 2383, 'file': 2384, 'penalty': 2385, 'tire': 2386, 'response': 2387, 'forty': 2388, 'period': 2389, 'blanket': 2390, 'final': 2391, 'cases': 2392, 'chocolates': 2393, '1988': 2394, 'inviting': 2395, 'tip': 2396, 'pretending': 2397, 'adventure': 2398, 'finger': 2399, 'army': 2400, 'departure': 2401, 'fireworks': 2402, 'sweeping': 2403, 'disappoint': 2404, 'showers': 2405, 'conference': 2406, 'jealousy': 2407, 'tomb': 2408, 'dolls': 2409, 'drawing': 2410, 'developing': 2411, 'pride': 2412, 'excuses': 2413, 'glanced': 2414, 'horizon': 2415, 'suited': 2416, 'peaches': 2417, 'surgeon': 2418, 'warnings': 2419, 'quarter': 2420, 'highly': 2421, 'rushed': 2422, 'strictly': 2423, 'approaching': 2424, 'cheating': 2425, 'trap': 2426, 'wrap': 2427, 'alcohol': 2428, 'increasing': 2429, 'beat': 2430, 'voted': 2431, 'stronger': 2432, 'activity': 2433, '1,000': 2434, 'clapped': 2435, 'prove': 2436, 'beautifully': 2437, 'sheep': 2438, 'absolute': 2439, 'nowadays': 2440, 'worthy': 2441, 'visitor': 2442, 'wednesday': 2443, 'forewarned': 2444, 'forearmed': 2445, 'professional': 2446, 'writers': 2447, 'income': 2448, 'windows': 2449, 'souvenir': 2450, 'bitterly': 2451, 'talented': 2452, 'articles': 2453, 'patients': 2454, 'karaoke': 2455, 'blowing': 2456, 'tests': 2457, 'ibm': 2458, 'goal': 2459, 'debt': 2460, 'chosen': 2461, 'comfort': 2462, 'celebrate': 2463, 'cool': 2464, 'changes': 2465, 'particularly': 2466, '155': 2467, 'centimeters': 2468, 'advertised': 2469, 'drawer': 2470, 'interpreter': 2471, 'nickname': 2472, 'itch': 2473, 'tulips': 2474, 'top': 2475, 'racket': 2476, 'travelers': 2477, 'dreams': 2478, '105': 2479, 'numerous': 2480, 'doors': 2481, 'lining': 2482, 'silly': 2483, 'comment': 2484, 'brilliant': 2485, 'microphone': 2486, 'added': 2487, 'stew': 2488, '100,000': 2489, 'ways': 2490, 'blouse': 2491, 'rely': 2492, 'colors': 2493, 'players': 2494, 'cheated': 2495, 'cave': 2496, '11': 2497, 'greatest': 2498, 'artists': 2499, 'lighter': 2500, 'tough': 2501, 'absorbed': 2502, 'ones': 2503, 'damage': 2504, 'bottles': 2505, 'captured': 2506, 'knees': 2507, 'ufo': 2508, 'baggage': 2509, 'figured': 2510, 'pays': 2511, 'event': 2512, 'primary': 2513, 'a.m': 2514, 'length': 2515, 'pirate': 2516, 'belt': 2517, 'opening': 2518, 'participate': 2519, 'clerk': 2520, 'unusual': 2521, 'gathered': 2522, 'totally': 2523, 'reputation': 2524, 'weapon': 2525, 'bullet': 2526, 'breathing': 2527, 'tricked': 2528, 'gloves': 2529, 'conflict': 2530, 'trunk': 2531, 'miracle': 2532, '1970': 2533, 'sandwiches': 2534, 'required': 2535, 'obliged': 2536, 'region': 2537, 'twins': 2538, 'scraped': 2539, 'boots': 2540, 'underestimate': 2541, 'ballpoint': 2542, 'related': 2543, 'tail': 2544, 'lion': 2545, 'criticism': 2546, 'membership': 2547, 'becoming': 2548, 'courageous': 2549, 'military': 2550, 'forces': 2551, 'parked': 2552, 'fix': 2553, 'americans': 2554, 'orders': 2555, 'conditioning': 2556, 'mile': 2557, 'hobbies': 2558, 'judging': 2559, 'hopeless': 2560, 'beating': 2561, 'weapons': 2562, 'swims': 2563, 'shadow': 2564, 'barefooted': 2565, 'scholarship': 2566, 'discovery': 2567, 'classmate': 2568, 'turning': 2569, 'ueno': 2570, 'bankrupt': 2571, 'trips': 2572, 'clever': 2573, 'culture': 2574, 'wool': 2575, 'include': 2576, 'fascinated': 2577, 'conclusion': 2578, 'solar': 2579, 'bottom': 2580, 'demand': 2581, 'soil': 2582, 'requirements': 2583, 'search': 2584, 'tender': 2585, 'disease': 2586, 'confirmed': 2587, 'dry': 2588, 'lack': 2589, 'boiling': 2590, 'guide': 2591, 'exception': 2592, 'doghouse': 2593, 'bathtub': 2594, 'sunset': 2595, 'steady': 2596, 'nations': 2597, 'patted': 2598, 'suffering': 2599, 'lucky': 2600, 'intended': 2601, 'ecology': 2602, '8': 2603, 'tune': 2604, 'bathroom': 2605, 'quarreling': 2606, 'intersection': 2607, 'richest': 2608, 'assembled': 2609, 'fridge': 2610, 'sunny': 2611, 'illuminated': 2612, 'smells': 2613, 'sue': 2614, 'risky': 2615, 'critical': 2616, 'detail': 2617, 'hyogo': 2618, 'arabic': 2619, 'pieces': 2620, 'handwriting': 2621, 'imports': 2622, 'nara': 2623, 'wooden': 2624, 'mice': 2625, 'smiling': 2626, 'towards': 2627, 'practiced': 2628, 'thunder': 2629, 'competitions': 2630, 'fan': 2631, 'oysters': 2632, 'grip': 2633, 'begun': 2634, 'qualified': 2635, 'command': 2636, 'thoughts': 2637, 'contented': 2638, 'awkward': 2639, 'bow': 2640, 'fare': 2641, 'encouraged': 2642, 'chief': 2643, 'bluest': 2644, 'fired': 2645, 'barked': 2646, 'mailman': 2647, 'sensible': 2648, 'threatened': 2649, 'disaster': 2650, 'happiest': 2651, 'laundry': 2652, 'waving': 2653, 'sensing': 2654, 'occur': 2655, 'refuses': 2656, 'ordinary': 2657, 'reap': 2658, 'sow': 2659, 'kites': 2660, 'overseas': 2661, 'tries': 2662, 'dryer': 2663, 'funeral': 2664, 'exhibition': 2665, 'recovering': 2666, 'skate': 2667, 'mandarin': 2668, 'improve': 2669, 'korean': 2670, 'closest': 2671, 'pharmacy': 2672, 'reserve': 2673, 'pan': 2674, 'devil': 2675, 'wanting': 2676, 'exchange': 2677, 'forgiven': 2678, 'shaving': 2679, 'indoors': 2680, 'sock': 2681, 'forgive': 2682, 'claim': 2683, 'strength': 2684, 'pens': 2685, 'devoted': 2686, 'fools': 2687, 'angels': 2688, 'tread': 2689, 'higher': 2690, 'email': 2691, 'okay': 2692, 'finds': 2693, 'terribly': 2694, 'glitters': 2695, 'p.m': 2696, 'dialed': 2697, 'dreamed': 2698, 'spell': 2699, 'description': 2700, 'adults': 2701, 'deaf': 2702, 'popcorn': 2703, 'expelled': 2704, 'hotels': 2705, 'surprising': 2706, 'skier': 2707, 'ex-boyfriend': 2708, 'ladies': 2709, 'wages': 2710, 'autograph': 2711, 'liquid': 2712, 'embassy': 2713, 'shibuya': 2714, 'spicy': 2715, 'parties': 2716, 'demanded': 2717, 'beholder': 2718, 'yokohama': 2719, 'gray': 2720, 'rings': 2721, 'offended': 2722, 'austria': 2723, 'arithmetic': 2724, 'service': 2725, 'budget': 2726, 'neighbor': 2727, 'fluency': 2728, 'awesome': 2729, 'figure': 2730, 'coast': 2731, 'trash': 2732, 'kiss': 2733, 'data': 2734, 'exact': 2735, 'complained': 2736, 'tsunami': 2737, 'ache': 2738, 'mornings': 2739, 'burning': 2740, 'flooded': 2741, 'disliked': 2742, 'concerts': 2743, 'thread': 2744, 'approval': 2745, 'mailbox': 2746, 'contrary': 2747, 'mix': 2748, 'baikal': 2749, 'yelling': 2750, 'manager': 2751, 'strain': 2752, 'physics': 2753, 'divorce': 2754, 'postcard': 2755, 'occupied': 2756, 'territory': 2757, 'guns': 2758, 'scientists': 2759, 'frost': 2760, 'cups': 2761, 'subscribe': 2762, 'jump': 2763, 'apologies': 2764, 'torn': 2765, 'completed': 2766, 'efforts': 2767, 'vain': 2768, 'remarkable': 2769, 'losses': 2770, 'steak': 2771, 'literature': 2772, 'hammer': 2773, 'robbery': 2774, 'waved': 2775, 'customs': 2776, 'faults': 2777, 'custody': 2778, 'adopted': 2779, 'teens': 2780, 'reports': 2781, 'sobbing': 2782, 'british': 2783, 'guidebook': 2784, 'sentences': 2785, 'besides': 2786, 'bitten': 2787, 'mosquito': 2788, 'sixty': 2789, 'guilt': 2790, 'parks': 2791, 'elephants': 2792, 'shelter': 2793, 'drivers': 2794, 'revolve': 2795, 'buys': 2796, 'upon': 2797, 'coward': 2798, 'scientific': 2799, 'liar': 2800, 'forgetting': 2801, 'picking': 2802, 'path': 2803, 'rabbit': 2804, 'handling': 2805, 'accompanied': 2806, 'tasted': 2807, 'finnish': 2808, 'tours': 2809, 'dolphin': 2810, 'reviews': 2811, 'apologized': 2812, 'vacuum': 2813, 'participants': 2814, 'complains': 2815, 'election': 2816, 'consists': 2817, 'claims': 2818, 'snare': 2819, 'cared': 2820, 'horror': 2821, 'furnished': 2822, 'tells': 2823, 'glue': 2824, 'whispered': 2825, 'floors': 2826, 'limit': 2827, 'arrogance': 2828, 'increase': 2829, 'deals': 2830, 'addition': 2831, 'hero': 2832, 'architect': 2833, 'impatient': 2834, 'connection': 2835, 'impolite': 2836, 'disagree': 2837, 'everywhere': 2838, 'cabin': 2839, 'marathon': 2840, 'newspapers': 2841, 'sleeps': 2842, 'visits': 2843, 'destination': 2844, 'electrical': 2845, 'detective': 2846, 'battle': 2847, 'checking': 2848, 'sometime': 2849, 'gardening': 2850, 'highest': 2851, 'tiny': 2852, 'drew': 2853, 'blackboard': 2854, 'elephant': 2855, 'bomb': 2856, 'bars': 2857, 'affection': 2858, 'evil': 2859, 'astonished': 2860, 'ahead': 2861, 'mahjong': 2862, 'officers': 2863, 'potatoes': 2864, 'disturbed': 2865, 'supplies': 2866, 'sheets': 2867, 'emotions': 2868, 'affair': 2869, 'salty': 2870, 'partners': 2871, 'denies': 2872, 'cured': 2873, 'attractive': 2874, 'bigger': 2875, 'six-thirty': 2876, 'pure': 2877, 'swedish': 2878, 'mention': 2879, 'relies': 2880, 'stretched': 2881, 'itself': 2882, 'soldier': 2883, 'nail': 2884, 'carrying': 2885, 'prisoner': 2886, 'staff': 2887, 'evident': 2888, '119': 2889, 'astonish': 2890, 'society': 2891, 'mammal': 2892, 'crisis': 2893, 'jumping': 2894, 'frightening': 2895, 'pound': 2896, 'differ': 2897, 'standard': 2898, 'employment': 2899, 'base': 2900, 'ignorance': 2901, 'interfered': 2902, 'angel': 2903, 'criticizing': 2904, 'crash': 2905, 'demonstration': 2906, 'crush': 2907, 'clubs': 2908, 'bothering': 2909, 'behaves': 2910, 'coal': 2911, 'ups': 2912, 'downs': 2913, 'influence': 2914, 'pry': 2915, 'human': 2916, 'nobel': 2917, 'floating': 2918, 'forgave': 2919, 'attack': 2920, 'application': 2921, 'appointed': 2922, 'confessed': 2923, 'border': 2924, 'onto': 2925, 'warmed': 2926, 'impression': 2927, 'volcano': 2928, 'central': 2929, 'lovely': 2930, 'uneasy': 2931, 'pants': 2932, '10:30': 2933, 'stadium': 2934, 'complain': 2935, 'afterwards': 2936, 'deliver': 2937, 'admiring': 2938, 'spread': 2939, 'require': 2940, 'laid': 2941, 'touched': 2942, 'bark': 2943, 'focus': 2944, 'california': 2945, 'planets': 2946, 'replaced': 2947, 'compare': 2948, 'answers': 2949, 'essays': 2950, 'lines': 2951, 'rivers': 2952, 'twenty-five': 2953, 'products': 2954, 'campus': 2955, 'exceptionally': 2956, 'ai': 2957, 'item': 2958, 'leads': 2959, 'foxes': 2960, 'indeed': 2961, 'musicians': 2962, 'mustache': 2963, 'joy': 2964, 'wheat': 2965, 'cricket': 2966, 'economic': 2967, 'loaf': 2968, 'misunderstood': 2969, 'vitamin': 2970, 'c': 2971, 'junior': 2972, 'runner': 2973, 'puppy': 2974, 'closing': 2975, 'apply': 2976, 'suntan': 2977, 'conscious': 2978, 'background': 2979, 'ability': 2980, 'selfish': 2981, 'counter': 2982, 'guarantee': 2983, 'deserves': 2984, 'chairperson': 2985, 'singapore': 2986, 'previous': 2987, 'weeds': 2988, 'seaside': 2989, 'backward': 2990, 'painting': 2991, 'assigned': 2992, 'arms': 2993, 'suggestions': 2994, 'power': 2995, 'daydreaming': 2996, 'hilton': 2997, 'mountains': 2998, 'holidays': 2999, 'depressed': 3000, 'sore': 3001, 'pink': 3002, 'environmental': 3003, 'wink': 3004, 'stores': 3005, 'stream': 3006, 'scary': 3007, 'difficulties': 3008, 'flour': 3009, 'innocence': 3010, 'contains': 3011, 'cart': 3012, 'excused': 3013, 'possibility': 3014, 'flames': 3015, 'relevant': 3016, 'causing': 3017, 'batteries': 3018, 'calculator': 3019, 'facing': 3020, 'sufficient': 3021, 'shine': 3022, 'advertisements': 3023, 'collection': 3024, 'pepper': 3025, 'coincidence': 3026, 'sasayama': 3027, 'pig': 3028, 'lessons': 3029, 'rising': 3030, 'typist': 3031, 'equivalent': 3032, 'paintings': 3033, 'tricks': 3034, 'suspiciously': 3035, 'x-ray': 3036, 'deny': 3037, 'fountain': 3038, 'destroyed': 3039, 'prevent': 3040, 'businessman': 3041, 'iceland': 3042, 'denmark': 3043, 'bee': 3044, 'jam': 3045, 'ridiculous': 3046, 'shock': 3047, 'reply': 3048, 'dj': 3049, 'strangers': 3050, 'freeze': 3051, 'crossing': 3052, 'customers': 3053, 'abstract': 3054, 'involved': 3055, 'delete': 3056, 'snows': 3057, 'camping': 3058, 'raced': 3059, 'practical': 3060, 'heaven': 3061, 'scar': 3062, 'square': 3063, 'impressed': 3064, 'heating': 3065, 'rested': 3066, 'modern': 3067, 'interrupt': 3068, '100': 3069, 'gain': 3070, 'current': 3071, 'graham': 3072, 'greene': 3073, 'parts': 3074, 'collected': 3075, 'voting': 3076, 'solid': 3077, 'contest': 3078, 'folded': 3079, 'bookshelf': 3080, 'potato': 3081, 'hired': 3082, 'preparations': 3083, 'bombs': 3084, 'stepped': 3085, 'habits': 3086, 'statement': 3087, 'cheaper': 3088, 'poems': 3089, 'smelled': 3090, 'tobacco': 3091, 'planes': 3092, 'acknowledged': 3093, 'soap': 3094, 'crops': 3095, 'basis': 3096, 'shave': 3097, 'solving': 3098, 'feed': 3099, 'schoolbag': 3100, 'explosion': 3101, 'stubborn': 3102, 'loses': 3103, 'sendai': 3104, 'eager': 3105, 'persuaded': 3106, 'traditional': 3107, 'rolling': 3108, 'permitting': 3109, 'actor': 3110, 'crimes': 3111, 'oxford': 3112, 'makeup': 3113, 'using': 3114, 'englishman': 3115, 'invested': 3116, 'fighting': 3117, 'cute': 3118, 'oven': 3119, 'body': 3120, 'mission': 3121, 'penny': 3122, 'driven': 3123, 'behaved': 3124, 'december': 3125, 'weird': 3126, 'damp': 3127, 'closet': 3128, 'sort': 3129, 'gather': 3130, 'changing': 3131, 'enjoys': 3132, 'original': 3133, 'bumped': 3134, 'items': 3135, 'irregular': 3136, 'verbs': 3137, 'hike': 3138, 'dealing': 3139, 'rejected': 3140, 'milton': 3141, 'miyazaki': 3142, 'prevents': 3143, 'hook': 3144, 'tailor': 3145, 'dallas': 3146, 'propose': 3147, 'honor': 3148, 'quietly': 3149, 'fries': 3150, 'boasts': 3151, 'acquire': 3152, 'hurried': 3153, 'welcomed': 3154, 'warmly': 3155, 'pulled': 3156, 'swarm': 3157, 'hornets': 3158, 'stirred': 3159, 'teaspoon': 3160, 'built-in': 3161, 'equals': 3162, 'bookkeeping': 3163, 'academic': 3164, 'fraud': 3165, 'lindbergh': 3166, 'solo': 3167, 'atlantic': 3168, '1927': 3169, 'stained': 3170, '2020': 3171, 'doubled': 3172, 'swimmers': 3173, 'moons': 3174, 'saturn': 3175, 'volcanic': 3176, 'ash': 3177, 'disrupted': 3178, 'mysterious': 3179, 'atmosphere': 3180, '165': 3181, 'neptune': 3182, 'halley': 3183, 'comet': 3184, '2061': 3185, 'stingy': 3186, 'oscar': 3187, 'ceremonies': 3188, 'extravaganza': 3189, 'damaged': 3190, 'satellites': 3191, 'revolving': 3192, 'planting': 3193, 'weatherman': 3194, 'mysteries': 3195, 'acquired': 3196, 'needle': 3197, 'haystack': 3198, 'foods': 3199, 'role': 3200, 'worn': 3201, 'heroes': 3202, 'hairdressers': 3203, 'gay': 3204, 'elderberry': 3205, 'usa': 3206, 'extraordinary': 3207, 'sorrow': 3208, 'guts': 3209, 'guitarist': 3210, 'flat': 3211, 'pillow': 3212, 'stir': 3213, 'applicable': 3214, 'displeased': 3215, 'app': 3216, 'folds': 3217, 'cranes': 3218, 'tripped': 3219, 'research': 3220, 'bookcase': 3221, 'watermelon': 3222, 'jungle': 3223, 'semester': 3224, 'pointed': 3225, 'weeded': 3226, 'hurting': 3227, 'hick': 3228, 'seattle': 3229, 'asap': 3230, 'imported': 3231, 'argentina': 3232, 'spectacular': 3233, 'dived': 3234, 'farewell': 3235, 'prejudice': 3236, 'doubts': 3237, 'underpants': 3238, 'satellite': 3239, 'evacuate': 3240, 'knack': 3241, 'disgusted': 3242, 'leisure': 3243, 'machinery': 3244, 'comedian': 3245, 'rocks': 3246, 'narrow': 3247, 'nasty': 3248, 'sees': 3249, 'briefly': 3250, 'parking': 3251, 'knives': 3252, 'forks': 3253, 'based': 3254, 'risen': 3255, 'survivor': 3256, 'falls': 3257, 'zao': 3258, 'sung': 3259, 'robot': 3260, 'brain': 3261, 'circumstances': 3262, 'elementary': 3263, 'lansing': 3264, 'state': 3265, 'michigan': 3266, 'deadline': 3267, 'imperative': 3268, 'resemblance': 3269, 'accompanies': 3270, 'consumption': 3271, 'monopoly': 3272, 'families': 3273, 'chopin': 3274, 'hesitate': 3275, 'assistance': 3276, 'passive': 3277, 'demonstrated': 3278, 'cents': 3279, 'marital': 3280, 'status': 3281, 'hedge': 3282, 'envied': 3283, 'winds': 3284, 'moist': 3285, 'roast': 3286, 'illustrated': 3287, 'duck': 3288, 'hopefully': 3289, 'mobile': 3290, '65': 3291, 'mercy': 3292, 'dictator': 3293, 'disagreement': 3294, 'tunes': 3295, 'gasoline': 3296, 'horrible': 3297, 'immune': 3298, 'smallpox': 3299, 'dieting': 3300, 'bedrooms': 3301, 'repeatedly': 3302, 'plants': 3303, 'buttons': 3304, 'weed': 3305, 'interrupting': 3306, 'elderly': 3307, 'location': 3308, 'calmed': 3309, 'one-way': 3310, 'melt': 3311, 'stove': 3312, 'abundant': 3313, 'resources': 3314, 'immigrants': 3315, '3:30': 3316, 'conversationalist': 3317, 'shortly': 3318, 'kilogram': 3319, 'carelessly': 3320, 'unaware': 3321, 'organ': 3322, 'shops': 3323, 'shounan': 3324, 'bulb': 3325, 'reducing': 3326, 'stress': 3327, 'organic': 3328, 'trivial': 3329, 'twenty-year-old': 3330, 'approve': 3331, 'tigers': 3332, 'liable': 3333, 'smarter': 3334, 'theme': 3335, 'wig': 3336, 'genuine': 3337, 'old-fashioned': 3338, 'rainbow': 3339, 'underneath': 3340, 'felicja': 3341, 'bugs': 3342, 'monthly': 3343, 'girlfriends': 3344, 'robbed': 3345, 'souls': 3346, 'cookie': 3347, 'arrogant': 3348, 'battered': 3349, 'clint': 3350, 'eastwood': 3351, 'carmel': 3352, 'slowing': 3353, 'overlooked': 3354, 'prettier': 3355, 'proactive': 3356, 'raising': 3357, 'fees': 3358, 'shining': 3359, 'broccoli': 3360, 'measure': 3361, 'denied': 3362, 'prosecutor': 3363, 'leading': 3364, 'rode': 3365, 'fortunately': 3366, 'persecuted': 3367, 'manufactures': 3368, 'originally': 3369, 'invisible': 3370, 'tour': 3371, 'pulling': 3372, 'rabbi': 3373, 'temples': 3374, 'overweight': 3375, 'nuts': 3376, '60': 3377, 'briefcase': 3378, 'saudi': 3379, 'arabia': 3380, 'lower': 3381, 'coke': 3382, 'bringing': 3383, 'cia': 3384, 'chipped': 3385, 'equal': 3386, '4,000': 3387, 'figures': 3388, 'suspect': 3389, 'palms': 3390, 'bending': 3391, 'deprived': 3392, '1492': 3393, 'national': 3394, 'experiences': 3395, 'deceitful': 3396, 'halt': 3397, 'comb': 3398, 'instantly': 3399, 'piloted': 3400, 'harbor': 3401, 'refreshing': 3402, 'degree': 3403, 'peach': 3404, 'banged': 3405, 'fist': 3406, 'shutting': 3407, 'swimsuit': 3408, 'overcome': 3409, 'confuse': 3410, 'realized': 3411, 'pointless': 3412, 'malnutrition': 3413, 'niger': 3414, 'kidnappers': 3415, 'effective': 3416, 'freeloaders': 3417, 'pilot': 3418, 'erupted': 3419, 'laughter': 3420, 'suitcases': 3421, 'dates': 3422, 'twelfth': 3423, 'babies': 3424, 'manage': 3425, 'responding': 3426, 'towel': 3427, 'praying': 3428, 'immigrate': 3429, 'well-known': 3430, 'action': 3431, 'gentle': 3432, 'ebola': 3433, 'spreads': 3434, 'bodily': 3435, 'fluids': 3436, 'graveyard': 3437, 'listens': 3438, 'handled': 3439, 'resourceful': 3440, 'unidentified': 3441, 'object': 3442, '2': 3443, 'mutual': 3444, 'understanding': 3445, 'promotes': 3446, 'envious': 3447, 'string': 3448, 'smokes': 3449, 'honorable': 3450, 'l.a.': 3451, 'bakes': 3452, 'annoy': 3453, 'coach': 3454, 'investigate': 3455, 'tolerated': 3456, 'quits': 3457, 'j.f': 3458, 'kennedy': 3459, 'arlington': 3460, 'cemetery': 3461, 'feathers': 3462, 'economical': 3463, 'official': 3464, 'honda': 3465, 'starvation': 3466, 'coral': 3467, 'reef': 3468, 'attraction': 3469, 'association': 3470, 'thermometers': 3471, 'frogs': 3472, 'actinium': 3473, 'andré-louis': 3474, 'debierne': 3475, '1899': 3476, 'wept': 3477, 'awoke': 3478, 'point-blank': 3479, 'paragraph': 3480, 'goof': 3481, 'scores': 3482, 'marine': 3483, 'biologist': 3484, 'reread': 3485, 'tampered': 3486, 'ebay': 3487, 'existence': 3488, 'paranormal': 3489, 'phenomena': 3490, 'optimists': 3491, 'pessimists': 3492, '1980': 3493, 'coin': 3494, 'sidewalk': 3495, 'obviously': 3496, 'equipped': 3497, 'unique': 3498, 'panel': 3499, 'experts': 3500, 'hypothesis': 3501, 'three-fourths': 3502, 'hug': 3503, 'secrets': 3504, 'revealed': 3505, 'beers': 3506, 'phoned': 3507, 'inspect': 3508, 'spelling': 3509, 'kissing': 3510, 'sunrise': 3511, 'nuclear': 3512, 'nights': 3513, 'mike': 3514, 'athletic': 3515, 'topics': 3516, 'fallen': 3517, 'balance': 3518, 'pockets': 3519, 'exhaust': 3520, 'causes': 3521, 'defined': 3522, 'desires': 3523, 'designer': 3524, 'endangered': 3525, 'species': 3526, 'spiders': 3527, 'promoted': 3528, 'disneyland': 3529, 'startling': 3530, 'dreamt': 3531, 'vending': 3532, 'youth': 3533, 'artistic': 3534, 'peacefully': 3535, 'abilities': 3536, 'tourists': 3537, 'exquisite': 3538, 'thumb': 3539, 'balloon': 3540, 'respond': 3541, 'garbage': 3542, 'vegetable': 3543, 'mercury': 3544, 'smallest': 3545, 'tires': 3546, 'racist': 3547, 'prized': 3548, 'possession': 3549, 'wasted': 3550, 'valentine': 3551, 'force': 3552, 'sail': 3553, 'agreement': 3554, 'clown': 3555, 'january': 3556, 'burden': 3557, 'inconvenience': 3558, 'chopsticks': 3559, 'barometer': 3560, 'falling': 3561, 'diplomacy': 3562, 'tourism': 3563, 'revise': 3564, 'affectionate': 3565, 'victims': 3566, 'suspicions': 3567, 'cleaning': 3568, 'summers': 3569, 'childish': 3570, 'venice': 3571, 'hungarian': 3572, 'streets': 3573, 'pages': 3574, 'brighter': 3575, 'shanghai': 3576, 'humiliate': 3577, 'alarmed': 3578, 'irresponsible': 3579, 'whiter': 3580, 'heavily': 3581, 'equator': 3582, 'divides': 3583, 'globe': 3584, 'hemispheres': 3585, 'illusion': 3586, 'candy': 3587, 'photographer': 3588, 'venture': 3589, '25': 3590, 'skilled': 3591, 'fisherman': 3592, 'legal': 3593, 'finest': 3594, 'acting': 3595, 'rung': 3596, 'arrives': 3597, 'kitadake': 3598, 'hurricane': 3599, 'lined': 3600, 'telegram': 3601, 'smack': 3602, 'fellow': 3603, 'deceived': 3604, 'heart-to-heart': 3605, 'dig': 3606, 'turkish': 3607, 'obtained': 3608, 'yield': 3609, 'investment': 3610, 'severe': 3611, 'philosopher': 3612, 'goodbyes': 3613, 'presented': 3614, 'golden': 3615, 'direction': 3616, 'desperate': 3617, 's': 3618, 'mechanic': 3619, 'engine': 3620, 'occasional': 3621, 'returns': 3622, 'disturbing': 3623, 'gym': 3624, 'condition': 3625, 'electrician': 3626, 'burns': 3627, 'cheapest': 3628, 'external': 3629, 'jewelry': 3630, 'swear': 3631, 'yourselves': 3632, 'closer': 3633, 'regard': 3634, 'exceeded': 3635, 'exports': 3636, 'stink': 3637, 'jaw': 3638, 'abducted': 3639, 'beethoven': 3640, 'musician': 3641, 'urban': 3642, 'ban': 3643, 'thrilling': 3644, 'u.n': 3645, 'repairing': 3646, 'unavoidable': 3647, 'spy': 3648, 'paved': 3649, 'asphalt': 3650, 'concerns': 3651, 'hundreds': 3652, 'buffaloes': 3653, 'armchair': 3654, 'extension': 3655, 'cord': 3656, 'elders': 3657, 'roman': 3658, 'council': 3659, 'admires': 3660, 'kilometers': 3661, 'dutch': 3662, 'closely': 3663, 'fog': 3664, 'optimistic': 3665, 'challenge': 3666, 'citizen': 3667, 'declared': 3668, '1950': 3669, 'plunged': 3670, 'record': 3671, 'collect': 3672, 'despite': 3673, 'riches': 3674, 'signal': 3675, 'conditioner': 3676, 'akita': 3677, 'obstinate': 3678, 'etched': 3679, 'freezing': 3680, 'polish': 3681, 'hesitation': 3682, 'uniforms': 3683, 'follows': 3684, 'inattention': 3685, 'prisoners': 3686, 'barely': 3687, 'sarcastic': 3688, 'dedication': 3689, 'ends': 3690, 'heroine': 3691, 'unfamiliar': 3692, 'precedent': 3693, 'stressed': 3694, 'aspects': 3695, 'lens': 3696, 'arrow': 3697, 'deer': 3698, 'germans': 3699, 'pencils': 3700, 'liverpool': 3701, 'fax': 3702, 'worries': 3703, 'bend': 3704, 'whistled': 3705, 'beckoned': 3706, 'taxes': 3707, 'expired': 3708, 'three-year-old': 3709, 'allied': 3710, 'pleased': 3711, 'awake': 3712, 'voices': 3713, 'defeated': 3714, 'doggy': 3715, 'undressed': 3716, 'marches': 3717, 'capacity': 3718, 'remedial': 3719, 'vases': 3720, 'literally': 3721, 'drenched': 3722, 'handles': 3723, 'advocate': 3724, 'uncles': 3725, 'tags': 3726, 'betrays': 3727, 'calendar': 3728, 'maternal': 3729, 'dove': 3730, 'autobiography': 3731, 'sorts': 3732, 'sheraton': 3733, 'quiz': 3734, 'wires': 3735, 'convey': 3736, 'distasteful': 3737, 'misjudged': 3738, 'good-looking': 3739, 'mozart': 3740, 'princess': 3741, 'pretends': 3742, 'serpent': 3743, 'tempted': 3744, 'eve': 3745, 'shrill': 3746, 'crushed': 3747, 'industrial': 3748, 'pour': 3749, 'melted': 3750, 'wit': 3751, 'flipped': 3752, 'fusion': 3753, 'combination': 3754, 'painful': 3755, 'generous': 3756, 'whole-heartedly': 3757, 'distract': 3758, 'sewing': 3759, 'employees': 3760, 'pardon': 3761, 'musical': 3762, 'instrument': 3763, 'enabled': 3764, 'subscriptions': 3765, 'inspired': 3766, 'relieved': 3767, 'cargo': 3768, 'gentlemen': 3769, 'arrival': 3770, 'impressions': 3771, 'determine': 3772, 'gallons': 3773, 'nissan': 3774, 'diplomats': 3775, 'various': 3776, 'privileges': 3777, 'sum': 3778, 'cheered': 3779, 'olympic': 3780, 'diary': 3781, 'wrist': 3782, 'massive': 3783, 'structure': 3784, 'achieved': 3785, 'bug': 3786, 'surrounding': 3787, 'foolish': 3788, 'clears': 3789, 'stockholm': 3790, 'sweden': 3791, 'countless': 3792, 'twinkling': 3793, 'risks': 3794, 'streaked': 3795, 'grand': 3796, 'antique': 3797, 'unfairly': 3798, 'intervene': 3799, 'producers': 3800, 'knob': 3801, 'stomachache': 3802, 'unfit': 3803, 'fright': 3804, 'accuracy': 3805, '1996': 3806, 'pumps': 3807, 'reagan': 3808, 'photographs': 3809, 'unknown': 3810, 'fabulous': 3811, 'snowfall': 3812, 'marketable': 3813, 'skill': 3814, 'formed': 3815, 'first-year': 3816, 'ogai': 3817, 'manufacture': 3818, 'shown': 3819, 'lid': 3820, 'ages': 3821, 'tin': 3822, 'accurate': 3823, 'humiliated': 3824, 'amusing': 3825, 'vibe': 3826, 'half-hearted': 3827, 'manner': 3828, 'brandy': 3829, 'cancelled': 3830, 'ninety': 3831, 'translated': 3832, 'blessing': 3833, 'tunnel': 3834, 'committed': 3835, 'suicide': 3836, 'parcel': 3837, 'warn': 3838, 'complaint': 3839, 'sails': 3840, 'strait': 3841, 'gibraltar': 3842, 'tsunamis': 3843, 'fields': 3844, 'repay': 3845, 'grandchild': 3846, 'mars': 3847, 'gracious': 3848, 'apparently': 3849, 'grammatical': 3850, 'rowing': 3851, 'restroom': 3852, 'basho': 3853, 'luckily': 3854, 'teased': 3855, 'cage': 3856, 'otherwise': 3857, 'repainted': 3858, 'whisper': 3859, 'tottori': 3860, 'lawn': 3861, 'division': 3862, 'mist': 3863, 'brushing': 3864, 'passes': 3865, 'somehow': 3866, 'controversial': 3867, 'delivered': 3868, 'clung': 3869, 'branches': 3870, 'floodwaters': 3871, 'approved': 3872, 'appreciates': 3873, 'booth': 3874, 'tightly': 3875, 'm': 3876, 'valuables': 3877, 'pursue': 3878, 'inspiration': 3879, 'jesus': 3880, 'christ': 3881, 'hail': 3882, 'derived': 3883, 'latin': 3884, 'verify': 3885, 'greenhouse': 3886, 'imaginary': 3887, 'jack': 3888, 'rate': 3889, 'shattered': 3890, 'mid-forties': 3891, 'undressing': 3892, 'conclusions': 3893, 'pin': 3894, 'sincere': 3895, 'bathe': 3896, 'broadcast': 3897, 'tapes': 3898, '6:00': 3899, 'cholesterol': 3900, 'shipping': 3901, 'flash': 3902, 'pigsty': 3903, 'stapler': 3904, 'pastime': 3905, 'apt': 3906, 'nests': 3907, 'rapid': 3908, 'overreacting': 3909, 'neglected': 3910, 'duties': 3911, 'fasten': 3912, 'contemporary': 3913, 'happily': 3914, 'essentially': 3915, 'chinatown': 3916, '90': 3917, 'permanent': 3918, 'scrambled': 3919, 'gang': 3920, 'hated': 3921, 'searching': 3922, 'intrude': 3923, 'flame': 3924, 'stupidest': 3925, 'celebrations': 3926, 'insect': 3927, 'blinded': 3928, 'booked': 3929, 'divorces': 3930, '1880': 3931, 'remove': 3932, 'stains': 3933, 'burnt': 3934, 'intervenes': 3935, 'campfire': 3936, 'melons': 3937, 'matches': 3938, 'vary': 3939, 'shared': 3940, 'uncertain': 3941, 'acquaintance': 3942, 'origins': 3943, 'features': 3944, 'harvest': 3945, 'pta': 3946, 'verge': 3947, 'blossom': 3948, 'established': 3949, '1650': 3950, 'waterfall': 3951, 'deserve': 3952, 'imaginative': 3953, 'uncooperative': 3954, 'san': 3955, 'francisco': 3956, '1989': 3957, 'issue': 3958, 'definite': 3959, 'slippery': 3960, 'toothache': 3961, 'chinese-style': 3962, 'korea': 3963, '2008.': 3964, 'orphan': 3965, 'monster': 3966, 'manholes': 3967, 'accidentally': 3968, 'thursday': 3969, 'shizuoka': 3970, 'scenic': 3971, 'realistic': 3972, 'graceful': 3973, 'methods': 3974, 'despise': 3975, 'permit': 3976, 'hypocritical': 3977, 'mistakenly': 3978, 'railroad': 3979, 'parallel': 3980, 'port': 3981, 'effects': 3982, 'duty-free': 3983, 'attributes': 3984, '3:00': 3985, 'cottages': 3986, 'isolated': 3987, 'trainer': 3988, 'communicated': 3989, 'hop': 3990, 'rescue': 3991, 'nine-to-five': 3992, 'weep': 3993, 'user': 3994, 'amazon': 3995, 'fake': 3996, 'asian': 3997, 'cleaner': 3998, 'leaks': 3999, 'ignore': 4000, 'predicting': 4001, 'leader': 4002, 'stitch': 4003, 'saves': 4004, 'thirtieth': 4005, 'workday': 4006, 'william': 4007, 'product': 4008, 'skies': 4009, 'mp3': 4010, 'chill': 4011, 'canary': 4012, 'handball': 4013, 'playground': 4014, 'senior': 4015, 'core': 4016, 'tapped': 4017, 'evaporates': 4018, 'daddy': 4019, 'haste': 4020, 'dolled': 4021, 'hardwood': 4022, 'shade': 4023, 'coins': 4024, 'errands': 4025, 'wan': 4026, 'na': 4027, 'tag': 4028, 'hakodate': 4029, 'dances': 4030, 'relaxed': 4031, 'worsening': 4032, 'exceed': 4033, 'stepping': 4034, 'handy': 4035, 'satisfy': 4036, 'succeeding': 4037, 'vietnam': 4038, 'veteran': 4039, 'numbers': 4040, 'shelters': 4041, 'printing': 4042, 'interview': 4043, 'landlord': 4044, 'raise': 4045, 'serves': 4046, 'logic': 4047, 'mess': 4048, 'acted': 4049, 'bowling': 4050, 'intriguing': 4051, 'diplomat': 4052, 'hats': 4053, 'uk': 4054, 'abbreviation': 4055, 'kingdom': 4056, 'grasp': 4057, 'machines': 4058, 'abraham': 4059, '16th': 4060, 'log': 4061, 'kentucky': 4062, 'absconded': 4063, 'going-away': 4064, 'possess': 4065, 'desirable': 4066, 'lottery': 4067, 'conform': 4068, 'bounce': 4069, 'seated': 4070, 'produces': 4071, 't.v': 4072, 'three-bedroom': 4073, 'compartment': 4074, 'gravy': 4075, 'delighted': 4076, 'balls': 4077, 'cleaners': 4078, 'receipt': 4079, 'hostess': 4080, 'thorn': 4081, 'disagreeing': 4082, 'passage': 4083, 'governor': 4084, 'training': 4085, 'equipment': 4086, 'cakes': 4087, 'baked': 4088, 'witch': 4089, 'trick': 4090, 'blog': 4091, 'kelly': 4092, 'assist': 4093, 'europeans': 4094, 'alphabet': 4095, '13-year-old': 4096, 'florence': 4097, '3.00': 4098, 'marvels': 4099, 'indifferent': 4100, 'english-english': 4101, 'hamlet': 4102, 'pleasures': 4103, 'property': 4104, 'staring': 4105, 'guarding': 4106, 'esperanto': 4107, 'enthusiasm': 4108, 'italians': 4109, 'roared': 4110, 'mark': 4111, 'knopfler': 4112, 'jar': 4113, 'authority': 4114, 'malaysia': 4115, 'indistinguishable': 4116, 'sunglasses': 4117, 'laptop': 4118, 'forte': 4119, 'pendant': 4120, 'shortest': 4121, 'acid': 4122, 'unlike': 4123, 'sheet': 4124, 'submitted': 4125, 'cornered': 4126, 'rat': 4127, 'particular': 4128, 'fares': 4129, 'collars': 4130, 'fantasy': 4131, 'digestion': 4132, 'ultraviolet': 4133, 'rays': 4134, 'release': 4135, 'conveniently': 4136, 'merry': 4137, 'imagine': 4138, 'version': 4139, 'receive': 4140, 'tales': 4141, 'soft': 4142, 'takasu': 4143, 'clinic': 4144, 'mandatory': 4145, 'access': 4146, 'stab': 4147, 'liz': 4148, 'ambitions': 4149, 'breaks': 4150, 'strengths': 4151, 'weaknesses': 4152, 'gums': 4153, 'bleed': 4154, 'undo': 4155, 'seawater': 4156, 'libras': 4157, 'tested': 4158, '2009': 4159, 'identical': 4160, 'phase': 4161, 'sin': 4162, 'independent': 4163, 'local': 4164, 'ultimate': 4165, 'mountaineering': 4166, 'shortage': 4167, 'rise': 4168, 'marketing': 4169, 'supplied': 4170, 'joining': 4171, 'motel': 4172, 'accommodate': 4173, '400': 4174, 'careless': 4175, 'islam': 4176, '7th': 4177, 'exceptions': 4178, 'quart': 4179, 'cockroaches': 4180, 'bones': 4181, 'reporter': 4182, 'elegant': 4183, '2003': 4184, 'twisted': 4185, 'ankle': 4186, 'arab': 4187, 'visibly': 4188, 'whales': 4189, 'width': 4190, 'breast-feeding': 4191, 'karuizawa': 4192, 'arched': 4193, 'groaned': 4194, 'toolkit': 4195, 'woolen': 4196, 'obligation': 4197, 'shaking': 4198, 'leaning': 4199, 'suruga': 4200, 'bay': 4201, 'triple': 4202, 'shouting': 4203, 'towers': 4204, 'slid': 4205, 'respectful': 4206, 'superiors': 4207, 'sawing': 4208, 'mixed': 4209, 'hong': 4210, 'kong': 4211, 'companies': 4212, 'implemented': 4213, 'eight-hour': 4214, 'decreasing': 4215, 'recognition': 4216, 'lamp': 4217, 'dial': 4218, 'indicated': 4219, 'nineties': 4220, 'veranda': 4221, 'depart': 4222, 'intimidate': 4223, 'links': 4224, 'bulky': 4225, 'curtains': 4226, 'simplest': 4227, 'observations': 4228, 'disregarded': 4229, 'lets': 4230, 'explode': 4231, 'gratify': 4232, 'classless': 4233, 'suggestion': 4234, 'irritable': 4235, 'hassle': 4236, 'gains': 4237, 'bungee': 4238, 'ac': 4239, '839': 4240, 'reflection': 4241, 'undone': 4242, 'jst': 4243, 'guaranteed': 4244, 'rates': 4245, 'officer': 4246, 'password': 4247, 'pinched': 4248, 'compiling': 4249, 'software': 4250, 'click': 4251, 'helmet': 4252, 'grasped': 4253, 'growled': 4254, 'cheerful': 4255, 'beds': 4256, 'shoot': 4257, 'unlocked': 4258, 'forehead': 4259, '180': 4260, 'elbows': 4261, 'dripping': 4262, 'sweat': 4263, 'vancouver': 4264, 'captivate': 4265, 'witnessed': 4266, 'meadow': 4267, 'doorknob': 4268, 'dusts': 4269, 'fewer': 4270, 'insist': 4271, 'sneaked': 4272, 'screwed': 4273, 'amplifier': 4274, 'accidents': 4275, 'phoenix': 4276, 'arizona': 4277, 'fainted': 4278, 'via': 4279, 'unanimously': 4280, 'appoint': 4281, 'ceo': 4282, 'insane': 4283, 'tiptoed': 4284, 'cross-country': 4285, 'french-english': 4286, 'rear': 4287, 'fuels': 4288, 'counted': 4289, 'whoever': 4290, 'soul': 4291, 'decreased': 4292, 'cries': 4293, 'permits': 4294, 'resigned': 4295, 'fled': 4296, 'identified': 4297, 'murderer': 4298, 'tremendous': 4299, 'twenty-one': 4300, 'teresa': 4301, 'denying': 4302, 'incredibly': 4303, 'surfboard': 4304, 'steals': 4305, 'playfully': 4306, 'waltz': 4307, 'resides': 4308, 'hunch': 4309, 'kidnapped': 4310, 'director': 4311, 'opposite': 4312, 'shiga': 4313, 'navy': 4314, 'imitation': 4315, 'ex-husband': 4316, 'kidding': 4317, 'website': 4318, 'layout': 4319, 'tolerate': 4320, 'audacity': 4321, 'cheat': 4322, 'necessarily': 4323, 'deli': 4324, 'next-door': 4325, 'pairs': 4326, 'civil': 4327, 'impressive': 4328, 'attic': 4329, 'declare': 4330, '455': 4331, 'twentieth': 4332, 'pregnancy': 4333, 'unconscious': 4334, 'depressing': 4335, 'vacant': 4336, 'willpower': 4337, 'fabric': 4338, '600': 4339, 'slavery': 4340, 'punishment': 4341, 'treason': 4342, 'aso': 4343, '14': 4344, '1960': 4345, 'entries': 4346, 'bern': 4347, 'owner': 4348, 'rio': 4349, 'de': 4350, 'janeiro': 4351, 'areas': 4352, 'mongrel': 4353, 'stewardess': 4354, 'reluctantly': 4355, 'former': 4356, 'champion': 4357, 'fits': 4358, 'android': 4359, 'adding': 4360, 'conduct': 4361, 'upcoming': 4362, 'babysitting': 4363, 'occasions': 4364, 'appearances': 4365, 'debate': 4366, 'ripped': 4367, 'exercising': 4368, 'wakes': 4369, 'commute': 4370, 'rewrite': 4371, 'chances': 4372, 'outrank': 4373, 'humble': 4374, 'context': 4375, 'orchard': 4376, 'dried': 4377, 'carpenter': 4378, 'ribbon': 4379, 'sunflower': 4380, 'fans': 4381, 'earliest': 4382, 'cutting': 4383, 'cigarettes': 4384, '6:30': 4385, 'cashier': 4386, 'suspects': 4387, 'rises': 4388, 'investigation': 4389, 'pluto': 4390, 'talent': 4391, 'adjust': 4392, 'considerate': 4393, 'stressful': 4394, 'league': 4395, 'swiss': 4396, 'consume': 4397, 'wizard': 4398, 'consecutive': 4399, 'footprints': 4400, 'sand': 4401, 'partied': 4402, 'frozen': 4403, 'towada': 4404, 'seminar': 4405, 'vowed': 4406, 'attempts': 4407, 'fame': 4408, 'discarded': 4409, 'ten-minute': 4410, 'depending': 4411, 'credibility': 4412, 'restart': 4413, 'transfer': 4414, 'millions': 4415, 'sheer': 4416, 'precious': 4417, 'belts': 4418, 'accepting': 4419, 'entirely': 4420, 'inconsequential': 4421, 'governed': 4422, 'seasons': 4423, 'tear': 4424, 'approximately': 4425, 'bounced': 4426, 'initials': 4427, 'ntt': 4428, 'worst-case': 4429, 'scenario': 4430, 'represent': 4431, 'mansion': 4432, 'speeches': 4433, 'marie': 4434, 'curie': 4435, 'radium': 4436, 'locker': 4437, 'inquiries': 4438, 'intimate': 4439, 'mumps': 4440, 'concise': 4441, 'automatically': 4442, 'embraced': 4443, 'profits': 4444, 'shaved': 4445, 'forgets': 4446, 'anniversary': 4447, 'backwards': 4448, 'shone': 4449, 'decorated': 4450, 'barley': 4451, 'revolution': 4452, 'republic': 4453, 'caged': 4454, 'spur': 4455, 'growth': 4456, 'oatmeal': 4457, 'thou': 4458, 'shalt': 4459, 'pasture': 4460, 'acres': 4461, 'tossed': 4462, 'spite': 4463, 'threat': 4464, 'all-day': 4465, 'strings': 4466, 'leftovers': 4467, 'abandoned': 4468, 'lively': 4469, 'electronic': 4470, 'smartest': 4471, 'ladder': 4472, 'slightly': 4473, 'garlic': 4474, 'cooks': 4475, 'comic': 4476, 'greet': 4477, 'fooling': 4478, 'hiccups': 4479, 'harry': 4480, 'potter': 4481, 'lame': 4482, 'tangerines': 4483, 'provided': 4484, 'fairies': 4485, 'hamamatsu': 4486, 'camel': 4487, 'desert': 4488, 'u.s.': 4489, 'vote': 4490, 'secretly': 4491, 'grandpa': 4492, 'paradise': 4493, 'sake': 4494, 'cutest': 4495, 'masterpiece': 4496, 'compute': 4497, 'remembering': 4498, 'savings': 4499, 'plastics': 4500, 'conventional': 4501, 'sight-seeing': 4502, 'survival': 4503, 'inseparable': 4504, 'lotion': 4505, 'twitter': 4506, 'inn': 4507, 'annoying': 4508, 'roommate': 4509, 'skis': 4510, 'forgetful': 4511, 'scold': 4512, 'injuries': 4513, 'i.d': 4514, 'northern': 4515, 'hemisphere': 4516, 'airlines': 4517, 'check-in': 4518, 'rifle': 4519, 'seine': 4520, 'boats': 4521, 'anticipate': 4522, 'seventeenth': 4523, 'einstein': 4524, 'adorable': 4525, 'sprang': 4526, 'straighten': 4527, 'soviet': 4528, 'union': 4529, 'collapsed': 4530, 'bent': 4531, 'unbelievably': 4532, 'estimated': 4533, 'dipped': 4534, 'uniform': 4535, 'astrology': 4536, 'celsius': 4537, 'syringe': 4538, 'observatory': 4539, 'concept': 4540, 'chiba': 4541, 'dumped': 4542, 'copies': 4543, 'ski': 4544, 'investors': 4545, 'withdrew': 4546, 'organized': 4547, 'journalist': 4548, 'ridge': 4549, 'suspected': 4550, 'entertaining': 4551, 'especially': 4552, 'universe': 4553, 'limitless': 4554, 'examinations': 4555, 'term': 4556, 'fatal': 4557, 'screwball': 4558, 'maintain': 4559, 'poisoner': 4560, 'intent': 4561, 'recorder': 4562, 'goals': 4563, 'logically': 4564, 'altogether': 4565, 'nominated': 4566, 'calvin': 4567, 'coolidge': 4568, 'vice': 4569, '800': 4570, 'improving': 4571, 'aisle': 4572, 'presents': 4573, 'thick': 4574, 'folks': 4575, 'oxygen': 4576, 'socialize': 4577, 'recovery': 4578, 'sigh': 4579, 'relief': 4580, 'withered': 4581, 'moral': 4582, 'design': 4583, 'poked': 4584, 'importance': 4585, 'normal': 4586, 'scolding': 4587, 'ten-dollar': 4588, 'frighten': 4589, 'confronted': 4590, 'yeast': 4591, 'owned': 4592, 'mosquitoes': 4593, 'meditation': 4594, 'replace': 4595, 'cartridge': 4596, 'printer': 4597, 'rabbits': 4598, 'tails': 4599, 'tuner': 4600, 'bites': 4601, '32': 4602, 'fahrenheit': 4603, 'accelerated': 4604, 'defended': 4605, 'invaders': 4606, 'stays': 4607, 'vitamins': 4608, 'arranging': 4609, 'sweetheart': 4610, 'cuff': 4611, 'pub': 4612, 'abnormal': 4613, 'grumbling': 4614, 'financial': 4615, 'self': 4616, 'urge': 4617, 'luxuries': 4618, 'incalculable': 4619, 'remembers': 4620, 'veterinarian': 4621, 'includes': 4622, 'tax': 4623, 'resigning': 4624, 'destroy': 4625, 'drug': 4626, 'jointly': 4627, 'childishly': 4628, 'rap': 4629, 'keio': 4630, 'impractical': 4631, 'deputy': 4632, 'consented': 4633, 'overestimate': 4634, 'pours': 4635, 'flashlight': 4636, 'egypt': 4637, 'slapped': 4638, 'cattle': 4639, 'halfway': 4640, 'thrilled': 4641, 'acorns': 4642, 'ambulances': 4643, 'borders': 4644, 'unwise': 4645, 'curry': 4646, 'mouths': 4647, 'goodnight': 4648, 'novelist': 4649, 'aerobics': 4650, '98': 4651, 'survived': 4652, 'mathematical': 4653, 'neighbour': 4654, 'obese': 4655, 'keeping': 4656, 'cambridge': 4657, 'honors': 4658, 'commerce': 4659, 'congratulated': 4660, 'steam': 4661, 'boiled': 4662, 'ample': 4663, 'exaggerating': 4664, 'hottest': 4665, 'eyed': 4666, 'willingly': 4667, 'healthiest': 4668, 'koala': 4669, 'newspaperman': 4670, 'hitting': 4671, 'sanctuary': 4672, 'aches': 4673, 'confirm': 4674, 'addressed': 4675, 'widespread': 4676, 'panic': 4677, 'meth': 4678, 'addict': 4679, 'temptation': 4680, 'remain': 4681, 'admonished': 4682, 'noisy': 4683, 'widely-spoken': 4684, 'scuba': 4685, 'diving': 4686, 'moderate': 4687, 'fearless': 4688, 'remodeled': 4689, 'mild': 4690, 'belonged': 4691, 'couch': 4692, 'notes': 4693, 'sting': 4694, 'declarations': 4695, 'variables': 4696, 'c++': 4697, 'bullied': 4698, 'composers': 4699, 'kilometres': 4700, 'undergo': 4701, 'meaningful': 4702, 'points': 4703, 'gravity': 4704, 'roughly': 4705, 'stooped': 4706, 'pebble': 4707, 'prejudiced': 4708, 'nerve': 4709, 'quarrels': 4710, 'refugees': 4711, 'postcards': 4712, 'nevada': 4713, 'flush': 4714, 'slaves': 4715, 'construct': 4716, 'questioned': 4717, 'biting': 4718, 'nails': 4719, 'visa': 4720, 'loose': 4721, 'flights': 4722, '2,700': 4723, 'honshu': 4724, 'swearing': 4725, 'inches': 4726, 'worship': 4727, 'bless': 4728, 'permitted': 4729, 'narita': 4730, 'promising': 4731, 'advise': 4732, 'matsue': 4733, 'fought': 4734, 'tissue': 4735, 'astonishment': 4736, 'affects': 4737, 'blown': 4738, 'personally': 4739, 'reported': 4740, 'scrap': 4741, 'champagne': 4742, 'puzzle': 4743, 'resembled': 4744, 'adjoins': 4745, 'amazingly': 4746, 'blisters': 4747, 'stupidity': 4748, 'spot': 4749, 'prophecy': 4750, 'avoided': 4751, 'kicked': 4752, '50,000': 4753, 'interpreted': 4754, 'refusal': 4755, 'trace': 4756, 'well-written': 4757, 'independence': 4758, '1947': 4759, 'undercooked': 4760, 'holes': 4761, 'agreeing': 4762, 'loans': 4763, 'remarks': 4764, 'desks': 4765, 'mend': 4766, 'activities': 4767, 'shocked': 4768, 'agreeable': 4769, 'strongest': 4770, 'candidate': 4771, 'lean': 4772, 'closes': 4773, 'farmer': 4774, 'decisions': 4775, 'pretext': 4776, 'resisting': 4777, 'closets': 4778, 'mastered': 4779, 'beginners': 4780, 'roller-skate': 4781, 'skinny': 4782, 'created': 4783, '17': 4784, 'fuel': 4785, 'gauge': 4786, 'pace': 4787, 'chewed': 4788, 'swallowed': 4789, 'proficient': 4790, 'farsi': 4791, 'carries': 4792, 'spray': 4793, 'forty-five': 4794, 'parade': 4795, 'bitter': 4796, 'attributed': 4797, 'edge': 4798, 'reconsider': 4799, 'neutral': 4800, 'folding': 4801, 'salesman': 4802, 'shrines': 4803, 'arrests': 4804, 'putt': 4805, 'farms': 4806, 'timing': 4807, '3,000': 4808, 'distances': 4809, 'spices': 4810, 'symbol': 4811, 'elbowed': 4812, 'susceptible': 4813, 'begged': 4814, 'possibly': 4815, 'generate': 4816, 'magnetism': 4817, 'whisky': 4818, 'unbelievable': 4819, 'foundation': 4820, 'general': 4821, 'consumers': 4822, 'quantity': 4823, 'adjective': 4824, 'noun': 4825, 'woollen': 4826, 'textiles': 4827, 'internet': 4828, 'masters': 4829, 'queen': 4830, 'elizabeth': 4831, '1603': 4832, 'self-confidence': 4833, 'stones': 4834, 'loving': 4835, 'eiffel': 4836, 'reserved': 4837, 'softly': 4838, 'dedicated': 4839, 'orphans': 4840, 'tenor': 4841, 'saxophone': 4842, 'dignified': 4843, 'mere': 4844, 'knit': 4845, 'apologetic': 4846, 'frowned': 4847, 'matchbox': 4848, 'straightening': 4849, 'faxes': 4850, 'emails': 4851, 'warmer': 4852, 'petals': 4853, 'antiques': 4854, 'headed': 4855, 'unnecessary': 4856, 'dreaming': 4857, 'pronunciation': 4858, 'hacked': 4859, 'locking': 4860, 'alike': 4861, 'bizarre': 4862, 'theories': 4863, 'continent': 4864, 'avoidable': 4865, 'eighty-one': 4866, 'performance': 4867, 'turtles': 4868, 'reptiles': 4869, 'aboard': 4870, 'amends': 4871, 'hint': 4872, 'vaccinated': 4873, 'flu': 4874, 'patio': 4875, 'smiles': 4876, 'walls': 4877, 'dye': 4878, 'blonde': 4879, 'richer': 4880, '3202-5625': 4881, 'airplanes': 4882, 'prairies': 4883, 'freshened': 4884, 'pose': 4885, 'trout': 4886, 'journal': 4887, 'breaking': 4888, 'telephones': 4889, 'booklet': 4890, '12': 4891, 'predictions': 4892, 'scholar': 4893, 'air-conditioned': 4894, 'farsighted': 4895, 'classical': 4896, 'views': 4897, 'respects': 4898, 'homeroom': 4899, 'dealt': 4900, '0': 4901, 'centigrade': 4902, 'eligible': 4903, 'rubbish': 4904, 'beasts': 4905, 'eagle': 4906, 'accompany': 4907, 'contribute': 4908, 'starved': 4909, 'ham': 4910, 'neatly': 4911, 'telephoned': 4912, 'consoling': 4913, 'leather': 4914, 'philippines': 4915, 'tidal': 4916, 'waves': 4917, 'resulted': 4918, 'deaths': 4919, '6,000': 4920, 'bawling': 4921, 'secretive': 4922, 'assumption': 4923, 'pools': 4924, 'poetry': 4925, 'sweets': 4926, 'shoulders': 4927, 'elaborate': 4928, 'hiccup': 4929, 'sipped': 4930, 'unpleasant': 4931, '1689': 4932, 'premonition': 4933, 'grown': 4934, 'regions': 4935, 'bandages': 4936, 'peg': 4937, 'parliament': 4938, 'officially': 4939, 'ryoutarou': 4940, 'hashimoto': 4941, '52nd': 4942, 'gazing': 4943, 'paces': 4944, 'self-evident': 4945, 'wide': 4946, 'helicopter': 4947, 'overhead': 4948, 'internship': 4949, 'unbearable': 4950, 'buffet': 4951, 'retract': 4952, 'treatments': 4953, 'sciences': 4954, 'homesick': 4955, 'confident': 4956, 'barbershop': 4957, '28th': 4958, '1888': 4959, 'brazil': 4960, 'brasilia': 4961, '4:00': 4962, 'two-story': 4963, 'networks': 4964, 'lenses': 4965, 'naked': 4966, 'install': 4967, 'antenna': 4968, 'peace-loving': 4969, 'checks': 4970, 'mexico': 4971, 'snickered': 4972, 'finishing': 4973, 'poisoning': 4974, 'nonstop': 4975, 'thai': 4976, 'implying': 4977, 'fitting': 4978, 'fruits': 4979, 'advances': 4980, '1636': 4981, 'toothaches': 4982, 'chimney': 4983, 'applications': 4984, 'slice': 4985, 'safer': 4986, 'analyzed': 4987, 'sidney': 4988, 'sheldon': 4989, 'passing': 4990, 'bitterness': 4991, 'umbrellas': 4992, 'self-made': 4993, 'greek': 4994, 'appropriate': 4995, 'achieve': 4996, 'brass': 4997, 'marching': 4998, 'zimbabwe': 4999, 'colony': 5000, 'lips': 5001, 'liquor': 5002, 'connects': 5003, 'two-year': 5004, 'arisen': 5005, 'grammar': 5006, 'scotch': 5007, 'choices': 5008, 'wrinkles': 5009, 'accidental': 5010, 'logged': 5011, 'glamorous': 5012, 'puts': 5013, 'windy': 5014, 'calculation': 5015, 'signed': 5016, 'lease': 5017, 'parasol': 5018, 'wiser': 5019, 'belief': 5020, 'eighth': 5021, 'blooming': 5022, 'fooled': 5023, 'translating': 5024, 'sights': 5025, 'warrant': 5026, 'visitors': 5027, 'a.m.': 5028, 'carrots': 5029, 'insured': 5030, 'statistics': 5031, 'pliable': 5032, '1985': 5033, 'communication': 5034, 'racial': 5035, 'discrimination': 5036, 'disadvantage': 5037, 'dyed': 5038, 'assignment': 5039, 'endure': 5040, 'countryside': 5041, 'emerging': 5042, 'pear': 5043, 'pressed': 5044, 'soared': 5045, 'marrying': 5046, 'blenders': 5047, 'smoothies': 5048, 'colombian': 5049, 'drugs': 5050, 'jiffy': 5051, 'hopeful': 5052, 'placed': 5053, 'consequences': 5054, 'pigs': 5055, 'characteristics': 5056, 'beings': 5057, 'aspired': 5058, 'businessmen': 5059, 'constantly': 5060, 'occupation': 5061, 'character': 5062, 'fundamental': 5063, 'harajuku': 5064, 'restaurants': 5065, 'veterinary': 5066, 'waits': 5067, 'hiking': 5068, 'bathed': 5069, 'abstain': 5070, 'clicked': 5071, 'authorized': 5072, 'erase': 5073, 'memories': 5074, 'ii': 5075, '1945': 5076, 'exhibits': 5077, 'confidence': 5078, 'considering': 5079, 'unanimous': 5080, 'millionaire': 5081, 'milkshake': 5082, 'perseverance': 5083, 'judgement': 5084, 'rainfall': 5085, 'deserted': 5086, 'pacemaker': 5087, 'magician': 5088, 'preserve': 5089, 'decay': 5090, 'defeatist': 5091, 'unsatisfied': 5092, 'voyage': 5093, 'pack': 5094, 'sued': 5095, 'damages': 5096, 'puffs': 5097, 'ruins': 5098, 'drawers': 5099, 'employed': 5100, 'privately': 5101, 'quantities': 5102, 'quoted': 5103, 'beans': 5104, 'statue': 5105, 'hachiko': 5106, 'faithful': 5107, 'teeming': 5108, 'carpentry': 5109, 'elevator': 5110, 'knock': 5111, 'sumo': 5112, 'gathers': 5113, 'moss': 5114, 'deeds': 5115, 'injury': 5116, 'joined': 5117, 'disguised': 5118, 'toad': 5119, 'textbook': 5120, 'microscope': 5121, 'telescope': 5122, 'concern': 5123, 'hen': 5124, 'cv': 5125, 'gifts': 5126, 'speakers': 5127, 'slave': 5128, 'deteriorating': 5129, 'testified': 5130, 'fifth-largest': 5131, 'producer': 5132, 'encores': 5133, 'checkout': 5134, 'rocket': 5135, 'launched': 5136, 'finishes': 5137, 'deprivation': 5138, 'increases': 5139, 'attacks': 5140, 'ringtone': 5141, 'laziest': 5142, 'document': 5143, 'harmony': 5144, 'packages': 5145, 'root': 5146, 'surgery': 5147, 'earthworm': 5148, 'wriggled': 5149, 'temporary': 5150, 'thirteen': 5151, 'taiwan': 5152, 'sociopaths': 5153, 'display': 5154, 'remorse': 5155, 'picasso': 5156, 'discoveries': 5157, 'doorbell': 5158, 'pheasant': 5159, 'handyman': 5160, 'aging': 5161, 'thoroughly': 5162, 'minimum': 5163, 'wage': 5164, 'okinawa': 5165, '642': 5166, 'continents': 5167, 'shore': 5168, 'engrossed': 5169, 'lighten': 5170, 'corrected': 5171, 'charming': 5172, 'unsure': 5173, 'leak': 5174, 'hazel': 5175, 'creature': 5176, 'unusually': 5177, 'preferred': 5178, 'dictionaries': 5179, 'canoe': 5180, 'sink': 5181, 'bliss': 5182, 'championship': 5183, 'melancholic': 5184, 'bits': 5185, 'shipment': 5186, 'drinkers': 5187, 'blacks': 5188, 'whites': 5189, 'meddling': 5190, 'colorado': 5191, '9:00': 5192, 'belly': 5193, 'text': 5194, 'purchase': 5195, 'hidden': 5196, 'cozy': 5197, 'headwords': 5198, 'requested': 5199, 'abolish': 5200, 'apron': 5201, 'bananas': 5202, 'meditate': 5203, 'defects': 5204, 'infrared': 5205, 'pacific': 5206, 'responded': 5207, 'basement': 5208, 'los': 5209, 'angeles': 5210, 'dim': 5211, 'smith': 5212, 'abated': 5213, 'pitch': 5214, 'demands': 5215, 'gibberish': 5216, 'bald': 5217, 'tent': 5218, 'supreme': 5219, 'court': 5220, 'firewood': 5221, 'canadians': 5222, 'sashimi': 5223, 'shaves': 5224, 'unfinished': 5225, 'vegetarian': 5226, 'compromise': 5227, 'thieves': 5228, 'ships': 5229, 'crew': 5230, 'coincides': 5231, 'subtle': 5232, 'differences': 5233, 'financially': 5234, 'saving': 5235, 'blondes': 5236, 'handbag': 5237, 'pepperoni': 5238, 'chips': 5239, 'transported': 5240, 'clues': 5241, 'temperate': 5242, 'daily': 5243, 'eavesdropping': 5244, 'cherry': 5245, 'blossoms': 5246, 'dragon': 5247, 'algebra': 5248, 'yawned': 5249, 'emotional': 5250, 'hare': 5251, 'tortoise': 5252, 'lifted': 5253, 'ok.': 5254, 'bali': 5255, 'tools': 5256, 'stripes': 5257, 'horizontal': 5258, 'fancy': 5259, 'parted': 5260, 'steps': 5261, 'wow': 5262, 'deadlock': 5263, 'blueberries': 5264, 'blackberries': 5265, 'cherries': 5266, 'nectarines': 5267, 'ruined': 5268, 'blushing': 5269, 'crater': 5270, 'sketched': 5271, 'peoples': 5272, 'affect': 5273, 'warning': 5274, 'pipe': 5275, 'disposal': 5276, 'acts': 5277, 'bowl': 5278, 'murmur': 5279, 'brook': 5280, 'lulls': 5281, 'tragic': 5282, 'overnight': 5283, 'necessity': 5284, 'religious': 5285, 'abate': 5286, 'senator': 5287, 'censured': 5288, 'congressional': 5289, 'ethics': 5290, 'exists': 5291, 'pochi': 5292, 'span': 5293, 'butterfly': 5294, 'candlelight': 5295, 'mastering': 5296, 'influenced': 5297, 'delays': 5298, 'commanded': 5299, 'fork': 5300, 'umpire': 5301, 'dollar': 5302, 'homes': 5303, 'cardboard': 5304, 'pollen': 5305, 'birmingham': 5306, 'platform': 5307, 'justice': 5308, 'prevail': 5309, 'p.m.': 5310, 'sadly': 5311, 'appeal': 5312, 'madrid': 5313, 'household': 5314, 'patriotism': 5315, 'remote': 5316, 'left-handed': 5317, 'physician': 5318, 'worm': 5319, 'shirtless': 5320, 'awfully': 5321, 'shed': 5322, 'cap': 5323, 'astronaut': 5324, 'toyota': 5325, 'ford': 5326, 'easy-going': 5327, 'fate': 5328, 'imposing': 5329, 'beliefs': 5330, 'cramped': 5331, 'weigh': 5332, 'female': 5333, 'capitals': 5334, 'publication': 5335, 'timed': 5336, 'coincide': 5337, 'seventy': 5338, 'misses': 5339, 'ambiguities': 5340, 'senses': 5341, 'slamming': 5342, 'thoughtful': 5343, 'microwave': 5344, 'comics': 5345, 'toothpaste': 5346, 'engagement': 5347, 'madman': 5348, 'frequent': 5349, 'progressing': 5350, 'abstained': 5351, 'invite': 5352, 'shoebox': 5353, 'capable': 5354, '40': 5355, 'scarf': 5356, 'interrupted': 5357, 'jet': 5358, 'landed': 5359, 'fourth': 5360, 'rats': 5361, 'simply': 5362, 'divine': 5363, 'spilt': 5364, 'wasting': 5365, 'underwater': 5366, 'survivors': 5367, 'topic': 5368, 'poker': 5369, 'drum': 5370, 'self-service': 5371, 'in-laws': 5372, 'bridges': 5373, 'ten-thirty': 5374, 'narrowly': 5375, 'handing': 5376, 'blocked': 5377, 'landslide': 5378, 'fireplace': 5379, 'developed': 5380, 'tool': 5381, 'drugstore': 5382, 'brazen': 5383, 'defiance': 5384, 'perform': 5385, 'educated': 5386, 'stroganoff': 5387, 'containers': 5388, 'airtight': 5389, 'universities': 5390, 'fast-moving': 5391, 'policemen': 5392, 'intruded': 5393, '1,600': 5394, 'retiring': 5395, '19th': 5396, 'loaves': 5397, 'alice': 5398, 'bible': 5399, 'priest': 5400, 'timetable': 5401, 'unlock': 5402, 'bribes': 5403, 'highway': 5404, '58': 5405, 'admired': 5406, 'non-smoking': 5407, 'violated': 5408, 'sour': 5409, 'stocks': 5410, 'germanic': 5411, 'lad': 5412, 'stack': 5413, 'political': 5414, 'career': 5415, 'capture': 5416, 'over-sleeping': 5417, 'spared': 5418, 'pains': 5419, 'annoyed': 5420, 'noises': 5421, 'rugby': 5422, 'differs': 5423, 'washington': 5424, 'drowsy': 5425, 'awarded': 5426, 'online': 5427, 'utterly': 5428, 'joints': 5429, 'extremes': 5430, 'satisfactory': 5431, 'accomplished': 5432, 'deposit': 5433, 'extreme': 5434, 'remind': 5435, 'nagasaki': 5436, 'youngsters': 5437, 'thirty-one': 5438, 'liking': 5439, 'strict': 5440, 'catching': 5441, 'cycling': 5442, 'short-sleeved': 5443, 'shirts': 5444, 'sailing': 5445, 'weekends': 5446, 'confidential': 5447, 'conceal': 5448, 'disappointment': 5449, 'proceed': 5450, 'agenda': 5451, '56': 5452, 'russell': 5453, 'welfare': 5454, 'sewage': 5455, 'pollutes': 5456, 'loser': 5457, 'statues': 5458, 'stopover': 5459, 'warrior': 5460, 'weakness': 5461, 'stage': 5462, 'roller': 5463, 'skates': 5464, 'occurred': 5465, 'deciding': 5466, 'sleeve': 5467, 'accomplish': 5468, 'spilling': 5469, 'phrase': 5470, 'wealthy': 5471, 'modest': 5472, 'hawk': 5473, 'mouse': 5474, 'ceases': 5475, 'parrot': 5476, 'pet': 5477, 'cupcakes': 5478, 'ties': 5479, 'boarding': 5480, 'execution': 5481, 'eleventh': 5482, 'artist': 5483, 'calculated': 5484, 'opposition': 5485, 'springs': 5486, 'schoolroom': 5487, 'absence': 5488, 'fonder': 5489, 'field': 5490, 'educational': 5491, 'foster': 5492, 'UNK': 0, 'PAD': 1}\n",
      "5493\n"
     ]
    }
   ],
   "source": [
    "print(en_dict)\n",
    "print(en_total_words)\n"
   ]
  },
  {
   "cell_type": "code",
   "execution_count": 0,
   "metadata": {
    "colab": {
     "base_uri": "https://localhost:8080/",
     "height": 72
    },
    "colab_type": "code",
    "collapsed": true,
    "id": "B96_o-4xnBAa",
    "outputId": "f2241a53-8b2a-4cca-f8d9-31104f22d493"
   },
   "outputs": [
    {
     "name": "stdout",
     "output_type": "stream",
     "text": [
      "{'BOS': 2, 'EOS': 3, '。': 4, '我': 5, '的': 6, '了': 7, '你': 8, '他': 9, '是': 10, '一': 11, '在': 12, '不': 13, '？': 14, '有': 15, '她': 16, '這': 17, '很': 18, '姆': 19, '，': 20, '要': 21, '人': 22, '天': 23, '們': 24, '個': 25, '去': 26, '到': 27, '这': 28, '汤': 29, '上': 30, '们': 31, '个': 32, '什': 33, '好': 34, '想': 35, '那': 36, '嗎': 37, '子': 38, '能': 39, '么': 40, '看': 41, '得': 42, '做': 43, '會': 44, '多': 45, '下': 46, '生': 47, '吗': 48, '以': 49, '裡': 50, '大': 51, '來': 52, '可': 53, '麼': 54, '会': 55, '道': 56, '都': 57, '来': 58, '没': 59, '喜': 60, '把': 61, '家': 62, '知': 63, '?': 64, '事': 65, '就': 66, '起': 67, '说': 68, '本': 69, '作': 70, '沒': 71, '时': 72, '为': 73, '常': 74, '里': 75, '車': 76, '為': 77, '意': 78, '打': 79, '年': 80, '和': 81, '時': 82, '地': 83, '自': 84, '說': 85, '吃': 86, '用': 87, '成': 88, '出': 89, '工': 90, '日': 91, '些': 92, '法': 93, '孩': 94, '給': 95, '學': 96, '明': 97, '晚': 98, '點': 99, '前': 100, '今': 101, '最': 102, '英': 103, '開': 104, '小': 105, '中': 106, '信': 107, '請': 108, '学': 109, '回': 110, '哪': 111, '候': 112, '行': 113, '真': 114, '所': 115, '歡': 116, '房': 117, '對': 118, '告': 119, '它': 120, '跟': 121, '给': 122, '過': 123, '点': 124, '被': 125, '比': 126, '车': 127, '每': 128, '語': 129, '正': 130, '昨': 131, '早': 132, '何': 133, '欢': 134, '書': 135, '相': 136, '果': 137, '过': 138, '父': 139, '高': 140, '必': 141, '太': 142, '着': 143, '快': 144, '对': 145, '儿': 146, '心': 147, '公': 148, '您': 149, '如': 150, '再': 151, '手': 152, '开': 153, '已': 154, '住': 155, '该': 156, '非': 157, '美': 158, '湯': 159, '球': 160, '任': 161, '定': 162, '丽': 163, '感': 164, '該': 165, '0': 166, '花': 167, '十': 168, '走': 169, '間': 170, 'o': 171, '怎': 172, '名': 173, '西': 174, '玛': 175, '女': 176, '让': 177, '望': 178, '讓': 179, '經': 180, '友': 181, '老': 182, '面': 183, '间': 184, '语': 185, '話': 186, '发': 187, '需': 188, '完': 189, '见': 190, '著': 191, '问': 192, '话': 193, '火': 194, '次': 195, '應': 196, '親': 197, '只': 198, '男': 199, '母': 200, '力': 201, '书': 202, '見': 203, '己': 204, '也': 205, '现': 206, '期': 207, '電': 208, '問': 209, '物': 210, '认': 211, '朋': 212, '加': 213, 'T': 214, '还': 215, '士': 216, '從': 217, '三': 218, '之': 219, '同': 220, '！': 221, '照': 222, '現': 223, '音': 224, 'm': 225, ' ': 226, '样': 227, '受': 228, '找': 229, '新': 230, '外': 231, '方': 232, '国': 233, '理': 234, '分': 235, '機': 236, '少': 237, '但': 238, '等': 239, '水': 240, '雨': 241, '放': 242, '从': 243, '發': 244, '始': 245, '字': 246, '更': 247, '解': 248, '校': 249, '國': 250, '游': 251, '東': 252, '情': 253, '希': 254, '星': 255, '長': 256, '吧': 257, '全': 258, '像': 259, '幫': 260, '觉': 261, '经': 262, '認': 263, '应': 264, '聽': 265, '直': 266, '後': 267, '狗': 268, '待': 269, '电': 270, '重': 271, '於': 272, '無': 273, '别': 274, '餐': 275, '睡': 276, '喝': 277, '请': 278, '午': 279, '文': 280, '1': 281, '服': 282, '玩': 283, '钱': 284, '月': 285, '路': 286, '錢': 287, '于': 288, '樣': 289, '通': 290, '站': 291, '弟': 292, '诉': 293, '件': 294, '后': 295, '活': 296, '爸': 297, '婚': 298, '當': 299, '教': 300, '將': 301, '助': 302, '妹': 303, '色': 304, '近': 305, '然': 306, '讀': 307, '題': 308, '听': 309, '忙': 310, '位': 311, '步': 312, '衣': 313, '因': 314, '泳': 315, '谁': 316, '笑': 317, '買': 318, ',': 319, '還': 320, '穿': 321, '久': 322, '帮': 323, '幾': 324, '班': 325, '鐘': 326, '周': 327, '氣': 328, '兒': 329, '兩': 330, '白': 331, '覺': 332, '趣': 333, '樂': 334, '利': 335, '叔': 336, '收': 337, '题': 338, '旅': 339, '亲': 340, '拿': 341, '死': 342, '买': 343, '失': 344, '气': 345, '提': 346, '乎': 347, '須': 348, '机': 349, '接': 350, '功': 351, '叫': 352, '息': 353, '總': 354, '言': 355, '安': 356, '場': 357, '而': 358, '離': 359, '试': 360, '怕': 361, '床': 362, '无': 363, '向': 364, '錯': 365, '口': 366, '寫': 367, '酒': 368, '桌': 369, '愛': 370, '考': 371, '市': 372, '五': 373, '眼': 374, '訴': 375, '习': 376, '保': 377, '片': 378, '歌': 379, '留': 380, '建': 381, '六': 382, '交': 383, '世': 384, '空': 385, '計': 386, '容': 387, '山': 388, '主': 389, '读': 390, '表': 391, '哥': 392, '週': 393, '關': 394, '雪': 395, '两': 396, '海': 397, '帶': 398, '关': 399, '包': 400, '故': 401, '长': 402, '足': 403, '第': 404, '坐': 405, '身': 406, '饭': 407, '媽': 408, '麗': 409, '京': 410, '警': 411, '入': 412, '醫': 413, '門': 414, '当': 415, '習': 416, '错': 417, '部': 418, '別': 419, '議': 420, '几': 421, '易': 422, '停': 423, '派': 424, '合': 425, '隻': 426, '洗': 427, '消': 428, '难': 429, '師': 430, '度': 431, '思': 432, '“': 433, '\"': 434, '除': 435, '答': 436, '谢': 437, '整': 438, '”': 439, '份': 440, '跑': 441, '元': 442, '咖': 443, '借': 444, '張': 445, '河': 446, '爱': 447, '病': 448, '影': 449, '啡': 450, '亮': 451, '園': 452, '清': 453, '其': 454, '進': 455, '写': 456, '东': 457, '流': 458, '使': 459, '者': 460, '結': 461, '唱': 462, '琴': 463, '种': 464, '算': 465, '兴': 466, '目': 467, '程': 468, '立': 469, '決': 470, '由': 471, '进': 472, '飯': 473, '门': 474, '记': 475, '努': 476, '动': 477, '呢': 478, '实': 479, '票': 480, '妈': 481, '条': 482, '許': 483, '冷': 484, '巴': 485, '持': 486, '難': 487, '须': 488, '棒': 489, '将': 490, '館': 491, '离': 492, '瑪': 493, '誰': 494, '忘': 495, '抱': 496, '许': 497, '波': 498, '决': 499, '乐': 500, '假': 501, '謝': 502, '姐': 503, '总': 504, '二': 505, '健': 506, '害': 507, '2': 508, '城': 509, '结': 510, '食': 511, '金': 512, '曾': 513, '司': 514, '頭': 515, '哭': 516, '往': 517, '医': 518, '议': 519, '輕': 520, '記': 521, '切': 522, '種': 523, '牛': 524, '敦': 525, '论': 526, '座': 527, '5': 528, '休': 529, '谈': 530, '彈': 531, '准': 532, '店': 533, '台': 534, '漂': 535, '輛': 536, '视': 537, '犯': 538, '洲': 539, '邊': 540, '奶': 541, '康': 542, '業': 543, '室': 544, '才': 545, '确': 546, '师': 547, '杯': 548, '院': 549, '興': 550, '歉': 551, '兄': 552, '鞋': 553, '試': 554, '界': 555, '遠': 556, '遲': 557, '識': 558, '條': 559, '支': 560, '封': 561, '富': 562, '顿': 563, '裝': 564, '掉': 565, '送': 566, '動': 567, '蛋': 568, '尽': 569, '图': 570, '求': 571, '搭': 572, '黑': 573, '飛': 574, '此': 575, '否': 576, '首': 577, '並': 578, '察': 579, '視': 580, '带': 581, '願': 582, '典': 583, '场': 584, '演': 585, '聲': 586, '鋼': 587, '確': 588, '平': 589, '危': 590, '散': 591, '礼': 592, '參': 593, '網': 594, '指': 595, '禮': 596, '头': 597, '数': 598, '偷': 599, '取': 600, '付': 601, '痛': 602, '達': 603, '岁': 604, '窗': 605, '系': 606, 'a': 607, '边': 608, '原': 609, '半': 610, '马': 611, '干': 612, '管': 613, '馬': 614, '單': 615, '处': 616, '笔': 617, '遇': 618, '便': 619, '报': 620, '永': 621, '识': 622, '懂': 623, '麻': 624, '費': 625, '箱': 626, '筆': 627, '附': 628, '光': 629, '抓': 630, '約': 631, '命': 632, '量': 633, '远': 634, '根': 635, '吸': 636, '特': 637, '止': 638, '夫': 639, '轻': 640, '变': 641, '约': 642, '講': 643, '8': 644, '乘': 645, '够': 646, '四': 647, '注': 648, '慢': 649, '劃': 650, '油': 651, '式': 652, '蘋': 653, '惊': 654, '倒': 655, '张': 656, '右': 657, '累': 658, '刻': 659, '至': 660, '滿': 661, '誤': 662, '糕': 663, '业': 664, '9': 665, '變': 666, '屋': 667, '風': 668, '园': 669, '介': 670, '隨': 671, '實': 672, '幸': 673, '反': 674, '圖': 675, '造': 676, '獨': 677, '課': 678, '差': 679, '勝': 680, '啊': 681, '汽': 682, '科': 683, '备': 684, '拍': 685, '值': 686, '计': 687, '擅': 688, '承': 689, '北': 690, '辦': 691, '運': 692, '準': 693, '歲': 694, '风': 695, '先': 696, '体': 697, '似': 698, '员': 699, '畫': 700, '免': 701, '3': 702, '续': 703, '代': 704, '剛': 705, '茶': 706, '弄': 707, '選': 708, '客': 709, '落': 710, '夏': 711, '料': 712, '查': 713, '寄': 714, '夠': 715, '修': 716, '顧': 717, '八': 718, '席': 719, '睛': 720, '員': 721, '格': 722, '网': 723, '拉': 724, '存': 725, '牙': 726, '堂': 727, '担': 728, '福': 729, '數': 730, '盡': 731, '冰': 732, '奇': 733, '辆': 734, '参': 735, '伤': 736, '性': 737, '深': 738, '菜': 739, '架': 740, '讨': 741, '處': 742, '論': 743, '祖': 744, '船': 745, '又': 746, '朵': 747, '费': 748, '險': 749, '象': 750, '烟': 751, '夜': 752, '味': 753, '跳': 754, '密': 755, '改': 756, '具': 757, '鱼': 758, '九': 759, '冒': 760, '拒': 761, '继': 762, '热': 763, 'e': 764, '6': 765, '賽': 766, '或': 767, '伦': 768, '擔': 769, '品': 770, '帽': 771, '黎': 772, '馆': 773, '迟': 774, '德': 775, '倫': 776, '困': 777, '靠': 778, '七': 779, '声': 780, '守': 781, '爾': 782, '熱': 783, '套': 784, '刚': 785, '戒': 786, '汁': 787, '器': 788, '制': 789, '讲': 790, '克': 791, '运': 792, '邀': 793, '逃': 794, '共': 795, '句': 796, '商': 797, '单': 798, '超': 799, '板': 800, '底': 801, '绝': 802, '談': 803, '煩': 804, '7': 805, '洋': 806, '報': 807, '坏': 808, '微': 809, '满': 810, '险': 811, '缺': 812, '節': 813, '林': 814, '旁': 815, '戶': 816, '紅': 817, '左': 818, '钟': 819, '石': 820, '忍': 821, '聊': 822, '楚': 823, '猫': 824, '树': 825, '碰': 826, '舞': 827, '价': 828, '斯': 829, '敢': 830, '匙': 831, '急': 832, '偶': 833, '越': 834, '怪': 835, '治': 836, '續': 837, '號': 838, '4': 839, '靜': 840, '选': 841, '达': 842, '訂': 843, '末': 844, '髮': 845, '街': 846, '划': 847, '令': 848, '野': 849, '案': 850, '遊': 851, '樓': 852, '卡': 853, '魚': 854, '聚': 855, '课': 856, '湖': 857, '神': 858, '秘': 859, '百': 860, '較': 861, '瓶': 862, '护': 863, '糟': 864, '充': 865, '吉': 866, '肯': 867, '纸': 868, '貌': 869, '娃': 870, '政': 871, '愿': 872, '虑': 873, '錶': 874, 'c': 875, '责': 876, '體': 877, '椅': 878, '價': 879, '駛': 880, '按': 881, '王': 882, '依': 883, '宝': 884, '棟': 885, '误': 886, '煙': 887, '迷': 888, '恐': 889, '及': 890, '束': 891, '裙': 892, '画': 893, '木': 894, '呼': 895, '办': 896, '妻': 897, '念': 898, '肉': 899, '與': 900, '備': 901, '苹': 902, '短': 903, '呆': 904, '律': 905, '斷': 906, '姊': 907, '駕': 908, '词': 909, '低': 910, '袋': 911, '威': 912, '抽': 913, 'M': 914, 'r': 915, '罪': 916, '飞': 917, '供': 918, '觀': 919, '暴': 920, '转': 921, '廚': 922, '排': 923, '郵': 924, '千': 925, '并': 926, '傷': 927, '址': 928, '银': 929, '唯': 930, '厌': 931, '谎': 932, '樹': 933, '精': 934, '退': 935, '醒': 936, '惯': 937, '耐': 938, '鬼': 939, '溫': 940, '愉': 941, '鬆': 942, '暖': 943, '頓': 944, '迎': 945, '阿': 946, '內': 947, '陽': 948, '脑': 949, '橙': 950, '救': 951, '尔': 952, '務': 953, '示': 954, '滑': 955, '万': 956, '疑': 957, '布': 958, '印': 959, '紀': 960, '红': 961, '暗': 962, '松': 963, '登': 964, '钢': 965, '預': 966, '澳': 967, '拜': 968, '!': 969, '姑': 970, 'F': 971, '烦': 972, '戴': 973, '集': 974, '澡': 975, '甚': 976, '另': 977, '复': 978, '倦': 979, '紧': 980, 'y': 981, '祝': 982, '帳': 983, 'b': 984, '争': 985, '繼': 986, '独': 987, '適': 988, '職': 989, '投': 990, '煮': 991, '终': 992, '毛': 993, '紙': 994, '号': 995, '居': 996, '类': 997, '丢': 998, '震': 999, '况': 1000, '节': 1001, '社': 1002, '舉': 1003, '局': 1004, '翻': 1005, 'k': 1006, '爬': 1007, '速': 1008, '舒': 1009, '亚': 1010, '熟': 1011, '燈': 1012, '轉': 1013, '伙': 1014, '育': 1015, '负': 1016, '鸟': 1017, 'C': 1018, '控': 1019, '允': 1020, '讶': 1021, '巧': 1022, '博': 1023, '葡': 1024, '萄': 1025, '租': 1026, '强': 1027, '耳': 1028, '誕': 1029, '破': 1030, '义': 1031, '队': 1032, '顾': 1033, '鳥': 1034, '扔': 1035, '证': 1036, '貓': 1037, '且': 1038, '沙': 1039, '嬰': 1040, '絕': 1041, '致': 1042, '善': 1043, '型': 1044, '隊': 1045, '聪': 1046, '史': 1047, '梦': 1048, '联': 1049, '批': 1050, '醉': 1051, '浪': 1052, '贏': 1053, '私': 1054, '赶': 1055, '良': 1056, '厭': 1057, '蠢': 1058, '擊': 1059, '楼': 1060, '饿': 1061, '柳': 1062, '盒': 1063, '啤': 1064, '慣': 1065, '聖': 1066, '腳': 1067, '换': 1068, '装': 1069, '镜': 1070, '冬': 1071, '化': 1072, '即': 1073, '噪': 1074, '升': 1075, '区': 1076, '默': 1077, '漆': 1078, '強': 1079, '李': 1080, '赢': 1081, '傻': 1082, '响': 1083, '各': 1084, '曲': 1085, '景': 1086, '訪': 1087, '藥': 1088, '苦': 1089, '推': 1090, '邮': 1091, '丈': 1092, '忠': 1093, '季': 1094, '背': 1095, '阅': 1096, '未': 1097, '术': 1098, '遍': 1099, '倍': 1100, '義': 1101, '壞': 1102, '烧': 1103, '設': 1104, '玫': 1105, '瑰': 1106, '畢': 1107, '響': 1108, '據': 1109, '怨': 1110, '静': 1111, '草': 1112, '某': 1113, '憾': 1114, '与': 1115, '寧': 1116, '闭': 1117, '線': 1118, '庭': 1119, '战': 1120, '遞': 1121, '羞': 1122, '款': 1123, '养': 1124, '則': 1125, '簡': 1126, '铅': 1127, '纪': 1128, '燒': 1129, '驗': 1130, '驚': 1131, '际': 1132, '古': 1133, '突': 1134, '产': 1135, '緊': 1136, '捕': 1137, '举': 1138, '列': 1139, '撞': 1140, '諾': 1141, '群': 1142, '毫': 1143, '區': 1144, '伴': 1145, '释': 1146, '萬': 1147, '遵': 1148, '预': 1149, '米': 1150, '形': 1151, '旧': 1152, '访': 1153, '殺': 1154, '炸': 1155, '内': 1156, '灯': 1157, '衫': 1158, '土': 1159, '阻': 1160, '段': 1161, '雷': 1162, '顯': 1163, '伞': 1164, '幅': 1165, '零': 1166, '药': 1167, '播': 1168, '藏': 1169, '池': 1170, '握': 1171, '展': 1172, '飲': 1173, '俱': 1174, '傘': 1175, '沉': 1176, '极': 1177, '设': 1178, '角': 1179, '腿': 1180, '疯': 1181, '民': 1182, '奏': 1183, '移': 1184, '售': 1185, 'D': 1186, '嘴': 1187, '猜': 1188, '災': 1189, '村': 1190, '评': 1191, '双': 1192, '领': 1193, '勇': 1194, '刮': 1195, '搬': 1196, '鉛': 1197, '简': 1198, '避': 1199, '弹': 1200, '雜': 1201, '卖': 1202, '统': 1203, '赛': 1204, '夢': 1205, '嫁': 1206, '规': 1207, '戲': 1208, '掛': 1209, '閱': 1210, '吹': 1211, '延': 1212, '鎖': 1213, '灰': 1214, '航': 1215, '哈': 1216, '責': 1217, '胃': 1218, '癌': 1219, '禁': 1220, '碼': 1221, '州': 1222, '职': 1223, '益': 1224, '折': 1225, '究': 1226, '观': 1227, '刀': 1228, '肩': 1229, '廣': 1230, '聞': 1231, '顆': 1232, '渴': 1233, '蓝': 1234, '丟': 1235, '蘭': 1236, '鹽': 1237, '欠': 1238, '脸': 1239, '陌': 1240, '雙': 1241, '粗': 1242, '仅': 1243, '途': 1244, '餓': 1245, '户': 1246, '钥': 1247, '项': 1248, '孤': 1249, '蓋': 1250, '仍': 1251, '連': 1252, '盯': 1253, '賣': 1254, '脚': 1255, '概': 1256, '欧': 1257, '乾': 1258, '踢': 1259, '适': 1260, '兵': 1261, '碗': 1262, '智': 1263, '鏡': 1264, '纽': 1265, '墙': 1266, '寒': 1267, '慮': 1268, '廳': 1269, '粉': 1270, '胡': 1271, '引': 1272, '戰': 1273, '爭': 1274, '务': 1275, '败': 1276, '狸': 1277, '姨': 1278, '增': 1279, '證': 1280, '彼': 1281, '換': 1282, '乏': 1283, '輪': 1284, '羅': 1285, '況': 1286, '研': 1287, '属': 1288, '趕': 1289, '濕': 1290, '春': 1291, '赞': 1292, '傲': 1293, '遺': 1294, '基': 1295, '腦': 1296, '俄': 1297, '诺': 1298, '紐': 1299, '脫': 1300, '检': 1301, '拥': 1302, '籃': 1303, '紹': 1304, '釋': 1305, '終': 1306, '橋': 1307, '譯': 1308, '香': 1309, '血': 1310, '敲': 1311, '圍': 1312, '激': 1313, '討': 1314, '擇': 1315, '逮': 1316, '麵': 1317, '棄': 1318, '薩': 1319, '胜': 1320, '歷': 1321, '传': 1322, '互': 1323, '調': 1324, '钓': 1325, '朝': 1326, '玻': 1327, '璃': 1328, '含': 1329, '咬': 1330, '扰': 1331, '宜': 1332, '牆': 1333, '初': 1334, '臂': 1335, '牌': 1336, '志': 1337, '、': 1338, '替': 1339, '獲': 1340, '舊': 1341, '亞': 1342, '码': 1343, '刷': 1344, '隔': 1345, '甜': 1346, '漸': 1347, '塊': 1348, '盖': 1349, '驾': 1350, '鸡': 1351, '狐': 1352, '抵': 1353, '猴': 1354, '衬': 1355, '吵': 1356, '溜': 1357, '\\u200b': 1358, '权': 1359, '减': 1360, '尝': 1361, '項': 1362, '踏': 1363, '胎': 1364, '招': 1365, '訊': 1366, '屬': 1367, '辞': 1368, '遗': 1369, '露': 1370, '择': 1371, '版': 1372, '際': 1373, '辛': 1374, '府': 1375, '資': 1376, '验': 1377, '罗': 1378, '養': 1379, '飽': 1380, '置': 1381, '烈': 1382, '调': 1383, '骑': 1384, '載': 1385, '固': 1386, '章': 1387, '坚': 1388, '吓': 1389, '鑰': 1390, '顶': 1391, '历': 1392, '探': 1393, '矮': 1394, '辭': 1395, '簽': 1396, '豪': 1397, '官': 1398, '騎': 1399, '：': 1400, '洞': 1401, '愚': 1402, '棵': 1403, '浴': 1404, '仔': 1405, '謊': 1406, '貝': 1407, '染': 1408, '嗜': 1409, '製': 1410, '漫': 1411, '藝': 1412, '蔬': 1413, '導': 1414, '執': 1415, '阪': 1416, '童': 1417, '逐': 1418, '瑞': 1419, '詩': 1420, '筑': 1421, '雞': 1422, '众': 1423, '鈕': 1424, '裁': 1425, '攝': 1426, '堡': 1427, 'h': 1428, '負': 1429, '頂': 1430, '环': 1431, '锁': 1432, '稍': 1433, '術': 1434, '顏': 1435, '悲': 1436, '檢': 1437, '壓': 1438, '碎': 1439, '嚴': 1440, '毯': 1441, '禍': 1442, '称': 1443, '瓜': 1444, '鄰': 1445, '蛇': 1446, '誠': 1447, '爆': 1448, '军': 1449, '迫': 1450, '菸': 1451, '籍': 1452, '妒': 1453, '優': 1454, '块': 1455, '復': 1456, '鐵': 1457, '尊': 1458, '賺': 1459, '资': 1460, '皮': 1461, '測': 1462, '唸': 1463, '尋': 1464, '窮': 1465, '态': 1466, '怀': 1467, '测': 1468, '连': 1469, '胖': 1470, '龄': 1471, '伯': 1472, '悔': 1473, '授': 1474, '镇': 1475, '掃': 1476, '尼': 1477, '弃': 1478, '壽': 1479, '眾': 1480, '敗': 1481, '胞': 1482, '击': 1483, '估': 1484, '敏': 1485, '申': 1486, '練': 1487, '模': 1488, '嘲': 1489, '佛': 1490, '覆': 1491, '杀': 1492, '獎': 1493, '严': 1494, '綠': 1495, '悉': 1496, '境': 1497, '森': 1498, '委': 1499, '贵': 1500, '槍': 1501, '显': 1502, '購': 1503, '塵': 1504, '肥': 1505, '鄉': 1506, '晨': 1507, '躺': 1508, '類': 1509, '既': 1510, '苍': 1511, '悄': 1512, '釣': 1513, 'i': 1514, '竟': 1515, '尺': 1516, '寸': 1517, '盛': 1518, '損': 1519, '遭': 1520, '厨': 1521, '農': 1522, '寿': 1523, '產': 1524, '摔': 1525, '扫': 1526, '褲': 1527, '嫉': 1528, '棋': 1529, '炎': 1530, '搞': 1531, '秀': 1532, '齡': 1533, '欲': 1534, '護': 1535, '湿': 1536, '插': 1537, '羊': 1538, '南': 1539, '搖': 1540, '閉': 1541, 'I': 1542, '訝': 1543, '勤': 1544, '专': 1545, '劇': 1546, '广': 1547, 't': 1548, '忽': 1549, '冊': 1550, '率': 1551, '随': 1552, '環': 1553, '导': 1554, '临': 1555, '係': 1556, '艺': 1557, '雲': 1558, '符': 1559, '欣': 1560, '膝': 1561, '骗': 1562, '圓': 1563, '暑': 1564, '武': 1565, '撒': 1566, '惹': 1567, '障': 1568, '寓': 1569, '伸': 1570, '省': 1571, '田': 1572, '温': 1573, '穷': 1574, '跌': 1575, '爺': 1576, '亡': 1577, '芝': 1578, '規': 1579, '臉': 1580, '卧': 1581, '族': 1582, '降': 1583, '据': 1584, '惑': 1585, '誌': 1586, '聰': 1587, '鲜': 1588, '顺': 1589, '膀': 1590, '銀': 1591, '匹': 1592, '鎮': 1593, '袜': 1594, '營': 1595, '歐': 1596, '剪': 1597, '巨': 1598, '鼓': 1599, '臥': 1600, '藍': 1601, '愈': 1602, '滩': 1603, '耍': 1604, '谅': 1605, '鬍': 1606, '姓': 1607, '喊': 1608, '酸': 1609, '予': 1610, '侵': 1611, '围': 1612, '享': 1613, '稱': 1614, '济': 1615, '朗': 1616, '怒': 1617, '懷': 1618, '壁': 1619, '績': 1620, '则': 1621, '射': 1622, '普': 1623, '脏': 1624, '裹': 1625, '淋': 1626, '删': 1627, '透': 1628, '营': 1629, '專': 1630, '盐': 1631, '厚': 1632, '积': 1633, '雄': 1634, '恋': 1635, '废': 1636, '寻': 1637, '级': 1638, '貼': 1639, '厂': 1640, '乡': 1641, '黄': 1642, '榮': 1643, '闲': 1644, '夷': 1645, '桃': 1646, '陷': 1647, '慕': 1648, '敌': 1649, '烤': 1650, '塔': 1651, '驶': 1652, '源': 1653, '宿': 1654, '泡': 1655, '財': 1656, '欺': 1657, '蒼': 1658, '标': 1659, '嘿': 1660, '彩': 1661, '擦': 1662, '魂': 1663, '症': 1664, '麦': 1665, '兰': 1666, '隱': 1667, '执': 1668, '洪': 1669, '迅': 1670, '央': 1671, '般': 1672, '賞': 1673, '艘': 1674, '效': 1675, '闻': 1676, '闹': 1677, '翰': 1678, '迪': 1679, '戚': 1680, '尾': 1681, '傳': 1682, '糊': 1683, '污': 1684, '脾': 1685, '压': 1686, '恨': 1687, '幽': 1688, '鈴': 1689, '桶': 1690, '滾': 1691, '译': 1692, '例': 1693, '細': 1694, '脱': 1695, '厲': 1696, '違': 1697, '牢': 1698, '盤': 1699, '臨': 1700, '材': 1701, '挂': 1702, '企': 1703, '夾': 1704, '擠': 1705, '額': 1706, '領': 1707, '股': 1708, '欄': 1709, '较': 1710, '嘛': 1711, '箏': 1712, '订': 1713, '优': 1714, '敵': 1715, '餅': 1716, '补': 1717, '毀': 1718, '瘋': 1719, '细': 1720, '戏': 1721, '辣': 1722, '盲': 1723, '隐': 1724, '杂': 1725, '級': 1726, '辨': 1727, '烹': 1728, '娶': 1729, '虚': 1730, '弱': 1731, '线': 1732, '冲': 1733, '繩': 1734, '占': 1735, '枪': 1736, '莎': 1737, '柴': 1738, '泣': 1739, 'A': 1740, '兔': 1741, '矩': 1742, '归': 1743, '销': 1744, '塞': 1745, '邻': 1746, '披': 1747, '帝': 1748, '豆': 1749, '乳': 1750, '腰': 1751, '疼': 1752, '潮': 1753, '岛': 1754, '貴': 1755, '素': 1756, '毒': 1757, '堵': 1758, '莓': 1759, '端': 1760, '恢': 1761, '飢': 1762, '伏': 1763, '襲': 1764, '栋': 1765, '磁': 1766, '奖': 1767, '肺': 1768, '兼': 1769, '涉': 1770, '疲': 1771, '泪': 1772, '摸': 1773, '摘': 1774, '恶': 1775, '帕': 1776, '骄': 1777, '购': 1778, '绿': 1779, '帘': 1780, '灘': 1781, '辜': 1782, '断': 1783, '弊': 1784, '陪': 1785, '拐': 1786, '壯': 1787, '煤': 1788, '履': 1789, '签': 1790, '糖': 1791, '擾': 1792, '敬': 1793, '塑': 1794, '盘': 1795, '鬧': 1796, '婆': 1797, '騙': 1798, 'O': 1799, 'B': 1800, '屈': 1801, '慰': 1802, '鬱': 1803, '灵': 1804, '孕': 1805, '坦': 1806, '卻': 1807, '胆': 1808, '旗': 1809, '颜': 1810, '伟': 1811, '摇': 1812, '咱': 1813, '豐': 1814, '掌': 1815, '碟': 1816, '酬': 1817, '庫': 1818, '蘇': 1819, '液': 1820, '迹': 1821, '葬': 1822, '鲁': 1823, '圆': 1824, '塘': 1825, '青': 1826, '蛙': 1827, '哲': 1828, '懒': 1829, '軍': 1830, '硬': 1831, '組': 1832, '勸': 1833, '惧': 1834, '判': 1835, '扇': 1836, '酷': 1837, '拼': 1838, '吻': 1839, '祸': 1840, '麥': 1841, '躲': 1842, '團': 1843, '眠': 1844, '贝': 1845, '患': 1846, '董': 1847, '鋪': 1848, '淹': 1849, '幻': 1850, '览': 1851, '秋': 1852, '坡': 1853, '摩': 1854, '托': 1855, '態': 1856, '融': 1857, '晴': 1858, '烛': 1859, '賭': 1860, '燃': 1861, '闖': 1862, '绑': 1863, '襯': 1864, '墨': 1865, '偉': 1866, '阳': 1867, '奮': 1868, '嚇': 1869, '廠': 1870, '柵': 1871, '耻': 1872, '（': 1873, '舅': 1874, '）': 1875, '梨': 1876, '莉': 1877, '摧': 1878, '爵': 1879, '货': 1880, '凉': 1881, '錄': 1882, '伍': 1883, '组': 1884, '岸': 1885, '净': 1886, '账': 1887, '裕': 1888, '懲': 1889, '罰': 1890, '剩': 1891, '撫': 1892, '拆': 1893, '淨': 1894, '毕': 1895, '繫': 1896, '質': 1897, '填': 1898, '诗': 1899, '云': 1900, '铁': 1901, '防': 1902, '鮮': 1903, '踪': 1904, '忆': 1905, '井': 1906, '携': 1907, '「': 1908, '」': 1909, '胳': 1910, '膊': 1911, '賴': 1912, '.': 1913, '萨': 1914, '淡': 1915, '财': 1916, '鼠': 1917, '聯': 1918, '惜': 1919, '泰': 1920, '怖': 1921, '磅': 1922, '恥': 1923, '序': 1924, '嗨': 1925, '距': 1926, '華': 1927, '攻': 1928, '域': 1929, '奋': 1930, '赴': 1931, '勢': 1932, '統': 1933, '厅': 1934, '櫃': 1935, '維': 1936, '爷': 1937, '氏': 1938, '撕': 1939, '毁': 1940, '桥': 1941, '＂': 1942, '極': 1943, '沿': 1944, '婴': 1945, '薪': 1946, '抗': 1947, '酪': 1948, '譽': 1949, '標': 1950, '蜂': 1951, '搅': 1952, '漢': 1953, 's': 1954, '挾': 1955, '僵': 1956, '衛': 1957, '繞': 1958, '疗': 1959, '憶': 1960, '卫': 1961, '咳': 1962, '爛': 1963, '裏': 1964, '横': 1965, '嚐': 1966, '针': 1967, '递': 1968, '澆': 1969, '壳': 1970, '膽': 1971, '攜': 1972, '吼': 1973, '雅': 1974, '偏': 1975, '施': 1976, '幼': 1977, '劳': 1978, '配': 1979, '郊': 1980, '辯': 1981, '阱': 1982, '彎': 1983, '豫': 1984, '姻': 1985, '状': 1986, '歧': 1987, '枝': 1988, '叮': 1989, '植': 1990, '逆': 1991, '凡': 1992, '炒': 1993, 'K': 1994, '減': 1995, '农': 1996, '評': 1997, '輸': 1998, '债': 1999, '庆': 2000, '鑽': 2001, '均': 2002, '虫': 2003, '瓦': 2004, '盗': 2005, '伊': 2006, '扣': 2007, '寂': 2008, '齿': 2009, '若': 2010, '寺': 2011, '绳': 2012, '滚': 2013, '艰': 2014, '梳': 2015, '港': 2016, '墓': 2017, '閒': 2018, '混': 2019, '册': 2020, '跡': 2021, '追': 2022, '缸': 2023, '埋': 2024, '淚': 2025, '拷': 2026, '繁': 2027, '贺': 2028, '练': 2029, '刪': 2030, '宣': 2031, '泥': 2032, '甘': 2033, '慎': 2034, '饥': 2035, '協': 2036, '積': 2037, '瞭': 2038, '页': 2039, '抬': 2040, '佔': 2041, '詢': 2042, '陣': 2043, '垃': 2044, '圾': 2045, '挥': 2046, '逼': 2047, '趟': 2048, '疾': 2049, '赤': 2050, '索': 2051, '获': 2052, '却': 2053, '洽': 2054, '蜡': 2055, '寶': 2056, '誓': 2057, '擁': 2058, '颗': 2059, '芬': 2060, '篇': 2061, '采': 2062, '略': 2063, '挑': 2064, '弓': 2065, '添': 2066, '倔': 2067, '僱': 2068, '贷': 2069, '胁': 2070, '囚': 2071, '獄': 2072, '順': 2073, '瞎': 2074, '势': 2075, '儘': 2076, '輾': 2077, '狀': 2078, '喂': 2079, '魔': 2080, '辩': 2081, '畏': 2082, '撥': 2083, '搶': 2084, '劫': 2085, '莊': 2086, '拾': 2087, '挤': 2088, '監': 2089, '鲸': 2090, '皆': 2091, '飪': 2092, '詞': 2093, '啸': 2094, '惠': 2095, '斗': 2096, '捲': 2097, '稻': 2098, '华': 2099, '赏': 2100, '匆': 2101, '雖': 2102, '覽': 2103, '尘': 2104, '唐': 2105, '庙': 2106, '颱': 2107, '夥': 2108, '拘': 2109, '恭': 2110, '啜': 2111, '异': 2112, 'P': 2113, '蚊': 2114, '孔': 2115, '苏': 2116, '篮': 2117, '副': 2118, '诚': 2119, '尷': 2120, '尬': 2121, '络': 2122, '操': 2123, '膠': 2124, '扮': 2125, '策': 2126, '宾': 2127, '穩': 2128, '番': 2129, '余': 2130, '厕': 2131, '雇': 2132, '刺': 2133, '妙': 2134, '絡': 2135, '償': 2136, '簿': 2137, '罵': 2138, '蠅': 2139, '搜': 2140, '褐': 2141, '冻': 2142, '狱': 2143, '啥': 2144, '拔': 2145, '闆': 2146, '映': 2147, '笨': 2148, '複': 2149, 'J': 2150, '竊': 2151, '賊': 2152, '尚': 2153, '競': 2154, '築': 2155, '謀': 2156, '牧': 2157, '礎': 2158, '歸': 2159, '虽': 2160, '裤': 2161, '織': 2162, '奴': 2163, '冥': 2164, '卷': 2165, '茄': 2166, '餘': 2167, '梯': 2168, '島': 2169, '圣': 2170, '憂': 2171, '趁': 2172, '溪': 2173, '纯': 2174, '浓': 2175, '荒': 2176, '昔': 2177, '团': 2178, '忌': 2179, '郎': 2180, '津': 2181, '柜': 2182, '崎': 2183, '鉤': 2184, '掩': 2185, '薯': 2186, '伐': 2187, '黃': 2188, 'l': 2189, 'g': 2190, '肚': 2191, '淇': 2192, '喔': 2193, '赌': 2194, '吝': 2195, '啬': 2196, '奥': 2197, '榨': 2198, '绕': 2199, '嗽': 2200, '權': 2201, '剧': 2202, '贸': 2203, '库': 2204, '筋': 2205, '骨': 2206, '刑': 2207, '喻': 2208, '宅': 2209, '壮': 2210, '橘': 2211, '勁': 2212, '藉': 2213, '惡': 2214, '叉': 2215, '灾': 2216, '垒': 2217, '凳': 2218, '限': 2219, '翁': 2220, '抹': 2221, '蔥': 2222, '猶': 2223, '愧': 2224, '籬': 2225, '羨': 2226, '漉': 2227, '熊': 2228, '憐': 2229, '殘': 2230, '兜': 2231, '碌': 2232, '疫': 2233, '嘱': 2234, '辈': 2235, '丰': 2236, '慾': 2237, '蒜': 2238, '虎': 2239, '娘': 2240, '幹': 2241, '屉': 2242, '妇': 2243, '赚': 2244, '窃': 2245, '軌': 2246, '寞': 2247, '摆': 2248, '熬': 2249, '罕': 2250, '嫌': 2251, '幢': 2252, '襪': 2253, '叶': 2254, '饮': 2255, '霸': 2256, '哄': 2257, '葛': 2258, '巾': 2259, '祈': 2260, '征': 2261, '埃': 2262, 'U': 2263, '促': 2264, '串': 2265, '洛': 2266, '杉': 2267, '俊': 2268, '靴': 2269, '靈': 2270, '袭': 2271, '谨': 2272, '挡': 2273, '刹': 2274, '幣': 2275, '贴': 2276, '帅': 2277, '諮': 2278, '壤': 2279, '钻': 2280, '雾': 2281, '稚': 2282, '辱': 2283, '猎': 2284, '夕': 2285, '熄': 2286, '灭': 2287, '膚': 2288, '痴': 2289, '铃': 2290, '挖': 2291, '渡': 2292, '遛': 2293, '圈': 2294, '擋': 2295, '技': 2296, '仪': 2297, '鍋': 2298, '趴': 2299, '詳': 2300, '珠': 2301, '输': 2302, '奈': 2303, '熨': 2304, '锻': 2305, '炼': 2306, '勺': 2307, '睁': 2308, '竞': 2309, '牡': 2310, '蠣': 2311, '绪': 2312, '贈': 2313, '佩': 2314, '励': 2315, '屏': 2316, '厘': 2317, '箭': 2318, '稅': 2319, '盟': 2320, '韩': 2321, '兆': 2322, '傍': 2323, '葉': 2324, '頁': 2325, '諒': 2326, '绅': 2327, '誘': 2328, '尖': 2329, '銳': 2330, '笆': 2331, '俩': 2332, '慧': 2333, '召': 2334, '陆': 2335, '罷': 2336, '谷': 2337, '闪': 2338, '橫': 2339, '濱': 2340, '魁': 2341, '翼': 2342, '搁': 2343, '瞥': 2344, '柔': 2345, '恩': 2346, '挺': 2347, '泊': 2348, '亭': 2349, '攀': 2350, '耶': 2351, '丁': 2352, '虛': 2353, '構': 2354, '逗': 2355, '腸': 2356, '猪': 2357, '薦': 2358, '饱': 2359, '泉': 2360, '蹈': 2361, '踩': 2362, '疚': 2363, '審': 2364, '劲': 2365, '診': 2366, '棕': 2367, '裂': 2368, '哦': 2369, '豚': 2370, '拯': 2371, '漏': 2372, '骚': 2373, '齊': 2374, '侍': 2375, '絲': 2376, '谓': 2377, '蒸': 2378, '陸': 2379, '貨': 2380, '憤': 2381, '逻': 2382, '辑': 2383, '乱': 2384, '赖': 2385, '驳': 2386, '贫': 2387, '·': 2388, '潜': 2389, '砍': 2390, '醬': 2391, '训': 2392, '侦': 2393, '挣': 2394, '鼻': 2395, '墜': 2396, '腐': 2397, '懶': 2398, '漲': 2399, '烫': 2400, '宁': 2401, '瘦': 2402, '傢': 2403, '逛': 2404, '啼': 2405, '阶': 2406, '凌': 2407, '扭': 2408, '餵': 2409, '灣': 2410, '濃': 2411, '旦': 2412, '寢': 2413, '妥': 2414, '唬': 2415, '层': 2416, '註': 2417, '哺': 2418, '晕': 2419, '汗': 2420, '祟': 2421, '膩': 2422, '夭': 2423, '砸': 2424, '羡': 2425, '滋': 2426, '渐': 2427, '薄': 2428, '億': 2429, '廢': 2430, '隸': 2431, '涂': 2432, '冠': 2433, '療': 2434, '殊': 2435, '腾': 2436, '丝': 2437, '銷': 2438, '饑': 2439, '擺': 2440, '夹': 2441, '浮': 2442, '貧': 2443, '嬸': 2444, '质': 2445, '洁': 2446, '蕃': 2447, '佳': 2448, '閃': 2449, '饰': 2450, '蟋': 2451, '蟀': 2452, '慶': 2453, '愤': 2454, '嗝': 2455, '潛': 2456, '異': 2457, '晒': 2458, '霜': 2459, '餡': 2460, '诞': 2461, '隶': 2462, '浸': 2463, '撿': 2464, '罢': 2465, '潔': 2466, '循': 2467, '饼': 2468, '枯': 2469, '鈔': 2470, ':': 2471, '賬': 2472, '魯': 2473, '椒': 2474, '獸': 2475, '編': 2476, '筱': 2477, '傾': 2478, '豬': 2479, '汇': 2480, '繪': 2481, '賀': 2482, '沸': 2483, '犬': 2484, 'X': 2485, '胶': 2486, '泛': 2487, '损': 2488, '丹': 2489, '蜜': 2490, '+': 2491, '贊': 2492, '仗': 2493, '榜': 2494, '昂': 2495, '暂': 2496, '苗': 2497, '創': 2498, '疤': 2499, '叠': 2500, '厄': 2501, '菲': 2502, '献': 2503, '皺': 2504, '乌': 2505, '龟': 2506, '兽': 2507, '籌': 2508, '额': 2509, '监': 2510, '佈': 2511, '皂': 2512, '謂': 2513, '唇': 2514, '紋': 2515, '仙': 2516, '臟': 2517, '雕': 2518, '扑': 2519, '庄': 2520, '妆': 2521, '滨': 2522, '妨': 2523, '炉': 2524, '櫻': 2525, '喉': 2526, '嚨': 2527, '晤': 2528, '潺': 2529, '砰': 2530, '昏': 2531, '袖': 2532, '咪': 2533, '宮': 2534, '挨': 2535, '閤': 2536, '縫': 2537, '脅': 2538, '獵': 2539, '噓': 2540, '窩': 2541, 'L': 2542, 'n': 2543, 'd': 2544, '酱': 2545, '凍': 2546, '礙': 2547, '氛': 2548, '幕': 2549, '彗': 2550, '颁': 2551, '莱': 2552, '坞': 2553, '殃': 2554, '仲': 2555, '捞': 2556, '肅': 2557, '枕': 2558, '肴': 2559, '牽': 2560, '鶴': 2561, '垫': 2562, '绊': 2563, '齐': 2564, '丛': 2565, '扛': 2566, '斥': 2567, '髦': 2568, '佬': 2569, '廷': 2570, '焰': 2571, '疏': 2572, '靶': 2573, '輩': 2574, '窄': 2575, '瞟': 2576, '遮': 2577, '蕭': 2578, '邦': 2579, '鴨': 2580, '憑': 2581, '涨': 2582, '虐': 2583, '厉': 2584, '斤': 2585, '湘': 2586, '涼': 2587, '爽': 2588, '虹': 2589, '墊': 2590, '刊': 2591, 'j': 2592, '綽': 2593, '泽': 2594, '梅': 2595, '掏': 2596, '耀': 2597, '炖': 2598, '廟': 2599, '腋': 2600, '烏': 2601, '凑': 2602, '亏': 2603, '膳': 2604, '霉': 2605, '墳': 2606, '碩': 2607, '拳': 2608, '淆': 2609, '綁': 2610, '匪': 2611, '溯': 2612, '纠': 2613, '禱': 2614, '徹': 2615, '矶': 2616, '径': 2617, '恼': 2618, '迺': 2619, '稔': 2620, '铺': 2621, '羽': 2622, '獅': 2623, '珊': 2624, '瑚': 2625, '礁': 2626, '锕': 2627, '枚': 2628, '侧': 2629, '惕': 2630, '揭': 2631, '曉': 2632, '簾': 2633, '核': 2634, '坠': 2635, '恰': 2636, '溺': 2637, '濒': 2638, '蜘': 2639, '蛛': 2640, '晉': 2641, '販': 2642, '详': 2643, '触': 2644, '絆': 2645, '帆': 2646, '协': 2647, '丑': 2648, '筷': 2649, '-': 2650, '审': 2651, '匈': 2652, '肤': 2653, '岳': 2654, '墟': 2655, '忧': 2656, '币': 2657, '撑': 2658, '溢': 2659, '擎': 2660, '阵': 2661, '墩': 2662, '押': 2663, '鎊': 2664, '殆': 2665, '县': 2666, '奉': 2667, '臭': 2668, '磕': 2669, '諜': 2670, '柏': 2671, '扶': 2672, '瞧': 2673, '荷': 2674, '霧': 2675, '彻': 2676, '郁': 2677, '啃': 2678, '铭': 2679, '犹': 2680, '儀': 2681, '谬': 2682, '揮': 2683, '脹': 2684, '鹿': 2685, '浦': 2686, '哨': 2687, '怜': 2688, '頻': 2689, '柄': 2690, '锅': 2691, '滴': 2692, '贯': 2693, '曆': 2694, '懼': 2695, '莫': 2696, '扎': 2697, '噢': 2698, '篱': 2699, '慷': 2700, '慨': 2701, '缝': 2702, '纫': 2703, '勵': 2704, '侖': 2705, '巔': 2706, '腕': 2707, '构': 2708, '烁': 2709, '驻': 2710, '緩': 2711, '勿': 2712, '骂': 2713, '浅': 2714, '耽': 2715, '錫': 2716, '糗': 2717, '隧': 2718, '陀': 2719, '峽': 2720, '嘯': 2721, '偿': 2722, '孙': 2723, '蔼': 2724, '捉': 2725, '笼': 2726, '坪': 2727, '惭': 2728, 'z': 2729, '剎': 2730, '趾': 2731, '扬': 2732, '觸': 2733, '穌': 2734, '督': 2735, '悬': 2736, '傑': 2737, '匯': 2738, '肝': 2739, '妄': 2740, '針': 2741, '摯': 2742, '騰': 2743, '呀': 2744, '绍': 2745, '醇': 2746, '窝': 2747, '遣': 2748, '巢': 2749, '嘗': 2750, '怠': 2751, '锤': 2752, '熏': 2753, '跃': 2754, '俗': 2755, '括': 2756, '昆': 2757, '锈': 2758, '缠': 2759, '鯨': 2760, '瀑': 2761, '誼': 2762, '晃': 2763, '塗': 2764, '饶': 2765, '岡': 2766, '鄙': 2767, '伪': 2768, '啦': 2769, '帖': 2770, '违': 2771, '驯': 2772, '搆': 2773, '逊': 2774, '靦': 2775, '腆': 2776, '杜': 2777, '廉': 2778, '狡': 2779, '窟': 2780, '残': 2781, '雀': 2782, '黏': 2783, '爹': 2784, '蔭': 2785, '返': 2786, '函': 2787, '喘': 2788, '陶': 2789, '亂': 2790, '役': 2791, '稀': 2792, '嚮': 2793, '缩': 2794, '陋': 2795, '挽': 2796, '佣': 2797, '屑': 2798, '岩': 2799, '奔': 2800, '巫': 2801, '凱': 2802, '创': 2803, '逝': 2804, '弗': 2805, '勒': 2806, '《': 2807, '》': 2808, '罐': 2809, '飾': 2810, '蚀': 2811, '惰': 2812, '囓': 2813, '紫': 2814, '屜': 2815, '赠': 2816, '軟': 2817, '宴': 2818, '饪': 2819, '緒': 2820, '茲': 2821, '齦': 2822, '咸': 2823, '镑': 2824, '純': 2825, '夸': 2826, '蟑': 2827, '螂': 2828, '%': 2829, '踝': 2830, '寬': 2831, '澤': 2832, '呻': 2833, '吟': 2834, '榔': 2835, '钉': 2836, '颤': 2837, '駿': 2838, '壘': 2839, '萃': 2840, '宵': 2841, '锯': 2842, '抢': 2843, '褒': 2844, '贬': 2845, '茫': 2846, '淺': 2847, '唔': 2848, '躁': 2849, '貸': 2850, '焉': 2851, '恒': 2852, '倖': 2853, '匱': 2854, 'S': 2855, '儉': 2856, '编': 2857, '舌': 2858, '咆': 2859, '哮': 2860, '胸': 2861, '肘': 2862, '仁': 2863, '慈': 2864, '睹': 2865, '拭': 2866, '载': 2867, '嗅': 2868, '凶': 2869, '揚': 2870, '鳳': 2871, '凰': 2872, '桑': 2873, '踮': 2874, '狂': 2875, '葱': 2876, '兇': 2877, '蕾': 2878, '緣': 2879, '仿': 2880, '肃': 2881, '阁': 2882, '婦': 2883, '丧': 2884, '讚': 2885, '叛': 2886, '舍': 2887, '卢': 2888, '廁': 2889, '骸': 2890, '勉': 2891, '卓': 2892, '蒙': 2893, '蔽': 2894, '翔': 2895, '扯': 2896, '谦': 2897, '烘': 2898, '匠': 2899, '葵': 2900, '仰': 2901, '趨': 2902, '耗': 2903, '暱': 2904, '誉': 2905, '輯': 2906, '擴': 2907, '囑': 2908, '启': 2909, '渔': 2910, 'N': 2911, '縮': 2912, '鐳': 2913, '腮': 2914, '腺': 2915, '涸': 2916, '杆': 2917, '爍': 2918, '革': 2919, '籠': 2920, '濟': 2921, '燕': 2922, '碾': 2923, '畝': 2924, '泼': 2925, '锋': 2926, '灑': 2927, '萊': 2928, '塢': 2929, '骆': 2930, '驼': 2931, '漠': 2932, '妳': 2933, '杰': 2934, '轨': 2935, '兌': 2936, '拨': 2937, '储': 2938, '蓄': 2939, '氾': 2940, '濫': 2941, '賜': 2942, 'w': 2943, '檯': 2944, '纳': 2945, '抄': 2946, '叢': 2947, '邪': 2948, '捡': 2949, '竭': 2950, '媛': 2951, '聾': 2952, '甩': 2953, '庞': 2954, '织': 2955, '悦': 2956, '宇': 2957, '宙': 2958, '浩': 2959, '瀚': 2960, '嗓': 2961, '闔': 2962, '录': 2963, '•': 2964, '柯': 2965, '氧': 2966, '痊': 2967, '癒': 2968, '萎': 2969, '君': 2970, '酣': 2971, '戳': 2972, '酵': 2973, '盼': 2974, '御': 2975, '铐': 2976, '奧': 2977, '犢': 2978, '慫': 2979, '恿': 2980, '奢': 2981, '侈': 2982, '蹤': 2983, '税': 2984, '戀': 2985, '矣': 2986, '盆': 2987, '筒': 2988, '摑': 2989, '沮': 2990, '喪': 2991, '橡': 2992, '哩': 2993, '绵': 2994, '嗯': 2995, '鋒': 2996, '遙': 2997, '鑑': 2998, '绩': 2999, '剑': 3000, '坂': 3001, '诡': 3002, '嘘': 3003, '溼': 3004, '庇': 3005, '痠': 3006, '慌': 3007, '拄': 3008, '杖': 3009, '誡': 3010, '弥': 3011, '潢': 3012, '霆': 3013, '蛰': 3014, '睜': 3015, '鵝': 3016, '卵': 3017, '涌': 3018, '措': 3019, '甲': 3020, '宽': 3021, '鬥': 3022, '佑': 3023, '髒': 3024, '江': 3025, '謬': 3026, '筵': 3027, '槟': 3028, '谜': 3029, '痕': 3030, '倚': 3031, '跨': 3032, '鋸': 3033, '幌': 3034, '櫥': 3035, '輟': 3036, '採': 3037, '吞': 3038, '咽': 3039, '咀': 3040, '嚼': 3041, '喷': 3042, '剂': 3043, '仇': 3044, '桿': 3045, '诋': 3046, '謠': 3047, '紡': 3048, '艾': 3049, '瞄': 3050, '瀏': 3051, '眉': 3052, '捏': 3053, '瓣': 3054, '鉴': 3055, '烂': 3056, '嫩': 3057, '彌': 3058, '補': 3059, '－': 3060, '盈': 3061, '眶': 3062, '鲑': 3063, '狮': 3064, '鹰': 3065, '贡': 3066, '汉': 3067, '逢': 3068, '捐': 3069, '幚': 3070, '绷': 3071, '悅': 3072, '龍': 3073, '屆': 3074, '凝': 3075, '徵': 3076, '撤': 3077, '陈': 3078, '述': 3079, '層': 3080, '垂': 3081, '颇': 3082, '囪': 3083, '猛': 3084, '析': 3085, '撼': 3086, '弦': 3087, '懦': 3088, '韋': 3089, '殖': 3090, '荐': 3091, '﹐': 3092, '蘿': 3093, '蔔': 3094, '溝': 3095, '堅': 3096, '攪': 3097, '拌': 3098, '谣': 3099, '[': 3100, ']': 3101, '沐': 3102, '咔': 3103, '哒': 3104, '搏': 3105, '賠': 3106, '芙': 3107, '伫': 3108, '涩': 3109, '苔': 3110, '偽': 3111, '蟾': 3112, '蜍': 3113, '炭': 3114, '谐': 3115, '蚯': 3116, '蚓': 3117, '懊': 3118, '聋': 3119, '畜': 3120, '牲': 3121, '泄': 3122, '援': 3123, '舟': 3124, '韓': 3125, '拋': 3126, '錨': 3127, '蕉': 3128, '碍': 3129, '‘': 3130, '贼': 3131, '磯': 3132, '莽': 3133, '姿': 3134, '禿': 3135, '篷': 3136, '鍾': 3137, '％': 3138, '芋': 3139, '滥': 3140, '尤': 3141, '龙': 3142, '愁': 3143, '陰': 3144, '哇': 3145, '描': 3146, '瀉': 3147, '紳': 3148, '催': 3149, '倆': 3150, '靓': 3151, '谴': 3152, '蝴': 3153, '蝶': 3154, '咎': 3155, '繳': 3156, '畔': 3157, '倡': 3158, '驕': 3159, '撇': 3160, '摄': 3161, '裸': 3162, '懸': 3163, '膏': 3164, '堕': 3165, '尸': 3166, '艱': 3167, '濺': 3168, '翹': 3169, '丘': 3170, '缉': 3171, '崩': 3172, '澄': 3173, '爐': 3174, '跤': 3175, '聘': 3176, '茅': 3177, '賄': 3178, '賂': 3179, '柱': 3180, '曼': 3181, '涯': 3182, '橄': 3183, '欖': 3184, '抨': 3185, '謙': 3186, '鷹': 3187, '鸚': 3188, '鵡': 3189, '寵': 3190, '鳴': 3191, '缓': 3192, '黨': 3193, '釘': 3194, 'UNK': 0, 'PAD': 1}\n",
      "3195\n"
     ]
    }
   ],
   "source": [
    "print(cn_dict)\n",
    "print(cn_total_words)"
   ]
  },
  {
   "cell_type": "code",
   "execution_count": 0,
   "metadata": {
    "colab": {
     "base_uri": "https://localhost:8080/",
     "height": 54
    },
    "colab_type": "code",
    "collapsed": true,
    "id": "1FfcIeEDlARY",
    "outputId": "1055afca-e8d2-41cf-cf35-4bd287d418e3"
   },
   "outputs": [
    {
     "name": "stdout",
     "output_type": "stream",
     "text": [
      "{2: 'BOS', 3: 'EOS', 4: '.', 5: 'i', 6: 'the', 7: 'to', 8: 'you', 9: 'a', 10: 'is', 11: '?', 12: 'he', 13: \"n't\", 14: 'do', 15: 'in', 16: 'it', 17: 'of', 18: 'tom', 19: 'she', 20: \"'s\", 21: 'my', 22: 'have', 23: 'me', 24: ',', 25: 'this', 26: 'for', 27: 'was', 28: 'that', 29: 'we', 30: 'are', 31: 'what', 32: 'your', 33: 'on', 34: 'at', 35: 'his', 36: 'like', 37: 'not', 38: 'with', 39: 'be', 40: 'her', 41: 'did', 42: \"'m\", 43: 'can', 44: 'there', 45: 'go', 46: 'him', 47: 'will', 48: 'has', 49: 'and', 50: 'very', 51: 'they', 52: 'how', 53: 'know', 54: 'want', 55: 'as', 56: \"'ll\", 57: 'up', 58: 'please', 59: 'here', 60: 'time', 61: 'all', 62: 'from', 63: 'had', 64: 'an', 65: 'by', 66: 'good', 67: 'should', 68: 'would', 69: 'about', 70: 'does', 71: 'no', 72: 'come', 73: 'get', 74: 'out', 75: 'mary', 76: 'am', 77: 'english', 78: 'ca', 79: \"'ve\", 80: 'when', 81: 'think', 82: 'school', 83: 'been', 84: 'got', 85: 'could', 86: 'were', 87: 'where', 88: 'if', 89: 'take', 90: \"'re\", 91: 'let', 92: 'going', 93: 'made', 94: 'book', 95: 'now', 96: 'car', 97: 'see', 98: 'some', 99: 'us', 100: 'father', 101: 'last', 102: 'one', 103: 'day', 104: 'than', 105: 'so', 106: 'home', 107: 'work', 108: 'who', 109: \"'d\", 110: 'help', 111: 'just', 112: 'tomorrow', 113: 'need', 114: 'why', 115: 'much', 116: 'any', 117: 'every', 118: 'our', 119: 'yesterday', 120: 'always', 121: 'but', 122: 'more', 123: 'went', 124: 'better', 125: 'many', 126: '!', 127: 'money', 128: 'too', 129: 'today', 130: 'really', 131: 'room', 132: 'people', 133: 'house', 134: 'two', 135: 'long', 136: 'must', 137: 'tell', 138: 'new', 139: 'speak', 140: 'mother', 141: 'make', 142: 'back', 143: 'may', 144: 'gave', 145: 'old', 146: 'right', 147: 'never', 148: 'say', 149: 'lot', 150: 'something', 151: 'anything', 152: 'man', 153: 'night', 154: 'give', 155: 'years', 156: 'next', 157: 'children', 158: 'after', 159: 'eat', 160: 'well', 161: 'before', 162: 'play', 163: 'put', 164: 'or', 165: 'into', 166: 'three', 167: 'asked', 168: 'look', 169: 'little', 170: '``', 171: \"''\", 172: 'off', 173: 'morning', 174: 'said', 175: 'over', 176: 'late', 177: 'letter', 178: 'hard', 179: 'down', 180: 'took', 181: 'keep', 182: 'train', 183: 'stay', 184: 'japan', 185: 'love', 186: 'still', 187: 'told', 188: 'their', 189: 'dog', 190: 'soon', 191: 'brother', 192: 'only', 193: 'year', 194: 'way', 195: 'study', 196: 'came', 197: 'often', 198: 'leave', 199: 'used', 200: 'bus', 201: 'around', 202: 'them', 203: 'call', 204: 'away', 205: 'bought', 206: 'read', 207: 'french', 208: 'nothing', 209: 'beautiful', 210: 'door', 211: 'wish', 212: 'friends', 213: 'ten', 214: 'water', 215: 'boy', 216: 'left', 217: 'party', 218: 'again', 219: 'first', 220: 'week', 221: 'big', 222: 'station', 223: 'teacher', 224: 'job', 225: 'married', 226: 'afraid', 227: 'likes', 228: 'best', 229: 'problem', 230: 'these', 231: 'japanese', 232: 'name', 233: 'reading', 234: 'plan', 235: 'sister', 236: 'buy', 237: 'other', 238: 'believe', 239: 'heard', 240: 'understand', 241: 'found', 242: 'tennis', 243: 'cold', 244: 'which', 245: 'happy', 246: 'doing', 247: 'live', 248: 'books', 249: 'friend', 250: 'doctor', 251: 'life', 252: 'talk', 253: 'playing', 254: 'wait', 255: 'rain', 256: 'because', 257: 'wanted', 258: 'ask', 259: 'busy', 260: 'feel', 261: 'watch', 262: 'wo', 263: 'coffee', 264: 'lost', 265: 'wants', 266: 'turn', 267: 'enough', 268: 'drink', 269: 'wrong', 270: 'open', 271: 'looks', 272: 'looking', 273: 'remember', 274: 'finished', 275: 'find', 276: 'while', 277: 'seen', 278: \"o'clock\", 279: 'already', 280: 'use', 281: 'meeting', 282: 'swim', 283: 'saw', 284: 'hear', 285: 'answer', 286: 'easy', 287: 'ago', 288: 'without', 289: 'girl', 290: 'care', 291: 'early', 292: 'once', 293: 'try', 294: 'same', 295: 'dinner', 296: 'weather', 297: 'done', 298: 'tired', 299: 'bed', 300: 'everyone', 301: 'sure', 302: 'ever', 303: 'five', 304: 'someone', 305: 'days', 306: 'sunday', 307: 'arrived', 308: 'young', 309: 'drive', 310: 'mind', 311: 'nice', 312: 'yourself', 313: 'stop', 314: 'homework', 315: 'hope', 316: 'walk', 317: 'everything', 318: 'show', 319: 'river', 320: 'lives', 321: 'eating', 322: 'able', 323: 'yet', 324: 'london', 325: 'tonight', 326: 'parents', 327: 'boston', 328: 'anyone', 329: 'getting', 330: 'sorry', 331: 'being', 332: 'goes', 333: 'person', 334: 'write', 335: 'almost', 336: 'coming', 337: 'knows', 338: 'another', 339: 'truth', 340: 'matter', 341: 'those', 342: 'music', 343: 'interesting', 344: 'things', 345: 'happened', 346: 'tv', 347: 'park', 348: 'difficult', 349: 'lived', 350: 'food', 351: 'fire', 352: 'thought', 353: 'six', 354: 'place', 355: 'uncle', 356: 'few', 357: 'true', 358: 'shoes', 359: 'piano', 360: 'baby', 361: 'hot', 362: 'alone', 363: 'month', 364: 'lunch', 365: 'son', 366: 'bad', 367: 'hours', 368: 'minutes', 369: 'bicycle', 370: 'meet', 371: 'child', 372: 'sick', 373: 'accident', 374: 'high', 375: 'times', 376: 'great', 377: 'important', 378: 'table', 379: 'idea', 380: 'world', 381: 'working', 382: 'makes', 383: 'desk', 384: 'mine', 385: 'comes', 386: 'camera', 387: 'snow', 388: 'class', 389: 'sometimes', 390: 'under', 391: 'studying', 392: 'student', 393: 'himself', 394: 'question', 395: 'students', 396: 'usually', 397: 'agree', 398: 'family', 399: 'breakfast', 400: 'police', 401: 'looked', 402: 'become', 403: 'swimming', 404: 'far', 405: 'questions', 406: 'dress', 407: 'flowers', 408: 'city', 409: 'since', 410: 'tokyo', 411: 'until', 412: 'most', 413: 'picture', 414: 'thank', 415: 'sleep', 416: 'eyes', 417: 'country', 418: 'quite', 419: 'advice', 420: 'baseball', 421: 'large', 422: 'office', 423: 'met', 424: 'everybody', 425: 'pay', 426: 'kind', 427: 'free', 428: 'between', 429: 'caught', 430: 'even', 431: 'afternoon', 432: 'radio', 433: 'such', 434: 'thing', 435: 'having', 436: 'america', 437: 'living', 438: 'says', 439: 'daughter', 440: 'angry', 441: 'learn', 442: 'fun', 443: 'window', 444: 'near', 445: 'pretty', 446: 'each', 447: 'garden', 448: 'street', 449: 'change', 450: 'red', 451: 'woman', 452: 'tall', 453: 'short', 454: 'evening', 455: 'hair', 456: 'seems', 457: 'hand', 458: 'language', 459: 'dollars', 460: 'called', 461: 'story', 462: 'waiting', 463: 'abroad', 464: 'broke', 465: 'bring', 466: 'cat', 467: 'visit', 468: 'business', 469: 'word', 470: 'hotel', 471: 'game', 472: 'both', 473: 'news', 474: 'milk', 475: 'run', 476: 'smoking', 477: 'health', 478: 'own', 479: 'wrote', 480: 'apple', 481: 'older', 482: 'lend', 483: 'bit', 484: 'pen', 485: 'myself', 486: 'decided', 487: 'hour', 488: 'dictionary', 489: 'fish', 490: 'fell', 491: 'light', 492: 'point', 493: 'died', 494: 'hospital', 495: 'through', 496: 'sense', 497: 'tea', 498: 'speaking', 499: 'then', 500: 'miss', 501: 'phone', 502: 'happen', 503: 'across', 504: 'pictures', 505: 'opinion', 506: 'hurry', 507: 'talking', 508: 'nobody', 509: 'gets', 510: 'watching', 511: 'hands', 512: 'wife', 513: 'yours', 514: 'pass', 515: 'apples', 516: 'longer', 517: 'dark', 518: 'ran', 519: 'kept', 520: 'whether', 521: 'full', 522: 'knew', 523: 'summer', 524: 'telephone', 525: 'studied', 526: 'else', 527: 'strong', 528: 'trip', 529: 'trouble', 530: 'others', 531: 'ready', 532: 'wonder', 533: 'takes', 534: 'box', 535: 'small', 536: 'tree', 537: 'worked', 538: 'stayed', 539: 'present', 540: 'tried', 541: 'seeing', 542: 'helped', 543: 'together', 544: 'mistake', 545: 'later', 546: 'chinese', 547: 'listen', 548: 'kyoto', 549: 'library', 550: 'age', 551: 'chance', 552: 'dangerous', 553: 'quit', 554: 'stand', 555: 'computer', 556: 'quiet', 557: 'medicine', 558: 'four', 559: 'clean', 560: 'poor', 561: 'mt', 562: 'several', 563: 'speaks', 564: 'soccer', 565: 'sing', 566: 'yen', 567: 'feeling', 568: 'wearing', 569: 'born', 570: 'began', 571: 'loves', 572: 'listening', 573: 'might', 574: 'lake', 575: 'herself', 576: 'birthday', 577: 'juice', 578: 'umbrella', 579: 'hat', 580: 'number', 581: 'cook', 582: 'death', 583: 'easily', 584: 'success', 585: 'start', 586: 'taking', 587: 'taxi', 588: 'wash', 589: 'pencil', 590: 'college', 591: 'mistakes', 592: 'raining', 593: 'lie', 594: 'spent', 595: 'enjoyed', 596: 'wine', 597: 'became', 598: 'enjoy', 599: 'plays', 600: 'weight', 601: 'sundays', 602: 'paris', 603: 'airport', 604: 'glasses', 605: 'movie', 606: 'bank', 607: 'against', 608: 'saying', 609: 'famous', 610: 'song', 611: 'along', 612: 'catch', 613: 'american', 614: 'fuji', 615: 'mountain', 616: 'written', 617: 'fast', 618: 'visited', 619: 'driving', 620: 'sky', 621: 'dogs', 622: 'worth', 623: 'test', 624: 'felt', 625: 'started', 626: 'air', 627: 'deal', 628: 'turned', 629: 'interested', 630: 'send', 631: 'during', 632: 'guitar', 633: 'hokkaido', 634: 'close', 635: 'talked', 636: 'seven', 637: 'played', 638: 'grandfather', 639: 'town', 640: 'favorite', 641: 'company', 642: 'learning', 643: 'running', 644: 'bag', 645: 'driver', 646: 'making', 647: 'plane', 648: 'none', 649: 'aunt', 650: 'front', 651: 'eaten', 652: 'mean', 653: 'earlier', 654: 'sit', 655: 'address', 656: 'behind', 657: 'university', 658: 'begin', 659: 'rather', 660: 'rich', 661: 'hurt', 662: 'black', 663: 'worry', 664: 'clothes', 665: 'staying', 666: 'hit', 667: 'vacation', 668: 'cake', 669: 'cooking', 670: 'dead', 671: 'end', 672: 'stupid', 673: 'bird', 674: 'arm', 675: 'stopped', 676: 'grow', 677: 'travel', 678: 'forgot', 679: 'either', 680: 'movies', 681: 'christmas', 682: 'law', 683: 'paper', 684: 'forget', 685: 'accept', 686: 'cost', 687: 'york', 688: 'weekend', 689: 'possible', 690: 'wear', 691: 'outside', 692: 'glad', 693: 'wonderful', 694: 'horse', 695: 'wall', 696: 'offer', 697: 'floor', 698: 'spoken', 699: 'heavy', 700: 'asleep', 701: 'building', 702: 'concert', 703: 'speech', 704: 'brought', 705: 'younger', 706: 'foreign', 707: 'invited', 708: 'check', 709: 'maybe', 710: 'newspaper', 711: 'worse', 712: 'proud', 713: 'passed', 714: 'blue', 715: 'eight', 716: 'seat', 717: 'information', 718: 'monday', 719: 'australia', 720: 'languages', 721: 'writing', 722: 'finish', 723: 'walked', 724: 'store', 725: 'white', 726: 'worried', 727: 'dream', 728: 'quickly', 729: 'cry', 730: 'won', 731: 'follow', 732: 'europe', 733: 'attend', 734: 'fine', 735: 'coat', 736: 'carry', 737: 'exam', 738: 'smoke', 739: 'cut', 740: 'exactly', 741: 'ought', 742: 'expect', 743: 'storm', 744: 'missed', 745: 'half', 746: 'changed', 747: 'kitchen', 748: 'proposal', 749: 'salt', 750: 'forward', 751: 'ticket', 752: 'walking', 753: 'men', 754: 'safe', 755: 'touch', 756: 'winter', 757: 'anybody', 758: 'arrive', 759: 'road', 760: 'pick', 761: 'club', 762: 'absent', 763: 'break', 764: 'set', 765: 'team', 766: 'canada', 767: 'trust', 768: 'gone', 769: 'shut', 770: 'guys', 771: 'key', 772: 'rest', 773: 'problems', 774: 'move', 775: 'harder', 776: 'bread', 777: 'side', 778: 'prefer', 779: 'facebook', 780: 'paid', 781: 'waited', 782: 'sent', 783: 'till', 784: 'luck', 785: 'whole', 786: 'sleeping', 787: 'hungry', 788: 'war', 789: 'taken', 790: 'novel', 791: 'useful', 792: 'fishing', 793: 'church', 794: 'thanks', 795: 'surprised', 796: 'anymore', 797: 'guy', 798: 'lock', 799: 'animals', 800: 'glass', 801: 'careful', 802: 'traffic', 803: 'noon', 804: 'boys', 805: 'fruit', 806: 'noise', 807: 'sentence', 808: 'capital', 809: 'popular', 810: 'brothers', 811: 'slowly', 812: 'wake', 813: 'eye', 814: 'built', 815: 'taller', 816: 'crying', 817: 'serious', 818: 'months', 819: 'choose', 820: 'seem', 821: 'missing', 822: 'sat', 823: 'france', 824: 'secret', 825: 'order', 826: 'husband', 827: 'drunk', 828: 'known', 829: 'second', 830: 'solve', 831: 'flower', 832: 'thousand', 833: 'hold', 834: 'recently', 835: 'bike', 836: 'broken', 837: 'whatever', 838: 'beer', 839: 'television', 840: 'china', 841: 'works', 842: 'lose', 843: 'purpose', 844: '10', 845: 'rude', 846: 'probably', 847: 'face', 848: 'paint', 849: 'somewhere', 850: 'gas', 851: 'impossible', 852: 'win', 853: 'happens', 854: 'bill', 855: 'guess', 856: 'thinking', 857: 'alive', 858: 'sight', 859: 'boring', 860: 'grew', 861: 'leaving', 862: 'bath', 863: 'sitting', 864: 'nine', 865: 'boss', 866: 'case', 867: 'grandmother', 868: 'dance', 869: 'whose', 870: 'filled', 871: 'twice', 872: 'studies', 873: 'ball', 874: 'succeed', 875: 'closed', 876: 'learned', 877: 'license', 878: 'eggs', 879: 'population', 880: 'promise', 881: 'sun', 882: 'strange', 883: 'difference', 884: 'answered', 885: 'cup', 886: 'singing', 887: 'golf', 888: 'showed', 889: 'ended', 890: 'words', 891: 'museum', 892: 'borrow', 893: 'honest', 894: 'satisfied', 895: 'afford', 896: 'beach', 897: 'foot', 898: 'planning', 899: 'part', 900: 'date', 901: 'owe', 902: 'clear', 903: 'restaurant', 904: 'meal', 905: 'corner', 906: 'post', 907: 'plenty', 908: 'pretended', 909: 'flying', 910: 'above', 911: 'future', 912: 'sign', 913: 'relax', 914: 'anywhere', 915: 'injured', 916: 'furniture', 917: 'ill', 918: 'least', 919: 'warm', 920: 'leaves', 921: 'pizza', 922: 'stolen', 923: 'ate', 924: 'public', 925: 'chair', 926: 'account', 927: 'telling', 928: 'cats', 929: 'dishes', 930: 'supper', 931: 'taught', 932: 'tie', 933: 'belong', 934: 'expensive', 935: 'nearest', 936: 'mathematics', 937: 'dad', 938: 'exist', 939: 'pale', 940: 'native', 941: 'common', 942: 'control', 943: 'clock', 944: 'returned', 945: 'bottle', 946: 'oranges', 947: 'report', 948: 'cancer', 949: 'graduated', 950: 'head', 951: 'color', 952: 'loved', 953: 'different', 954: 'charge', 955: 'obey', 956: 'couple', 957: 'shoulder', 958: 'finally', 959: 'understood', 960: 'yes', 961: 'talks', 962: 'meat', 963: 'wedding', 964: 'jacket', 965: 'return', 966: 'birds', 967: 'hate', 968: 'shopping', 969: 'choice', 970: 'suit', 971: 'excellent', 972: 'attention', 973: 'past', 974: 'sisters', 975: 'ashamed', 976: 'crazy', 977: 'player', 978: 'bridge', 979: 'covered', 980: 'thirty', 981: 'needs', 982: 'history', 983: 'moment', 984: 'elected', 985: 'decide', 986: 'list', 987: 'ride', 988: 'arrested', 989: 'reason', 990: 'ordered', 991: 'lady', 992: 'accustomed', 993: 'scared', 994: 'policeman', 995: 'picnic', 996: 'prize', 997: 'supposed', 998: 'count', 999: 'laughed', 1000: 'somebody', 1001: 'gift', 1002: 'shop', 1003: 'cards', 1004: 'hardly', 1005: 'cause', 1006: 'carefully', 1007: 'except', 1008: 'special', 1009: 'waste', 1010: 'climbed', 1011: 'wallet', 1012: 'pain', 1013: 'smiled', 1014: 'failed', 1015: 'size', 1016: 'held', 1017: 'blame', 1018: 'earth', 1019: 'fever', 1020: 'managed', 1021: 'cross', 1022: 'progress', 1023: 'certainly', 1024: 'factory', 1025: 'knife', 1026: 'picked', 1027: 'fall', 1028: 'passengers', 1029: 'wet', 1030: 'german', 1031: 'excuse', 1032: 'green', 1033: 'neighborhood', 1034: 'nurse', 1035: 'fifty', 1036: 'patient', 1037: 'suitcase', 1038: 'cried', 1039: 'mouth', 1040: 'president', 1041: 'girlfriend', 1042: 'dropped', 1043: 'begins', 1044: 'actually', 1045: 'spend', 1046: 'ship', 1047: 'meaning', 1048: 'countries', 1049: 'price', 1050: 'discovered', 1051: 'boat', 1052: 'standing', 1053: 'allowed', 1054: 'killed', 1055: 'sushi', 1056: 'eats', 1057: 'apologize', 1058: 'situation', 1059: 'map', 1060: 'supermarket', 1061: 'marry', 1062: 'clearly', 1063: 'rains', 1064: 'minute', 1065: 'voice', 1066: 'osaka', 1067: 'wood', 1068: 'trying', 1069: 'painted', 1070: 'fence', 1071: 'its', 1072: 'explanation', 1073: 'enter', 1074: 'washed', 1075: 'saturday', 1076: 'drank', 1077: 'piece', 1078: 'type', 1079: 'spoke', 1080: 'speaker', 1081: 'liked', 1082: 'shirt', 1083: 'stomach', 1084: 'roses', 1085: 'orange', 1086: 'agreed', 1087: 'sad', 1088: 'tears', 1089: 'zoo', 1090: 'states', 1091: 'pressure', 1092: 'express', 1093: 'soup', 1094: 'healthy', 1095: 'smile', 1096: 'treated', 1097: 'carried', 1098: 'threw', 1099: 'stone', 1100: 'legs', 1101: 'sea', 1102: 'walks', 1103: 'keeps', 1104: 'conversation', 1105: 'delicious', 1106: 'united', 1107: 'danger', 1108: 'explain', 1109: 'giving', 1110: 'surprise', 1111: 'england', 1112: 'kobe', 1113: 'nearly', 1114: 'likely', 1115: 'lots', 1116: 'watched', 1117: 'consider', 1118: 'wondered', 1119: 'mad', 1120: 'inside', 1121: 'crowd', 1122: 'million', 1123: 'patience', 1124: 'italy', 1125: 'trees', 1126: 'necessary', 1127: 'round', 1128: 'share', 1129: 'germany', 1130: 'village', 1131: 'laugh', 1132: 'fear', 1133: 'completely', 1134: 'moved', 1135: 'dressed', 1136: 'given', 1137: 'translate', 1138: 'fresh', 1139: 'fact', 1140: 'headache', 1141: 'hundred', 1142: 'kill', 1143: 'spring', 1144: 'exercise', 1145: 'wherever', 1146: 'absolutely', 1147: 'earthquake', 1148: 'women', 1149: 'private', 1150: 'experience', 1151: 'refused', 1152: 'also', 1153: 'pair', 1154: 'loud', 1155: 'drives', 1156: 'oil', 1157: 'button', 1158: 'low', 1159: 'feelings', 1160: 'truck', 1161: 'fox', 1162: '3', 1163: 'reach', 1164: 'received', 1165: 'ice', 1166: 'larger', 1167: 'rent', 1168: 'memory', 1169: 'trains', 1170: 'real', 1171: 'asking', 1172: '5', 1173: 'rome', 1174: 'course', 1175: 'stamp', 1176: 'butter', 1177: 'moon', 1178: 'less', 1179: 'india', 1180: 'throw', 1181: 'interest', 1182: 'perhaps', 1183: 'prices', 1184: 'wind', 1185: 'tongue', 1186: 'regular', 1187: 'rice', 1188: 'sold', 1189: 'beauty', 1190: 'birth', 1191: 'theory', 1192: 'reservation', 1193: 'single', 1194: 'hey', 1195: 'girls', 1196: 'suppose', 1197: 'violin', 1198: 'blood', 1199: 'cash', 1200: 'lonely', 1201: 'sports', 1202: 'opened', 1203: 'runs', 1204: 'depends', 1205: 'teeth', 1206: 'sweater', 1207: 'wears', 1208: 'rope', 1209: 'traveled', 1210: 'fluent', 1211: 'temperature', 1212: 'football', 1213: 'author', 1214: 'familiar', 1215: 'responsible', 1216: 'message', 1217: 'borrowed', 1218: 'shower', 1219: 'drinking', 1220: 'cookies', 1221: 'king', 1222: 'snowing', 1223: 'certain', 1224: 'heart', 1225: 'woke', 1226: 'subject', 1227: 'step', 1228: 'stamps', 1229: 'smart', 1230: 'rules', 1231: 'teaching', 1232: 'area', 1233: 'beginning', 1234: 'fail', 1235: 'concerned', 1236: 'doll', 1237: 'sang', 1238: 'songs', 1239: 'hobby', 1240: 'blind', 1241: 'vegetables', 1242: 'costs', 1243: 'amazed', 1244: 'invented', 1245: 'electricity', 1246: 'gold', 1247: 'gun', 1248: 'sooner', 1249: 'shall', 1250: 'followed', 1251: 'season', 1252: 'compared', 1253: 'shelf', 1254: 'joke', 1255: 'ears', 1256: 'ok', 1257: 'wore', 1258: 'mistook', 1259: 'mail', 1260: 'sell', 1261: 'salary', 1262: 'dare', 1263: 'line', 1264: '20', 1265: 'guilty', 1266: 'fly', 1267: 'earned', 1268: 'chocolate', 1269: 'cream', 1270: 'provide', 1271: 'nature', 1272: 'hurts', 1273: 'passport', 1274: 'poured', 1275: 'continued', 1276: 'theater', 1277: 'farm', 1278: 'novels', 1279: 'deep', 1280: 'fault', 1281: 'fashion', 1282: 'resign', 1283: 'board', 1284: 'losing', 1285: 'amount', 1286: 'chess', 1287: 'neither', 1288: 'nor', 1289: 'eleven', 1290: 'wounded', 1291: 'captain', 1292: 'noticed', 1293: 'behavior', 1294: 'bear', 1295: 'unhappy', 1296: 'climb', 1297: 'respect', 1298: 'pleasure', 1299: 'buses', 1300: 'major', 1301: 'daughters', 1302: 'cd', 1303: 'tastes', 1304: 'worker', 1305: 'admit', 1306: 'grade', 1307: 'serve', 1308: \"'\", 1309: 'sweet', 1310: 'complete', 1311: 'breath', 1312: 'die', 1313: 'crossed', 1314: 'dentist', 1315: 'curious', 1316: 'caused', 1317: 'cottage', 1318: 'goodbye', 1319: 'happening', 1320: '10,000', 1321: 'promises', 1322: '30', 1323: 'socks', 1324: 'value', 1325: 'opportunity', 1326: 'italian', 1327: 'smell', 1328: 'hill', 1329: 'century', 1330: 'aware', 1331: 'asia', 1332: 'reached', 1333: 'drinks', 1334: 'stands', 1335: 'stars', 1336: 'escape', 1337: 'apartment', 1338: 'africa', 1339: 'fool', 1340: 'applied', 1341: 'though', 1342: 'occasionally', 1343: 'stranger', 1344: 'soldiers', 1345: 'harvard', 1346: 'luggage', 1347: 'accused', 1348: 'kids', 1349: 'houses', 1350: 'card', 1351: 'bedroom', 1352: 'save', 1353: 'bell', 1354: 'cooked', 1355: 'system', 1356: 'depend', 1357: 'introduced', 1358: 'funny', 1359: 'lights', 1360: 'due', 1361: 'album', 1362: 'twenty', 1363: 'granted', 1364: 'correct', 1365: 'helps', 1366: 'plans', 1367: 'sale', 1368: 'weeks', 1369: 'forest', 1370: 'iron', 1371: 'advised', 1372: 'comfortable', 1373: 'hunger', 1374: 'science', 1375: 'math', 1376: 'toys', 1377: 'bite', 1378: 'appears', 1379: 'themselves', 1380: 'stops', 1381: 'hole', 1382: 'expecting', 1383: 'teach', 1384: 'delayed', 1385: 'stealing', 1386: 'traveling', 1387: 'terrible', 1388: 'fight', 1389: 'acquainted', 1390: 'art', 1391: 'willing', 1392: 'ghosts', 1393: 'jokes', 1394: 'accepted', 1395: 'empty', 1396: 'rained', 1397: 'twelve', 1398: 'succeeded', 1399: 'lately', 1400: 'stole', 1401: 'committee', 1402: 'suits', 1403: 'drop', 1404: 'difficulty', 1405: 'counting', 1406: 'slept', 1407: 'marriage', 1408: 'needed', 1409: 'fluently', 1410: 'per', 1411: 'roof', 1412: 'artificial', 1413: 'teaches', 1414: 'straight', 1415: 'rescued', 1416: 'skirt', 1417: 'intention', 1418: 'seats', 1419: 'teachers', 1420: 'egg', 1421: 'seriously', 1422: 'menu', 1423: 'stick', 1424: 'greeted', 1425: 'belongs', 1426: 'neighbors', 1427: 'shout', 1428: 'quick', 1429: 'apart', 1430: 'thirsty', 1431: 'pity', 1432: 'hawaii', 1433: 'cars', 1434: 'solved', 1435: 'gives', 1436: 'argument', 1437: 'louder', 1438: 'skiing', 1439: 'believes', 1440: 'bench', 1441: 'thanked', 1442: 'act', 1443: 'percent', 1444: 'enemies', 1445: 'examination', 1446: 'immediately', 1447: 'eyesight', 1448: 'checked', 1449: '50', 1450: 'generally', 1451: 'basket', 1452: 'decision', 1453: 'join', 1454: 'duty', 1455: 'contract', 1456: 'hearing', 1457: 'discount', 1458: 'sudden', 1459: 'attended', 1460: 'stories', 1461: 'practice', 1462: 'warned', 1463: 'below', 1464: 'support', 1465: 'cab', 1466: 'rock', 1467: 'flood', 1468: 'expected', 1469: 'clouds', 1470: 'idiot', 1471: 'pianist', 1472: 'anxious', 1473: 'vase', 1474: 'cleared', 1475: 'pronounce', 1476: 'meters', 1477: 'remained', 1478: 'sharp', 1479: '’', 1480: 'prefers', 1481: 'audience', 1482: 'actress', 1483: 'keys', 1484: 'manners', 1485: 'brave', 1486: 'peace', 1487: 'struck', 1488: 'means', 1489: 'grab', 1490: 'chairman', 1491: 'someday', 1492: 'hung', 1493: 'rid', 1494: 'handed', 1495: 'divorced', 1496: 'intend', 1497: 'happiness', 1498: 'chicago', 1499: 'deepest', 1500: 'humor', 1501: 'successful', 1502: 'burglar', 1503: 'machine', 1504: 'largest', 1505: 'ring', 1506: 'scenery', 1507: 'snowed', 1508: 'fill', 1509: 'bucket', 1510: 'regret', 1511: 'skin', 1512: 'boyfriend', 1513: 'rang', 1514: 'admission', 1515: 'worst', 1516: 'classmates', 1517: 'thousands', 1518: 'education', 1519: 'tore', 1520: 'dirty', 1521: 'magazines', 1522: '6', 1523: 'turns', 1524: 'view', 1525: 'improved', 1526: 'group', 1527: 'department', 1528: 'illness', 1529: 'slight', 1530: 'prepared', 1531: 'enemy', 1532: 'shape', 1533: 'god', 1534: 'fed', 1535: 'sounds', 1536: 'behave', 1537: 'downtown', 1538: 'promised', 1539: 'strike', 1540: 'games', 1541: 'fair', 1542: 'race', 1543: 'letters', 1544: 'poet', 1545: 'hall', 1546: 'positive', 1547: 'animal', 1548: '%', 1549: 'woods', 1550: 'shake', 1551: 'dust', 1552: 'chicken', 1553: 'appointment', 1554: 'subway', 1555: 'thief', 1556: 'burned', 1557: 'rule', 1558: 'distinguish', 1559: 'airplane', 1560: 'ear', 1561: 'materials', 1562: 'badly', 1563: 'polite', 1564: 'model', 1565: 'finding', 1566: 'photo', 1567: 'grows', 1568: 'friday', 1569: 'discussing', 1570: 'repaired', 1571: 'calling', 1572: 'third', 1573: 'although', 1574: 'winning', 1575: 'allow', 1576: 'island', 1577: 'engineer', 1578: 'whichever', 1579: 'government', 1580: 'programmer', 1581: 'joking', 1582: 'freezes', 1583: 'saved', 1584: 'ideas', 1585: 'silent', 1586: 'push', 1587: 'buying', 1588: 'cheese', 1589: 'industry', 1590: 'matters', 1591: 'shot', 1592: 'spanish', 1593: 'target', 1594: 'cover', 1595: 'wishes', 1596: 'attacked', 1597: 'horses', 1598: 'sauce', 1599: 'locked', 1600: 'package', 1601: 'classroom', 1602: 'mom', 1603: 'curtain', 1604: 'punctual', 1605: 'climate', 1606: 'appreciate', 1607: 'alert', 1608: 'position', 1609: 'operation', 1610: 'distance', 1611: 'seemed', 1612: 'deleted', 1613: 'perfectly', 1614: 'ringing', 1615: 'prevented', 1616: 'draw', 1617: 'recent', 1618: 'beside', 1619: 'forced', 1620: 'mood', 1621: 'hid', 1622: 'founded', 1623: 'workers', 1624: 'majored', 1625: 'april', 1626: 'cradle', 1627: 'beef', 1628: 'match', 1629: 'lying', 1630: 'gladly', 1631: 'siblings', 1632: 'rose', 1633: 'carpet', 1634: 'facts', 1635: 'heat', 1636: 'mondays', 1637: 'innocent', 1638: 'politics', 1639: 'experiment', 1640: 'russian', 1641: 'tower', 1642: 'unable', 1643: 'skip', 1644: 'retired', 1645: 'settled', 1646: 'invitation', 1647: 'discussed', 1648: 'principal', 1649: 'sofa', 1650: 'names', 1651: 'tallest', 1652: 'classes', 1653: 'appetite', 1654: 'introduce', 1655: 'friendly', 1656: 'examined', 1657: 'saturdays', 1658: 'deceive', 1659: 'east', 1660: 'grass', 1661: 'dresses', 1662: 'lies', 1663: 'preparing', 1664: 'drama', 1665: 'protect', 1666: 'latest', 1667: 'appear', 1668: 'diamond', 1669: 'frightened', 1670: 'cloud', 1671: 'silver', 1672: 'mayor', 1673: 'shorter', 1674: 'gotten', 1675: 'pie', 1676: 'starts', 1677: 'speed', 1678: 'personality', 1679: 'whenever', 1680: 'flag', 1681: 'fat', 1682: 'scientist', 1683: 'apology', 1684: 'purse', 1685: 'imagination', 1686: 'rare', 1687: 'knowledge', 1688: 'extremely', 1689: 'grateful', 1690: 'fairly', 1691: 'frog', 1692: 'add', 1693: 'jobs', 1694: 'moving', 1695: 'ceremony', 1696: 'sound', 1697: 't', 1698: 'scotland', 1699: 'september', 1700: 'pleasant', 1701: 'faces', 1702: 'project', 1703: 'stood', 1704: 'cousin', 1705: '7:00', 1706: 'handsome', 1707: 'congratulations', 1708: 'space', 1709: 'zero', 1710: 'pond', 1711: 'crashed', 1712: 'backed', 1713: 'miles', 1714: 'pollution', 1715: 'named', 1716: 'ground', 1717: 'kindness', 1718: 'murder', 1719: 'temper', 1720: 'page', 1721: 'credit', 1722: 'exhausted', 1723: 'hates', 1724: 'lift', 1725: 'realize', 1726: 'meant', 1727: 'february', 1728: 'south', 1729: 'schedule', 1730: 'hoped', 1731: 'assistant', 1732: 'appeared', 1733: 'magazine', 1734: 'incident', 1735: 'castle', 1736: 'middle', 1737: 'example', 1738: 'attitude', 1739: 'visiting', 1740: 'graduate', 1741: 'wreck', 1742: 'shook', 1743: 'similar', 1744: 'dirt', 1745: 'thinks', 1746: 'discuss', 1747: 'slow', 1748: 'basketball', 1749: 'fit', 1750: 'crowded', 1751: 'disappointed', 1752: 'toward', 1753: 'ink', 1754: 'knocked', 1755: 'laughing', 1756: 'sleepy', 1757: 'cloudy', 1758: 'tight', 1759: 'bound', 1760: 'raw', 1761: 'repair', 1762: 'raised', 1763: 'admire', 1764: 'courage', 1765: 'collecting', 1766: 'slightest', 1767: 'arguing', 1768: 'jail', 1769: 'unfortunately', 1770: 'extra', 1771: 'forever', 1772: 'wealth', 1773: 'contact', 1774: 'fond', 1775: 'dozen', 1776: 'suddenly', 1777: 'advantage', 1778: 'advance', 1779: 'international', 1780: 'october', 1781: 'rooms', 1782: 'sydney', 1783: 'hiding', 1784: 'oh', 1785: 'envy', 1786: 'jazz', 1787: 'easier', 1788: 'security', 1789: 'energy', 1790: 'prison', 1791: 'article', 1792: 'shy', 1793: 'solution', 1794: 'refuse', 1795: 'listened', 1796: 'cds', 1797: 'fifth', 1798: 'risk', 1799: 'smaller', 1800: 'singer', 1801: 'build', 1802: 'avoid', 1803: 'russia', 1804: 'lawyer', 1805: '7', 1806: 'poem', 1807: 'entire', 1808: 'cheap', 1809: 'dozens', 1810: 'dating', 1811: 'lasted', 1812: 'typhoon', 1813: 'result', 1814: 'tickets', 1815: 'dancing', 1816: 'film', 1817: 'served', 1818: 'opinions', 1819: 'monkey', 1820: 'jumped', 1821: 'according', 1822: 'objected', 1823: 'cities', 1824: 'clothing', 1825: 'notebook', 1826: 'brown', 1827: 'switzerland', 1828: 'economy', 1829: 'relatives', 1830: 'boxes', 1831: 'volleyball', 1832: 'secretary', 1833: 'sandwich', 1834: 'plain', 1835: 'intelligent', 1836: 'sales', 1837: 'usual', 1838: 'lincoln', 1839: 'entered', 1840: 'toilet', 1841: 'colds', 1842: 'bags', 1843: '$', 1844: 'fixed', 1845: 'electric', 1846: 'members', 1847: 'tuesday', 1848: 'jogging', 1849: 'growing', 1850: 'medical', 1851: 'freedom', 1852: 'center', 1853: 'located', 1854: 'thin', 1855: 'seldom', 1856: 'continue', 1857: 'fee', 1858: 'feet', 1859: 'market', 1860: 'form', 1861: 'among', 1862: 'stare', 1863: 'complaining', 1864: 'complex', 1865: 'available', 1866: 'disturb', 1867: 'downstairs', 1868: 'understands', 1869: 'registered', 1870: 'lied', 1871: 'consult', 1872: 'objection', 1873: 'disappeared', 1874: 'twin', 1875: 'quality', 1876: 'pull', 1877: 'simple', 1878: 'flows', 1879: 'lightning', 1880: 'degrees', 1881: 'hello', 1882: 'hi', 1883: 'genius', 1884: 'resembles', 1885: 'britain', 1886: 'habit', 1887: 'convinced', 1888: 'stairs', 1889: 'minister', 1890: 'rarely', 1891: '2:30', 1892: 'throne', 1893: 'hang', 1894: 'hide', 1895: 'drove', 1896: 'housework', 1897: 'beijing', 1898: 'level', 1899: 'cell', 1900: 'divided', 1901: 'hamburgers', 1902: 'flight', 1903: 'ocean', 1904: 'slipped', 1905: 'permission', 1906: 'numb', 1907: 'optimist', 1908: 'obvious', 1909: 'lung', 1910: 'cough', 1911: 'rotten', 1912: 'guests', 1913: 'awful', 1914: 'affairs', 1915: 'engaged', 1916: 'complaints', 1917: 'taste', 1918: 'concentrate', 1919: 'watering', 1920: 'computers', 1921: 'burst', 1922: 'recover', 1923: 'suggested', 1924: 'row', 1925: 'shell', 1926: 'profession', 1927: 'starting', 1928: 'breathe', 1929: 'deeply', 1930: 'schools', 1931: 'envelope', 1932: 'entering', 1933: 'mat', 1934: 'anytime', 1935: 'snake', 1936: 'blast', 1937: 'forgotten', 1938: 'slip', 1939: 'pool', 1940: 'tooth', 1941: 'chemistry', 1942: 'offered', 1943: 'handkerchief', 1944: 'spends', 1945: 'kinds', 1946: 'part-time', 1947: 'arriving', 1948: 'subjects', 1949: 'total', 1950: 'suburbs', 1951: 'actions', 1952: 'currently', 1953: 'eighty', 1954: 'bush', 1955: 'onions', 1956: 'indispensable', 1957: 'writer', 1958: 'treat', 1959: 'salad', 1960: 'cruel', 1961: 'recognized', 1962: 'considered', 1963: 'opportunities', 1964: 'sugar', 1965: 'bookstore', 1966: 'survive', 1967: 'hugged', 1968: 'plastic', 1969: 'dish', 1970: 'natural', 1971: 'trousers', 1972: 'shinjuku', 1973: 'directly', 1974: 'haunted', 1975: 'lent', 1976: 'lecture', 1977: 'writes', 1978: 'fortune', 1979: 'boil', 1980: 'social', 1981: 'basic', 1982: 'mistaken', 1983: 'firm', 1984: 'frequently', 1985: 'youngest', 1986: 'average', 1987: 'height', 1988: 'dislike', 1989: 'searched', 1990: 'bloom', 1991: '8:30', 1992: 'earns', 1993: 'snakes', 1994: 'track', 1995: 'effect', 1996: 'suggest', 1997: 'lay', 1998: 'register', 1999: 'pregnant', 2000: 'knocking', 2001: 'ambulance', 2002: 'biology', 2003: 'hers', 2004: 'leg', 2005: 'criticized', 2006: 'august', 2007: 'yards', 2008: 'heated', 2009: 'discussion', 2010: '9', 2011: 'retire', 2012: 'democracy', 2013: 'papers', 2014: 'regrets', 2015: 'throat', 2016: 'advertising', 2017: 'columbus', 2018: '40,000', 2019: 'professor', 2020: 'unlucky', 2021: 'sides', 2022: 'honesty', 2023: 'garage', 2024: 'master', 2025: 'planted', 2026: 'yard', 2027: 'note', 2028: 'darker', 2029: 'dying', 2030: 'june', 2031: '10th', 2032: 'regularly', 2033: 'suitable', 2034: 'safety', 2035: 'meetings', 2036: 'reasonable', 2037: 'stuff', 2038: 'task', 2039: 'jeans', 2040: 'delay', 2041: 'journey', 2042: 'determined', 2043: 'cigarette', 2044: 'fingers', 2045: 'definitely', 2046: 'buried', 2047: 'rudeness', 2048: 'sits', 2049: 'differently', 2050: 'favor', 2051: 'failure', 2052: 'divide', 2053: 'copy', 2054: 'swam', 2055: 'disasters', 2056: 'announced', 2057: 'mud', 2058: 'prime', 2059: 'sensitive', 2060: 'rumor', 2061: 'philosophy', 2062: 'wished', 2063: 'vague', 2064: 'consideration', 2065: 'lending', 2066: 'nervous', 2067: 'brakes', 2068: 'mailing', 2069: 'diet', 2070: 'skating', 2071: 'cameras', 2072: 'sir', 2073: 'holding', 2074: '500', 2075: 'variety', 2076: 'towns', 2077: 'pocket', 2078: 'kid', 2079: 'drowned', 2080: 'hopes', 2081: 'extent', 2082: 'knowing', 2083: 'doctors', 2084: 'knee', 2085: 'tourist', 2086: 'climbing', 2087: 'planet', 2088: 'supply', 2089: 'responsibility', 2090: 'sells', 2091: 'confused', 2092: 'romantic', 2093: 'foreigner', 2094: 'recognize', 2095: 'exams', 2096: 'eighteen', 2097: 'overslept', 2098: 'alarm', 2099: 'motorcycle', 2100: 'dining', 2101: 'convenient', 2102: 'chairs', 2103: 'silence', 2104: 'vision', 2105: 'roll', 2106: 'spilled', 2107: 'main', 2108: 'candles', 2109: 'bet', 2110: 'pounds', 2111: 'carelessness', 2112: 'requires', 2113: 'explained', 2114: 'attempted', 2115: 'handle', 2116: 'aliens', 2117: 'spending', 2118: 'flew', 2119: 'west', 2120: 'spoon', 2121: 'cloth', 2122: 'blessed', 2123: 'aimed', 2124: 'riding', 2125: 'exciting', 2126: 'photograph', 2127: 'huge', 2128: 'pushed', 2129: 'frankly', 2130: 'member', 2131: 'foreigners', 2132: 'dependent', 2133: 'upstairs', 2134: 'loan', 2135: 'entrance', 2136: 'lesson', 2137: 'brings', 2138: 'adopt', 2139: 'tied', 2140: 'gazed', 2141: 'hire', 2142: 'meals', 2143: 'canceled', 2144: 'steadily', 2145: 'referring', 2146: 'edison', 2147: 'bright', 2148: 'nagoya', 2149: 'earthquakes', 2150: 'landing', 2151: 'sixteen', 2152: 'gentleman', 2153: 'greater', 2154: 'seventeen', 2155: 'rush', 2156: 'following', 2157: 'washes', 2158: 'star', 2159: 'washing', 2160: 'beyond', 2161: 'postponed', 2162: 'double', 2163: 'barber', 2164: 'intelligence', 2165: 'communicate', 2166: 'skirts', 2167: 'relationship', 2168: 'resting', 2169: 'grabbed', 2170: 'fiction', 2171: 'effort', 2172: 'cares', 2173: 'fastest', 2174: 'further', 2175: 'scolded', 2176: 'whale', 2177: 'worrying', 2178: 'rainy', 2179: 'watches', 2180: 'heavier', 2181: 'eight-thirty', 2182: 'swept', 2183: 'yellow', 2184: 'loudly', 2185: 'zealand', 2186: 'properly', 2187: '1972', 2188: 'punished', 2189: 'spare', 2190: 'armed', 2191: 'programs', 2192: 'dawn', 2193: 'program', 2194: 'feels', 2195: 'waiter', 2196: 'earn', 2197: 'shakespeare', 2198: 'recommend', 2199: 'temple', 2200: 'faster', 2201: 'goods', 2202: 'privacy', 2203: 'active', 2204: 'dessert', 2205: 'urgent', 2206: 'monkeys', 2207: 'canadian', 2208: 'ourselves', 2209: 'welcome', 2210: 'convince', 2211: 'buildings', 2212: 'tenth', 2213: 'lead', 2214: 'expert', 2215: 'places', 2216: 'haircut', 2217: 'expectations', 2218: 'embarrassed', 2219: 'notice', 2220: 'prince', 2221: 'fully', 2222: 'associate', 2223: 'flies', 2224: 'stuck', 2225: 'policy', 2226: 'selling', 2227: 'reminds', 2228: 'paying', 2229: 'wise', 2230: 'allergic', 2231: 'july', 2232: 'reads', 2233: 'gate', 2234: 'blew', 2235: 'oldest', 2236: 'circle', 2237: 'nose', 2238: 'shame', 2239: 'overtime', 2240: 'metal', 2241: 'lazy', 2242: 'ceiling', 2243: 'truly', 2244: 'toy', 2245: 'records', 2246: 'unless', 2247: 'within', 2248: 'calm', 2249: 'owes', 2250: 'reasons', 2251: 'politician', 2252: 'believed', 2253: 'lacking', 2254: 'sons', 2255: 'judge', 2256: 'puzzled', 2257: 'personal', 2258: 'banks', 2259: 'presence', 2260: 'bother', 2261: 'thames', 2262: 'kite', 2263: 'grades', 2264: 'doubt', 2265: 'mirror', 2266: 'perfect', 2267: 'fashions', 2268: 'bored', 2269: 'kick', 2270: 'kissed', 2271: 'drunken', 2272: 'emergency', 2273: 'hometown', 2274: 'band', 2275: 'competed', 2276: 'directions', 2277: 'heights', 2278: 'upset', 2279: 'ignored', 2280: 'insisted', 2281: 'bargain', 2282: 'brush', 2283: 'grapes', 2284: 'cleaned', 2285: 'insurance', 2286: 'participated', 2287: 'published', 2288: 'series', 2289: 'excited', 2290: 'nonsense', 2291: 'unexpected', 2292: 'escaped', 2293: 'conditions', 2294: 'affected', 2295: 'request', 2296: 'victory', 2297: 'instead', 2298: 'cafeteria', 2299: 'composition', 2300: 'typical', 2301: 'repeat', 2302: 'tomatoes', 2303: 'extended', 2304: 'helping', 2305: 'john', 2306: 'anger', 2307: 'contain', 2308: 'festival', 2309: 'admitted', 2310: 'meets', 2311: 'laughs', 2312: 'amazing', 2313: 'hakone', 2314: 'nation', 2315: 'gained', 2316: 'holiday', 2317: 'section', 2318: 'shooting', 2319: 'moonlight', 2320: 'blamed', 2321: 'teams', 2322: 'sport', 2323: 'jealous', 2324: 'humid', 2325: 'chat', 2326: 'loss', 2327: 'catches', 2328: 'north', 2329: 'practicing', 2330: 'strawberries', 2331: 'criminal', 2332: 'wild', 2333: 'photos', 2334: 'style', 2335: 'becomes', 2336: 'tends', 2337: 'false', 2338: 'waist', 2339: 'cancel', 2340: 'recovered', 2341: 'quotes', 2342: 'mommy', 2343: 'opposed', 2344: 'irresistible', 2345: 'heartless', 2346: 'calls', 2347: 'stake', 2348: 'misunderstanding', 2349: 'hunter', 2350: 'vodka', 2351: 'adult', 2352: 'unlikely', 2353: 'safely', 2354: 'expenses', 2355: 'digital', 2356: 'charles', 2357: 'argued', 2358: 'aside', 2359: 'orbit', 2360: 'switch', 2361: 'starving', 2362: 'gambling', 2363: 'cows', 2364: 'erased', 2365: 'tape', 2366: 'treatment', 2367: 'twenties', 2368: 'hollywood', 2369: 'biggest', 2370: 'squeezed', 2371: 'cooperation', 2372: 'prohibited', 2373: 'drowning', 2374: 'interfere', 2375: 'barking', 2376: 'letting', 2377: 'hunting', 2378: 'agency', 2379: 'executive', 2380: 'trade', 2381: 'turkey', 2382: 'stock', 2383: 'snack', 2384: 'file', 2385: 'penalty', 2386: 'tire', 2387: 'response', 2388: 'forty', 2389: 'period', 2390: 'blanket', 2391: 'final', 2392: 'cases', 2393: 'chocolates', 2394: '1988', 2395: 'inviting', 2396: 'tip', 2397: 'pretending', 2398: 'adventure', 2399: 'finger', 2400: 'army', 2401: 'departure', 2402: 'fireworks', 2403: 'sweeping', 2404: 'disappoint', 2405: 'showers', 2406: 'conference', 2407: 'jealousy', 2408: 'tomb', 2409: 'dolls', 2410: 'drawing', 2411: 'developing', 2412: 'pride', 2413: 'excuses', 2414: 'glanced', 2415: 'horizon', 2416: 'suited', 2417: 'peaches', 2418: 'surgeon', 2419: 'warnings', 2420: 'quarter', 2421: 'highly', 2422: 'rushed', 2423: 'strictly', 2424: 'approaching', 2425: 'cheating', 2426: 'trap', 2427: 'wrap', 2428: 'alcohol', 2429: 'increasing', 2430: 'beat', 2431: 'voted', 2432: 'stronger', 2433: 'activity', 2434: '1,000', 2435: 'clapped', 2436: 'prove', 2437: 'beautifully', 2438: 'sheep', 2439: 'absolute', 2440: 'nowadays', 2441: 'worthy', 2442: 'visitor', 2443: 'wednesday', 2444: 'forewarned', 2445: 'forearmed', 2446: 'professional', 2447: 'writers', 2448: 'income', 2449: 'windows', 2450: 'souvenir', 2451: 'bitterly', 2452: 'talented', 2453: 'articles', 2454: 'patients', 2455: 'karaoke', 2456: 'blowing', 2457: 'tests', 2458: 'ibm', 2459: 'goal', 2460: 'debt', 2461: 'chosen', 2462: 'comfort', 2463: 'celebrate', 2464: 'cool', 2465: 'changes', 2466: 'particularly', 2467: '155', 2468: 'centimeters', 2469: 'advertised', 2470: 'drawer', 2471: 'interpreter', 2472: 'nickname', 2473: 'itch', 2474: 'tulips', 2475: 'top', 2476: 'racket', 2477: 'travelers', 2478: 'dreams', 2479: '105', 2480: 'numerous', 2481: 'doors', 2482: 'lining', 2483: 'silly', 2484: 'comment', 2485: 'brilliant', 2486: 'microphone', 2487: 'added', 2488: 'stew', 2489: '100,000', 2490: 'ways', 2491: 'blouse', 2492: 'rely', 2493: 'colors', 2494: 'players', 2495: 'cheated', 2496: 'cave', 2497: '11', 2498: 'greatest', 2499: 'artists', 2500: 'lighter', 2501: 'tough', 2502: 'absorbed', 2503: 'ones', 2504: 'damage', 2505: 'bottles', 2506: 'captured', 2507: 'knees', 2508: 'ufo', 2509: 'baggage', 2510: 'figured', 2511: 'pays', 2512: 'event', 2513: 'primary', 2514: 'a.m', 2515: 'length', 2516: 'pirate', 2517: 'belt', 2518: 'opening', 2519: 'participate', 2520: 'clerk', 2521: 'unusual', 2522: 'gathered', 2523: 'totally', 2524: 'reputation', 2525: 'weapon', 2526: 'bullet', 2527: 'breathing', 2528: 'tricked', 2529: 'gloves', 2530: 'conflict', 2531: 'trunk', 2532: 'miracle', 2533: '1970', 2534: 'sandwiches', 2535: 'required', 2536: 'obliged', 2537: 'region', 2538: 'twins', 2539: 'scraped', 2540: 'boots', 2541: 'underestimate', 2542: 'ballpoint', 2543: 'related', 2544: 'tail', 2545: 'lion', 2546: 'criticism', 2547: 'membership', 2548: 'becoming', 2549: 'courageous', 2550: 'military', 2551: 'forces', 2552: 'parked', 2553: 'fix', 2554: 'americans', 2555: 'orders', 2556: 'conditioning', 2557: 'mile', 2558: 'hobbies', 2559: 'judging', 2560: 'hopeless', 2561: 'beating', 2562: 'weapons', 2563: 'swims', 2564: 'shadow', 2565: 'barefooted', 2566: 'scholarship', 2567: 'discovery', 2568: 'classmate', 2569: 'turning', 2570: 'ueno', 2571: 'bankrupt', 2572: 'trips', 2573: 'clever', 2574: 'culture', 2575: 'wool', 2576: 'include', 2577: 'fascinated', 2578: 'conclusion', 2579: 'solar', 2580: 'bottom', 2581: 'demand', 2582: 'soil', 2583: 'requirements', 2584: 'search', 2585: 'tender', 2586: 'disease', 2587: 'confirmed', 2588: 'dry', 2589: 'lack', 2590: 'boiling', 2591: 'guide', 2592: 'exception', 2593: 'doghouse', 2594: 'bathtub', 2595: 'sunset', 2596: 'steady', 2597: 'nations', 2598: 'patted', 2599: 'suffering', 2600: 'lucky', 2601: 'intended', 2602: 'ecology', 2603: '8', 2604: 'tune', 2605: 'bathroom', 2606: 'quarreling', 2607: 'intersection', 2608: 'richest', 2609: 'assembled', 2610: 'fridge', 2611: 'sunny', 2612: 'illuminated', 2613: 'smells', 2614: 'sue', 2615: 'risky', 2616: 'critical', 2617: 'detail', 2618: 'hyogo', 2619: 'arabic', 2620: 'pieces', 2621: 'handwriting', 2622: 'imports', 2623: 'nara', 2624: 'wooden', 2625: 'mice', 2626: 'smiling', 2627: 'towards', 2628: 'practiced', 2629: 'thunder', 2630: 'competitions', 2631: 'fan', 2632: 'oysters', 2633: 'grip', 2634: 'begun', 2635: 'qualified', 2636: 'command', 2637: 'thoughts', 2638: 'contented', 2639: 'awkward', 2640: 'bow', 2641: 'fare', 2642: 'encouraged', 2643: 'chief', 2644: 'bluest', 2645: 'fired', 2646: 'barked', 2647: 'mailman', 2648: 'sensible', 2649: 'threatened', 2650: 'disaster', 2651: 'happiest', 2652: 'laundry', 2653: 'waving', 2654: 'sensing', 2655: 'occur', 2656: 'refuses', 2657: 'ordinary', 2658: 'reap', 2659: 'sow', 2660: 'kites', 2661: 'overseas', 2662: 'tries', 2663: 'dryer', 2664: 'funeral', 2665: 'exhibition', 2666: 'recovering', 2667: 'skate', 2668: 'mandarin', 2669: 'improve', 2670: 'korean', 2671: 'closest', 2672: 'pharmacy', 2673: 'reserve', 2674: 'pan', 2675: 'devil', 2676: 'wanting', 2677: 'exchange', 2678: 'forgiven', 2679: 'shaving', 2680: 'indoors', 2681: 'sock', 2682: 'forgive', 2683: 'claim', 2684: 'strength', 2685: 'pens', 2686: 'devoted', 2687: 'fools', 2688: 'angels', 2689: 'tread', 2690: 'higher', 2691: 'email', 2692: 'okay', 2693: 'finds', 2694: 'terribly', 2695: 'glitters', 2696: 'p.m', 2697: 'dialed', 2698: 'dreamed', 2699: 'spell', 2700: 'description', 2701: 'adults', 2702: 'deaf', 2703: 'popcorn', 2704: 'expelled', 2705: 'hotels', 2706: 'surprising', 2707: 'skier', 2708: 'ex-boyfriend', 2709: 'ladies', 2710: 'wages', 2711: 'autograph', 2712: 'liquid', 2713: 'embassy', 2714: 'shibuya', 2715: 'spicy', 2716: 'parties', 2717: 'demanded', 2718: 'beholder', 2719: 'yokohama', 2720: 'gray', 2721: 'rings', 2722: 'offended', 2723: 'austria', 2724: 'arithmetic', 2725: 'service', 2726: 'budget', 2727: 'neighbor', 2728: 'fluency', 2729: 'awesome', 2730: 'figure', 2731: 'coast', 2732: 'trash', 2733: 'kiss', 2734: 'data', 2735: 'exact', 2736: 'complained', 2737: 'tsunami', 2738: 'ache', 2739: 'mornings', 2740: 'burning', 2741: 'flooded', 2742: 'disliked', 2743: 'concerts', 2744: 'thread', 2745: 'approval', 2746: 'mailbox', 2747: 'contrary', 2748: 'mix', 2749: 'baikal', 2750: 'yelling', 2751: 'manager', 2752: 'strain', 2753: 'physics', 2754: 'divorce', 2755: 'postcard', 2756: 'occupied', 2757: 'territory', 2758: 'guns', 2759: 'scientists', 2760: 'frost', 2761: 'cups', 2762: 'subscribe', 2763: 'jump', 2764: 'apologies', 2765: 'torn', 2766: 'completed', 2767: 'efforts', 2768: 'vain', 2769: 'remarkable', 2770: 'losses', 2771: 'steak', 2772: 'literature', 2773: 'hammer', 2774: 'robbery', 2775: 'waved', 2776: 'customs', 2777: 'faults', 2778: 'custody', 2779: 'adopted', 2780: 'teens', 2781: 'reports', 2782: 'sobbing', 2783: 'british', 2784: 'guidebook', 2785: 'sentences', 2786: 'besides', 2787: 'bitten', 2788: 'mosquito', 2789: 'sixty', 2790: 'guilt', 2791: 'parks', 2792: 'elephants', 2793: 'shelter', 2794: 'drivers', 2795: 'revolve', 2796: 'buys', 2797: 'upon', 2798: 'coward', 2799: 'scientific', 2800: 'liar', 2801: 'forgetting', 2802: 'picking', 2803: 'path', 2804: 'rabbit', 2805: 'handling', 2806: 'accompanied', 2807: 'tasted', 2808: 'finnish', 2809: 'tours', 2810: 'dolphin', 2811: 'reviews', 2812: 'apologized', 2813: 'vacuum', 2814: 'participants', 2815: 'complains', 2816: 'election', 2817: 'consists', 2818: 'claims', 2819: 'snare', 2820: 'cared', 2821: 'horror', 2822: 'furnished', 2823: 'tells', 2824: 'glue', 2825: 'whispered', 2826: 'floors', 2827: 'limit', 2828: 'arrogance', 2829: 'increase', 2830: 'deals', 2831: 'addition', 2832: 'hero', 2833: 'architect', 2834: 'impatient', 2835: 'connection', 2836: 'impolite', 2837: 'disagree', 2838: 'everywhere', 2839: 'cabin', 2840: 'marathon', 2841: 'newspapers', 2842: 'sleeps', 2843: 'visits', 2844: 'destination', 2845: 'electrical', 2846: 'detective', 2847: 'battle', 2848: 'checking', 2849: 'sometime', 2850: 'gardening', 2851: 'highest', 2852: 'tiny', 2853: 'drew', 2854: 'blackboard', 2855: 'elephant', 2856: 'bomb', 2857: 'bars', 2858: 'affection', 2859: 'evil', 2860: 'astonished', 2861: 'ahead', 2862: 'mahjong', 2863: 'officers', 2864: 'potatoes', 2865: 'disturbed', 2866: 'supplies', 2867: 'sheets', 2868: 'emotions', 2869: 'affair', 2870: 'salty', 2871: 'partners', 2872: 'denies', 2873: 'cured', 2874: 'attractive', 2875: 'bigger', 2876: 'six-thirty', 2877: 'pure', 2878: 'swedish', 2879: 'mention', 2880: 'relies', 2881: 'stretched', 2882: 'itself', 2883: 'soldier', 2884: 'nail', 2885: 'carrying', 2886: 'prisoner', 2887: 'staff', 2888: 'evident', 2889: '119', 2890: 'astonish', 2891: 'society', 2892: 'mammal', 2893: 'crisis', 2894: 'jumping', 2895: 'frightening', 2896: 'pound', 2897: 'differ', 2898: 'standard', 2899: 'employment', 2900: 'base', 2901: 'ignorance', 2902: 'interfered', 2903: 'angel', 2904: 'criticizing', 2905: 'crash', 2906: 'demonstration', 2907: 'crush', 2908: 'clubs', 2909: 'bothering', 2910: 'behaves', 2911: 'coal', 2912: 'ups', 2913: 'downs', 2914: 'influence', 2915: 'pry', 2916: 'human', 2917: 'nobel', 2918: 'floating', 2919: 'forgave', 2920: 'attack', 2921: 'application', 2922: 'appointed', 2923: 'confessed', 2924: 'border', 2925: 'onto', 2926: 'warmed', 2927: 'impression', 2928: 'volcano', 2929: 'central', 2930: 'lovely', 2931: 'uneasy', 2932: 'pants', 2933: '10:30', 2934: 'stadium', 2935: 'complain', 2936: 'afterwards', 2937: 'deliver', 2938: 'admiring', 2939: 'spread', 2940: 'require', 2941: 'laid', 2942: 'touched', 2943: 'bark', 2944: 'focus', 2945: 'california', 2946: 'planets', 2947: 'replaced', 2948: 'compare', 2949: 'answers', 2950: 'essays', 2951: 'lines', 2952: 'rivers', 2953: 'twenty-five', 2954: 'products', 2955: 'campus', 2956: 'exceptionally', 2957: 'ai', 2958: 'item', 2959: 'leads', 2960: 'foxes', 2961: 'indeed', 2962: 'musicians', 2963: 'mustache', 2964: 'joy', 2965: 'wheat', 2966: 'cricket', 2967: 'economic', 2968: 'loaf', 2969: 'misunderstood', 2970: 'vitamin', 2971: 'c', 2972: 'junior', 2973: 'runner', 2974: 'puppy', 2975: 'closing', 2976: 'apply', 2977: 'suntan', 2978: 'conscious', 2979: 'background', 2980: 'ability', 2981: 'selfish', 2982: 'counter', 2983: 'guarantee', 2984: 'deserves', 2985: 'chairperson', 2986: 'singapore', 2987: 'previous', 2988: 'weeds', 2989: 'seaside', 2990: 'backward', 2991: 'painting', 2992: 'assigned', 2993: 'arms', 2994: 'suggestions', 2995: 'power', 2996: 'daydreaming', 2997: 'hilton', 2998: 'mountains', 2999: 'holidays', 3000: 'depressed', 3001: 'sore', 3002: 'pink', 3003: 'environmental', 3004: 'wink', 3005: 'stores', 3006: 'stream', 3007: 'scary', 3008: 'difficulties', 3009: 'flour', 3010: 'innocence', 3011: 'contains', 3012: 'cart', 3013: 'excused', 3014: 'possibility', 3015: 'flames', 3016: 'relevant', 3017: 'causing', 3018: 'batteries', 3019: 'calculator', 3020: 'facing', 3021: 'sufficient', 3022: 'shine', 3023: 'advertisements', 3024: 'collection', 3025: 'pepper', 3026: 'coincidence', 3027: 'sasayama', 3028: 'pig', 3029: 'lessons', 3030: 'rising', 3031: 'typist', 3032: 'equivalent', 3033: 'paintings', 3034: 'tricks', 3035: 'suspiciously', 3036: 'x-ray', 3037: 'deny', 3038: 'fountain', 3039: 'destroyed', 3040: 'prevent', 3041: 'businessman', 3042: 'iceland', 3043: 'denmark', 3044: 'bee', 3045: 'jam', 3046: 'ridiculous', 3047: 'shock', 3048: 'reply', 3049: 'dj', 3050: 'strangers', 3051: 'freeze', 3052: 'crossing', 3053: 'customers', 3054: 'abstract', 3055: 'involved', 3056: 'delete', 3057: 'snows', 3058: 'camping', 3059: 'raced', 3060: 'practical', 3061: 'heaven', 3062: 'scar', 3063: 'square', 3064: 'impressed', 3065: 'heating', 3066: 'rested', 3067: 'modern', 3068: 'interrupt', 3069: '100', 3070: 'gain', 3071: 'current', 3072: 'graham', 3073: 'greene', 3074: 'parts', 3075: 'collected', 3076: 'voting', 3077: 'solid', 3078: 'contest', 3079: 'folded', 3080: 'bookshelf', 3081: 'potato', 3082: 'hired', 3083: 'preparations', 3084: 'bombs', 3085: 'stepped', 3086: 'habits', 3087: 'statement', 3088: 'cheaper', 3089: 'poems', 3090: 'smelled', 3091: 'tobacco', 3092: 'planes', 3093: 'acknowledged', 3094: 'soap', 3095: 'crops', 3096: 'basis', 3097: 'shave', 3098: 'solving', 3099: 'feed', 3100: 'schoolbag', 3101: 'explosion', 3102: 'stubborn', 3103: 'loses', 3104: 'sendai', 3105: 'eager', 3106: 'persuaded', 3107: 'traditional', 3108: 'rolling', 3109: 'permitting', 3110: 'actor', 3111: 'crimes', 3112: 'oxford', 3113: 'makeup', 3114: 'using', 3115: 'englishman', 3116: 'invested', 3117: 'fighting', 3118: 'cute', 3119: 'oven', 3120: 'body', 3121: 'mission', 3122: 'penny', 3123: 'driven', 3124: 'behaved', 3125: 'december', 3126: 'weird', 3127: 'damp', 3128: 'closet', 3129: 'sort', 3130: 'gather', 3131: 'changing', 3132: 'enjoys', 3133: 'original', 3134: 'bumped', 3135: 'items', 3136: 'irregular', 3137: 'verbs', 3138: 'hike', 3139: 'dealing', 3140: 'rejected', 3141: 'milton', 3142: 'miyazaki', 3143: 'prevents', 3144: 'hook', 3145: 'tailor', 3146: 'dallas', 3147: 'propose', 3148: 'honor', 3149: 'quietly', 3150: 'fries', 3151: 'boasts', 3152: 'acquire', 3153: 'hurried', 3154: 'welcomed', 3155: 'warmly', 3156: 'pulled', 3157: 'swarm', 3158: 'hornets', 3159: 'stirred', 3160: 'teaspoon', 3161: 'built-in', 3162: 'equals', 3163: 'bookkeeping', 3164: 'academic', 3165: 'fraud', 3166: 'lindbergh', 3167: 'solo', 3168: 'atlantic', 3169: '1927', 3170: 'stained', 3171: '2020', 3172: 'doubled', 3173: 'swimmers', 3174: 'moons', 3175: 'saturn', 3176: 'volcanic', 3177: 'ash', 3178: 'disrupted', 3179: 'mysterious', 3180: 'atmosphere', 3181: '165', 3182: 'neptune', 3183: 'halley', 3184: 'comet', 3185: '2061', 3186: 'stingy', 3187: 'oscar', 3188: 'ceremonies', 3189: 'extravaganza', 3190: 'damaged', 3191: 'satellites', 3192: 'revolving', 3193: 'planting', 3194: 'weatherman', 3195: 'mysteries', 3196: 'acquired', 3197: 'needle', 3198: 'haystack', 3199: 'foods', 3200: 'role', 3201: 'worn', 3202: 'heroes', 3203: 'hairdressers', 3204: 'gay', 3205: 'elderberry', 3206: 'usa', 3207: 'extraordinary', 3208: 'sorrow', 3209: 'guts', 3210: 'guitarist', 3211: 'flat', 3212: 'pillow', 3213: 'stir', 3214: 'applicable', 3215: 'displeased', 3216: 'app', 3217: 'folds', 3218: 'cranes', 3219: 'tripped', 3220: 'research', 3221: 'bookcase', 3222: 'watermelon', 3223: 'jungle', 3224: 'semester', 3225: 'pointed', 3226: 'weeded', 3227: 'hurting', 3228: 'hick', 3229: 'seattle', 3230: 'asap', 3231: 'imported', 3232: 'argentina', 3233: 'spectacular', 3234: 'dived', 3235: 'farewell', 3236: 'prejudice', 3237: 'doubts', 3238: 'underpants', 3239: 'satellite', 3240: 'evacuate', 3241: 'knack', 3242: 'disgusted', 3243: 'leisure', 3244: 'machinery', 3245: 'comedian', 3246: 'rocks', 3247: 'narrow', 3248: 'nasty', 3249: 'sees', 3250: 'briefly', 3251: 'parking', 3252: 'knives', 3253: 'forks', 3254: 'based', 3255: 'risen', 3256: 'survivor', 3257: 'falls', 3258: 'zao', 3259: 'sung', 3260: 'robot', 3261: 'brain', 3262: 'circumstances', 3263: 'elementary', 3264: 'lansing', 3265: 'state', 3266: 'michigan', 3267: 'deadline', 3268: 'imperative', 3269: 'resemblance', 3270: 'accompanies', 3271: 'consumption', 3272: 'monopoly', 3273: 'families', 3274: 'chopin', 3275: 'hesitate', 3276: 'assistance', 3277: 'passive', 3278: 'demonstrated', 3279: 'cents', 3280: 'marital', 3281: 'status', 3282: 'hedge', 3283: 'envied', 3284: 'winds', 3285: 'moist', 3286: 'roast', 3287: 'illustrated', 3288: 'duck', 3289: 'hopefully', 3290: 'mobile', 3291: '65', 3292: 'mercy', 3293: 'dictator', 3294: 'disagreement', 3295: 'tunes', 3296: 'gasoline', 3297: 'horrible', 3298: 'immune', 3299: 'smallpox', 3300: 'dieting', 3301: 'bedrooms', 3302: 'repeatedly', 3303: 'plants', 3304: 'buttons', 3305: 'weed', 3306: 'interrupting', 3307: 'elderly', 3308: 'location', 3309: 'calmed', 3310: 'one-way', 3311: 'melt', 3312: 'stove', 3313: 'abundant', 3314: 'resources', 3315: 'immigrants', 3316: '3:30', 3317: 'conversationalist', 3318: 'shortly', 3319: 'kilogram', 3320: 'carelessly', 3321: 'unaware', 3322: 'organ', 3323: 'shops', 3324: 'shounan', 3325: 'bulb', 3326: 'reducing', 3327: 'stress', 3328: 'organic', 3329: 'trivial', 3330: 'twenty-year-old', 3331: 'approve', 3332: 'tigers', 3333: 'liable', 3334: 'smarter', 3335: 'theme', 3336: 'wig', 3337: 'genuine', 3338: 'old-fashioned', 3339: 'rainbow', 3340: 'underneath', 3341: 'felicja', 3342: 'bugs', 3343: 'monthly', 3344: 'girlfriends', 3345: 'robbed', 3346: 'souls', 3347: 'cookie', 3348: 'arrogant', 3349: 'battered', 3350: 'clint', 3351: 'eastwood', 3352: 'carmel', 3353: 'slowing', 3354: 'overlooked', 3355: 'prettier', 3356: 'proactive', 3357: 'raising', 3358: 'fees', 3359: 'shining', 3360: 'broccoli', 3361: 'measure', 3362: 'denied', 3363: 'prosecutor', 3364: 'leading', 3365: 'rode', 3366: 'fortunately', 3367: 'persecuted', 3368: 'manufactures', 3369: 'originally', 3370: 'invisible', 3371: 'tour', 3372: 'pulling', 3373: 'rabbi', 3374: 'temples', 3375: 'overweight', 3376: 'nuts', 3377: '60', 3378: 'briefcase', 3379: 'saudi', 3380: 'arabia', 3381: 'lower', 3382: 'coke', 3383: 'bringing', 3384: 'cia', 3385: 'chipped', 3386: 'equal', 3387: '4,000', 3388: 'figures', 3389: 'suspect', 3390: 'palms', 3391: 'bending', 3392: 'deprived', 3393: '1492', 3394: 'national', 3395: 'experiences', 3396: 'deceitful', 3397: 'halt', 3398: 'comb', 3399: 'instantly', 3400: 'piloted', 3401: 'harbor', 3402: 'refreshing', 3403: 'degree', 3404: 'peach', 3405: 'banged', 3406: 'fist', 3407: 'shutting', 3408: 'swimsuit', 3409: 'overcome', 3410: 'confuse', 3411: 'realized', 3412: 'pointless', 3413: 'malnutrition', 3414: 'niger', 3415: 'kidnappers', 3416: 'effective', 3417: 'freeloaders', 3418: 'pilot', 3419: 'erupted', 3420: 'laughter', 3421: 'suitcases', 3422: 'dates', 3423: 'twelfth', 3424: 'babies', 3425: 'manage', 3426: 'responding', 3427: 'towel', 3428: 'praying', 3429: 'immigrate', 3430: 'well-known', 3431: 'action', 3432: 'gentle', 3433: 'ebola', 3434: 'spreads', 3435: 'bodily', 3436: 'fluids', 3437: 'graveyard', 3438: 'listens', 3439: 'handled', 3440: 'resourceful', 3441: 'unidentified', 3442: 'object', 3443: '2', 3444: 'mutual', 3445: 'understanding', 3446: 'promotes', 3447: 'envious', 3448: 'string', 3449: 'smokes', 3450: 'honorable', 3451: 'l.a.', 3452: 'bakes', 3453: 'annoy', 3454: 'coach', 3455: 'investigate', 3456: 'tolerated', 3457: 'quits', 3458: 'j.f', 3459: 'kennedy', 3460: 'arlington', 3461: 'cemetery', 3462: 'feathers', 3463: 'economical', 3464: 'official', 3465: 'honda', 3466: 'starvation', 3467: 'coral', 3468: 'reef', 3469: 'attraction', 3470: 'association', 3471: 'thermometers', 3472: 'frogs', 3473: 'actinium', 3474: 'andré-louis', 3475: 'debierne', 3476: '1899', 3477: 'wept', 3478: 'awoke', 3479: 'point-blank', 3480: 'paragraph', 3481: 'goof', 3482: 'scores', 3483: 'marine', 3484: 'biologist', 3485: 'reread', 3486: 'tampered', 3487: 'ebay', 3488: 'existence', 3489: 'paranormal', 3490: 'phenomena', 3491: 'optimists', 3492: 'pessimists', 3493: '1980', 3494: 'coin', 3495: 'sidewalk', 3496: 'obviously', 3497: 'equipped', 3498: 'unique', 3499: 'panel', 3500: 'experts', 3501: 'hypothesis', 3502: 'three-fourths', 3503: 'hug', 3504: 'secrets', 3505: 'revealed', 3506: 'beers', 3507: 'phoned', 3508: 'inspect', 3509: 'spelling', 3510: 'kissing', 3511: 'sunrise', 3512: 'nuclear', 3513: 'nights', 3514: 'mike', 3515: 'athletic', 3516: 'topics', 3517: 'fallen', 3518: 'balance', 3519: 'pockets', 3520: 'exhaust', 3521: 'causes', 3522: 'defined', 3523: 'desires', 3524: 'designer', 3525: 'endangered', 3526: 'species', 3527: 'spiders', 3528: 'promoted', 3529: 'disneyland', 3530: 'startling', 3531: 'dreamt', 3532: 'vending', 3533: 'youth', 3534: 'artistic', 3535: 'peacefully', 3536: 'abilities', 3537: 'tourists', 3538: 'exquisite', 3539: 'thumb', 3540: 'balloon', 3541: 'respond', 3542: 'garbage', 3543: 'vegetable', 3544: 'mercury', 3545: 'smallest', 3546: 'tires', 3547: 'racist', 3548: 'prized', 3549: 'possession', 3550: 'wasted', 3551: 'valentine', 3552: 'force', 3553: 'sail', 3554: 'agreement', 3555: 'clown', 3556: 'january', 3557: 'burden', 3558: 'inconvenience', 3559: 'chopsticks', 3560: 'barometer', 3561: 'falling', 3562: 'diplomacy', 3563: 'tourism', 3564: 'revise', 3565: 'affectionate', 3566: 'victims', 3567: 'suspicions', 3568: 'cleaning', 3569: 'summers', 3570: 'childish', 3571: 'venice', 3572: 'hungarian', 3573: 'streets', 3574: 'pages', 3575: 'brighter', 3576: 'shanghai', 3577: 'humiliate', 3578: 'alarmed', 3579: 'irresponsible', 3580: 'whiter', 3581: 'heavily', 3582: 'equator', 3583: 'divides', 3584: 'globe', 3585: 'hemispheres', 3586: 'illusion', 3587: 'candy', 3588: 'photographer', 3589: 'venture', 3590: '25', 3591: 'skilled', 3592: 'fisherman', 3593: 'legal', 3594: 'finest', 3595: 'acting', 3596: 'rung', 3597: 'arrives', 3598: 'kitadake', 3599: 'hurricane', 3600: 'lined', 3601: 'telegram', 3602: 'smack', 3603: 'fellow', 3604: 'deceived', 3605: 'heart-to-heart', 3606: 'dig', 3607: 'turkish', 3608: 'obtained', 3609: 'yield', 3610: 'investment', 3611: 'severe', 3612: 'philosopher', 3613: 'goodbyes', 3614: 'presented', 3615: 'golden', 3616: 'direction', 3617: 'desperate', 3618: 's', 3619: 'mechanic', 3620: 'engine', 3621: 'occasional', 3622: 'returns', 3623: 'disturbing', 3624: 'gym', 3625: 'condition', 3626: 'electrician', 3627: 'burns', 3628: 'cheapest', 3629: 'external', 3630: 'jewelry', 3631: 'swear', 3632: 'yourselves', 3633: 'closer', 3634: 'regard', 3635: 'exceeded', 3636: 'exports', 3637: 'stink', 3638: 'jaw', 3639: 'abducted', 3640: 'beethoven', 3641: 'musician', 3642: 'urban', 3643: 'ban', 3644: 'thrilling', 3645: 'u.n', 3646: 'repairing', 3647: 'unavoidable', 3648: 'spy', 3649: 'paved', 3650: 'asphalt', 3651: 'concerns', 3652: 'hundreds', 3653: 'buffaloes', 3654: 'armchair', 3655: 'extension', 3656: 'cord', 3657: 'elders', 3658: 'roman', 3659: 'council', 3660: 'admires', 3661: 'kilometers', 3662: 'dutch', 3663: 'closely', 3664: 'fog', 3665: 'optimistic', 3666: 'challenge', 3667: 'citizen', 3668: 'declared', 3669: '1950', 3670: 'plunged', 3671: 'record', 3672: 'collect', 3673: 'despite', 3674: 'riches', 3675: 'signal', 3676: 'conditioner', 3677: 'akita', 3678: 'obstinate', 3679: 'etched', 3680: 'freezing', 3681: 'polish', 3682: 'hesitation', 3683: 'uniforms', 3684: 'follows', 3685: 'inattention', 3686: 'prisoners', 3687: 'barely', 3688: 'sarcastic', 3689: 'dedication', 3690: 'ends', 3691: 'heroine', 3692: 'unfamiliar', 3693: 'precedent', 3694: 'stressed', 3695: 'aspects', 3696: 'lens', 3697: 'arrow', 3698: 'deer', 3699: 'germans', 3700: 'pencils', 3701: 'liverpool', 3702: 'fax', 3703: 'worries', 3704: 'bend', 3705: 'whistled', 3706: 'beckoned', 3707: 'taxes', 3708: 'expired', 3709: 'three-year-old', 3710: 'allied', 3711: 'pleased', 3712: 'awake', 3713: 'voices', 3714: 'defeated', 3715: 'doggy', 3716: 'undressed', 3717: 'marches', 3718: 'capacity', 3719: 'remedial', 3720: 'vases', 3721: 'literally', 3722: 'drenched', 3723: 'handles', 3724: 'advocate', 3725: 'uncles', 3726: 'tags', 3727: 'betrays', 3728: 'calendar', 3729: 'maternal', 3730: 'dove', 3731: 'autobiography', 3732: 'sorts', 3733: 'sheraton', 3734: 'quiz', 3735: 'wires', 3736: 'convey', 3737: 'distasteful', 3738: 'misjudged', 3739: 'good-looking', 3740: 'mozart', 3741: 'princess', 3742: 'pretends', 3743: 'serpent', 3744: 'tempted', 3745: 'eve', 3746: 'shrill', 3747: 'crushed', 3748: 'industrial', 3749: 'pour', 3750: 'melted', 3751: 'wit', 3752: 'flipped', 3753: 'fusion', 3754: 'combination', 3755: 'painful', 3756: 'generous', 3757: 'whole-heartedly', 3758: 'distract', 3759: 'sewing', 3760: 'employees', 3761: 'pardon', 3762: 'musical', 3763: 'instrument', 3764: 'enabled', 3765: 'subscriptions', 3766: 'inspired', 3767: 'relieved', 3768: 'cargo', 3769: 'gentlemen', 3770: 'arrival', 3771: 'impressions', 3772: 'determine', 3773: 'gallons', 3774: 'nissan', 3775: 'diplomats', 3776: 'various', 3777: 'privileges', 3778: 'sum', 3779: 'cheered', 3780: 'olympic', 3781: 'diary', 3782: 'wrist', 3783: 'massive', 3784: 'structure', 3785: 'achieved', 3786: 'bug', 3787: 'surrounding', 3788: 'foolish', 3789: 'clears', 3790: 'stockholm', 3791: 'sweden', 3792: 'countless', 3793: 'twinkling', 3794: 'risks', 3795: 'streaked', 3796: 'grand', 3797: 'antique', 3798: 'unfairly', 3799: 'intervene', 3800: 'producers', 3801: 'knob', 3802: 'stomachache', 3803: 'unfit', 3804: 'fright', 3805: 'accuracy', 3806: '1996', 3807: 'pumps', 3808: 'reagan', 3809: 'photographs', 3810: 'unknown', 3811: 'fabulous', 3812: 'snowfall', 3813: 'marketable', 3814: 'skill', 3815: 'formed', 3816: 'first-year', 3817: 'ogai', 3818: 'manufacture', 3819: 'shown', 3820: 'lid', 3821: 'ages', 3822: 'tin', 3823: 'accurate', 3824: 'humiliated', 3825: 'amusing', 3826: 'vibe', 3827: 'half-hearted', 3828: 'manner', 3829: 'brandy', 3830: 'cancelled', 3831: 'ninety', 3832: 'translated', 3833: 'blessing', 3834: 'tunnel', 3835: 'committed', 3836: 'suicide', 3837: 'parcel', 3838: 'warn', 3839: 'complaint', 3840: 'sails', 3841: 'strait', 3842: 'gibraltar', 3843: 'tsunamis', 3844: 'fields', 3845: 'repay', 3846: 'grandchild', 3847: 'mars', 3848: 'gracious', 3849: 'apparently', 3850: 'grammatical', 3851: 'rowing', 3852: 'restroom', 3853: 'basho', 3854: 'luckily', 3855: 'teased', 3856: 'cage', 3857: 'otherwise', 3858: 'repainted', 3859: 'whisper', 3860: 'tottori', 3861: 'lawn', 3862: 'division', 3863: 'mist', 3864: 'brushing', 3865: 'passes', 3866: 'somehow', 3867: 'controversial', 3868: 'delivered', 3869: 'clung', 3870: 'branches', 3871: 'floodwaters', 3872: 'approved', 3873: 'appreciates', 3874: 'booth', 3875: 'tightly', 3876: 'm', 3877: 'valuables', 3878: 'pursue', 3879: 'inspiration', 3880: 'jesus', 3881: 'christ', 3882: 'hail', 3883: 'derived', 3884: 'latin', 3885: 'verify', 3886: 'greenhouse', 3887: 'imaginary', 3888: 'jack', 3889: 'rate', 3890: 'shattered', 3891: 'mid-forties', 3892: 'undressing', 3893: 'conclusions', 3894: 'pin', 3895: 'sincere', 3896: 'bathe', 3897: 'broadcast', 3898: 'tapes', 3899: '6:00', 3900: 'cholesterol', 3901: 'shipping', 3902: 'flash', 3903: 'pigsty', 3904: 'stapler', 3905: 'pastime', 3906: 'apt', 3907: 'nests', 3908: 'rapid', 3909: 'overreacting', 3910: 'neglected', 3911: 'duties', 3912: 'fasten', 3913: 'contemporary', 3914: 'happily', 3915: 'essentially', 3916: 'chinatown', 3917: '90', 3918: 'permanent', 3919: 'scrambled', 3920: 'gang', 3921: 'hated', 3922: 'searching', 3923: 'intrude', 3924: 'flame', 3925: 'stupidest', 3926: 'celebrations', 3927: 'insect', 3928: 'blinded', 3929: 'booked', 3930: 'divorces', 3931: '1880', 3932: 'remove', 3933: 'stains', 3934: 'burnt', 3935: 'intervenes', 3936: 'campfire', 3937: 'melons', 3938: 'matches', 3939: 'vary', 3940: 'shared', 3941: 'uncertain', 3942: 'acquaintance', 3943: 'origins', 3944: 'features', 3945: 'harvest', 3946: 'pta', 3947: 'verge', 3948: 'blossom', 3949: 'established', 3950: '1650', 3951: 'waterfall', 3952: 'deserve', 3953: 'imaginative', 3954: 'uncooperative', 3955: 'san', 3956: 'francisco', 3957: '1989', 3958: 'issue', 3959: 'definite', 3960: 'slippery', 3961: 'toothache', 3962: 'chinese-style', 3963: 'korea', 3964: '2008.', 3965: 'orphan', 3966: 'monster', 3967: 'manholes', 3968: 'accidentally', 3969: 'thursday', 3970: 'shizuoka', 3971: 'scenic', 3972: 'realistic', 3973: 'graceful', 3974: 'methods', 3975: 'despise', 3976: 'permit', 3977: 'hypocritical', 3978: 'mistakenly', 3979: 'railroad', 3980: 'parallel', 3981: 'port', 3982: 'effects', 3983: 'duty-free', 3984: 'attributes', 3985: '3:00', 3986: 'cottages', 3987: 'isolated', 3988: 'trainer', 3989: 'communicated', 3990: 'hop', 3991: 'rescue', 3992: 'nine-to-five', 3993: 'weep', 3994: 'user', 3995: 'amazon', 3996: 'fake', 3997: 'asian', 3998: 'cleaner', 3999: 'leaks', 4000: 'ignore', 4001: 'predicting', 4002: 'leader', 4003: 'stitch', 4004: 'saves', 4005: 'thirtieth', 4006: 'workday', 4007: 'william', 4008: 'product', 4009: 'skies', 4010: 'mp3', 4011: 'chill', 4012: 'canary', 4013: 'handball', 4014: 'playground', 4015: 'senior', 4016: 'core', 4017: 'tapped', 4018: 'evaporates', 4019: 'daddy', 4020: 'haste', 4021: 'dolled', 4022: 'hardwood', 4023: 'shade', 4024: 'coins', 4025: 'errands', 4026: 'wan', 4027: 'na', 4028: 'tag', 4029: 'hakodate', 4030: 'dances', 4031: 'relaxed', 4032: 'worsening', 4033: 'exceed', 4034: 'stepping', 4035: 'handy', 4036: 'satisfy', 4037: 'succeeding', 4038: 'vietnam', 4039: 'veteran', 4040: 'numbers', 4041: 'shelters', 4042: 'printing', 4043: 'interview', 4044: 'landlord', 4045: 'raise', 4046: 'serves', 4047: 'logic', 4048: 'mess', 4049: 'acted', 4050: 'bowling', 4051: 'intriguing', 4052: 'diplomat', 4053: 'hats', 4054: 'uk', 4055: 'abbreviation', 4056: 'kingdom', 4057: 'grasp', 4058: 'machines', 4059: 'abraham', 4060: '16th', 4061: 'log', 4062: 'kentucky', 4063: 'absconded', 4064: 'going-away', 4065: 'possess', 4066: 'desirable', 4067: 'lottery', 4068: 'conform', 4069: 'bounce', 4070: 'seated', 4071: 'produces', 4072: 't.v', 4073: 'three-bedroom', 4074: 'compartment', 4075: 'gravy', 4076: 'delighted', 4077: 'balls', 4078: 'cleaners', 4079: 'receipt', 4080: 'hostess', 4081: 'thorn', 4082: 'disagreeing', 4083: 'passage', 4084: 'governor', 4085: 'training', 4086: 'equipment', 4087: 'cakes', 4088: 'baked', 4089: 'witch', 4090: 'trick', 4091: 'blog', 4092: 'kelly', 4093: 'assist', 4094: 'europeans', 4095: 'alphabet', 4096: '13-year-old', 4097: 'florence', 4098: '3.00', 4099: 'marvels', 4100: 'indifferent', 4101: 'english-english', 4102: 'hamlet', 4103: 'pleasures', 4104: 'property', 4105: 'staring', 4106: 'guarding', 4107: 'esperanto', 4108: 'enthusiasm', 4109: 'italians', 4110: 'roared', 4111: 'mark', 4112: 'knopfler', 4113: 'jar', 4114: 'authority', 4115: 'malaysia', 4116: 'indistinguishable', 4117: 'sunglasses', 4118: 'laptop', 4119: 'forte', 4120: 'pendant', 4121: 'shortest', 4122: 'acid', 4123: 'unlike', 4124: 'sheet', 4125: 'submitted', 4126: 'cornered', 4127: 'rat', 4128: 'particular', 4129: 'fares', 4130: 'collars', 4131: 'fantasy', 4132: 'digestion', 4133: 'ultraviolet', 4134: 'rays', 4135: 'release', 4136: 'conveniently', 4137: 'merry', 4138: 'imagine', 4139: 'version', 4140: 'receive', 4141: 'tales', 4142: 'soft', 4143: 'takasu', 4144: 'clinic', 4145: 'mandatory', 4146: 'access', 4147: 'stab', 4148: 'liz', 4149: 'ambitions', 4150: 'breaks', 4151: 'strengths', 4152: 'weaknesses', 4153: 'gums', 4154: 'bleed', 4155: 'undo', 4156: 'seawater', 4157: 'libras', 4158: 'tested', 4159: '2009', 4160: 'identical', 4161: 'phase', 4162: 'sin', 4163: 'independent', 4164: 'local', 4165: 'ultimate', 4166: 'mountaineering', 4167: 'shortage', 4168: 'rise', 4169: 'marketing', 4170: 'supplied', 4171: 'joining', 4172: 'motel', 4173: 'accommodate', 4174: '400', 4175: 'careless', 4176: 'islam', 4177: '7th', 4178: 'exceptions', 4179: 'quart', 4180: 'cockroaches', 4181: 'bones', 4182: 'reporter', 4183: 'elegant', 4184: '2003', 4185: 'twisted', 4186: 'ankle', 4187: 'arab', 4188: 'visibly', 4189: 'whales', 4190: 'width', 4191: 'breast-feeding', 4192: 'karuizawa', 4193: 'arched', 4194: 'groaned', 4195: 'toolkit', 4196: 'woolen', 4197: 'obligation', 4198: 'shaking', 4199: 'leaning', 4200: 'suruga', 4201: 'bay', 4202: 'triple', 4203: 'shouting', 4204: 'towers', 4205: 'slid', 4206: 'respectful', 4207: 'superiors', 4208: 'sawing', 4209: 'mixed', 4210: 'hong', 4211: 'kong', 4212: 'companies', 4213: 'implemented', 4214: 'eight-hour', 4215: 'decreasing', 4216: 'recognition', 4217: 'lamp', 4218: 'dial', 4219: 'indicated', 4220: 'nineties', 4221: 'veranda', 4222: 'depart', 4223: 'intimidate', 4224: 'links', 4225: 'bulky', 4226: 'curtains', 4227: 'simplest', 4228: 'observations', 4229: 'disregarded', 4230: 'lets', 4231: 'explode', 4232: 'gratify', 4233: 'classless', 4234: 'suggestion', 4235: 'irritable', 4236: 'hassle', 4237: 'gains', 4238: 'bungee', 4239: 'ac', 4240: '839', 4241: 'reflection', 4242: 'undone', 4243: 'jst', 4244: 'guaranteed', 4245: 'rates', 4246: 'officer', 4247: 'password', 4248: 'pinched', 4249: 'compiling', 4250: 'software', 4251: 'click', 4252: 'helmet', 4253: 'grasped', 4254: 'growled', 4255: 'cheerful', 4256: 'beds', 4257: 'shoot', 4258: 'unlocked', 4259: 'forehead', 4260: '180', 4261: 'elbows', 4262: 'dripping', 4263: 'sweat', 4264: 'vancouver', 4265: 'captivate', 4266: 'witnessed', 4267: 'meadow', 4268: 'doorknob', 4269: 'dusts', 4270: 'fewer', 4271: 'insist', 4272: 'sneaked', 4273: 'screwed', 4274: 'amplifier', 4275: 'accidents', 4276: 'phoenix', 4277: 'arizona', 4278: 'fainted', 4279: 'via', 4280: 'unanimously', 4281: 'appoint', 4282: 'ceo', 4283: 'insane', 4284: 'tiptoed', 4285: 'cross-country', 4286: 'french-english', 4287: 'rear', 4288: 'fuels', 4289: 'counted', 4290: 'whoever', 4291: 'soul', 4292: 'decreased', 4293: 'cries', 4294: 'permits', 4295: 'resigned', 4296: 'fled', 4297: 'identified', 4298: 'murderer', 4299: 'tremendous', 4300: 'twenty-one', 4301: 'teresa', 4302: 'denying', 4303: 'incredibly', 4304: 'surfboard', 4305: 'steals', 4306: 'playfully', 4307: 'waltz', 4308: 'resides', 4309: 'hunch', 4310: 'kidnapped', 4311: 'director', 4312: 'opposite', 4313: 'shiga', 4314: 'navy', 4315: 'imitation', 4316: 'ex-husband', 4317: 'kidding', 4318: 'website', 4319: 'layout', 4320: 'tolerate', 4321: 'audacity', 4322: 'cheat', 4323: 'necessarily', 4324: 'deli', 4325: 'next-door', 4326: 'pairs', 4327: 'civil', 4328: 'impressive', 4329: 'attic', 4330: 'declare', 4331: '455', 4332: 'twentieth', 4333: 'pregnancy', 4334: 'unconscious', 4335: 'depressing', 4336: 'vacant', 4337: 'willpower', 4338: 'fabric', 4339: '600', 4340: 'slavery', 4341: 'punishment', 4342: 'treason', 4343: 'aso', 4344: '14', 4345: '1960', 4346: 'entries', 4347: 'bern', 4348: 'owner', 4349: 'rio', 4350: 'de', 4351: 'janeiro', 4352: 'areas', 4353: 'mongrel', 4354: 'stewardess', 4355: 'reluctantly', 4356: 'former', 4357: 'champion', 4358: 'fits', 4359: 'android', 4360: 'adding', 4361: 'conduct', 4362: 'upcoming', 4363: 'babysitting', 4364: 'occasions', 4365: 'appearances', 4366: 'debate', 4367: 'ripped', 4368: 'exercising', 4369: 'wakes', 4370: 'commute', 4371: 'rewrite', 4372: 'chances', 4373: 'outrank', 4374: 'humble', 4375: 'context', 4376: 'orchard', 4377: 'dried', 4378: 'carpenter', 4379: 'ribbon', 4380: 'sunflower', 4381: 'fans', 4382: 'earliest', 4383: 'cutting', 4384: 'cigarettes', 4385: '6:30', 4386: 'cashier', 4387: 'suspects', 4388: 'rises', 4389: 'investigation', 4390: 'pluto', 4391: 'talent', 4392: 'adjust', 4393: 'considerate', 4394: 'stressful', 4395: 'league', 4396: 'swiss', 4397: 'consume', 4398: 'wizard', 4399: 'consecutive', 4400: 'footprints', 4401: 'sand', 4402: 'partied', 4403: 'frozen', 4404: 'towada', 4405: 'seminar', 4406: 'vowed', 4407: 'attempts', 4408: 'fame', 4409: 'discarded', 4410: 'ten-minute', 4411: 'depending', 4412: 'credibility', 4413: 'restart', 4414: 'transfer', 4415: 'millions', 4416: 'sheer', 4417: 'precious', 4418: 'belts', 4419: 'accepting', 4420: 'entirely', 4421: 'inconsequential', 4422: 'governed', 4423: 'seasons', 4424: 'tear', 4425: 'approximately', 4426: 'bounced', 4427: 'initials', 4428: 'ntt', 4429: 'worst-case', 4430: 'scenario', 4431: 'represent', 4432: 'mansion', 4433: 'speeches', 4434: 'marie', 4435: 'curie', 4436: 'radium', 4437: 'locker', 4438: 'inquiries', 4439: 'intimate', 4440: 'mumps', 4441: 'concise', 4442: 'automatically', 4443: 'embraced', 4444: 'profits', 4445: 'shaved', 4446: 'forgets', 4447: 'anniversary', 4448: 'backwards', 4449: 'shone', 4450: 'decorated', 4451: 'barley', 4452: 'revolution', 4453: 'republic', 4454: 'caged', 4455: 'spur', 4456: 'growth', 4457: 'oatmeal', 4458: 'thou', 4459: 'shalt', 4460: 'pasture', 4461: 'acres', 4462: 'tossed', 4463: 'spite', 4464: 'threat', 4465: 'all-day', 4466: 'strings', 4467: 'leftovers', 4468: 'abandoned', 4469: 'lively', 4470: 'electronic', 4471: 'smartest', 4472: 'ladder', 4473: 'slightly', 4474: 'garlic', 4475: 'cooks', 4476: 'comic', 4477: 'greet', 4478: 'fooling', 4479: 'hiccups', 4480: 'harry', 4481: 'potter', 4482: 'lame', 4483: 'tangerines', 4484: 'provided', 4485: 'fairies', 4486: 'hamamatsu', 4487: 'camel', 4488: 'desert', 4489: 'u.s.', 4490: 'vote', 4491: 'secretly', 4492: 'grandpa', 4493: 'paradise', 4494: 'sake', 4495: 'cutest', 4496: 'masterpiece', 4497: 'compute', 4498: 'remembering', 4499: 'savings', 4500: 'plastics', 4501: 'conventional', 4502: 'sight-seeing', 4503: 'survival', 4504: 'inseparable', 4505: 'lotion', 4506: 'twitter', 4507: 'inn', 4508: 'annoying', 4509: 'roommate', 4510: 'skis', 4511: 'forgetful', 4512: 'scold', 4513: 'injuries', 4514: 'i.d', 4515: 'northern', 4516: 'hemisphere', 4517: 'airlines', 4518: 'check-in', 4519: 'rifle', 4520: 'seine', 4521: 'boats', 4522: 'anticipate', 4523: 'seventeenth', 4524: 'einstein', 4525: 'adorable', 4526: 'sprang', 4527: 'straighten', 4528: 'soviet', 4529: 'union', 4530: 'collapsed', 4531: 'bent', 4532: 'unbelievably', 4533: 'estimated', 4534: 'dipped', 4535: 'uniform', 4536: 'astrology', 4537: 'celsius', 4538: 'syringe', 4539: 'observatory', 4540: 'concept', 4541: 'chiba', 4542: 'dumped', 4543: 'copies', 4544: 'ski', 4545: 'investors', 4546: 'withdrew', 4547: 'organized', 4548: 'journalist', 4549: 'ridge', 4550: 'suspected', 4551: 'entertaining', 4552: 'especially', 4553: 'universe', 4554: 'limitless', 4555: 'examinations', 4556: 'term', 4557: 'fatal', 4558: 'screwball', 4559: 'maintain', 4560: 'poisoner', 4561: 'intent', 4562: 'recorder', 4563: 'goals', 4564: 'logically', 4565: 'altogether', 4566: 'nominated', 4567: 'calvin', 4568: 'coolidge', 4569: 'vice', 4570: '800', 4571: 'improving', 4572: 'aisle', 4573: 'presents', 4574: 'thick', 4575: 'folks', 4576: 'oxygen', 4577: 'socialize', 4578: 'recovery', 4579: 'sigh', 4580: 'relief', 4581: 'withered', 4582: 'moral', 4583: 'design', 4584: 'poked', 4585: 'importance', 4586: 'normal', 4587: 'scolding', 4588: 'ten-dollar', 4589: 'frighten', 4590: 'confronted', 4591: 'yeast', 4592: 'owned', 4593: 'mosquitoes', 4594: 'meditation', 4595: 'replace', 4596: 'cartridge', 4597: 'printer', 4598: 'rabbits', 4599: 'tails', 4600: 'tuner', 4601: 'bites', 4602: '32', 4603: 'fahrenheit', 4604: 'accelerated', 4605: 'defended', 4606: 'invaders', 4607: 'stays', 4608: 'vitamins', 4609: 'arranging', 4610: 'sweetheart', 4611: 'cuff', 4612: 'pub', 4613: 'abnormal', 4614: 'grumbling', 4615: 'financial', 4616: 'self', 4617: 'urge', 4618: 'luxuries', 4619: 'incalculable', 4620: 'remembers', 4621: 'veterinarian', 4622: 'includes', 4623: 'tax', 4624: 'resigning', 4625: 'destroy', 4626: 'drug', 4627: 'jointly', 4628: 'childishly', 4629: 'rap', 4630: 'keio', 4631: 'impractical', 4632: 'deputy', 4633: 'consented', 4634: 'overestimate', 4635: 'pours', 4636: 'flashlight', 4637: 'egypt', 4638: 'slapped', 4639: 'cattle', 4640: 'halfway', 4641: 'thrilled', 4642: 'acorns', 4643: 'ambulances', 4644: 'borders', 4645: 'unwise', 4646: 'curry', 4647: 'mouths', 4648: 'goodnight', 4649: 'novelist', 4650: 'aerobics', 4651: '98', 4652: 'survived', 4653: 'mathematical', 4654: 'neighbour', 4655: 'obese', 4656: 'keeping', 4657: 'cambridge', 4658: 'honors', 4659: 'commerce', 4660: 'congratulated', 4661: 'steam', 4662: 'boiled', 4663: 'ample', 4664: 'exaggerating', 4665: 'hottest', 4666: 'eyed', 4667: 'willingly', 4668: 'healthiest', 4669: 'koala', 4670: 'newspaperman', 4671: 'hitting', 4672: 'sanctuary', 4673: 'aches', 4674: 'confirm', 4675: 'addressed', 4676: 'widespread', 4677: 'panic', 4678: 'meth', 4679: 'addict', 4680: 'temptation', 4681: 'remain', 4682: 'admonished', 4683: 'noisy', 4684: 'widely-spoken', 4685: 'scuba', 4686: 'diving', 4687: 'moderate', 4688: 'fearless', 4689: 'remodeled', 4690: 'mild', 4691: 'belonged', 4692: 'couch', 4693: 'notes', 4694: 'sting', 4695: 'declarations', 4696: 'variables', 4697: 'c++', 4698: 'bullied', 4699: 'composers', 4700: 'kilometres', 4701: 'undergo', 4702: 'meaningful', 4703: 'points', 4704: 'gravity', 4705: 'roughly', 4706: 'stooped', 4707: 'pebble', 4708: 'prejudiced', 4709: 'nerve', 4710: 'quarrels', 4711: 'refugees', 4712: 'postcards', 4713: 'nevada', 4714: 'flush', 4715: 'slaves', 4716: 'construct', 4717: 'questioned', 4718: 'biting', 4719: 'nails', 4720: 'visa', 4721: 'loose', 4722: 'flights', 4723: '2,700', 4724: 'honshu', 4725: 'swearing', 4726: 'inches', 4727: 'worship', 4728: 'bless', 4729: 'permitted', 4730: 'narita', 4731: 'promising', 4732: 'advise', 4733: 'matsue', 4734: 'fought', 4735: 'tissue', 4736: 'astonishment', 4737: 'affects', 4738: 'blown', 4739: 'personally', 4740: 'reported', 4741: 'scrap', 4742: 'champagne', 4743: 'puzzle', 4744: 'resembled', 4745: 'adjoins', 4746: 'amazingly', 4747: 'blisters', 4748: 'stupidity', 4749: 'spot', 4750: 'prophecy', 4751: 'avoided', 4752: 'kicked', 4753: '50,000', 4754: 'interpreted', 4755: 'refusal', 4756: 'trace', 4757: 'well-written', 4758: 'independence', 4759: '1947', 4760: 'undercooked', 4761: 'holes', 4762: 'agreeing', 4763: 'loans', 4764: 'remarks', 4765: 'desks', 4766: 'mend', 4767: 'activities', 4768: 'shocked', 4769: 'agreeable', 4770: 'strongest', 4771: 'candidate', 4772: 'lean', 4773: 'closes', 4774: 'farmer', 4775: 'decisions', 4776: 'pretext', 4777: 'resisting', 4778: 'closets', 4779: 'mastered', 4780: 'beginners', 4781: 'roller-skate', 4782: 'skinny', 4783: 'created', 4784: '17', 4785: 'fuel', 4786: 'gauge', 4787: 'pace', 4788: 'chewed', 4789: 'swallowed', 4790: 'proficient', 4791: 'farsi', 4792: 'carries', 4793: 'spray', 4794: 'forty-five', 4795: 'parade', 4796: 'bitter', 4797: 'attributed', 4798: 'edge', 4799: 'reconsider', 4800: 'neutral', 4801: 'folding', 4802: 'salesman', 4803: 'shrines', 4804: 'arrests', 4805: 'putt', 4806: 'farms', 4807: 'timing', 4808: '3,000', 4809: 'distances', 4810: 'spices', 4811: 'symbol', 4812: 'elbowed', 4813: 'susceptible', 4814: 'begged', 4815: 'possibly', 4816: 'generate', 4817: 'magnetism', 4818: 'whisky', 4819: 'unbelievable', 4820: 'foundation', 4821: 'general', 4822: 'consumers', 4823: 'quantity', 4824: 'adjective', 4825: 'noun', 4826: 'woollen', 4827: 'textiles', 4828: 'internet', 4829: 'masters', 4830: 'queen', 4831: 'elizabeth', 4832: '1603', 4833: 'self-confidence', 4834: 'stones', 4835: 'loving', 4836: 'eiffel', 4837: 'reserved', 4838: 'softly', 4839: 'dedicated', 4840: 'orphans', 4841: 'tenor', 4842: 'saxophone', 4843: 'dignified', 4844: 'mere', 4845: 'knit', 4846: 'apologetic', 4847: 'frowned', 4848: 'matchbox', 4849: 'straightening', 4850: 'faxes', 4851: 'emails', 4852: 'warmer', 4853: 'petals', 4854: 'antiques', 4855: 'headed', 4856: 'unnecessary', 4857: 'dreaming', 4858: 'pronunciation', 4859: 'hacked', 4860: 'locking', 4861: 'alike', 4862: 'bizarre', 4863: 'theories', 4864: 'continent', 4865: 'avoidable', 4866: 'eighty-one', 4867: 'performance', 4868: 'turtles', 4869: 'reptiles', 4870: 'aboard', 4871: 'amends', 4872: 'hint', 4873: 'vaccinated', 4874: 'flu', 4875: 'patio', 4876: 'smiles', 4877: 'walls', 4878: 'dye', 4879: 'blonde', 4880: 'richer', 4881: '3202-5625', 4882: 'airplanes', 4883: 'prairies', 4884: 'freshened', 4885: 'pose', 4886: 'trout', 4887: 'journal', 4888: 'breaking', 4889: 'telephones', 4890: 'booklet', 4891: '12', 4892: 'predictions', 4893: 'scholar', 4894: 'air-conditioned', 4895: 'farsighted', 4896: 'classical', 4897: 'views', 4898: 'respects', 4899: 'homeroom', 4900: 'dealt', 4901: '0', 4902: 'centigrade', 4903: 'eligible', 4904: 'rubbish', 4905: 'beasts', 4906: 'eagle', 4907: 'accompany', 4908: 'contribute', 4909: 'starved', 4910: 'ham', 4911: 'neatly', 4912: 'telephoned', 4913: 'consoling', 4914: 'leather', 4915: 'philippines', 4916: 'tidal', 4917: 'waves', 4918: 'resulted', 4919: 'deaths', 4920: '6,000', 4921: 'bawling', 4922: 'secretive', 4923: 'assumption', 4924: 'pools', 4925: 'poetry', 4926: 'sweets', 4927: 'shoulders', 4928: 'elaborate', 4929: 'hiccup', 4930: 'sipped', 4931: 'unpleasant', 4932: '1689', 4933: 'premonition', 4934: 'grown', 4935: 'regions', 4936: 'bandages', 4937: 'peg', 4938: 'parliament', 4939: 'officially', 4940: 'ryoutarou', 4941: 'hashimoto', 4942: '52nd', 4943: 'gazing', 4944: 'paces', 4945: 'self-evident', 4946: 'wide', 4947: 'helicopter', 4948: 'overhead', 4949: 'internship', 4950: 'unbearable', 4951: 'buffet', 4952: 'retract', 4953: 'treatments', 4954: 'sciences', 4955: 'homesick', 4956: 'confident', 4957: 'barbershop', 4958: '28th', 4959: '1888', 4960: 'brazil', 4961: 'brasilia', 4962: '4:00', 4963: 'two-story', 4964: 'networks', 4965: 'lenses', 4966: 'naked', 4967: 'install', 4968: 'antenna', 4969: 'peace-loving', 4970: 'checks', 4971: 'mexico', 4972: 'snickered', 4973: 'finishing', 4974: 'poisoning', 4975: 'nonstop', 4976: 'thai', 4977: 'implying', 4978: 'fitting', 4979: 'fruits', 4980: 'advances', 4981: '1636', 4982: 'toothaches', 4983: 'chimney', 4984: 'applications', 4985: 'slice', 4986: 'safer', 4987: 'analyzed', 4988: 'sidney', 4989: 'sheldon', 4990: 'passing', 4991: 'bitterness', 4992: 'umbrellas', 4993: 'self-made', 4994: 'greek', 4995: 'appropriate', 4996: 'achieve', 4997: 'brass', 4998: 'marching', 4999: 'zimbabwe', 5000: 'colony', 5001: 'lips', 5002: 'liquor', 5003: 'connects', 5004: 'two-year', 5005: 'arisen', 5006: 'grammar', 5007: 'scotch', 5008: 'choices', 5009: 'wrinkles', 5010: 'accidental', 5011: 'logged', 5012: 'glamorous', 5013: 'puts', 5014: 'windy', 5015: 'calculation', 5016: 'signed', 5017: 'lease', 5018: 'parasol', 5019: 'wiser', 5020: 'belief', 5021: 'eighth', 5022: 'blooming', 5023: 'fooled', 5024: 'translating', 5025: 'sights', 5026: 'warrant', 5027: 'visitors', 5028: 'a.m.', 5029: 'carrots', 5030: 'insured', 5031: 'statistics', 5032: 'pliable', 5033: '1985', 5034: 'communication', 5035: 'racial', 5036: 'discrimination', 5037: 'disadvantage', 5038: 'dyed', 5039: 'assignment', 5040: 'endure', 5041: 'countryside', 5042: 'emerging', 5043: 'pear', 5044: 'pressed', 5045: 'soared', 5046: 'marrying', 5047: 'blenders', 5048: 'smoothies', 5049: 'colombian', 5050: 'drugs', 5051: 'jiffy', 5052: 'hopeful', 5053: 'placed', 5054: 'consequences', 5055: 'pigs', 5056: 'characteristics', 5057: 'beings', 5058: 'aspired', 5059: 'businessmen', 5060: 'constantly', 5061: 'occupation', 5062: 'character', 5063: 'fundamental', 5064: 'harajuku', 5065: 'restaurants', 5066: 'veterinary', 5067: 'waits', 5068: 'hiking', 5069: 'bathed', 5070: 'abstain', 5071: 'clicked', 5072: 'authorized', 5073: 'erase', 5074: 'memories', 5075: 'ii', 5076: '1945', 5077: 'exhibits', 5078: 'confidence', 5079: 'considering', 5080: 'unanimous', 5081: 'millionaire', 5082: 'milkshake', 5083: 'perseverance', 5084: 'judgement', 5085: 'rainfall', 5086: 'deserted', 5087: 'pacemaker', 5088: 'magician', 5089: 'preserve', 5090: 'decay', 5091: 'defeatist', 5092: 'unsatisfied', 5093: 'voyage', 5094: 'pack', 5095: 'sued', 5096: 'damages', 5097: 'puffs', 5098: 'ruins', 5099: 'drawers', 5100: 'employed', 5101: 'privately', 5102: 'quantities', 5103: 'quoted', 5104: 'beans', 5105: 'statue', 5106: 'hachiko', 5107: 'faithful', 5108: 'teeming', 5109: 'carpentry', 5110: 'elevator', 5111: 'knock', 5112: 'sumo', 5113: 'gathers', 5114: 'moss', 5115: 'deeds', 5116: 'injury', 5117: 'joined', 5118: 'disguised', 5119: 'toad', 5120: 'textbook', 5121: 'microscope', 5122: 'telescope', 5123: 'concern', 5124: 'hen', 5125: 'cv', 5126: 'gifts', 5127: 'speakers', 5128: 'slave', 5129: 'deteriorating', 5130: 'testified', 5131: 'fifth-largest', 5132: 'producer', 5133: 'encores', 5134: 'checkout', 5135: 'rocket', 5136: 'launched', 5137: 'finishes', 5138: 'deprivation', 5139: 'increases', 5140: 'attacks', 5141: 'ringtone', 5142: 'laziest', 5143: 'document', 5144: 'harmony', 5145: 'packages', 5146: 'root', 5147: 'surgery', 5148: 'earthworm', 5149: 'wriggled', 5150: 'temporary', 5151: 'thirteen', 5152: 'taiwan', 5153: 'sociopaths', 5154: 'display', 5155: 'remorse', 5156: 'picasso', 5157: 'discoveries', 5158: 'doorbell', 5159: 'pheasant', 5160: 'handyman', 5161: 'aging', 5162: 'thoroughly', 5163: 'minimum', 5164: 'wage', 5165: 'okinawa', 5166: '642', 5167: 'continents', 5168: 'shore', 5169: 'engrossed', 5170: 'lighten', 5171: 'corrected', 5172: 'charming', 5173: 'unsure', 5174: 'leak', 5175: 'hazel', 5176: 'creature', 5177: 'unusually', 5178: 'preferred', 5179: 'dictionaries', 5180: 'canoe', 5181: 'sink', 5182: 'bliss', 5183: 'championship', 5184: 'melancholic', 5185: 'bits', 5186: 'shipment', 5187: 'drinkers', 5188: 'blacks', 5189: 'whites', 5190: 'meddling', 5191: 'colorado', 5192: '9:00', 5193: 'belly', 5194: 'text', 5195: 'purchase', 5196: 'hidden', 5197: 'cozy', 5198: 'headwords', 5199: 'requested', 5200: 'abolish', 5201: 'apron', 5202: 'bananas', 5203: 'meditate', 5204: 'defects', 5205: 'infrared', 5206: 'pacific', 5207: 'responded', 5208: 'basement', 5209: 'los', 5210: 'angeles', 5211: 'dim', 5212: 'smith', 5213: 'abated', 5214: 'pitch', 5215: 'demands', 5216: 'gibberish', 5217: 'bald', 5218: 'tent', 5219: 'supreme', 5220: 'court', 5221: 'firewood', 5222: 'canadians', 5223: 'sashimi', 5224: 'shaves', 5225: 'unfinished', 5226: 'vegetarian', 5227: 'compromise', 5228: 'thieves', 5229: 'ships', 5230: 'crew', 5231: 'coincides', 5232: 'subtle', 5233: 'differences', 5234: 'financially', 5235: 'saving', 5236: 'blondes', 5237: 'handbag', 5238: 'pepperoni', 5239: 'chips', 5240: 'transported', 5241: 'clues', 5242: 'temperate', 5243: 'daily', 5244: 'eavesdropping', 5245: 'cherry', 5246: 'blossoms', 5247: 'dragon', 5248: 'algebra', 5249: 'yawned', 5250: 'emotional', 5251: 'hare', 5252: 'tortoise', 5253: 'lifted', 5254: 'ok.', 5255: 'bali', 5256: 'tools', 5257: 'stripes', 5258: 'horizontal', 5259: 'fancy', 5260: 'parted', 5261: 'steps', 5262: 'wow', 5263: 'deadlock', 5264: 'blueberries', 5265: 'blackberries', 5266: 'cherries', 5267: 'nectarines', 5268: 'ruined', 5269: 'blushing', 5270: 'crater', 5271: 'sketched', 5272: 'peoples', 5273: 'affect', 5274: 'warning', 5275: 'pipe', 5276: 'disposal', 5277: 'acts', 5278: 'bowl', 5279: 'murmur', 5280: 'brook', 5281: 'lulls', 5282: 'tragic', 5283: 'overnight', 5284: 'necessity', 5285: 'religious', 5286: 'abate', 5287: 'senator', 5288: 'censured', 5289: 'congressional', 5290: 'ethics', 5291: 'exists', 5292: 'pochi', 5293: 'span', 5294: 'butterfly', 5295: 'candlelight', 5296: 'mastering', 5297: 'influenced', 5298: 'delays', 5299: 'commanded', 5300: 'fork', 5301: 'umpire', 5302: 'dollar', 5303: 'homes', 5304: 'cardboard', 5305: 'pollen', 5306: 'birmingham', 5307: 'platform', 5308: 'justice', 5309: 'prevail', 5310: 'p.m.', 5311: 'sadly', 5312: 'appeal', 5313: 'madrid', 5314: 'household', 5315: 'patriotism', 5316: 'remote', 5317: 'left-handed', 5318: 'physician', 5319: 'worm', 5320: 'shirtless', 5321: 'awfully', 5322: 'shed', 5323: 'cap', 5324: 'astronaut', 5325: 'toyota', 5326: 'ford', 5327: 'easy-going', 5328: 'fate', 5329: 'imposing', 5330: 'beliefs', 5331: 'cramped', 5332: 'weigh', 5333: 'female', 5334: 'capitals', 5335: 'publication', 5336: 'timed', 5337: 'coincide', 5338: 'seventy', 5339: 'misses', 5340: 'ambiguities', 5341: 'senses', 5342: 'slamming', 5343: 'thoughtful', 5344: 'microwave', 5345: 'comics', 5346: 'toothpaste', 5347: 'engagement', 5348: 'madman', 5349: 'frequent', 5350: 'progressing', 5351: 'abstained', 5352: 'invite', 5353: 'shoebox', 5354: 'capable', 5355: '40', 5356: 'scarf', 5357: 'interrupted', 5358: 'jet', 5359: 'landed', 5360: 'fourth', 5361: 'rats', 5362: 'simply', 5363: 'divine', 5364: 'spilt', 5365: 'wasting', 5366: 'underwater', 5367: 'survivors', 5368: 'topic', 5369: 'poker', 5370: 'drum', 5371: 'self-service', 5372: 'in-laws', 5373: 'bridges', 5374: 'ten-thirty', 5375: 'narrowly', 5376: 'handing', 5377: 'blocked', 5378: 'landslide', 5379: 'fireplace', 5380: 'developed', 5381: 'tool', 5382: 'drugstore', 5383: 'brazen', 5384: 'defiance', 5385: 'perform', 5386: 'educated', 5387: 'stroganoff', 5388: 'containers', 5389: 'airtight', 5390: 'universities', 5391: 'fast-moving', 5392: 'policemen', 5393: 'intruded', 5394: '1,600', 5395: 'retiring', 5396: '19th', 5397: 'loaves', 5398: 'alice', 5399: 'bible', 5400: 'priest', 5401: 'timetable', 5402: 'unlock', 5403: 'bribes', 5404: 'highway', 5405: '58', 5406: 'admired', 5407: 'non-smoking', 5408: 'violated', 5409: 'sour', 5410: 'stocks', 5411: 'germanic', 5412: 'lad', 5413: 'stack', 5414: 'political', 5415: 'career', 5416: 'capture', 5417: 'over-sleeping', 5418: 'spared', 5419: 'pains', 5420: 'annoyed', 5421: 'noises', 5422: 'rugby', 5423: 'differs', 5424: 'washington', 5425: 'drowsy', 5426: 'awarded', 5427: 'online', 5428: 'utterly', 5429: 'joints', 5430: 'extremes', 5431: 'satisfactory', 5432: 'accomplished', 5433: 'deposit', 5434: 'extreme', 5435: 'remind', 5436: 'nagasaki', 5437: 'youngsters', 5438: 'thirty-one', 5439: 'liking', 5440: 'strict', 5441: 'catching', 5442: 'cycling', 5443: 'short-sleeved', 5444: 'shirts', 5445: 'sailing', 5446: 'weekends', 5447: 'confidential', 5448: 'conceal', 5449: 'disappointment', 5450: 'proceed', 5451: 'agenda', 5452: '56', 5453: 'russell', 5454: 'welfare', 5455: 'sewage', 5456: 'pollutes', 5457: 'loser', 5458: 'statues', 5459: 'stopover', 5460: 'warrior', 5461: 'weakness', 5462: 'stage', 5463: 'roller', 5464: 'skates', 5465: 'occurred', 5466: 'deciding', 5467: 'sleeve', 5468: 'accomplish', 5469: 'spilling', 5470: 'phrase', 5471: 'wealthy', 5472: 'modest', 5473: 'hawk', 5474: 'mouse', 5475: 'ceases', 5476: 'parrot', 5477: 'pet', 5478: 'cupcakes', 5479: 'ties', 5480: 'boarding', 5481: 'execution', 5482: 'eleventh', 5483: 'artist', 5484: 'calculated', 5485: 'opposition', 5486: 'springs', 5487: 'schoolroom', 5488: 'absence', 5489: 'fonder', 5490: 'field', 5491: 'educational', 5492: 'foster', 0: 'UNK', 1: 'PAD'}\n"
     ]
    }
   ],
   "source": [
    "print(inv_en_dict)\n"
   ]
  },
  {
   "cell_type": "code",
   "execution_count": 0,
   "metadata": {
    "colab": {
     "base_uri": "https://localhost:8080/",
     "height": 54
    },
    "colab_type": "code",
    "collapsed": true,
    "id": "EinIXvxWnDlh",
    "outputId": "a3e7ad71-702a-4edc-9c84-0252c1af896e"
   },
   "outputs": [
    {
     "name": "stdout",
     "output_type": "stream",
     "text": [
      "{2: 'BOS', 3: 'EOS', 4: '。', 5: '我', 6: '的', 7: '了', 8: '你', 9: '他', 10: '是', 11: '一', 12: '在', 13: '不', 14: '？', 15: '有', 16: '她', 17: '這', 18: '很', 19: '姆', 20: '，', 21: '要', 22: '人', 23: '天', 24: '們', 25: '個', 26: '去', 27: '到', 28: '这', 29: '汤', 30: '上', 31: '们', 32: '个', 33: '什', 34: '好', 35: '想', 36: '那', 37: '嗎', 38: '子', 39: '能', 40: '么', 41: '看', 42: '得', 43: '做', 44: '會', 45: '多', 46: '下', 47: '生', 48: '吗', 49: '以', 50: '裡', 51: '大', 52: '來', 53: '可', 54: '麼', 55: '会', 56: '道', 57: '都', 58: '来', 59: '没', 60: '喜', 61: '把', 62: '家', 63: '知', 64: '?', 65: '事', 66: '就', 67: '起', 68: '说', 69: '本', 70: '作', 71: '沒', 72: '时', 73: '为', 74: '常', 75: '里', 76: '車', 77: '為', 78: '意', 79: '打', 80: '年', 81: '和', 82: '時', 83: '地', 84: '自', 85: '說', 86: '吃', 87: '用', 88: '成', 89: '出', 90: '工', 91: '日', 92: '些', 93: '法', 94: '孩', 95: '給', 96: '學', 97: '明', 98: '晚', 99: '點', 100: '前', 101: '今', 102: '最', 103: '英', 104: '開', 105: '小', 106: '中', 107: '信', 108: '請', 109: '学', 110: '回', 111: '哪', 112: '候', 113: '行', 114: '真', 115: '所', 116: '歡', 117: '房', 118: '對', 119: '告', 120: '它', 121: '跟', 122: '给', 123: '過', 124: '点', 125: '被', 126: '比', 127: '车', 128: '每', 129: '語', 130: '正', 131: '昨', 132: '早', 133: '何', 134: '欢', 135: '書', 136: '相', 137: '果', 138: '过', 139: '父', 140: '高', 141: '必', 142: '太', 143: '着', 144: '快', 145: '对', 146: '儿', 147: '心', 148: '公', 149: '您', 150: '如', 151: '再', 152: '手', 153: '开', 154: '已', 155: '住', 156: '该', 157: '非', 158: '美', 159: '湯', 160: '球', 161: '任', 162: '定', 163: '丽', 164: '感', 165: '該', 166: '0', 167: '花', 168: '十', 169: '走', 170: '間', 171: 'o', 172: '怎', 173: '名', 174: '西', 175: '玛', 176: '女', 177: '让', 178: '望', 179: '讓', 180: '經', 181: '友', 182: '老', 183: '面', 184: '间', 185: '语', 186: '話', 187: '发', 188: '需', 189: '完', 190: '见', 191: '著', 192: '问', 193: '话', 194: '火', 195: '次', 196: '應', 197: '親', 198: '只', 199: '男', 200: '母', 201: '力', 202: '书', 203: '見', 204: '己', 205: '也', 206: '现', 207: '期', 208: '電', 209: '問', 210: '物', 211: '认', 212: '朋', 213: '加', 214: 'T', 215: '还', 216: '士', 217: '從', 218: '三', 219: '之', 220: '同', 221: '！', 222: '照', 223: '現', 224: '音', 225: 'm', 226: ' ', 227: '样', 228: '受', 229: '找', 230: '新', 231: '外', 232: '方', 233: '国', 234: '理', 235: '分', 236: '機', 237: '少', 238: '但', 239: '等', 240: '水', 241: '雨', 242: '放', 243: '从', 244: '發', 245: '始', 246: '字', 247: '更', 248: '解', 249: '校', 250: '國', 251: '游', 252: '東', 253: '情', 254: '希', 255: '星', 256: '長', 257: '吧', 258: '全', 259: '像', 260: '幫', 261: '觉', 262: '经', 263: '認', 264: '应', 265: '聽', 266: '直', 267: '後', 268: '狗', 269: '待', 270: '电', 271: '重', 272: '於', 273: '無', 274: '别', 275: '餐', 276: '睡', 277: '喝', 278: '请', 279: '午', 280: '文', 281: '1', 282: '服', 283: '玩', 284: '钱', 285: '月', 286: '路', 287: '錢', 288: '于', 289: '樣', 290: '通', 291: '站', 292: '弟', 293: '诉', 294: '件', 295: '后', 296: '活', 297: '爸', 298: '婚', 299: '當', 300: '教', 301: '將', 302: '助', 303: '妹', 304: '色', 305: '近', 306: '然', 307: '讀', 308: '題', 309: '听', 310: '忙', 311: '位', 312: '步', 313: '衣', 314: '因', 315: '泳', 316: '谁', 317: '笑', 318: '買', 319: ',', 320: '還', 321: '穿', 322: '久', 323: '帮', 324: '幾', 325: '班', 326: '鐘', 327: '周', 328: '氣', 329: '兒', 330: '兩', 331: '白', 332: '覺', 333: '趣', 334: '樂', 335: '利', 336: '叔', 337: '收', 338: '题', 339: '旅', 340: '亲', 341: '拿', 342: '死', 343: '买', 344: '失', 345: '气', 346: '提', 347: '乎', 348: '須', 349: '机', 350: '接', 351: '功', 352: '叫', 353: '息', 354: '總', 355: '言', 356: '安', 357: '場', 358: '而', 359: '離', 360: '试', 361: '怕', 362: '床', 363: '无', 364: '向', 365: '錯', 366: '口', 367: '寫', 368: '酒', 369: '桌', 370: '愛', 371: '考', 372: '市', 373: '五', 374: '眼', 375: '訴', 376: '习', 377: '保', 378: '片', 379: '歌', 380: '留', 381: '建', 382: '六', 383: '交', 384: '世', 385: '空', 386: '計', 387: '容', 388: '山', 389: '主', 390: '读', 391: '表', 392: '哥', 393: '週', 394: '關', 395: '雪', 396: '两', 397: '海', 398: '帶', 399: '关', 400: '包', 401: '故', 402: '长', 403: '足', 404: '第', 405: '坐', 406: '身', 407: '饭', 408: '媽', 409: '麗', 410: '京', 411: '警', 412: '入', 413: '醫', 414: '門', 415: '当', 416: '習', 417: '错', 418: '部', 419: '別', 420: '議', 421: '几', 422: '易', 423: '停', 424: '派', 425: '合', 426: '隻', 427: '洗', 428: '消', 429: '难', 430: '師', 431: '度', 432: '思', 433: '“', 434: '\"', 435: '除', 436: '答', 437: '谢', 438: '整', 439: '”', 440: '份', 441: '跑', 442: '元', 443: '咖', 444: '借', 445: '張', 446: '河', 447: '爱', 448: '病', 449: '影', 450: '啡', 451: '亮', 452: '園', 453: '清', 454: '其', 455: '進', 456: '写', 457: '东', 458: '流', 459: '使', 460: '者', 461: '結', 462: '唱', 463: '琴', 464: '种', 465: '算', 466: '兴', 467: '目', 468: '程', 469: '立', 470: '決', 471: '由', 472: '进', 473: '飯', 474: '门', 475: '记', 476: '努', 477: '动', 478: '呢', 479: '实', 480: '票', 481: '妈', 482: '条', 483: '許', 484: '冷', 485: '巴', 486: '持', 487: '難', 488: '须', 489: '棒', 490: '将', 491: '館', 492: '离', 493: '瑪', 494: '誰', 495: '忘', 496: '抱', 497: '许', 498: '波', 499: '决', 500: '乐', 501: '假', 502: '謝', 503: '姐', 504: '总', 505: '二', 506: '健', 507: '害', 508: '2', 509: '城', 510: '结', 511: '食', 512: '金', 513: '曾', 514: '司', 515: '頭', 516: '哭', 517: '往', 518: '医', 519: '议', 520: '輕', 521: '記', 522: '切', 523: '種', 524: '牛', 525: '敦', 526: '论', 527: '座', 528: '5', 529: '休', 530: '谈', 531: '彈', 532: '准', 533: '店', 534: '台', 535: '漂', 536: '輛', 537: '视', 538: '犯', 539: '洲', 540: '邊', 541: '奶', 542: '康', 543: '業', 544: '室', 545: '才', 546: '确', 547: '师', 548: '杯', 549: '院', 550: '興', 551: '歉', 552: '兄', 553: '鞋', 554: '試', 555: '界', 556: '遠', 557: '遲', 558: '識', 559: '條', 560: '支', 561: '封', 562: '富', 563: '顿', 564: '裝', 565: '掉', 566: '送', 567: '動', 568: '蛋', 569: '尽', 570: '图', 571: '求', 572: '搭', 573: '黑', 574: '飛', 575: '此', 576: '否', 577: '首', 578: '並', 579: '察', 580: '視', 581: '带', 582: '願', 583: '典', 584: '场', 585: '演', 586: '聲', 587: '鋼', 588: '確', 589: '平', 590: '危', 591: '散', 592: '礼', 593: '參', 594: '網', 595: '指', 596: '禮', 597: '头', 598: '数', 599: '偷', 600: '取', 601: '付', 602: '痛', 603: '達', 604: '岁', 605: '窗', 606: '系', 607: 'a', 608: '边', 609: '原', 610: '半', 611: '马', 612: '干', 613: '管', 614: '馬', 615: '單', 616: '处', 617: '笔', 618: '遇', 619: '便', 620: '报', 621: '永', 622: '识', 623: '懂', 624: '麻', 625: '費', 626: '箱', 627: '筆', 628: '附', 629: '光', 630: '抓', 631: '約', 632: '命', 633: '量', 634: '远', 635: '根', 636: '吸', 637: '特', 638: '止', 639: '夫', 640: '轻', 641: '变', 642: '约', 643: '講', 644: '8', 645: '乘', 646: '够', 647: '四', 648: '注', 649: '慢', 650: '劃', 651: '油', 652: '式', 653: '蘋', 654: '惊', 655: '倒', 656: '张', 657: '右', 658: '累', 659: '刻', 660: '至', 661: '滿', 662: '誤', 663: '糕', 664: '业', 665: '9', 666: '變', 667: '屋', 668: '風', 669: '园', 670: '介', 671: '隨', 672: '實', 673: '幸', 674: '反', 675: '圖', 676: '造', 677: '獨', 678: '課', 679: '差', 680: '勝', 681: '啊', 682: '汽', 683: '科', 684: '备', 685: '拍', 686: '值', 687: '计', 688: '擅', 689: '承', 690: '北', 691: '辦', 692: '運', 693: '準', 694: '歲', 695: '风', 696: '先', 697: '体', 698: '似', 699: '员', 700: '畫', 701: '免', 702: '3', 703: '续', 704: '代', 705: '剛', 706: '茶', 707: '弄', 708: '選', 709: '客', 710: '落', 711: '夏', 712: '料', 713: '查', 714: '寄', 715: '夠', 716: '修', 717: '顧', 718: '八', 719: '席', 720: '睛', 721: '員', 722: '格', 723: '网', 724: '拉', 725: '存', 726: '牙', 727: '堂', 728: '担', 729: '福', 730: '數', 731: '盡', 732: '冰', 733: '奇', 734: '辆', 735: '参', 736: '伤', 737: '性', 738: '深', 739: '菜', 740: '架', 741: '讨', 742: '處', 743: '論', 744: '祖', 745: '船', 746: '又', 747: '朵', 748: '费', 749: '險', 750: '象', 751: '烟', 752: '夜', 753: '味', 754: '跳', 755: '密', 756: '改', 757: '具', 758: '鱼', 759: '九', 760: '冒', 761: '拒', 762: '继', 763: '热', 764: 'e', 765: '6', 766: '賽', 767: '或', 768: '伦', 769: '擔', 770: '品', 771: '帽', 772: '黎', 773: '馆', 774: '迟', 775: '德', 776: '倫', 777: '困', 778: '靠', 779: '七', 780: '声', 781: '守', 782: '爾', 783: '熱', 784: '套', 785: '刚', 786: '戒', 787: '汁', 788: '器', 789: '制', 790: '讲', 791: '克', 792: '运', 793: '邀', 794: '逃', 795: '共', 796: '句', 797: '商', 798: '单', 799: '超', 800: '板', 801: '底', 802: '绝', 803: '談', 804: '煩', 805: '7', 806: '洋', 807: '報', 808: '坏', 809: '微', 810: '满', 811: '险', 812: '缺', 813: '節', 814: '林', 815: '旁', 816: '戶', 817: '紅', 818: '左', 819: '钟', 820: '石', 821: '忍', 822: '聊', 823: '楚', 824: '猫', 825: '树', 826: '碰', 827: '舞', 828: '价', 829: '斯', 830: '敢', 831: '匙', 832: '急', 833: '偶', 834: '越', 835: '怪', 836: '治', 837: '續', 838: '號', 839: '4', 840: '靜', 841: '选', 842: '达', 843: '訂', 844: '末', 845: '髮', 846: '街', 847: '划', 848: '令', 849: '野', 850: '案', 851: '遊', 852: '樓', 853: '卡', 854: '魚', 855: '聚', 856: '课', 857: '湖', 858: '神', 859: '秘', 860: '百', 861: '較', 862: '瓶', 863: '护', 864: '糟', 865: '充', 866: '吉', 867: '肯', 868: '纸', 869: '貌', 870: '娃', 871: '政', 872: '愿', 873: '虑', 874: '錶', 875: 'c', 876: '责', 877: '體', 878: '椅', 879: '價', 880: '駛', 881: '按', 882: '王', 883: '依', 884: '宝', 885: '棟', 886: '误', 887: '煙', 888: '迷', 889: '恐', 890: '及', 891: '束', 892: '裙', 893: '画', 894: '木', 895: '呼', 896: '办', 897: '妻', 898: '念', 899: '肉', 900: '與', 901: '備', 902: '苹', 903: '短', 904: '呆', 905: '律', 906: '斷', 907: '姊', 908: '駕', 909: '词', 910: '低', 911: '袋', 912: '威', 913: '抽', 914: 'M', 915: 'r', 916: '罪', 917: '飞', 918: '供', 919: '觀', 920: '暴', 921: '转', 922: '廚', 923: '排', 924: '郵', 925: '千', 926: '并', 927: '傷', 928: '址', 929: '银', 930: '唯', 931: '厌', 932: '谎', 933: '樹', 934: '精', 935: '退', 936: '醒', 937: '惯', 938: '耐', 939: '鬼', 940: '溫', 941: '愉', 942: '鬆', 943: '暖', 944: '頓', 945: '迎', 946: '阿', 947: '內', 948: '陽', 949: '脑', 950: '橙', 951: '救', 952: '尔', 953: '務', 954: '示', 955: '滑', 956: '万', 957: '疑', 958: '布', 959: '印', 960: '紀', 961: '红', 962: '暗', 963: '松', 964: '登', 965: '钢', 966: '預', 967: '澳', 968: '拜', 969: '!', 970: '姑', 971: 'F', 972: '烦', 973: '戴', 974: '集', 975: '澡', 976: '甚', 977: '另', 978: '复', 979: '倦', 980: '紧', 981: 'y', 982: '祝', 983: '帳', 984: 'b', 985: '争', 986: '繼', 987: '独', 988: '適', 989: '職', 990: '投', 991: '煮', 992: '终', 993: '毛', 994: '紙', 995: '号', 996: '居', 997: '类', 998: '丢', 999: '震', 1000: '况', 1001: '节', 1002: '社', 1003: '舉', 1004: '局', 1005: '翻', 1006: 'k', 1007: '爬', 1008: '速', 1009: '舒', 1010: '亚', 1011: '熟', 1012: '燈', 1013: '轉', 1014: '伙', 1015: '育', 1016: '负', 1017: '鸟', 1018: 'C', 1019: '控', 1020: '允', 1021: '讶', 1022: '巧', 1023: '博', 1024: '葡', 1025: '萄', 1026: '租', 1027: '强', 1028: '耳', 1029: '誕', 1030: '破', 1031: '义', 1032: '队', 1033: '顾', 1034: '鳥', 1035: '扔', 1036: '证', 1037: '貓', 1038: '且', 1039: '沙', 1040: '嬰', 1041: '絕', 1042: '致', 1043: '善', 1044: '型', 1045: '隊', 1046: '聪', 1047: '史', 1048: '梦', 1049: '联', 1050: '批', 1051: '醉', 1052: '浪', 1053: '贏', 1054: '私', 1055: '赶', 1056: '良', 1057: '厭', 1058: '蠢', 1059: '擊', 1060: '楼', 1061: '饿', 1062: '柳', 1063: '盒', 1064: '啤', 1065: '慣', 1066: '聖', 1067: '腳', 1068: '换', 1069: '装', 1070: '镜', 1071: '冬', 1072: '化', 1073: '即', 1074: '噪', 1075: '升', 1076: '区', 1077: '默', 1078: '漆', 1079: '強', 1080: '李', 1081: '赢', 1082: '傻', 1083: '响', 1084: '各', 1085: '曲', 1086: '景', 1087: '訪', 1088: '藥', 1089: '苦', 1090: '推', 1091: '邮', 1092: '丈', 1093: '忠', 1094: '季', 1095: '背', 1096: '阅', 1097: '未', 1098: '术', 1099: '遍', 1100: '倍', 1101: '義', 1102: '壞', 1103: '烧', 1104: '設', 1105: '玫', 1106: '瑰', 1107: '畢', 1108: '響', 1109: '據', 1110: '怨', 1111: '静', 1112: '草', 1113: '某', 1114: '憾', 1115: '与', 1116: '寧', 1117: '闭', 1118: '線', 1119: '庭', 1120: '战', 1121: '遞', 1122: '羞', 1123: '款', 1124: '养', 1125: '則', 1126: '簡', 1127: '铅', 1128: '纪', 1129: '燒', 1130: '驗', 1131: '驚', 1132: '际', 1133: '古', 1134: '突', 1135: '产', 1136: '緊', 1137: '捕', 1138: '举', 1139: '列', 1140: '撞', 1141: '諾', 1142: '群', 1143: '毫', 1144: '區', 1145: '伴', 1146: '释', 1147: '萬', 1148: '遵', 1149: '预', 1150: '米', 1151: '形', 1152: '旧', 1153: '访', 1154: '殺', 1155: '炸', 1156: '内', 1157: '灯', 1158: '衫', 1159: '土', 1160: '阻', 1161: '段', 1162: '雷', 1163: '顯', 1164: '伞', 1165: '幅', 1166: '零', 1167: '药', 1168: '播', 1169: '藏', 1170: '池', 1171: '握', 1172: '展', 1173: '飲', 1174: '俱', 1175: '傘', 1176: '沉', 1177: '极', 1178: '设', 1179: '角', 1180: '腿', 1181: '疯', 1182: '民', 1183: '奏', 1184: '移', 1185: '售', 1186: 'D', 1187: '嘴', 1188: '猜', 1189: '災', 1190: '村', 1191: '评', 1192: '双', 1193: '领', 1194: '勇', 1195: '刮', 1196: '搬', 1197: '鉛', 1198: '简', 1199: '避', 1200: '弹', 1201: '雜', 1202: '卖', 1203: '统', 1204: '赛', 1205: '夢', 1206: '嫁', 1207: '规', 1208: '戲', 1209: '掛', 1210: '閱', 1211: '吹', 1212: '延', 1213: '鎖', 1214: '灰', 1215: '航', 1216: '哈', 1217: '責', 1218: '胃', 1219: '癌', 1220: '禁', 1221: '碼', 1222: '州', 1223: '职', 1224: '益', 1225: '折', 1226: '究', 1227: '观', 1228: '刀', 1229: '肩', 1230: '廣', 1231: '聞', 1232: '顆', 1233: '渴', 1234: '蓝', 1235: '丟', 1236: '蘭', 1237: '鹽', 1238: '欠', 1239: '脸', 1240: '陌', 1241: '雙', 1242: '粗', 1243: '仅', 1244: '途', 1245: '餓', 1246: '户', 1247: '钥', 1248: '项', 1249: '孤', 1250: '蓋', 1251: '仍', 1252: '連', 1253: '盯', 1254: '賣', 1255: '脚', 1256: '概', 1257: '欧', 1258: '乾', 1259: '踢', 1260: '适', 1261: '兵', 1262: '碗', 1263: '智', 1264: '鏡', 1265: '纽', 1266: '墙', 1267: '寒', 1268: '慮', 1269: '廳', 1270: '粉', 1271: '胡', 1272: '引', 1273: '戰', 1274: '爭', 1275: '务', 1276: '败', 1277: '狸', 1278: '姨', 1279: '增', 1280: '證', 1281: '彼', 1282: '換', 1283: '乏', 1284: '輪', 1285: '羅', 1286: '況', 1287: '研', 1288: '属', 1289: '趕', 1290: '濕', 1291: '春', 1292: '赞', 1293: '傲', 1294: '遺', 1295: '基', 1296: '腦', 1297: '俄', 1298: '诺', 1299: '紐', 1300: '脫', 1301: '检', 1302: '拥', 1303: '籃', 1304: '紹', 1305: '釋', 1306: '終', 1307: '橋', 1308: '譯', 1309: '香', 1310: '血', 1311: '敲', 1312: '圍', 1313: '激', 1314: '討', 1315: '擇', 1316: '逮', 1317: '麵', 1318: '棄', 1319: '薩', 1320: '胜', 1321: '歷', 1322: '传', 1323: '互', 1324: '調', 1325: '钓', 1326: '朝', 1327: '玻', 1328: '璃', 1329: '含', 1330: '咬', 1331: '扰', 1332: '宜', 1333: '牆', 1334: '初', 1335: '臂', 1336: '牌', 1337: '志', 1338: '、', 1339: '替', 1340: '獲', 1341: '舊', 1342: '亞', 1343: '码', 1344: '刷', 1345: '隔', 1346: '甜', 1347: '漸', 1348: '塊', 1349: '盖', 1350: '驾', 1351: '鸡', 1352: '狐', 1353: '抵', 1354: '猴', 1355: '衬', 1356: '吵', 1357: '溜', 1358: '\\u200b', 1359: '权', 1360: '减', 1361: '尝', 1362: '項', 1363: '踏', 1364: '胎', 1365: '招', 1366: '訊', 1367: '屬', 1368: '辞', 1369: '遗', 1370: '露', 1371: '择', 1372: '版', 1373: '際', 1374: '辛', 1375: '府', 1376: '資', 1377: '验', 1378: '罗', 1379: '養', 1380: '飽', 1381: '置', 1382: '烈', 1383: '调', 1384: '骑', 1385: '載', 1386: '固', 1387: '章', 1388: '坚', 1389: '吓', 1390: '鑰', 1391: '顶', 1392: '历', 1393: '探', 1394: '矮', 1395: '辭', 1396: '簽', 1397: '豪', 1398: '官', 1399: '騎', 1400: '：', 1401: '洞', 1402: '愚', 1403: '棵', 1404: '浴', 1405: '仔', 1406: '謊', 1407: '貝', 1408: '染', 1409: '嗜', 1410: '製', 1411: '漫', 1412: '藝', 1413: '蔬', 1414: '導', 1415: '執', 1416: '阪', 1417: '童', 1418: '逐', 1419: '瑞', 1420: '詩', 1421: '筑', 1422: '雞', 1423: '众', 1424: '鈕', 1425: '裁', 1426: '攝', 1427: '堡', 1428: 'h', 1429: '負', 1430: '頂', 1431: '环', 1432: '锁', 1433: '稍', 1434: '術', 1435: '顏', 1436: '悲', 1437: '檢', 1438: '壓', 1439: '碎', 1440: '嚴', 1441: '毯', 1442: '禍', 1443: '称', 1444: '瓜', 1445: '鄰', 1446: '蛇', 1447: '誠', 1448: '爆', 1449: '军', 1450: '迫', 1451: '菸', 1452: '籍', 1453: '妒', 1454: '優', 1455: '块', 1456: '復', 1457: '鐵', 1458: '尊', 1459: '賺', 1460: '资', 1461: '皮', 1462: '測', 1463: '唸', 1464: '尋', 1465: '窮', 1466: '态', 1467: '怀', 1468: '测', 1469: '连', 1470: '胖', 1471: '龄', 1472: '伯', 1473: '悔', 1474: '授', 1475: '镇', 1476: '掃', 1477: '尼', 1478: '弃', 1479: '壽', 1480: '眾', 1481: '敗', 1482: '胞', 1483: '击', 1484: '估', 1485: '敏', 1486: '申', 1487: '練', 1488: '模', 1489: '嘲', 1490: '佛', 1491: '覆', 1492: '杀', 1493: '獎', 1494: '严', 1495: '綠', 1496: '悉', 1497: '境', 1498: '森', 1499: '委', 1500: '贵', 1501: '槍', 1502: '显', 1503: '購', 1504: '塵', 1505: '肥', 1506: '鄉', 1507: '晨', 1508: '躺', 1509: '類', 1510: '既', 1511: '苍', 1512: '悄', 1513: '釣', 1514: 'i', 1515: '竟', 1516: '尺', 1517: '寸', 1518: '盛', 1519: '損', 1520: '遭', 1521: '厨', 1522: '農', 1523: '寿', 1524: '產', 1525: '摔', 1526: '扫', 1527: '褲', 1528: '嫉', 1529: '棋', 1530: '炎', 1531: '搞', 1532: '秀', 1533: '齡', 1534: '欲', 1535: '護', 1536: '湿', 1537: '插', 1538: '羊', 1539: '南', 1540: '搖', 1541: '閉', 1542: 'I', 1543: '訝', 1544: '勤', 1545: '专', 1546: '劇', 1547: '广', 1548: 't', 1549: '忽', 1550: '冊', 1551: '率', 1552: '随', 1553: '環', 1554: '导', 1555: '临', 1556: '係', 1557: '艺', 1558: '雲', 1559: '符', 1560: '欣', 1561: '膝', 1562: '骗', 1563: '圓', 1564: '暑', 1565: '武', 1566: '撒', 1567: '惹', 1568: '障', 1569: '寓', 1570: '伸', 1571: '省', 1572: '田', 1573: '温', 1574: '穷', 1575: '跌', 1576: '爺', 1577: '亡', 1578: '芝', 1579: '規', 1580: '臉', 1581: '卧', 1582: '族', 1583: '降', 1584: '据', 1585: '惑', 1586: '誌', 1587: '聰', 1588: '鲜', 1589: '顺', 1590: '膀', 1591: '銀', 1592: '匹', 1593: '鎮', 1594: '袜', 1595: '營', 1596: '歐', 1597: '剪', 1598: '巨', 1599: '鼓', 1600: '臥', 1601: '藍', 1602: '愈', 1603: '滩', 1604: '耍', 1605: '谅', 1606: '鬍', 1607: '姓', 1608: '喊', 1609: '酸', 1610: '予', 1611: '侵', 1612: '围', 1613: '享', 1614: '稱', 1615: '济', 1616: '朗', 1617: '怒', 1618: '懷', 1619: '壁', 1620: '績', 1621: '则', 1622: '射', 1623: '普', 1624: '脏', 1625: '裹', 1626: '淋', 1627: '删', 1628: '透', 1629: '营', 1630: '專', 1631: '盐', 1632: '厚', 1633: '积', 1634: '雄', 1635: '恋', 1636: '废', 1637: '寻', 1638: '级', 1639: '貼', 1640: '厂', 1641: '乡', 1642: '黄', 1643: '榮', 1644: '闲', 1645: '夷', 1646: '桃', 1647: '陷', 1648: '慕', 1649: '敌', 1650: '烤', 1651: '塔', 1652: '驶', 1653: '源', 1654: '宿', 1655: '泡', 1656: '財', 1657: '欺', 1658: '蒼', 1659: '标', 1660: '嘿', 1661: '彩', 1662: '擦', 1663: '魂', 1664: '症', 1665: '麦', 1666: '兰', 1667: '隱', 1668: '执', 1669: '洪', 1670: '迅', 1671: '央', 1672: '般', 1673: '賞', 1674: '艘', 1675: '效', 1676: '闻', 1677: '闹', 1678: '翰', 1679: '迪', 1680: '戚', 1681: '尾', 1682: '傳', 1683: '糊', 1684: '污', 1685: '脾', 1686: '压', 1687: '恨', 1688: '幽', 1689: '鈴', 1690: '桶', 1691: '滾', 1692: '译', 1693: '例', 1694: '細', 1695: '脱', 1696: '厲', 1697: '違', 1698: '牢', 1699: '盤', 1700: '臨', 1701: '材', 1702: '挂', 1703: '企', 1704: '夾', 1705: '擠', 1706: '額', 1707: '領', 1708: '股', 1709: '欄', 1710: '较', 1711: '嘛', 1712: '箏', 1713: '订', 1714: '优', 1715: '敵', 1716: '餅', 1717: '补', 1718: '毀', 1719: '瘋', 1720: '细', 1721: '戏', 1722: '辣', 1723: '盲', 1724: '隐', 1725: '杂', 1726: '級', 1727: '辨', 1728: '烹', 1729: '娶', 1730: '虚', 1731: '弱', 1732: '线', 1733: '冲', 1734: '繩', 1735: '占', 1736: '枪', 1737: '莎', 1738: '柴', 1739: '泣', 1740: 'A', 1741: '兔', 1742: '矩', 1743: '归', 1744: '销', 1745: '塞', 1746: '邻', 1747: '披', 1748: '帝', 1749: '豆', 1750: '乳', 1751: '腰', 1752: '疼', 1753: '潮', 1754: '岛', 1755: '貴', 1756: '素', 1757: '毒', 1758: '堵', 1759: '莓', 1760: '端', 1761: '恢', 1762: '飢', 1763: '伏', 1764: '襲', 1765: '栋', 1766: '磁', 1767: '奖', 1768: '肺', 1769: '兼', 1770: '涉', 1771: '疲', 1772: '泪', 1773: '摸', 1774: '摘', 1775: '恶', 1776: '帕', 1777: '骄', 1778: '购', 1779: '绿', 1780: '帘', 1781: '灘', 1782: '辜', 1783: '断', 1784: '弊', 1785: '陪', 1786: '拐', 1787: '壯', 1788: '煤', 1789: '履', 1790: '签', 1791: '糖', 1792: '擾', 1793: '敬', 1794: '塑', 1795: '盘', 1796: '鬧', 1797: '婆', 1798: '騙', 1799: 'O', 1800: 'B', 1801: '屈', 1802: '慰', 1803: '鬱', 1804: '灵', 1805: '孕', 1806: '坦', 1807: '卻', 1808: '胆', 1809: '旗', 1810: '颜', 1811: '伟', 1812: '摇', 1813: '咱', 1814: '豐', 1815: '掌', 1816: '碟', 1817: '酬', 1818: '庫', 1819: '蘇', 1820: '液', 1821: '迹', 1822: '葬', 1823: '鲁', 1824: '圆', 1825: '塘', 1826: '青', 1827: '蛙', 1828: '哲', 1829: '懒', 1830: '軍', 1831: '硬', 1832: '組', 1833: '勸', 1834: '惧', 1835: '判', 1836: '扇', 1837: '酷', 1838: '拼', 1839: '吻', 1840: '祸', 1841: '麥', 1842: '躲', 1843: '團', 1844: '眠', 1845: '贝', 1846: '患', 1847: '董', 1848: '鋪', 1849: '淹', 1850: '幻', 1851: '览', 1852: '秋', 1853: '坡', 1854: '摩', 1855: '托', 1856: '態', 1857: '融', 1858: '晴', 1859: '烛', 1860: '賭', 1861: '燃', 1862: '闖', 1863: '绑', 1864: '襯', 1865: '墨', 1866: '偉', 1867: '阳', 1868: '奮', 1869: '嚇', 1870: '廠', 1871: '柵', 1872: '耻', 1873: '（', 1874: '舅', 1875: '）', 1876: '梨', 1877: '莉', 1878: '摧', 1879: '爵', 1880: '货', 1881: '凉', 1882: '錄', 1883: '伍', 1884: '组', 1885: '岸', 1886: '净', 1887: '账', 1888: '裕', 1889: '懲', 1890: '罰', 1891: '剩', 1892: '撫', 1893: '拆', 1894: '淨', 1895: '毕', 1896: '繫', 1897: '質', 1898: '填', 1899: '诗', 1900: '云', 1901: '铁', 1902: '防', 1903: '鮮', 1904: '踪', 1905: '忆', 1906: '井', 1907: '携', 1908: '「', 1909: '」', 1910: '胳', 1911: '膊', 1912: '賴', 1913: '.', 1914: '萨', 1915: '淡', 1916: '财', 1917: '鼠', 1918: '聯', 1919: '惜', 1920: '泰', 1921: '怖', 1922: '磅', 1923: '恥', 1924: '序', 1925: '嗨', 1926: '距', 1927: '華', 1928: '攻', 1929: '域', 1930: '奋', 1931: '赴', 1932: '勢', 1933: '統', 1934: '厅', 1935: '櫃', 1936: '維', 1937: '爷', 1938: '氏', 1939: '撕', 1940: '毁', 1941: '桥', 1942: '＂', 1943: '極', 1944: '沿', 1945: '婴', 1946: '薪', 1947: '抗', 1948: '酪', 1949: '譽', 1950: '標', 1951: '蜂', 1952: '搅', 1953: '漢', 1954: 's', 1955: '挾', 1956: '僵', 1957: '衛', 1958: '繞', 1959: '疗', 1960: '憶', 1961: '卫', 1962: '咳', 1963: '爛', 1964: '裏', 1965: '横', 1966: '嚐', 1967: '针', 1968: '递', 1969: '澆', 1970: '壳', 1971: '膽', 1972: '攜', 1973: '吼', 1974: '雅', 1975: '偏', 1976: '施', 1977: '幼', 1978: '劳', 1979: '配', 1980: '郊', 1981: '辯', 1982: '阱', 1983: '彎', 1984: '豫', 1985: '姻', 1986: '状', 1987: '歧', 1988: '枝', 1989: '叮', 1990: '植', 1991: '逆', 1992: '凡', 1993: '炒', 1994: 'K', 1995: '減', 1996: '农', 1997: '評', 1998: '輸', 1999: '债', 2000: '庆', 2001: '鑽', 2002: '均', 2003: '虫', 2004: '瓦', 2005: '盗', 2006: '伊', 2007: '扣', 2008: '寂', 2009: '齿', 2010: '若', 2011: '寺', 2012: '绳', 2013: '滚', 2014: '艰', 2015: '梳', 2016: '港', 2017: '墓', 2018: '閒', 2019: '混', 2020: '册', 2021: '跡', 2022: '追', 2023: '缸', 2024: '埋', 2025: '淚', 2026: '拷', 2027: '繁', 2028: '贺', 2029: '练', 2030: '刪', 2031: '宣', 2032: '泥', 2033: '甘', 2034: '慎', 2035: '饥', 2036: '協', 2037: '積', 2038: '瞭', 2039: '页', 2040: '抬', 2041: '佔', 2042: '詢', 2043: '陣', 2044: '垃', 2045: '圾', 2046: '挥', 2047: '逼', 2048: '趟', 2049: '疾', 2050: '赤', 2051: '索', 2052: '获', 2053: '却', 2054: '洽', 2055: '蜡', 2056: '寶', 2057: '誓', 2058: '擁', 2059: '颗', 2060: '芬', 2061: '篇', 2062: '采', 2063: '略', 2064: '挑', 2065: '弓', 2066: '添', 2067: '倔', 2068: '僱', 2069: '贷', 2070: '胁', 2071: '囚', 2072: '獄', 2073: '順', 2074: '瞎', 2075: '势', 2076: '儘', 2077: '輾', 2078: '狀', 2079: '喂', 2080: '魔', 2081: '辩', 2082: '畏', 2083: '撥', 2084: '搶', 2085: '劫', 2086: '莊', 2087: '拾', 2088: '挤', 2089: '監', 2090: '鲸', 2091: '皆', 2092: '飪', 2093: '詞', 2094: '啸', 2095: '惠', 2096: '斗', 2097: '捲', 2098: '稻', 2099: '华', 2100: '赏', 2101: '匆', 2102: '雖', 2103: '覽', 2104: '尘', 2105: '唐', 2106: '庙', 2107: '颱', 2108: '夥', 2109: '拘', 2110: '恭', 2111: '啜', 2112: '异', 2113: 'P', 2114: '蚊', 2115: '孔', 2116: '苏', 2117: '篮', 2118: '副', 2119: '诚', 2120: '尷', 2121: '尬', 2122: '络', 2123: '操', 2124: '膠', 2125: '扮', 2126: '策', 2127: '宾', 2128: '穩', 2129: '番', 2130: '余', 2131: '厕', 2132: '雇', 2133: '刺', 2134: '妙', 2135: '絡', 2136: '償', 2137: '簿', 2138: '罵', 2139: '蠅', 2140: '搜', 2141: '褐', 2142: '冻', 2143: '狱', 2144: '啥', 2145: '拔', 2146: '闆', 2147: '映', 2148: '笨', 2149: '複', 2150: 'J', 2151: '竊', 2152: '賊', 2153: '尚', 2154: '競', 2155: '築', 2156: '謀', 2157: '牧', 2158: '礎', 2159: '歸', 2160: '虽', 2161: '裤', 2162: '織', 2163: '奴', 2164: '冥', 2165: '卷', 2166: '茄', 2167: '餘', 2168: '梯', 2169: '島', 2170: '圣', 2171: '憂', 2172: '趁', 2173: '溪', 2174: '纯', 2175: '浓', 2176: '荒', 2177: '昔', 2178: '团', 2179: '忌', 2180: '郎', 2181: '津', 2182: '柜', 2183: '崎', 2184: '鉤', 2185: '掩', 2186: '薯', 2187: '伐', 2188: '黃', 2189: 'l', 2190: 'g', 2191: '肚', 2192: '淇', 2193: '喔', 2194: '赌', 2195: '吝', 2196: '啬', 2197: '奥', 2198: '榨', 2199: '绕', 2200: '嗽', 2201: '權', 2202: '剧', 2203: '贸', 2204: '库', 2205: '筋', 2206: '骨', 2207: '刑', 2208: '喻', 2209: '宅', 2210: '壮', 2211: '橘', 2212: '勁', 2213: '藉', 2214: '惡', 2215: '叉', 2216: '灾', 2217: '垒', 2218: '凳', 2219: '限', 2220: '翁', 2221: '抹', 2222: '蔥', 2223: '猶', 2224: '愧', 2225: '籬', 2226: '羨', 2227: '漉', 2228: '熊', 2229: '憐', 2230: '殘', 2231: '兜', 2232: '碌', 2233: '疫', 2234: '嘱', 2235: '辈', 2236: '丰', 2237: '慾', 2238: '蒜', 2239: '虎', 2240: '娘', 2241: '幹', 2242: '屉', 2243: '妇', 2244: '赚', 2245: '窃', 2246: '軌', 2247: '寞', 2248: '摆', 2249: '熬', 2250: '罕', 2251: '嫌', 2252: '幢', 2253: '襪', 2254: '叶', 2255: '饮', 2256: '霸', 2257: '哄', 2258: '葛', 2259: '巾', 2260: '祈', 2261: '征', 2262: '埃', 2263: 'U', 2264: '促', 2265: '串', 2266: '洛', 2267: '杉', 2268: '俊', 2269: '靴', 2270: '靈', 2271: '袭', 2272: '谨', 2273: '挡', 2274: '刹', 2275: '幣', 2276: '贴', 2277: '帅', 2278: '諮', 2279: '壤', 2280: '钻', 2281: '雾', 2282: '稚', 2283: '辱', 2284: '猎', 2285: '夕', 2286: '熄', 2287: '灭', 2288: '膚', 2289: '痴', 2290: '铃', 2291: '挖', 2292: '渡', 2293: '遛', 2294: '圈', 2295: '擋', 2296: '技', 2297: '仪', 2298: '鍋', 2299: '趴', 2300: '詳', 2301: '珠', 2302: '输', 2303: '奈', 2304: '熨', 2305: '锻', 2306: '炼', 2307: '勺', 2308: '睁', 2309: '竞', 2310: '牡', 2311: '蠣', 2312: '绪', 2313: '贈', 2314: '佩', 2315: '励', 2316: '屏', 2317: '厘', 2318: '箭', 2319: '稅', 2320: '盟', 2321: '韩', 2322: '兆', 2323: '傍', 2324: '葉', 2325: '頁', 2326: '諒', 2327: '绅', 2328: '誘', 2329: '尖', 2330: '銳', 2331: '笆', 2332: '俩', 2333: '慧', 2334: '召', 2335: '陆', 2336: '罷', 2337: '谷', 2338: '闪', 2339: '橫', 2340: '濱', 2341: '魁', 2342: '翼', 2343: '搁', 2344: '瞥', 2345: '柔', 2346: '恩', 2347: '挺', 2348: '泊', 2349: '亭', 2350: '攀', 2351: '耶', 2352: '丁', 2353: '虛', 2354: '構', 2355: '逗', 2356: '腸', 2357: '猪', 2358: '薦', 2359: '饱', 2360: '泉', 2361: '蹈', 2362: '踩', 2363: '疚', 2364: '審', 2365: '劲', 2366: '診', 2367: '棕', 2368: '裂', 2369: '哦', 2370: '豚', 2371: '拯', 2372: '漏', 2373: '骚', 2374: '齊', 2375: '侍', 2376: '絲', 2377: '谓', 2378: '蒸', 2379: '陸', 2380: '貨', 2381: '憤', 2382: '逻', 2383: '辑', 2384: '乱', 2385: '赖', 2386: '驳', 2387: '贫', 2388: '·', 2389: '潜', 2390: '砍', 2391: '醬', 2392: '训', 2393: '侦', 2394: '挣', 2395: '鼻', 2396: '墜', 2397: '腐', 2398: '懶', 2399: '漲', 2400: '烫', 2401: '宁', 2402: '瘦', 2403: '傢', 2404: '逛', 2405: '啼', 2406: '阶', 2407: '凌', 2408: '扭', 2409: '餵', 2410: '灣', 2411: '濃', 2412: '旦', 2413: '寢', 2414: '妥', 2415: '唬', 2416: '层', 2417: '註', 2418: '哺', 2419: '晕', 2420: '汗', 2421: '祟', 2422: '膩', 2423: '夭', 2424: '砸', 2425: '羡', 2426: '滋', 2427: '渐', 2428: '薄', 2429: '億', 2430: '廢', 2431: '隸', 2432: '涂', 2433: '冠', 2434: '療', 2435: '殊', 2436: '腾', 2437: '丝', 2438: '銷', 2439: '饑', 2440: '擺', 2441: '夹', 2442: '浮', 2443: '貧', 2444: '嬸', 2445: '质', 2446: '洁', 2447: '蕃', 2448: '佳', 2449: '閃', 2450: '饰', 2451: '蟋', 2452: '蟀', 2453: '慶', 2454: '愤', 2455: '嗝', 2456: '潛', 2457: '異', 2458: '晒', 2459: '霜', 2460: '餡', 2461: '诞', 2462: '隶', 2463: '浸', 2464: '撿', 2465: '罢', 2466: '潔', 2467: '循', 2468: '饼', 2469: '枯', 2470: '鈔', 2471: ':', 2472: '賬', 2473: '魯', 2474: '椒', 2475: '獸', 2476: '編', 2477: '筱', 2478: '傾', 2479: '豬', 2480: '汇', 2481: '繪', 2482: '賀', 2483: '沸', 2484: '犬', 2485: 'X', 2486: '胶', 2487: '泛', 2488: '损', 2489: '丹', 2490: '蜜', 2491: '+', 2492: '贊', 2493: '仗', 2494: '榜', 2495: '昂', 2496: '暂', 2497: '苗', 2498: '創', 2499: '疤', 2500: '叠', 2501: '厄', 2502: '菲', 2503: '献', 2504: '皺', 2505: '乌', 2506: '龟', 2507: '兽', 2508: '籌', 2509: '额', 2510: '监', 2511: '佈', 2512: '皂', 2513: '謂', 2514: '唇', 2515: '紋', 2516: '仙', 2517: '臟', 2518: '雕', 2519: '扑', 2520: '庄', 2521: '妆', 2522: '滨', 2523: '妨', 2524: '炉', 2525: '櫻', 2526: '喉', 2527: '嚨', 2528: '晤', 2529: '潺', 2530: '砰', 2531: '昏', 2532: '袖', 2533: '咪', 2534: '宮', 2535: '挨', 2536: '閤', 2537: '縫', 2538: '脅', 2539: '獵', 2540: '噓', 2541: '窩', 2542: 'L', 2543: 'n', 2544: 'd', 2545: '酱', 2546: '凍', 2547: '礙', 2548: '氛', 2549: '幕', 2550: '彗', 2551: '颁', 2552: '莱', 2553: '坞', 2554: '殃', 2555: '仲', 2556: '捞', 2557: '肅', 2558: '枕', 2559: '肴', 2560: '牽', 2561: '鶴', 2562: '垫', 2563: '绊', 2564: '齐', 2565: '丛', 2566: '扛', 2567: '斥', 2568: '髦', 2569: '佬', 2570: '廷', 2571: '焰', 2572: '疏', 2573: '靶', 2574: '輩', 2575: '窄', 2576: '瞟', 2577: '遮', 2578: '蕭', 2579: '邦', 2580: '鴨', 2581: '憑', 2582: '涨', 2583: '虐', 2584: '厉', 2585: '斤', 2586: '湘', 2587: '涼', 2588: '爽', 2589: '虹', 2590: '墊', 2591: '刊', 2592: 'j', 2593: '綽', 2594: '泽', 2595: '梅', 2596: '掏', 2597: '耀', 2598: '炖', 2599: '廟', 2600: '腋', 2601: '烏', 2602: '凑', 2603: '亏', 2604: '膳', 2605: '霉', 2606: '墳', 2607: '碩', 2608: '拳', 2609: '淆', 2610: '綁', 2611: '匪', 2612: '溯', 2613: '纠', 2614: '禱', 2615: '徹', 2616: '矶', 2617: '径', 2618: '恼', 2619: '迺', 2620: '稔', 2621: '铺', 2622: '羽', 2623: '獅', 2624: '珊', 2625: '瑚', 2626: '礁', 2627: '锕', 2628: '枚', 2629: '侧', 2630: '惕', 2631: '揭', 2632: '曉', 2633: '簾', 2634: '核', 2635: '坠', 2636: '恰', 2637: '溺', 2638: '濒', 2639: '蜘', 2640: '蛛', 2641: '晉', 2642: '販', 2643: '详', 2644: '触', 2645: '絆', 2646: '帆', 2647: '协', 2648: '丑', 2649: '筷', 2650: '-', 2651: '审', 2652: '匈', 2653: '肤', 2654: '岳', 2655: '墟', 2656: '忧', 2657: '币', 2658: '撑', 2659: '溢', 2660: '擎', 2661: '阵', 2662: '墩', 2663: '押', 2664: '鎊', 2665: '殆', 2666: '县', 2667: '奉', 2668: '臭', 2669: '磕', 2670: '諜', 2671: '柏', 2672: '扶', 2673: '瞧', 2674: '荷', 2675: '霧', 2676: '彻', 2677: '郁', 2678: '啃', 2679: '铭', 2680: '犹', 2681: '儀', 2682: '谬', 2683: '揮', 2684: '脹', 2685: '鹿', 2686: '浦', 2687: '哨', 2688: '怜', 2689: '頻', 2690: '柄', 2691: '锅', 2692: '滴', 2693: '贯', 2694: '曆', 2695: '懼', 2696: '莫', 2697: '扎', 2698: '噢', 2699: '篱', 2700: '慷', 2701: '慨', 2702: '缝', 2703: '纫', 2704: '勵', 2705: '侖', 2706: '巔', 2707: '腕', 2708: '构', 2709: '烁', 2710: '驻', 2711: '緩', 2712: '勿', 2713: '骂', 2714: '浅', 2715: '耽', 2716: '錫', 2717: '糗', 2718: '隧', 2719: '陀', 2720: '峽', 2721: '嘯', 2722: '偿', 2723: '孙', 2724: '蔼', 2725: '捉', 2726: '笼', 2727: '坪', 2728: '惭', 2729: 'z', 2730: '剎', 2731: '趾', 2732: '扬', 2733: '觸', 2734: '穌', 2735: '督', 2736: '悬', 2737: '傑', 2738: '匯', 2739: '肝', 2740: '妄', 2741: '針', 2742: '摯', 2743: '騰', 2744: '呀', 2745: '绍', 2746: '醇', 2747: '窝', 2748: '遣', 2749: '巢', 2750: '嘗', 2751: '怠', 2752: '锤', 2753: '熏', 2754: '跃', 2755: '俗', 2756: '括', 2757: '昆', 2758: '锈', 2759: '缠', 2760: '鯨', 2761: '瀑', 2762: '誼', 2763: '晃', 2764: '塗', 2765: '饶', 2766: '岡', 2767: '鄙', 2768: '伪', 2769: '啦', 2770: '帖', 2771: '违', 2772: '驯', 2773: '搆', 2774: '逊', 2775: '靦', 2776: '腆', 2777: '杜', 2778: '廉', 2779: '狡', 2780: '窟', 2781: '残', 2782: '雀', 2783: '黏', 2784: '爹', 2785: '蔭', 2786: '返', 2787: '函', 2788: '喘', 2789: '陶', 2790: '亂', 2791: '役', 2792: '稀', 2793: '嚮', 2794: '缩', 2795: '陋', 2796: '挽', 2797: '佣', 2798: '屑', 2799: '岩', 2800: '奔', 2801: '巫', 2802: '凱', 2803: '创', 2804: '逝', 2805: '弗', 2806: '勒', 2807: '《', 2808: '》', 2809: '罐', 2810: '飾', 2811: '蚀', 2812: '惰', 2813: '囓', 2814: '紫', 2815: '屜', 2816: '赠', 2817: '軟', 2818: '宴', 2819: '饪', 2820: '緒', 2821: '茲', 2822: '齦', 2823: '咸', 2824: '镑', 2825: '純', 2826: '夸', 2827: '蟑', 2828: '螂', 2829: '%', 2830: '踝', 2831: '寬', 2832: '澤', 2833: '呻', 2834: '吟', 2835: '榔', 2836: '钉', 2837: '颤', 2838: '駿', 2839: '壘', 2840: '萃', 2841: '宵', 2842: '锯', 2843: '抢', 2844: '褒', 2845: '贬', 2846: '茫', 2847: '淺', 2848: '唔', 2849: '躁', 2850: '貸', 2851: '焉', 2852: '恒', 2853: '倖', 2854: '匱', 2855: 'S', 2856: '儉', 2857: '编', 2858: '舌', 2859: '咆', 2860: '哮', 2861: '胸', 2862: '肘', 2863: '仁', 2864: '慈', 2865: '睹', 2866: '拭', 2867: '载', 2868: '嗅', 2869: '凶', 2870: '揚', 2871: '鳳', 2872: '凰', 2873: '桑', 2874: '踮', 2875: '狂', 2876: '葱', 2877: '兇', 2878: '蕾', 2879: '緣', 2880: '仿', 2881: '肃', 2882: '阁', 2883: '婦', 2884: '丧', 2885: '讚', 2886: '叛', 2887: '舍', 2888: '卢', 2889: '廁', 2890: '骸', 2891: '勉', 2892: '卓', 2893: '蒙', 2894: '蔽', 2895: '翔', 2896: '扯', 2897: '谦', 2898: '烘', 2899: '匠', 2900: '葵', 2901: '仰', 2902: '趨', 2903: '耗', 2904: '暱', 2905: '誉', 2906: '輯', 2907: '擴', 2908: '囑', 2909: '启', 2910: '渔', 2911: 'N', 2912: '縮', 2913: '鐳', 2914: '腮', 2915: '腺', 2916: '涸', 2917: '杆', 2918: '爍', 2919: '革', 2920: '籠', 2921: '濟', 2922: '燕', 2923: '碾', 2924: '畝', 2925: '泼', 2926: '锋', 2927: '灑', 2928: '萊', 2929: '塢', 2930: '骆', 2931: '驼', 2932: '漠', 2933: '妳', 2934: '杰', 2935: '轨', 2936: '兌', 2937: '拨', 2938: '储', 2939: '蓄', 2940: '氾', 2941: '濫', 2942: '賜', 2943: 'w', 2944: '檯', 2945: '纳', 2946: '抄', 2947: '叢', 2948: '邪', 2949: '捡', 2950: '竭', 2951: '媛', 2952: '聾', 2953: '甩', 2954: '庞', 2955: '织', 2956: '悦', 2957: '宇', 2958: '宙', 2959: '浩', 2960: '瀚', 2961: '嗓', 2962: '闔', 2963: '录', 2964: '•', 2965: '柯', 2966: '氧', 2967: '痊', 2968: '癒', 2969: '萎', 2970: '君', 2971: '酣', 2972: '戳', 2973: '酵', 2974: '盼', 2975: '御', 2976: '铐', 2977: '奧', 2978: '犢', 2979: '慫', 2980: '恿', 2981: '奢', 2982: '侈', 2983: '蹤', 2984: '税', 2985: '戀', 2986: '矣', 2987: '盆', 2988: '筒', 2989: '摑', 2990: '沮', 2991: '喪', 2992: '橡', 2993: '哩', 2994: '绵', 2995: '嗯', 2996: '鋒', 2997: '遙', 2998: '鑑', 2999: '绩', 3000: '剑', 3001: '坂', 3002: '诡', 3003: '嘘', 3004: '溼', 3005: '庇', 3006: '痠', 3007: '慌', 3008: '拄', 3009: '杖', 3010: '誡', 3011: '弥', 3012: '潢', 3013: '霆', 3014: '蛰', 3015: '睜', 3016: '鵝', 3017: '卵', 3018: '涌', 3019: '措', 3020: '甲', 3021: '宽', 3022: '鬥', 3023: '佑', 3024: '髒', 3025: '江', 3026: '謬', 3027: '筵', 3028: '槟', 3029: '谜', 3030: '痕', 3031: '倚', 3032: '跨', 3033: '鋸', 3034: '幌', 3035: '櫥', 3036: '輟', 3037: '採', 3038: '吞', 3039: '咽', 3040: '咀', 3041: '嚼', 3042: '喷', 3043: '剂', 3044: '仇', 3045: '桿', 3046: '诋', 3047: '謠', 3048: '紡', 3049: '艾', 3050: '瞄', 3051: '瀏', 3052: '眉', 3053: '捏', 3054: '瓣', 3055: '鉴', 3056: '烂', 3057: '嫩', 3058: '彌', 3059: '補', 3060: '－', 3061: '盈', 3062: '眶', 3063: '鲑', 3064: '狮', 3065: '鹰', 3066: '贡', 3067: '汉', 3068: '逢', 3069: '捐', 3070: '幚', 3071: '绷', 3072: '悅', 3073: '龍', 3074: '屆', 3075: '凝', 3076: '徵', 3077: '撤', 3078: '陈', 3079: '述', 3080: '層', 3081: '垂', 3082: '颇', 3083: '囪', 3084: '猛', 3085: '析', 3086: '撼', 3087: '弦', 3088: '懦', 3089: '韋', 3090: '殖', 3091: '荐', 3092: '﹐', 3093: '蘿', 3094: '蔔', 3095: '溝', 3096: '堅', 3097: '攪', 3098: '拌', 3099: '谣', 3100: '[', 3101: ']', 3102: '沐', 3103: '咔', 3104: '哒', 3105: '搏', 3106: '賠', 3107: '芙', 3108: '伫', 3109: '涩', 3110: '苔', 3111: '偽', 3112: '蟾', 3113: '蜍', 3114: '炭', 3115: '谐', 3116: '蚯', 3117: '蚓', 3118: '懊', 3119: '聋', 3120: '畜', 3121: '牲', 3122: '泄', 3123: '援', 3124: '舟', 3125: '韓', 3126: '拋', 3127: '錨', 3128: '蕉', 3129: '碍', 3130: '‘', 3131: '贼', 3132: '磯', 3133: '莽', 3134: '姿', 3135: '禿', 3136: '篷', 3137: '鍾', 3138: '％', 3139: '芋', 3140: '滥', 3141: '尤', 3142: '龙', 3143: '愁', 3144: '陰', 3145: '哇', 3146: '描', 3147: '瀉', 3148: '紳', 3149: '催', 3150: '倆', 3151: '靓', 3152: '谴', 3153: '蝴', 3154: '蝶', 3155: '咎', 3156: '繳', 3157: '畔', 3158: '倡', 3159: '驕', 3160: '撇', 3161: '摄', 3162: '裸', 3163: '懸', 3164: '膏', 3165: '堕', 3166: '尸', 3167: '艱', 3168: '濺', 3169: '翹', 3170: '丘', 3171: '缉', 3172: '崩', 3173: '澄', 3174: '爐', 3175: '跤', 3176: '聘', 3177: '茅', 3178: '賄', 3179: '賂', 3180: '柱', 3181: '曼', 3182: '涯', 3183: '橄', 3184: '欖', 3185: '抨', 3186: '謙', 3187: '鷹', 3188: '鸚', 3189: '鵡', 3190: '寵', 3191: '鳴', 3192: '缓', 3193: '黨', 3194: '釘', 0: 'UNK', 1: 'PAD'}\n"
     ]
    }
   ],
   "source": [
    "print(inv_cn_dict)"
   ]
  },
  {
   "cell_type": "markdown",
   "metadata": {
    "colab_type": "text",
    "id": "8Q8vXj2EcoNx"
   },
   "source": [
    "把单词全部转变成数字"
   ]
  },
  {
   "cell_type": "code",
   "execution_count": 140,
   "metadata": {
    "colab": {},
    "colab_type": "code",
    "id": "SJWu3OAGcoNy"
   },
   "outputs": [],
   "source": [
    "def encode(en_sentences, cn_sentences, en_dict, cn_dict, sort_by_len=True):\n",
    "    '''\n",
    "        Encode the sequences. \n",
    "    '''\n",
    "    length = len(en_sentences)\n",
    "    #en_sentences=[['BOS', 'anyone', 'can', 'do', 'that', '.', 'EOS'],....\n",
    "    \n",
    "    out_en_sentences = [[en_dict.get(w, 0) for w in sent] for sent in en_sentences]\n",
    "    #out_en_sentences=[[2, 328, 43, 14, 28, 4, 3], ....\n",
    "    #.get(w, 0)，返回w对应的值，没有就为0.因题库比较小，这里所有的单词向量都有非零索引。\n",
    "    \n",
    " \n",
    "    out_cn_sentences = [[cn_dict.get(w, 0) for w in sent] for sent in cn_sentences]\n",
    "\n",
    "    # sort sentences by english lengths\n",
    "    def len_argsort(seq):\n",
    "        return sorted(range(len(seq)), key=lambda x: len(seq[x]))\n",
    "      #sorted()排序,key参数可以自定义规则，按seq[x]的长度排序，seq[0]为第一句话长度\n",
    "       \n",
    "    # 把中文和英文按照同样的顺序排序\n",
    "    if sort_by_len:\n",
    "        sorted_index = len_argsort(out_en_sentences)\n",
    "    #print(sorted_index)\n",
    "    #sorted_index=[63, 1544, 1917, 2650, 3998, 6240, 6294, 6703, ....\n",
    "     #前面的索引都是最短句子的索引\n",
    "      \n",
    "        out_en_sentences = [out_en_sentences[i] for i in sorted_index]\n",
    "     #print(out_en_sentences)\n",
    "     #out_en_sentences=[[2, 475, 4, 3], [2, 1318, 126, 3], [2, 1707, 126, 3], ......\n",
    "     \n",
    "        out_cn_sentences = [out_cn_sentences[i] for i in sorted_index]\n",
    "        \n",
    "    return out_en_sentences, out_cn_sentences\n",
    "\n",
    "train_en, train_cn = encode(train_en, train_cn, en_dict, cn_dict)\n",
    "dev_en, dev_cn = encode(dev_en, dev_cn, en_dict, cn_dict)"
   ]
  },
  {
   "cell_type": "code",
   "execution_count": 6,
   "metadata": {
    "colab": {
     "base_uri": "https://localhost:8080/",
     "height": 52
    },
    "colab_type": "code",
    "id": "ZBR_goyX12Qw",
    "outputId": "e032b5b3-ddda-4af2-f6ea-c702de189713"
   },
   "outputs": [
    {
     "name": "stdout",
     "output_type": "stream",
     "text": [
      "BOS 他 来 这 里 的 目 的 是 什 么 ？ EOS\n",
      "BOS for what purpose did he come here ? EOS\n"
     ]
    }
   ],
   "source": [
    "k=10000\n",
    "print(\" \".join([inv_cn_dict[i] for i in train_cn[k]])) #通过inv字典获取单词\n",
    "print(\" \".join([inv_en_dict[i] for i in train_en[k]])) "
   ]
  },
  {
   "cell_type": "markdown",
   "metadata": {
    "colab_type": "text",
    "id": "jd4YrqNPcoN5"
   },
   "source": [
    "把全部句子分成batch"
   ]
  },
  {
   "cell_type": "code",
   "execution_count": 0,
   "metadata": {
    "colab": {
     "base_uri": "https://localhost:8080/",
     "height": 52
    },
    "colab_type": "code",
    "id": "2Ugb6nb1Zn8X",
    "outputId": "fced3673-653d-4066-d772-1b15322821ad"
   },
   "outputs": [
    {
     "name": "stdout",
     "output_type": "stream",
     "text": [
      "[ 0 15 30 45 60 75 90]\n",
      "[ 0  1  2  3  4  5  6  7  8  9 10 11 12 13 14]\n"
     ]
    }
   ],
   "source": [
    "print(np.arange(0, 100, 15))\n",
    "print(np.arange(0, 15))"
   ]
  },
  {
   "cell_type": "code",
   "execution_count": 141,
   "metadata": {
    "colab": {},
    "colab_type": "code",
    "id": "xP9XSbJHcoN6"
   },
   "outputs": [],
   "source": [
    "def get_minibatches(n, minibatch_size, shuffle=True):\n",
    "    idx_list = np.arange(0, n, minibatch_size) # [0, 1, ..., n-1]\n",
    "    if shuffle:\n",
    "        np.random.shuffle(idx_list) #打乱数据\n",
    "    minibatches = []\n",
    "    for idx in idx_list:\n",
    "        minibatches.append(np.arange(idx, min(idx + minibatch_size, n)))\n",
    "        #所有batch放在一个大列表里\n",
    "    return minibatches"
   ]
  },
  {
   "cell_type": "code",
   "execution_count": 10,
   "metadata": {
    "colab": {
     "base_uri": "https://localhost:8080/",
     "height": 160
    },
    "colab_type": "code",
    "id": "cLHziG0aZtwr",
    "outputId": "550da2b4-cd6e-4ece-c198-ad525e9f740b"
   },
   "outputs": [
    {
     "data": {
      "text/plain": [
       "[array([75, 76, 77, 78, 79, 80, 81, 82, 83, 84, 85, 86, 87, 88, 89]),\n",
       " array([45, 46, 47, 48, 49, 50, 51, 52, 53, 54, 55, 56, 57, 58, 59]),\n",
       " array([30, 31, 32, 33, 34, 35, 36, 37, 38, 39, 40, 41, 42, 43, 44]),\n",
       " array([ 0,  1,  2,  3,  4,  5,  6,  7,  8,  9, 10, 11, 12, 13, 14]),\n",
       " array([15, 16, 17, 18, 19, 20, 21, 22, 23, 24, 25, 26, 27, 28, 29]),\n",
       " array([60, 61, 62, 63, 64, 65, 66, 67, 68, 69, 70, 71, 72, 73, 74]),\n",
       " array([90, 91, 92, 93, 94, 95, 96, 97, 98, 99])]"
      ]
     },
     "execution_count": 10,
     "metadata": {
      "tags": []
     },
     "output_type": "execute_result"
    }
   ],
   "source": [
    "get_minibatches(100,15) #随机打乱的"
   ]
  },
  {
   "cell_type": "code",
   "execution_count": 142,
   "metadata": {
    "colab": {
     "base_uri": "https://localhost:8080/",
     "height": 33721
    },
    "colab_type": "code",
    "id": "bzMTd27YZqcf",
    "outputId": "b87419a2-6fcd-4144-eab7-edee2523b129"
   },
   "outputs": [],
   "source": [
    "def prepare_data(seqs):\n",
    "#seqs=[[2, 12, 167, 23, 114, 5, 27, 1755, 4, 3], ........\n",
    "    lengths = [len(seq) for seq in seqs]#每个batch里语句的长度统计出来\n",
    "    n_samples = len(seqs) #一个batch有多少语句\n",
    "    max_len = np.max(lengths) #取出最长的的语句长度，后面用这个做padding基准\n",
    "    x = np.zeros((n_samples, max_len)).astype('int32')\n",
    "    #先初始化全零矩阵，后面依次赋值\n",
    "    #print(x.shape) #64*最大句子长度\n",
    "    \n",
    "    x_lengths = np.array(lengths).astype(\"int32\")\n",
    "    #print(x_lengths) \n",
    "#这里看下面的输入语句发现英文句子长度都一样，中文句子长短不一。\n",
    "#说明英文句子是特征，中文句子是标签。\n",
    "\n",
    "\n",
    "    for idx, seq in enumerate(seqs):\n",
    "      #取出一个batch的每条语句和对应的索引\n",
    "        x[idx, :lengths[idx]] = seq\n",
    "        #每条语句按行赋值给x，x会有一些零值没有被赋值。\n",
    "        \n",
    "    return x, x_lengths #x_mask\n",
    "\n",
    "def gen_examples(en_sentences, cn_sentences, batch_size):\n",
    "    minibatches = get_minibatches(len(en_sentences), batch_size)\n",
    "    all_ex = []\n",
    "    for minibatch in minibatches:\n",
    "        mb_en_sentences = [en_sentences[t] for t in minibatch]\n",
    "#按打乱的batch序号分数据，打乱只是batch打乱，一个batach里面的语句还是顺序的。\n",
    "        #print(mb_en_sentences)\n",
    "        \n",
    "        mb_cn_sentences = [cn_sentences[t] for t in minibatch]\n",
    "        mb_x, mb_x_len = prepare_data(mb_en_sentences)\n",
    "        #返回的维度为：mb_x=(64 * 最大句子长度）,mb_x_len=最大句子长度\n",
    "        mb_y, mb_y_len = prepare_data(mb_cn_sentences)\n",
    "        \n",
    "        all_ex.append((mb_x, mb_x_len, mb_y, mb_y_len))\n",
    "  #这里把所有batch数据集合到一起。\n",
    "  #依次为英文句子，英文长度，中文句子翻译，中文句子长度，这四个放在一个列表中\n",
    "  #一个列表为一个batch的数据，所有batch组成一个大列表数据\n",
    "  \n",
    "        \n",
    "    return all_ex\n",
    "\n",
    "batch_size = 64\n",
    "train_data = gen_examples(train_en, train_cn, batch_size)\n",
    "random.shuffle(train_data)\n",
    "dev_data = gen_examples(dev_en, dev_cn, batch_size)"
   ]
  },
  {
   "cell_type": "code",
   "execution_count": 28,
   "metadata": {
    "colab": {
     "base_uri": "https://localhost:8080/",
     "height": 1407
    },
    "colab_type": "code",
    "collapsed": true,
    "id": "wBE0PAtSL_iC",
    "outputId": "544cfcd0-26aa-4939-e76d-72b0feafa636"
   },
   "outputs": [
    {
     "data": {
      "text/plain": [
       "(array([[   2,   12,  707,   23,    7,  295,    4,    3],\n",
       "        [   2,   12,  120, 1207,  517,  604,    4,    3],\n",
       "        [   2,    8,   90,  433,   64, 1470,  126,    3],\n",
       "        [   2,   12,  144,   46,    9,   94,    4,    3],\n",
       "        [   2,   25,   10,    9,  535,  639,    4,    3],\n",
       "        [   2,   25,   10,   64,  377, 2512,    4,    3],\n",
       "        [   2,   12,   43,  309,    9,   96,    4,    3],\n",
       "        [   2,   43,  328, 1475,   25,  469,   11,    3],\n",
       "        [   2,   82, 1043,   34, 1991, 2514,    4,    3],\n",
       "        [   2,    5,   54,    7,  181, 1694,    4,    3],\n",
       "        [   2,   30,   51,  472,    6,  294,   11,    3],\n",
       "        [   2,    5,  241,   16,   65,  551,    4,    3],\n",
       "        [   2,   14,    8,   36, 2516,  680,   11,    3],\n",
       "        [   2,    8,   30,    9,   66,  333,    4,    3],\n",
       "        [   2,   12,   10,   34,   40,  777,    4,    3],\n",
       "        [   2,   29,   54,    9,  138, 1633,    4,    3],\n",
       "        [   2,   43,    8,  309,    9,   96,   11,    3],\n",
       "        [   2,   47,   12,   39,   59,  190,   11,    3],\n",
       "        [   2,   29,   85,   14,  150,  221,    4,    3],\n",
       "        [   2,   12,   70,   37,   36,  242,    4,    3],\n",
       "        [   2,    5,  239,   64, 2521, 1696,    4,    3],\n",
       "        [   2,    5,   14,   13,   36,  314,    4,    3],\n",
       "        [   2,    5,  234,    7,   45,   44,    4,    3],\n",
       "        [   2,    5,   76,  226,   17,  621,    4,    3],\n",
       "        [   2,   29,  180,    9,  269,  266,    4,    3],\n",
       "        [   2,   85,    5,   22,    6,  708,   11,    3],\n",
       "        [   2,    6,  788,   48,   37,  889,    4,    3],\n",
       "        [   2,    8,   63,  124,   45,   95,    4,    3],\n",
       "        [   2,  921,   10,   21,  640,  350,    4,    3],\n",
       "        [   2,   52,   10,    6,  296,   44,   11,    3],\n",
       "        [   2,  681,   10,  190,   24,  146,   11,    3],\n",
       "        [   2,   19, 1480,  838,    7,  596,    4,    3],\n",
       "        [   2,   29,   90,  472, 2036,  132,    4,    3],\n",
       "        [   2,    8,   90,    9,   66,  645,    4,    3],\n",
       "        [   2,    5,  192,  257,    7,  684,    4,    3],\n",
       "        [   2,    5,   68,   36,  384, 1686,    4,    3],\n",
       "        [   2,   12,   10,  120,   38,   23,    4,    3],\n",
       "        [   2,   18,   47,  965,  106,  112,    4,    3],\n",
       "        [   2,    8,   30,   37,    9,  250,    4,    3],\n",
       "        [   2,   31,   20,  129,   20,  900,   11,    3],\n",
       "        [   2,   29,  519,  118, 2044, 1313,    4,    3],\n",
       "        [   2,   29,   22,    6,  294,  229,    4,    3],\n",
       "        [   2,   25,  189, 1056,  335,  151,    4,    3],\n",
       "        [   2,    8,   67,   89,   57,  887,    4,    3],\n",
       "        [   2,   41,    8,   72,   59,  362,   11,    3],\n",
       "        [   2,   51,  923, 2534,   26,  364,    4,    3],\n",
       "        [   2,   22,    8, 1209,  914,  834,   11,    3],\n",
       "        [   2,   19,   48,    9, 1127,  847,    4,    3],\n",
       "        [   2,   25,  224,   70,   13,  425,    4,    3],\n",
       "        [   2,   19,  949,   62, 1112,  657,    4,    3],\n",
       "        [   2,   87,   10,    6,  751,  443,   11,    3],\n",
       "        [   2,   19,  144,   99,    9,  539,    4,    3],\n",
       "        [   2,   19,  599,  242,  117,  103,    4,    3],\n",
       "        [   2,   14,    8,   22,    9,  386,   11,    3],\n",
       "        [   2,   16,   20,   60,    7,   45,    4,    3],\n",
       "        [   2,   25,  145,  133,   10, 1974,    4,    3],\n",
       "        [   2,   25,   10,  426,   17,  343,    4,    3],\n",
       "        [   2,    5,   22,  239,    6,  461,    4,    3],\n",
       "        [   2,   14,   13,    8,  162,  242,   11,    3],\n",
       "        [   2,    8,   67,   13,  159,   59,    4,    3],\n",
       "        [   2,  140, 3452, 1220,   33,  601,    4,    3],\n",
       "        [   2,    5,   79, 1937,   35,  232,    4,    3],\n",
       "        [   2,   18, 1612,   35,  779,  926,    4,    3],\n",
       "        [   2,   12,  197,  599,    6,  632,    4,    3]], dtype=int32),\n",
       " array([8, 8, 8, 8, 8, 8, 8, 8, 8, 8, 8, 8, 8, 8, 8, 8, 8, 8, 8, 8, 8, 8,\n",
       "        8, 8, 8, 8, 8, 8, 8, 8, 8, 8, 8, 8, 8, 8, 8, 8, 8, 8, 8, 8, 8, 8,\n",
       "        8, 8, 8, 8, 8, 8, 8, 8, 8, 8, 8, 8, 8, 8, 8, 8, 8, 8, 8, 8],\n",
       "       dtype=int32),\n",
       " array([[  2,   9, 793, ...,   0,   0,   0],\n",
       "        [  2,   9, 504, ...,   0,   0,   0],\n",
       "        [  2,   8, 114, ...,   0,   0,   0],\n",
       "        ...,\n",
       "        [  2,   5, 154, ...,   0,   0,   0],\n",
       "        [  2, 214, 171, ..., 838,   4,   3],\n",
       "        [  2,   9,  74, ...,   0,   0,   0]], dtype=int32),\n",
       " array([10, 12,  9, 10,  8, 10,  7, 13, 17,  8, 11, 10, 11,  9,  9, 12,  8,\n",
       "        12, 10,  9, 14,  9,  9,  6,  9, 10,  9, 10, 13, 11, 14, 13, 14,  8,\n",
       "         8, 10, 10,  9,  8,  7, 14, 12, 13, 13, 13, 12, 13,  8, 11, 11, 10,\n",
       "        12, 10,  9,  6, 10,  8, 11,  9, 11, 10, 12, 21,  9], dtype=int32))"
      ]
     },
     "execution_count": 28,
     "metadata": {
      "tags": []
     },
     "output_type": "execute_result"
    }
   ],
   "source": [
    "train_data[0]"
   ]
  },
  {
   "cell_type": "markdown",
   "metadata": {
    "colab_type": "text",
    "id": "z_ncYOpDcoN-"
   },
   "source": [
    "### 没有Attention的版本\n",
    "下面是一个更简单的没有Attention的encoder decoder模型"
   ]
  },
  {
   "cell_type": "code",
   "execution_count": 143,
   "metadata": {
    "colab": {},
    "colab_type": "code",
    "id": "fBf8n8o8coN_"
   },
   "outputs": [],
   "source": [
    "class PlainEncoder(nn.Module):\n",
    "    def __init__(self, vocab_size, hidden_size, dropout=0.2):\n",
    "        #以英文为例，vocab_size=5493, hidden_size=100, dropout=0.2\n",
    "        super(PlainEncoder, self).__init__()\n",
    "        self.embed = nn.Embedding(vocab_size, hidden_size)\n",
    "        #这里的hidden_size为embedding_dim：一个单词的维度 \n",
    "        #torch.nn.Embedding(num_embeddings, embedding_dim, .....)\n",
    "        #这里的hidden_size = 100\n",
    "        \n",
    "        self.rnn = nn.GRU(hidden_size, hidden_size, batch_first=True)      \n",
    "        #第一个参数为input_size ：输入特征数量\n",
    "        #第二个参数为hidden_size ：隐藏层特征数量\n",
    "\n",
    "        self.dropout = nn.Dropout(dropout)\n",
    "\n",
    "    def forward(self, x, lengths): \n",
    "        #x是输入的batch的所有单词，lengths：batch里每个句子的长度\n",
    "        #因为需要把最后一个hidden state取出来，需要知道长度，因为句子长度不一样\n",
    "        ##print(x.shape,lengths),x.sahpe = torch.Size([64, 10])\n",
    "        # lengths= =tensor([10, 10, 10, ..... 10, 10, 10])\n",
    "        \n",
    "        sorted_len, sorted_idx = lengths.sort(0, descending=True)\n",
    "        #按照长度排序，descending=True长的在前。\n",
    "        #返回两个参数，句子长度和未排序前的索引\n",
    "        # sorted_idx=tensor([41, 40, 46, 45,...... 19, 18, 63])\n",
    "        # sorted_len=tensor([10, 10, 10, ..... 10, 10, 10])\n",
    "        \n",
    "        x_sorted = x[sorted_idx.long()] #句子用新的idx，按长度排好序了\n",
    "        \n",
    "        embedded = self.dropout(self.embed(x_sorted))\n",
    "        #print(embedded.shape)=torch.Size([64, 10, 100])\n",
    "        #tensor([[[-0.6312, -0.9863, -0.3123,  ..., -0.7384,  0.9230, -0.4311],....\n",
    "\n",
    "        packed_embedded = nn.utils.rnn.pack_padded_sequence(embedded, sorted_len.long().cpu().data.numpy(), batch_first=True)\n",
    "        #这个函数就是用来处理不同长度的句子的，https: // www.cnblogs.com / sbj123456789 / p / 9834018. html\n",
    "\n",
    "        packed_out, hid = self.rnn(packed_embedded)\n",
    "        #hid.shape = torch.Size([1, 64, 100])\n",
    "        \n",
    "        out, _ = nn.utils.rnn.pad_packed_sequence(packed_out, batch_first=True)\n",
    "        #out.shape = torch.Size([64, 10, 100]),\n",
    "\n",
    "        _, original_idx = sorted_idx.sort(0, descending=False)\n",
    "        out = out[original_idx.long()].contiguous()\n",
    "        hid = hid[:, original_idx.long()].contiguous()\n",
    "        #out.shape = torch.Size([64, 10, 100])\n",
    "        #hid.shape = torch.Size([1, 64, 100])\n",
    "        \n",
    "        return out, hid[[-1]] #有时候num_layers层数多，需要取出最后一层"
   ]
  },
  {
   "cell_type": "code",
   "execution_count": 124,
   "metadata": {
    "colab": {},
    "colab_type": "code",
    "id": "fBf8n8o8coN_"
   },
   "outputs": [],
   "source": [
    "class PlainDecoder(nn.Module):\n",
    "    def __init__(self, vocab_size, hidden_size, dropout=0.2):\n",
    "        super(PlainDecoder, self).__init__()\n",
    "        self.embed = nn.Embedding(vocab_size, hidden_size)\n",
    "        self.rnn = nn.GRU(hidden_size, hidden_size, batch_first=True)\n",
    "        self.out = nn.Linear(hidden_size, vocab_size)\n",
    "        self.dropout = nn.Dropout(dropout)\n",
    "        \n",
    "    def forward(self, y, y_lengths, hid):\n",
    "        #print(y.shape)=torch.Size([64, 12])\n",
    "        #print(hid.shape)=torch.Size([1, 64, 100])\n",
    "        #中文的y和y_lengths\n",
    "        sorted_len, sorted_idx = y_lengths.sort(0, descending=True)\n",
    "        y_sorted = y[sorted_idx.long()]\n",
    "        hid = hid[:, sorted_idx.long()] #隐藏层也要排序\n",
    "\n",
    "        y_sorted = self.dropout(self.embed(y_sorted)) \n",
    "        # batch_size, output_length, embed_size\n",
    "\n",
    "        packed_seq = nn.utils.rnn.pack_padded_sequence(y_sorted, sorted_len.long().cpu().data.numpy(), batch_first=True)\n",
    "        out, hid = self.rnn(packed_seq, hid) #加上隐藏层\n",
    "        #print(hid.shape)=torch.Size([1, 64, 100])\n",
    "        unpacked, _ = nn.utils.rnn.pad_packed_sequence(out, batch_first=True)\n",
    "        _, original_idx = sorted_idx.sort(0, descending=False)\n",
    "        output_seq = unpacked[original_idx.long()].contiguous()\n",
    "        #print(output_seq.shape)=torch.Size([64, 12, 100])\n",
    "        hid = hid[:, original_idx.long()].contiguous()\n",
    "        #print(hid.shape)=torch.Size([1, 64, 100])\n",
    "        output = F.log_softmax(self.out(output_seq), -1)\n",
    "        #print(output.shape)=torch.Size([64, 12, 3195])\n",
    "        \n",
    "        return output, hid"
   ]
  },
  {
   "cell_type": "code",
   "execution_count": 144,
   "metadata": {
    "colab": {},
    "colab_type": "code",
    "id": "fBf8n8o8coN_"
   },
   "outputs": [],
   "source": [
    "\n",
    "class PlainSeq2Seq(nn.Module):\n",
    "    def __init__(self, encoder, decoder):\n",
    "        #encoder是上面PlainEncoder的实例\n",
    "        #decoder是上面PlainDecoder的实例\n",
    "        super(PlainSeq2Seq, self).__init__()\n",
    "        self.encoder = encoder\n",
    "        self.decoder = decoder\n",
    "       \n",
    "    #把两个模型串起来 \n",
    "    def forward(self, x, x_lengths, y, y_lengths):\n",
    "        encoder_out, hid = self.encoder(x, x_lengths)\n",
    "        #self.encoder(x, x_lengths)调用PlainEncoder里面forward的方法\n",
    "        #返回forward的out和hid\n",
    "        \n",
    "        output, hid = self.decoder(y=y,y_lengths=y_lengths,hid=hid)\n",
    "        #self.dencoder()调用PlainDecoder里面forward的方法\n",
    "        \n",
    "        return output, None\n",
    "\n",
    "    def translate(self, x, x_lengths, y, max_length=10):\n",
    "        #x是一个句子，用数值表示\n",
    "        #y是句子的长度\n",
    "        #y是“bos”的数值索引=2\n",
    "        \n",
    "        encoder_out, hid = self.encoder(x, x_lengths)\n",
    "        preds = []\n",
    "        batch_size = x.shape[0]\n",
    "        attns = []\n",
    "        for i in range(max_length):\n",
    "            output, hid = self.decoder(y=y,\n",
    "                    y_lengths=torch.ones(batch_size).long().to(y.device),\n",
    "                    hid=hid) \n",
    "            \n",
    "#刚开始循环bos作为模型的首个输入单词，后续更新y，下个预测单词的输入是上个输出单词\n",
    "            y = output.max(2)[1].view(batch_size, 1)\n",
    "            preds.append(y)\n",
    "            \n",
    "        return torch.cat(preds, 1), None"
   ]
  },
  {
   "cell_type": "code",
   "execution_count": 145,
   "metadata": {
    "colab": {},
    "colab_type": "code",
    "id": "vGykJm8ucoOE"
   },
   "outputs": [],
   "source": [
    "device = torch.device(\"cuda\" if torch.cuda.is_available() else \"cpu\")\n",
    "dropout = 0.2\n",
    "hidden_size = 100\n",
    "\n",
    "#传入中文和英文参数\n",
    "encoder = PlainEncoder(vocab_size=en_total_words,\n",
    "                      hidden_size=hidden_size,\n",
    "                      dropout=dropout)\n",
    "decoder = PlainDecoder(vocab_size=cn_total_words,\n",
    "                      hidden_size=hidden_size,\n",
    "                      dropout=dropout)\n",
    "model = PlainSeq2Seq(encoder, decoder)"
   ]
  },
  {
   "cell_type": "code",
   "execution_count": 146,
   "metadata": {
    "colab": {},
    "colab_type": "code",
    "id": "kF-lEtsVcoOB"
   },
   "outputs": [],
   "source": [
    "# masked cross entropy loss\n",
    "class LanguageModelCriterion(nn.Module):\n",
    "    def __init__(self):\n",
    "        super(LanguageModelCriterion, self).__init__()\n",
    "\n",
    "    def forward(self, input, target, mask):\n",
    "        #target=tensor([[5,108,8,4,3,0,0,0,0,0,0,0],....\n",
    "        #  mask=tensor([[1,1 ,1,1,1,0,0,0,0,0,0,0],.....\n",
    "        #print(input.shape,target.shape,mask.shape)\n",
    "        #torch.Size([64, 12, 3195]) torch.Size([64, 12]) torch.Size([64, 12])\n",
    "        \n",
    "        # input: (batch_size * seq_len) * vocab_size\n",
    "        input = input.contiguous().view(-1, input.size(2))\n",
    "        \n",
    "        # target: batch_size * 1=768*1\n",
    "        target = target.contiguous().view(-1, 1)\n",
    "        mask = mask.contiguous().view(-1, 1)\n",
    "        #print(-input.gather(1, target))\n",
    "        output = -input.gather(1, target) * mask\n",
    "#这里算得就是交叉熵损失，前面已经算了F.log_softmax\n",
    "#.gather的作用https://blog.csdn.net/edogawachia/article/details/80515038\n",
    "#output.shape=torch.Size([768, 1])\n",
    "#mask作用是把padding为0的地方重置为零，因为input.gather时，为0的地方不是零了\n",
    "        \n",
    "        output = torch.sum(output) / torch.sum(mask)\n",
    "        #均值损失\n",
    "\n",
    "        return output"
   ]
  },
  {
   "cell_type": "code",
   "execution_count": 147,
   "metadata": {
    "colab": {},
    "colab_type": "code",
    "id": "vGykJm8ucoOE"
   },
   "outputs": [],
   "source": [
    "model = model.to(device)\n",
    "loss_fn = LanguageModelCriterion().to(device)\n",
    "optimizer = torch.optim.Adam(model.parameters())"
   ]
  },
  {
   "cell_type": "code",
   "execution_count": 151,
   "metadata": {
    "colab": {},
    "colab_type": "code",
    "id": "bZdgC77scoOI",
    "outputId": "f96af174-87ac-4aaa-8550-81894752af7a"
   },
   "outputs": [
    {
     "name": "stdout",
     "output_type": "stream",
     "text": [
      "Epoch 0 iteration 0 loss 4.277793884277344\n",
      "Epoch 0 iteration 100 loss 3.5520756244659424\n",
      "Epoch 0 iteration 200 loss 3.483494997024536\n",
      "Epoch 0 Training loss 3.6435126089915557\n",
      "Evaluation loss 3.698509503997669\n",
      "Epoch 1 iteration 0 loss 4.158623218536377\n",
      "Epoch 1 iteration 100 loss 3.412541389465332\n",
      "Epoch 1 iteration 200 loss 3.3976175785064697\n",
      "Epoch 1 Training loss 3.5087569079050698\n"
     ]
    }
   ],
   "source": [
    "def train(model, data, num_epochs=2):\n",
    "    for epoch in range(num_epochs):\n",
    "        model.train()\n",
    "        total_num_words = total_loss = 0.\n",
    "        for it, (mb_x, mb_x_len, mb_y, mb_y_len) in enumerate(data):\n",
    "            #（英文batch，英文长度，中文batch，中文长度）\n",
    "            \n",
    "            mb_x = torch.from_numpy(mb_x).to(device).long()\n",
    "            mb_x_len = torch.from_numpy(mb_x_len).to(device).long()\n",
    "            \n",
    "            #前n-1个单词作为输入，后n-1个单词作为输出，因为输入的前一个单词要预测后一个单词\n",
    "            mb_input = torch.from_numpy(mb_y[:, :-1]).to(device).long()\n",
    "            mb_output = torch.from_numpy(mb_y[:, 1:]).to(device).long()\n",
    "            #\n",
    "            mb_y_len = torch.from_numpy(mb_y_len-1).to(device).long()\n",
    "            #输入输出的长度都减一。\n",
    "            \n",
    "            mb_y_len[mb_y_len<=0] = 1\n",
    "            \n",
    "            mb_pred, attn = model(mb_x, mb_x_len, mb_input, mb_y_len)\n",
    "            #返回的是类PlainSeq2Seq里forward函数的两个返回值\n",
    "            \n",
    "            mb_out_mask = torch.arange(mb_y_len.max().item(), device=device)[None, :] < mb_y_len[:, None]\n",
    "#mb_out_mask=tensor([[1, 1, 1,  ..., 0, 0, 0],[1, 1, 1,  ..., 0, 0, 0],\n",
    "#mb_out_mask.shape= (64*19),这句代码咱不懂，这个mask就是padding的位置设置为0，其他设置为1\n",
    "#mb_out_mask就是LanguageModelCriterion的传入参数mask。\n",
    "\n",
    "            mb_out_mask = mb_out_mask.float()\n",
    "            \n",
    "            loss = loss_fn(mb_pred, mb_output, mb_out_mask)\n",
    "            \n",
    "            num_words = torch.sum(mb_y_len).item()\n",
    "            #一个batch里多少个单词\n",
    "            \n",
    "            total_loss += loss.item() * num_words\n",
    "            #总损失，loss计算的是均值损失，每个单词都是都有损失，所以乘以单词数\n",
    "            \n",
    "            total_num_words += num_words\n",
    "            #总单词数\n",
    "            \n",
    "            # 更新模型\n",
    "            optimizer.zero_grad()\n",
    "            loss.backward()\n",
    "            torch.nn.utils.clip_grad_norm_(model.parameters(), 5.)\n",
    "            #为了防止梯度过大，设置梯度的阈值\n",
    "            \n",
    "            optimizer.step()\n",
    "            \n",
    "            if it % 100 == 0:\n",
    "                print(\"Epoch\", epoch, \"iteration\", it, \"loss\", loss.item())\n",
    "\n",
    "                \n",
    "        print(\"Epoch\", epoch, \"Training loss\", total_loss/total_num_words)\n",
    "        if epoch % 5 == 0:\n",
    "            evaluate(model, dev_data) #评估模型\n",
    "train(model, train_data, num_epochs=2)"
   ]
  },
  {
   "cell_type": "code",
   "execution_count": 135,
   "metadata": {
    "colab": {},
    "colab_type": "code",
    "id": "Nii8-NKpcoOG"
   },
   "outputs": [],
   "source": [
    "def evaluate(model, data):\n",
    "    model.eval()\n",
    "    total_num_words = total_loss = 0.\n",
    "    with torch.no_grad():#不需要更新模型，不需要梯度\n",
    "        for it, (mb_x, mb_x_len, mb_y, mb_y_len) in enumerate(data):\n",
    "            mb_x = torch.from_numpy(mb_x).to(device).long()\n",
    "            mb_x_len = torch.from_numpy(mb_x_len).to(device).long()\n",
    "            mb_input = torch.from_numpy(mb_y[:, :-1]).to(device).long()\n",
    "            mb_output = torch.from_numpy(mb_y[:, 1:]).to(device).long()\n",
    "            mb_y_len = torch.from_numpy(mb_y_len-1).to(device).long()\n",
    "            mb_y_len[mb_y_len<=0] = 1\n",
    "\n",
    "            mb_pred, attn = model(mb_x, mb_x_len, mb_input, mb_y_len)\n",
    "\n",
    "            mb_out_mask = torch.arange(mb_y_len.max().item(), device=device)[None, :] < mb_y_len[:, None]\n",
    "            mb_out_mask = mb_out_mask.float()\n",
    "\n",
    "            loss = loss_fn(mb_pred, mb_output, mb_out_mask)\n",
    "\n",
    "            num_words = torch.sum(mb_y_len).item()\n",
    "            total_loss += loss.item() * num_words\n",
    "            total_num_words += num_words\n",
    "    print(\"Evaluation loss\", total_loss/total_num_words)\n"
   ]
  },
  {
   "cell_type": "code",
   "execution_count": null,
   "metadata": {
    "colab": {},
    "colab_type": "code",
    "id": "dvf_KTw8coOL",
    "outputId": "87d8055d-9e08-41ba-d05e-e95887725457"
   },
   "outputs": [],
   "source": [
    "#翻译个句子看看结果咋样\n",
    "def translate_dev(i):\n",
    "    #随便取出句子\n",
    "    en_sent = \" \".join([inv_en_dict[w] for w in dev_en[i]])\n",
    "    print(en_sent)\n",
    "    cn_sent = \" \".join([inv_cn_dict[w] for w in dev_cn[i]])\n",
    "    print(\"\".join(cn_sent))\n",
    "\n",
    "    mb_x = torch.from_numpy(np.array(dev_en[i]).reshape(1, -1)).long().to(device)\n",
    "    #把句子升维，并转换成tensor\n",
    "    \n",
    "    mb_x_len = torch.from_numpy(np.array([len(dev_en[i])])).long().to(device)\n",
    "    #取出句子长度，并转换成tensor\n",
    "    \n",
    "    bos = torch.Tensor([[cn_dict[\"BOS\"]]]).long().to(device)\n",
    "    #bos=tensor([[2]])\n",
    "\n",
    "    translation, attn = model.translate(mb_x, mb_x_len, bos)\n",
    "    #这里传入bos作为首个单词的输入\n",
    "    #translation=tensor([[ 8,  6, 11, 25, 22, 57, 10,  5,  6,  4]])\n",
    "    \n",
    "    translation = [inv_cn_dict[i] for i in translation.data.cpu().numpy().reshape(-1)]\n",
    "    trans = []\n",
    "    for word in translation:\n",
    "        if word != \"EOS\": # 把数值变成单词形式\n",
    "            trans.append(word) #\n",
    "        else:\n",
    "            break\n",
    "    print(\"\".join(trans))\n",
    "\n",
    "for i in range(100,120):\n",
    "    translate_dev(i)\n",
    "    print()"
   ]
  },
  {
   "cell_type": "markdown",
   "metadata": {
    "colab_type": "text",
    "id": "0-lT6Cw-coOP"
   },
   "source": [
    "数据全部处理完成，现在我们开始构建seq2seq模型\n",
    "\n",
    "#### Encoder\n",
    "- Encoder模型的任务是把输入文字传入embedding层和GRU层，转换成一些hidden states作为后续的context vectors"
   ]
  },
  {
   "cell_type": "markdown",
   "metadata": {},
   "source": [
    "## 下面的注释我先把原理捋清楚吧"
   ]
  },
  {
   "cell_type": "code",
   "execution_count": 0,
   "metadata": {
    "colab": {},
    "colab_type": "code",
    "id": "5qt-lDm8coOP"
   },
   "outputs": [],
   "source": [
    "class Encoder(nn.Module):\n",
    "    def __init__(self, vocab_size, embed_size, enc_hidden_size, dec_hidden_size, dropout=0.2):\n",
    "        super(Encoder, self).__init__()\n",
    "        self.embed = nn.Embedding(vocab_size, embed_size)\n",
    "        \n",
    "        self.rnn = nn.GRU(embed_size, enc_hidden_size, batch_first=True, bidirectional=True)\n",
    "        self.dropout = nn.Dropout(dropout)\n",
    "        self.fc = nn.Linear(enc_hidden_size * 2, dec_hidden_size)\n",
    "\n",
    "    def forward(self, x, lengths):\n",
    "        sorted_len, sorted_idx = lengths.sort(0, descending=True)\n",
    "        x_sorted = x[sorted_idx.long()]\n",
    "        embedded = self.dropout(self.embed(x_sorted))\n",
    "        \n",
    "        packed_embedded = nn.utils.rnn.pack_padded_sequence(embedded, sorted_len.long().cpu().data.numpy(), batch_first=True)\n",
    "        packed_out, hid = self.rnn(packed_embedded)\n",
    "        out, _ = nn.utils.rnn.pad_packed_sequence(packed_out, batch_first=True)\n",
    "        _, original_idx = sorted_idx.sort(0, descending=False)\n",
    "        out = out[original_idx.long()].contiguous()\n",
    "        hid = hid[:, original_idx.long()].contiguous()\n",
    "        \n",
    "        hid = torch.cat([hid[-2], hid[-1]], dim=1)\n",
    "        hid = torch.tanh(self.fc(hid)).unsqueeze(0)\n",
    "\n",
    "        return out, hid"
   ]
  },
  {
   "cell_type": "markdown",
   "metadata": {
    "colab_type": "text",
    "id": "5PunwHJfcoOT"
   },
   "source": [
    "#### Luong Attention\n",
    "- 根据context vectors和当前的输出hidden states，计算输出"
   ]
  },
  {
   "cell_type": "code",
   "execution_count": 0,
   "metadata": {
    "colab": {},
    "colab_type": "code",
    "id": "16G1_LB0coOU"
   },
   "outputs": [],
   "source": [
    "class Attention(nn.Module):\n",
    "    def __init__(self, enc_hidden_size, dec_hidden_size):\n",
    "        super(Attention, self).__init__()\n",
    "\n",
    "        self.enc_hidden_size = enc_hidden_size\n",
    "        self.dec_hidden_size = dec_hidden_size\n",
    "\n",
    "        self.linear_in = nn.Linear(enc_hidden_size*2, dec_hidden_size, bias=False)\n",
    "        self.linear_out = nn.Linear(enc_hidden_size*2 + dec_hidden_size, dec_hidden_size)\n",
    "        \n",
    "    def forward(self, output, context, mask):\n",
    "        # output: batch_size, output_len, dec_hidden_size\n",
    "        # context: batch_size, context_len, 2*enc_hidden_size\n",
    "    \n",
    "        batch_size = output.size(0)\n",
    "        output_len = output.size(1)\n",
    "        input_len = context.size(1)\n",
    "        \n",
    "        context_in = self.linear_in(context.view(batch_size*input_len, -1)).view(                \n",
    "            batch_size, input_len, -1) # batch_size, context_len, dec_hidden_size\n",
    "        \n",
    "        # context_in.transpose(1,2): batch_size, dec_hidden_size, context_len \n",
    "        # output: batch_size, output_len, dec_hidden_size\n",
    "        attn = torch.bmm(output, context_in.transpose(1,2)) \n",
    "        # batch_size, output_len, context_len\n",
    "\n",
    "        attn.data.masked_fill(mask, -1e6)\n",
    "\n",
    "        attn = F.softmax(attn, dim=2) \n",
    "        # batch_size, output_len, context_len\n",
    "\n",
    "        context = torch.bmm(attn, context) \n",
    "        # batch_size, output_len, enc_hidden_size\n",
    "        \n",
    "        output = torch.cat((context, output), dim=2) # batch_size, output_len, hidden_size*2\n",
    "\n",
    "        output = output.view(batch_size*output_len, -1)\n",
    "        output = torch.tanh(self.linear_out(output))\n",
    "        output = output.view(batch_size, output_len, -1)\n",
    "        return output, attn"
   ]
  },
  {
   "cell_type": "markdown",
   "metadata": {
    "colab_type": "text",
    "id": "LzcOPJf_coOX"
   },
   "source": [
    "#### Decoder\n",
    "- decoder会根据已经翻译的句子内容，和context vectors，来决定下一个输出的单词"
   ]
  },
  {
   "cell_type": "code",
   "execution_count": 0,
   "metadata": {
    "colab": {},
    "colab_type": "code",
    "id": "gX8flwywcoOY"
   },
   "outputs": [],
   "source": [
    "class Decoder(nn.Module):\n",
    "    def __init__(self, vocab_size, embed_size, enc_hidden_size, dec_hidden_size, dropout=0.2):\n",
    "        super(Decoder, self).__init__()\n",
    "        self.embed = nn.Embedding(vocab_size, embed_size)\n",
    "        self.attention = Attention(enc_hidden_size, dec_hidden_size)\n",
    "        self.rnn = nn.GRU(embed_size, hidden_size, batch_first=True)\n",
    "        self.out = nn.Linear(dec_hidden_size, vocab_size)\n",
    "        self.dropout = nn.Dropout(dropout)\n",
    "\n",
    "    def create_mask(self, x_len, y_len):\n",
    "        # a mask of shape x_len * y_len\n",
    "        device = x_len.device\n",
    "        max_x_len = x_len.max()\n",
    "        max_y_len = y_len.max()\n",
    "        x_mask = torch.arange(max_x_len, device=x_len.device)[None, :] < x_len[:, None]\n",
    "        y_mask = torch.arange(max_y_len, device=x_len.device)[None, :] < y_len[:, None]\n",
    "        mask = (1 - x_mask[:, :, None] * y_mask[:, None, :]).byte()\n",
    "        return mask\n",
    "    \n",
    "    def forward(self, ctx, ctx_lengths, y, y_lengths, hid):\n",
    "        sorted_len, sorted_idx = y_lengths.sort(0, descending=True)\n",
    "        y_sorted = y[sorted_idx.long()]\n",
    "        hid = hid[:, sorted_idx.long()]\n",
    "        \n",
    "        y_sorted = self.dropout(self.embed(y_sorted)) # batch_size, output_length, embed_size\n",
    "\n",
    "        packed_seq = nn.utils.rnn.pack_padded_sequence(y_sorted, sorted_len.long().cpu().data.numpy(), batch_first=True)\n",
    "        out, hid = self.rnn(packed_seq, hid)\n",
    "        unpacked, _ = nn.utils.rnn.pad_packed_sequence(out, batch_first=True)\n",
    "        _, original_idx = sorted_idx.sort(0, descending=False)\n",
    "        output_seq = unpacked[original_idx.long()].contiguous()\n",
    "        hid = hid[:, original_idx.long()].contiguous()\n",
    "\n",
    "        mask = self.create_mask(y_lengths, ctx_lengths)\n",
    "\n",
    "        output, attn = self.attention(output_seq, ctx, mask)\n",
    "        output = F.log_softmax(self.out(output), -1)\n",
    "        \n",
    "        return output, hid, attn"
   ]
  },
  {
   "cell_type": "markdown",
   "metadata": {
    "colab_type": "text",
    "id": "1kfN48PjcoOe"
   },
   "source": [
    "#### Seq2Seq\n",
    "- 最后我们构建Seq2Seq模型把encoder, attention, decoder串到一起"
   ]
  },
  {
   "cell_type": "code",
   "execution_count": 0,
   "metadata": {
    "colab": {},
    "colab_type": "code",
    "id": "xmsUCoGGcoOf"
   },
   "outputs": [],
   "source": [
    "class Seq2Seq(nn.Module):\n",
    "    def __init__(self, encoder, decoder):\n",
    "        super(Seq2Seq, self).__init__()\n",
    "        self.encoder = encoder\n",
    "        self.decoder = decoder\n",
    "        \n",
    "    def forward(self, x, x_lengths, y, y_lengths):\n",
    "        encoder_out, hid = self.encoder(x, x_lengths)\n",
    "        output, hid, attn = self.decoder(ctx=encoder_out, \n",
    "                    ctx_lengths=x_lengths,\n",
    "                    y=y,\n",
    "                    y_lengths=y_lengths,\n",
    "                    hid=hid)\n",
    "        return output, attn\n",
    "    \n",
    "    def translate(self, x, x_lengths, y, max_length=100):\n",
    "        encoder_out, hid = self.encoder(x, x_lengths)\n",
    "        preds = []\n",
    "        batch_size = x.shape[0]\n",
    "        attns = []\n",
    "        for i in range(max_length):\n",
    "            output, hid, attn = self.decoder(ctx=encoder_out, \n",
    "                    ctx_lengths=x_lengths,\n",
    "                    y=y,\n",
    "                    y_lengths=torch.ones(batch_size).long().to(y.device),\n",
    "                    hid=hid)\n",
    "            y = output.max(2)[1].view(batch_size, 1)\n",
    "            preds.append(y)\n",
    "            attns.append(attn)\n",
    "        return torch.cat(preds, 1), torch.cat(attns, 1)"
   ]
  },
  {
   "cell_type": "markdown",
   "metadata": {
    "colab_type": "text",
    "id": "GhMzsG85coOk"
   },
   "source": [
    "训练"
   ]
  },
  {
   "cell_type": "code",
   "execution_count": 0,
   "metadata": {
    "colab": {},
    "colab_type": "code",
    "id": "jar62Gi3coOl"
   },
   "outputs": [],
   "source": [
    "dropout = 0.2\n",
    "embed_size = hidden_size = 100\n",
    "encoder = Encoder(vocab_size=en_total_words,\n",
    "                       embed_size=embed_size,\n",
    "                      enc_hidden_size=hidden_size,\n",
    "                       dec_hidden_size=hidden_size,\n",
    "                      dropout=dropout)\n",
    "decoder = Decoder(vocab_size=cn_total_words,\n",
    "                      embed_size=embed_size,\n",
    "                      enc_hidden_size=hidden_size,\n",
    "                       dec_hidden_size=hidden_size,\n",
    "                      dropout=dropout)\n",
    "model = Seq2Seq(encoder, decoder)\n",
    "model = model.to(device)\n",
    "loss_fn = LanguageModelCriterion().to(device)\n",
    "optimizer = torch.optim.Adam(model.parameters())"
   ]
  },
  {
   "cell_type": "code",
   "execution_count": 0,
   "metadata": {
    "colab": {},
    "colab_type": "code",
    "id": "HOxvWAiscoOo",
    "outputId": "bc6853a1-b681-4da7-9e1e-cc82e2361995",
    "scrolled": true
   },
   "outputs": [
    {
     "name": "stdout",
     "output_type": "stream",
     "text": [
      "Epoch 0 iteration 0 loss 8.078022003173828\n",
      "Epoch 0 iteration 100 loss 5.414377689361572\n",
      "Epoch 0 iteration 200 loss 4.643333435058594\n",
      "Epoch 0 Training loss 5.485134587536152\n",
      "Evaluation loss 5.067514630874862\n",
      "Epoch 1 iteration 0 loss 4.940210342407227\n",
      "Epoch 1 iteration 100 loss 4.9903435707092285\n",
      "Epoch 1 iteration 200 loss 4.186498641967773\n",
      "Epoch 1 Training loss 4.877356682952294\n",
      "Epoch 2 iteration 0 loss 4.509239196777344\n",
      "Epoch 2 iteration 100 loss 4.570853233337402\n",
      "Epoch 2 iteration 200 loss 3.7934508323669434\n",
      "Epoch 2 Training loss 4.453642889638262\n",
      "Epoch 3 iteration 0 loss 4.11014986038208\n",
      "Epoch 3 iteration 100 loss 4.230580806732178\n",
      "Epoch 3 iteration 200 loss 3.4451844692230225\n",
      "Epoch 3 Training loss 4.105205834096106\n",
      "Epoch 4 iteration 0 loss 3.788179397583008\n",
      "Epoch 4 iteration 100 loss 3.984476089477539\n",
      "Epoch 4 iteration 200 loss 3.205059289932251\n",
      "Epoch 4 Training loss 3.8313639103406314\n",
      "Epoch 5 iteration 0 loss 3.572876214981079\n",
      "Epoch 5 iteration 100 loss 3.7907521724700928\n",
      "Epoch 5 iteration 200 loss 3.0604655742645264\n",
      "Epoch 5 Training loss 3.61275750220716\n",
      "Evaluation loss 3.6225900108158475\n",
      "Epoch 6 iteration 0 loss 3.331376552581787\n",
      "Epoch 6 iteration 100 loss 3.607234239578247\n",
      "Epoch 6 iteration 200 loss 2.8438034057617188\n",
      "Epoch 6 Training loss 3.4240881394610914\n",
      "Epoch 7 iteration 0 loss 3.1553823947906494\n",
      "Epoch 7 iteration 100 loss 3.4283368587493896\n",
      "Epoch 7 iteration 200 loss 2.679870367050171\n",
      "Epoch 7 Training loss 3.2619650765874195\n",
      "Epoch 8 iteration 0 loss 3.0175576210021973\n",
      "Epoch 8 iteration 100 loss 3.313087224960327\n",
      "Epoch 8 iteration 200 loss 2.573970079421997\n",
      "Epoch 8 Training loss 3.119750910546451\n",
      "Epoch 9 iteration 0 loss 2.8687644004821777\n",
      "Epoch 9 iteration 100 loss 3.2016961574554443\n",
      "Epoch 9 iteration 200 loss 2.4501001834869385\n",
      "Epoch 9 Training loss 2.9937007481445184\n",
      "Epoch 10 iteration 0 loss 2.7964212894439697\n",
      "Epoch 10 iteration 100 loss 3.094231128692627\n",
      "Epoch 10 iteration 200 loss 2.2865397930145264\n",
      "Epoch 10 Training loss 2.879919764606877\n",
      "Evaluation loss 3.164760209368642\n",
      "Epoch 11 iteration 0 loss 2.6683473587036133\n",
      "Epoch 11 iteration 100 loss 3.008727788925171\n",
      "Epoch 11 iteration 200 loss 2.1880834102630615\n",
      "Epoch 11 Training loss 2.7794466071573467\n",
      "Epoch 12 iteration 0 loss 2.5640454292297363\n",
      "Epoch 12 iteration 100 loss 2.896376132965088\n",
      "Epoch 12 iteration 200 loss 2.1036128997802734\n",
      "Epoch 12 Training loss 2.684113484535982\n",
      "Epoch 13 iteration 0 loss 2.520007371902466\n",
      "Epoch 13 iteration 100 loss 2.8189423084259033\n",
      "Epoch 13 iteration 200 loss 2.0698890686035156\n",
      "Epoch 13 Training loss 2.5990255668547055\n",
      "Epoch 14 iteration 0 loss 2.42832612991333\n",
      "Epoch 14 iteration 100 loss 2.7819204330444336\n",
      "Epoch 14 iteration 200 loss 1.923954725265503\n",
      "Epoch 14 Training loss 2.5176252404633574\n",
      "Epoch 15 iteration 0 loss 2.360988140106201\n",
      "Epoch 15 iteration 100 loss 2.6843974590301514\n",
      "Epoch 15 iteration 200 loss 1.912152886390686\n",
      "Epoch 15 Training loss 2.4463321701504275\n",
      "Evaluation loss 2.9698491313827047\n",
      "Epoch 16 iteration 0 loss 2.2877912521362305\n",
      "Epoch 16 iteration 100 loss 2.6055469512939453\n",
      "Epoch 16 iteration 200 loss 1.8231658935546875\n",
      "Epoch 16 Training loss 2.3756549535366713\n",
      "Epoch 17 iteration 0 loss 2.191697597503662\n",
      "Epoch 17 iteration 100 loss 2.5865063667297363\n",
      "Epoch 17 iteration 200 loss 1.7817124128341675\n",
      "Epoch 17 Training loss 2.313343924902058\n",
      "Epoch 18 iteration 0 loss 2.1245803833007812\n",
      "Epoch 18 iteration 100 loss 2.525496482849121\n",
      "Epoch 18 iteration 200 loss 1.672200322151184\n",
      "Epoch 18 Training loss 2.2498218108556114\n",
      "Epoch 19 iteration 0 loss 2.06477427482605\n",
      "Epoch 19 iteration 100 loss 2.443316698074341\n",
      "Epoch 19 iteration 200 loss 1.6326298713684082\n",
      "Epoch 19 Training loss 2.19988960411091\n",
      "Epoch 20 iteration 0 loss 2.0234487056732178\n",
      "Epoch 20 iteration 100 loss 2.416968822479248\n",
      "Epoch 20 iteration 200 loss 1.583616852760315\n",
      "Epoch 20 Training loss 2.1513965044733827\n",
      "Evaluation loss 2.8699020465835643\n",
      "Epoch 21 iteration 0 loss 2.008730411529541\n",
      "Epoch 21 iteration 100 loss 2.3642444610595703\n",
      "Epoch 21 iteration 200 loss 1.5385680198669434\n",
      "Epoch 21 Training loss 2.098746986360735\n",
      "Epoch 22 iteration 0 loss 1.910429835319519\n",
      "Epoch 22 iteration 100 loss 2.339489459991455\n",
      "Epoch 22 iteration 200 loss 1.4784246683120728\n",
      "Epoch 22 Training loss 2.051404798098097\n",
      "Epoch 23 iteration 0 loss 1.8959044218063354\n",
      "Epoch 23 iteration 100 loss 2.2653536796569824\n",
      "Epoch 23 iteration 200 loss 1.4792706966400146\n",
      "Epoch 23 Training loss 2.00636701965731\n",
      "Epoch 24 iteration 0 loss 1.8477107286453247\n",
      "Epoch 24 iteration 100 loss 2.1904118061065674\n",
      "Epoch 24 iteration 200 loss 1.3925689458847046\n",
      "Epoch 24 Training loss 1.965628425139225\n",
      "Epoch 25 iteration 0 loss 1.7790645360946655\n",
      "Epoch 25 iteration 100 loss 2.182420492172241\n",
      "Epoch 25 iteration 200 loss 1.3576843738555908\n",
      "Epoch 25 Training loss 1.9238889035465652\n",
      "Evaluation loss 2.826008448512912\n",
      "Epoch 26 iteration 0 loss 1.73543381690979\n",
      "Epoch 26 iteration 100 loss 2.1740329265594482\n",
      "Epoch 26 iteration 200 loss 1.328704595565796\n",
      "Epoch 26 Training loss 1.889945533318946\n",
      "Epoch 27 iteration 0 loss 1.7498269081115723\n",
      "Epoch 27 iteration 100 loss 2.1384894847869873\n",
      "Epoch 27 iteration 200 loss 1.277467966079712\n",
      "Epoch 27 Training loss 1.852515173441663\n",
      "Epoch 28 iteration 0 loss 1.6980342864990234\n",
      "Epoch 28 iteration 100 loss 2.1195883750915527\n",
      "Epoch 28 iteration 200 loss 1.2595137357711792\n",
      "Epoch 28 Training loss 1.8210893462516964\n",
      "Epoch 29 iteration 0 loss 1.6773594617843628\n",
      "Epoch 29 iteration 100 loss 2.0760860443115234\n",
      "Epoch 29 iteration 200 loss 1.2345834970474243\n",
      "Epoch 29 Training loss 1.7873437400435428\n"
     ]
    }
   ],
   "source": [
    "train(model, train_data, num_epochs=30)"
   ]
  },
  {
   "cell_type": "code",
   "execution_count": 0,
   "metadata": {
    "colab": {},
    "colab_type": "code",
    "id": "ZEhDVMR9coOr",
    "outputId": "549942c9-0c3d-4aaf-b639-10585185b642"
   },
   "outputs": [
    {
     "name": "stdout",
     "output_type": "stream",
     "text": [
      "BOS you have nice skin . EOS\n",
      "BOS 你 的 皮 膚 真 好 。 EOS\n",
      "你好害怕。\n",
      "\n",
      "BOS you 're UNK correct . EOS\n",
      "BOS 你 部 分 正 确 。 EOS\n",
      "你是全子的声音。\n",
      "\n",
      "BOS everyone admired his courage . EOS\n",
      "BOS 每 個 人 都 佩 服 他 的 勇 氣 。 EOS\n",
      "他的袋子是他的勇氣。\n",
      "\n",
      "BOS what time is it ? EOS\n",
      "BOS 几 点 了 ？ EOS\n",
      "多少时间是什么？\n",
      "\n",
      "BOS i 'm free tonight . EOS\n",
      "BOS 我 今 晚 有 空 。 EOS\n",
      "我今晚有空。\n",
      "\n",
      "BOS here is your book . EOS\n",
      "BOS 這 是 你 的 書 。 EOS\n",
      "这儿是你的书。\n",
      "\n",
      "BOS they are at lunch . EOS\n",
      "BOS 他 们 在 吃 午 饭 。 EOS\n",
      "他们在午餐。\n",
      "\n",
      "BOS this chair is UNK . EOS\n",
      "BOS 這 把 椅 子 很 UNK 。 EOS\n",
      "這些花一下是正在的。\n",
      "\n",
      "BOS it 's pretty heavy . EOS\n",
      "BOS 它 真 重 。 EOS\n",
      "它很美的脚。\n",
      "\n",
      "BOS many attended his funeral . EOS\n",
      "BOS 很 多 人 都 参 加 了 他 的 葬 礼 。 EOS\n",
      "多多衛年轻地了他。\n",
      "\n",
      "BOS training will be provided . EOS\n",
      "BOS 会 有 训 练 。 EOS\n",
      "别将被付錢。\n",
      "\n",
      "BOS someone is watching you . EOS\n",
      "BOS 有 人 在 看 著 你 。 EOS\n",
      "有人看你。\n",
      "\n",
      "BOS i slapped his face . EOS\n",
      "BOS 我 摑 了 他 的 臉 。 EOS\n",
      "我把他的臉抱歉。\n",
      "\n",
      "BOS i like UNK music . EOS\n",
      "BOS 我 喜 歡 流 行 音 樂 。 EOS\n",
      "我喜歡音樂。\n",
      "\n",
      "BOS tom had no children . EOS\n",
      "BOS T o m 沒 有 孩 子 。 EOS\n",
      "汤姆没有照顧孩子。\n",
      "\n",
      "BOS please lock the door . EOS\n",
      "BOS 請 把 門 鎖 上 。 EOS\n",
      "请把門開門。\n",
      "\n",
      "BOS tom has calmed down . EOS\n",
      "BOS 汤 姆 冷 静 下 来 了 。 EOS\n",
      "汤姆在做了。\n",
      "\n",
      "BOS please speak more loudly . EOS\n",
      "BOS 請 說 大 聲 一 點 兒 。 EOS\n",
      "請說更多。\n",
      "\n",
      "BOS keep next sunday free . EOS\n",
      "BOS 把 下 周 日 空 出 来 。 EOS\n",
      "繼續下週一下一步。\n",
      "\n",
      "BOS i made a mistake . EOS\n",
      "BOS 我 犯 了 一 個 錯 。 EOS\n",
      "我做了一件事。\n",
      "\n"
     ]
    }
   ],
   "source": [
    "for i in range(100,120):\n",
    "    translate_dev(i)\n",
    "    print()"
   ]
  }
 ],
 "metadata": {
  "accelerator": "GPU",
  "colab": {
   "collapsed_sections": [],
   "name": "seq2seq-updated.ipynb",
   "provenance": [],
   "version": "0.3.2"
  },
  "kernelspec": {
   "display_name": "Python 3",
   "language": "python",
   "name": "python3"
  },
  "language_info": {
   "codemirror_mode": {
    "name": "ipython",
    "version": 3
   },
   "file_extension": ".py",
   "mimetype": "text/x-python",
   "name": "python",
   "nbconvert_exporter": "python",
   "pygments_lexer": "ipython3",
   "version": "3.6.8"
  }
 },
 "nbformat": 4,
 "nbformat_minor": 1
}
